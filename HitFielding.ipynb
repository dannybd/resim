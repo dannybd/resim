{
 "cells": [
  {
   "cell_type": "markdown",
   "metadata": {},
   "source": [
    "Created by Kidror"
   ]
  },
  {
   "cell_type": "code",
   "execution_count": null,
   "metadata": {},
   "outputs": [],
   "source": [
    "        self.log_roll(self.hr_csv, \"BaseHit\", hr_roll, False)\n",
    "\n",
    "        defender_roll = self.roll(\"hit fielder\")\n",
    "\n",
    "        double_roll = self.roll(\"double\")\n",
    "        triple_roll = self.roll(\"triple\")\n",
    "      \n",
    "        hit_bases = 0\n",
    "        if \"hits a Single!\" in self.desc:\n",
    "            hit_bases = 1\n",
    "        elif \"hits a Double!\" in self.desc:\n",
    "            hit_bases = 2\n",
    "        elif \"hits a Triple!\" in self.desc:\n",
    "            hit_bases = 3\n",
    "\n",
    "        if hit_bases < 3:\n",
    "            self.log_roll(\n",
    "                 self.double_csv,\n",
    "                f\"Hit{hit_bases}\",\n",
    "                double_roll,\n",
    "                hit_bases == 2,\n",
    "                fielder_roll=fielder_roll,\n",
    "                fielder=self.get_fielder_for_roll(defender_roll),\n",
    "            )\n",
    "                \n",
    "        self.log_roll(\n",
    "            self.triple_csv,\n",
    "            f\"Hit{hit_bases}\",\n",
    "            triple_roll,\n",
    "            hit_bases == 3,\n",
    "            fielder_roll=fielder_roll,\n",
    "            fielder=self.get_fielder_for_roll(defender_roll),\n",
    "        )\n",
    "\n",
    "        self.handle_hit_advances(hit_bases)"
   ]
  }
 ],
 "metadata": {
  "kernelspec": {
   "display_name": "Python 3 (ipykernel)",
   "language": "python",
   "name": "python3"
  },
  "language_info": {
   "codemirror_mode": {
    "name": "ipython",
    "version": 3
   },
   "file_extension": ".py",
   "mimetype": "text/x-python",
   "name": "python",
   "nbconvert_exporter": "python",
   "pygments_lexer": "ipython3",
   "version": "3.9.12"
  }
 },
 "nbformat": 4,
 "nbformat_minor": 4
}
