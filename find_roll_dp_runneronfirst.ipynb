{
 "cells": [
  {
   "cell_type": "markdown",
   "metadata": {
    "tags": []
   },
   "source": [
    "# Double Plays vs outs/FCs\n",
    "\n",
    "```python\n",
    "# Manual threshold\n",
    "dfc[\"threshold_rounded\"] = (-0.05\n",
    "                           + 0.40 * dfc[\"pitcher_shakespearianism_with_vibe\"]\n",
    "                           - 0.18 * dfc[\"batter_inv_tragicness\"]\n",
    "                           + 0.10 * dfc['fielder_tenaciousness_with_vibe']\n",
    "                           - 0.18 * (dfc[\"ballpark_elongation\"] - 0.5)\n",
    "                           )\n",
    "dfc.loc[dfc[\"threshold_rounded\"] < 0.001, \"threshold_rounded\"] = 0.001\n",
    "# {\n",
    "#     return \"It's okay Joel\"\n",
    "# }\n",
    "```"
   ]
  },
  {
   "cell_type": "code",
   "execution_count": 1,
   "metadata": {
    "collapsed": false,
    "jupyter": {
     "outputs_hidden": false
    },
    "pycharm": {
     "name": "#%%\n"
    }
   },
   "outputs": [
    {
     "data": {
      "text/plain": [
       "4114"
      ]
     },
     "execution_count": 1,
     "metadata": {},
     "output_type": "execute_result"
    }
   ],
   "source": [
    "import glob\n",
    "\n",
    "import pandas as pd\n",
    "import matplotlib.pyplot as plt\n",
    "import numpy as np\n",
    "from matplotlib.markers import CARETLEFTBASE, CARETRIGHTBASE\n",
    "\n",
    "all_files = glob.glob(\"roll_data/*Z-dp.csv\")\n",
    "\n",
    "df = pd.concat((pd.read_csv(f) for f in all_files), ignore_index=True)\n",
    "\n",
    "seasons = [11,12,13,14]\n",
    "# seasons = [11]\n",
    "df = df[df['season'].isin(seasons)]\n",
    "\n",
    "# 'rolls' is a list of 3 rolls (None if no 3rd roll). Split into three columns\n",
    "df['roll'] = df['roll'].apply(lambda x: x[1:-1].split(','))\n",
    "splitrolls = pd.DataFrame(df['roll'].to_list(), columns = ['roll1','roll2','roll3'], index = df.index)\n",
    "df[['roll1','roll2','roll3']] = splitrolls\n",
    "df[['roll1','roll2']] = df[['roll1','roll2']].apply(pd.to_numeric)\n",
    "\n",
    "len(df)\n",
    "# splitrolls"
   ]
  },
  {
   "cell_type": "code",
   "execution_count": 2,
   "metadata": {},
   "outputs": [],
   "source": [
    "def get_pitcher_mul(row):\n",
    "    pm = str(row[\"pitcher_mods\"])\n",
    "    ptm = str(row[\"pitching_team_mods\"])\n",
    "    mul = 1\n",
    "    if \"OVERPERFORMING\" in pm:\n",
    "        mul += 0.2\n",
    "    if \"OVERPERFORMING\" in ptm:\n",
    "        mul += 0.2\n",
    "    if \"UNDERPERFORMING\" in pm:\n",
    "        mul -= 0.2\n",
    "    if \"UNDERPERFORMING\" in ptm:\n",
    "        mul -= 0.2\n",
    "    if \"TRAVELING\" in ptm:\n",
    "        if not row[\"top_of_inning\"]:\n",
    "            mul += 0.05\n",
    "    if \"HIGH_PRESSURE\" in ptm:\n",
    "        if row[\"weather\"] == \"Weather.FLOODING\" and row[\"baserunner_count\"] > 0:\n",
    "            mul += 0.25\n",
    "    if \"GROWTH\" in ptm:\n",
    "        mul += min(0.05, 0.05 * (row[\"day\"] / 99))\n",
    "    if \"SINKING_SHIP\" in ptm:\n",
    "        mul += (14 - row[\"pitching_team_roster_size\"]) * 0.01\n",
    "    if \"AFFINITY_FOR_CROWS\" in ptm and row[\"weather\"] == \"Weather.BIRDS\":\n",
    "        mul += 0.5\n",
    "    return mul\n",
    "\n",
    "\n",
    "def get_batter_mul(row):\n",
    "    bm = str(row[\"batter_mods\"])\n",
    "    btm = str(row[\"batting_team_mods\"])\n",
    "    ptm = str(row[\"pitching_team_mods\"])\n",
    "    mul = 1\n",
    "    if \"OVERPERFORMING\" in bm:\n",
    "        mul += 0.2\n",
    "    if \"OVERPERFORMING\" in btm:\n",
    "        mul += 0.2\n",
    "    if \"UNDERPERFORMING\" in bm:\n",
    "        mul -= 0.2\n",
    "    if \"UNDERPERFORMING\" in btm:\n",
    "        mul -= 0.2\n",
    "    if \"TRAVELING\" in btm:\n",
    "        # pass\n",
    "        if row[\"top_of_inning\"]:\n",
    "        # this doesn't seem to do anything if it's here or not here\n",
    "            mul += 0.05\n",
    "    if \"GROWTH\" in btm:\n",
    "        mul += min(0.05, 0.05 * (row[\"day\"] / 99))\n",
    "        # pass\n",
    "    if \"HIGH_PRESSURE\" in btm:\n",
    "        if row[\"weather\"] == \"Weather.FLOODING\" and row[\"baserunner_count\"] > 0:\n",
    "            mul += 0.25\n",
    "    if \"SINKING_SHIP\" in btm:\n",
    "        mul += (14 - row[\"batting_team_roster_size\"]) * 0.01\n",
    "    if \"AFFINITY_FOR_CROWS\" in btm and row[\"weather\"] == \"Weather.BIRDS\":\n",
    "        mul += 0.5\n",
    "    if \"CHUNKY\" in bm and row[\"weather\"] == \"Weather.PEANUTS\":\n",
    "        # todo: handle, in peanuts weather\n",
    "        pass\n",
    "        # mul += 1.0\n",
    "    if \"SMOOTH\" in bm and row[\"weather\"] == \"Weather.PEANUTS\":\n",
    "        # todo: handle, in peanuts weather\n",
    "        pass\n",
    "    if \"ON_FIRE\" in bm:\n",
    "        # todo: handle\n",
    "        mul += 2.0\n",
    "    #         pass\n",
    "    return mul\n",
    "\n",
    "\n",
    "def get_fielder_mul(row):\n",
    "    fm = str(row[\"fielder_mods\"])\n",
    "    ptm = str(row[\"pitching_team_mods\"])\n",
    "    mul = 1\n",
    "    if \"OVERPERFORMING\" in fm:\n",
    "        mul += 0.2\n",
    "    if \"OVERPERFORMING\" in ptm:\n",
    "        mul += 0.2\n",
    "    if \"UNDERPERFORMING\" in fm:\n",
    "        mul -= 0.2\n",
    "    if \"UNDERPERFORMING\" in ptm:\n",
    "        mul -= 0.2\n",
    "    if \"TRAVELING\" in ptm:\n",
    "        # pass # traveling just doesn't do anything on pitchers?\n",
    "        if not row[\"top_of_inning\"]:\n",
    "            mul += 0.05\n",
    "    if \"HIGH_PRESSURE\" in ptm:\n",
    "        # i messed up baserunner_count lol, so it's a string\n",
    "        if row[\"weather\"] == \"Weather.FLOODING\" and row[\"baserunner_count\"] > 0:\n",
    "            mul += 0.25\n",
    "    if \"GROWTH\" in ptm:\n",
    "        mul += min(0.05, 0.05 * (row[\"day\"] / 99))\n",
    "        # pass # growth doesn't do anything on pitchers either\n",
    "    if \"SINKING_SHIP\" in ptm:\n",
    "        mul += (14 - row[\"pitching_team_roster_size\"]) * 0.01\n",
    "    if \"AFFINITY_FOR_CROWS\" in ptm and row[\"weather\"] == \"Weather.BIRDS\":\n",
    "        mul += 0.5\n",
    "    if \"SHELLED\" in fm:\n",
    "        # is it this, or is it \"mul = 0\", I wonder\n",
    "        mul -= 1.0\n",
    "    return mul"
   ]
  },
  {
   "cell_type": "code",
   "execution_count": 3,
   "metadata": {},
   "outputs": [],
   "source": [
    "df[\"batter_mul\"] = df.apply(get_batter_mul, axis=1)\n",
    "df[\"pitcher_mul\"] = df.apply(get_pitcher_mul, axis=1)\n",
    "df[\"fielder_mul\"] = df.apply(get_fielder_mul, axis=1)"
   ]
  },
  {
   "cell_type": "code",
   "execution_count": 4,
   "metadata": {
    "collapsed": false,
    "jupyter": {
     "outputs_hidden": false
    },
    "pycharm": {
     "name": "#%%\n"
    }
   },
   "outputs": [],
   "source": [
    "df.loc[df[\"pitcher_mods\"].astype(str).str.contains(\"SCATTERED\"), \"pitcher_vibes\"] = 0\n",
    "df.loc[df[\"batter_mods\"].astype(str).str.contains(\"SCATTERED\"), \"batter_vibes\"] = 0\n",
    "df.loc[df[\"fielder_mods\"].astype(str).str.contains(\"SCATTERED\"), \"fielder_vibes\"] = 0\n",
    "df.loc[df[\"runner_on_first_mods\"].astype(str).str.contains(\"SCATTERED\"), \"runner_on_first_vibes\"] = 0\n",
    "\n",
    "\n",
    "df['batter_inv_patheticism'] = 1-df['batter_patheticism']/df[\"batter_multiplier\"]\n",
    "df['batter_inv_patheticism_with_vibe'] = df['batter_inv_patheticism'] * (1 + 0.2*df['batter_vibes'])\n",
    "df['batter_inv_tragicness'] = 1-df['batter_tragicness']/df[\"batter_multiplier\"]\n",
    "df['batter_inv_tragicness_with_vibe'] = df['batter_inv_tragicness'] * (1 + 0.2*df['batter_vibes'])\n",
    "for attr in [\n",
    "    # \"batter_buoyancy\",\n",
    "    # \"batter_divinity\",\n",
    "    \"batter_martyrdom\",\n",
    "    # \"batter_moxie\",\n",
    "    # \"batter_musclitude\",\n",
    "    # \"batter_patheticism\",\n",
    "    # \"batter_thwackability\",\n",
    "    # \"batter_tragicness\",\n",
    "    # \"batter_coldness\",\n",
    "    # \"batter_overpowerment\",\n",
    "    # \"batter_ruthlessness\",\n",
    "    # \"batter_shakespearianism\",\n",
    "    # \"batter_suppression\",\n",
    "    # \"batter_unthwackability\",\n",
    "    # \"batter_base_thirst\",\n",
    "    # \"batter_continuation\",\n",
    "    # \"batter_ground_friction\",\n",
    "    # \"batter_indulgence\",\n",
    "    # \"batter_laserlikeness\",\n",
    "    # \"batter_anticapitalism\",\n",
    "    # \"batter_chasiness\",\n",
    "    # \"batter_omniscience\",\n",
    "    # \"batter_tenaciousness\",\n",
    "    # \"batter_watchfulness\",\n",
    "    # \"batter_pressurization\",\n",
    "    # \"batter_cinnamon\",\n",
    "]:\n",
    "    df[attr] = df[attr] * df[\"batter_mul\"]\n",
    "    df[attr + \"_with_vibe\"] = df[attr] * (1 + 0.2 * df[\"batter_vibes\"])\n",
    "\n",
    "# for attr in [\n",
    "#     \"runner_on_first_buoyancy\",\n",
    "#     \"runner_on_first_divinity\",\n",
    "#     \"runner_on_first_martyrdom\",\n",
    "#     \"runner_on_first_moxie\",\n",
    "#     \"runner_on_first_musclitude\",\n",
    "#     \"runner_on_first_patheticism\",\n",
    "#     \"runner_on_first_thwackability\",\n",
    "#     \"runner_on_first_tragicness\",\n",
    "#     \"runner_on_first_coldness\",\n",
    "#     \"runner_on_first_overpowerment\",\n",
    "#     \"runner_on_first_ruthlessness\",\n",
    "#     \"runner_on_first_shakespearianism\",\n",
    "#     \"runner_on_first_suppression\",\n",
    "#     \"runner_on_first_unthwackability\",\n",
    "#     \"runner_on_first_base_thirst\",\n",
    "#     \"runner_on_first_continuation\",\n",
    "#     \"runner_on_first_ground_friction\",\n",
    "#     \"runner_on_first_indulgence\",\n",
    "#     \"runner_on_first_laserlikeness\",\n",
    "#     \"runner_on_first_anticapitalism\",\n",
    "#     \"runner_on_first_chasiness\",\n",
    "#     \"runner_on_first_omniscience\",\n",
    "#     \"runner_on_first_tenaciousness\",\n",
    "#     \"runner_on_first_watchfulness\",\n",
    "#     \"runner_on_first_pressurization\",\n",
    "#     \"runner_on_first_cinnamon\",\n",
    "# ]:\n",
    "#     df[attr] = df[attr] * df[\"runner_on_first_multiplier\"]\n",
    "#     df[attr + \"_with_vibe\"] = df[attr] * (1 + 0.2 * df[\"runner_on_first_vibes\"])\n",
    "for attr in [\n",
    "    # \"pitcher_buoyancy\",\n",
    "    # \"pitcher_divinity\",\n",
    "    # \"pitcher_martyrdom\",\n",
    "    # \"pitcher_moxie\",\n",
    "    # \"pitcher_musclitude\",\n",
    "    # \"pitcher_patheticism\",\n",
    "    # \"pitcher_thwackability\",\n",
    "    # \"pitcher_tragicness\",\n",
    "    # \"pitcher_ruthlessness\",\n",
    "    # \"pitcher_overpowerment\",\n",
    "    # \"pitcher_unthwackability\",\n",
    "    \"pitcher_shakespearianism\",\n",
    "    # \"pitcher_suppression\",\n",
    "    # \"pitcher_coldness\",\n",
    "    # \"pitcher_base_thirst\",\n",
    "    # \"pitcher_continuation\",\n",
    "    # \"pitcher_ground_friction\",\n",
    "    # \"pitcher_indulgence\",\n",
    "    # \"pitcher_laserlikeness\",\n",
    "    # \"pitcher_anticapitalism\",\n",
    "    # \"pitcher_chasiness\",\n",
    "    # \"pitcher_omniscience\",\n",
    "    # \"pitcher_tenaciousness\",\n",
    "    # \"pitcher_watchfulness\",\n",
    "    # \"pitcher_pressurization\",\n",
    "    # \"pitcher_cinnamon\",\n",
    "]:\n",
    "    df[attr] = df[attr] * df[\"pitcher_mul\"]\n",
    "    df[attr + \"_with_vibe\"] = df[attr] * (1 + 0.2 * df[\"pitcher_vibes\"])\n",
    "\n",
    "for attr in [\n",
    "    # \"fielder_anticapitalism\",\n",
    "    # \"fielder_chasiness\",\n",
    "    # \"fielder_omniscience\",\n",
    "    \"fielder_tenaciousness\",\n",
    "    # \"fielder_watchfulness\",\n",
    "]:\n",
    "    # patch for SHELLED\n",
    "    # df.loc[df[\"fielder_mods\"].astype(str).str.contains(\"SHELLED\"), \"fielder_multiplier\"] *= 0.0\n",
    "    df[attr] = df[attr] * df[\"fielder_mul\"]\n",
    "    # df[attr + \"_times_vibe\"] = df[attr] * df[\"fielder_vibes\"]\n",
    "    df[attr + \"_with_vibe\"] = df[attr] * (1 + 0.2 * df[\"fielder_vibes\"])"
   ]
  },
  {
   "cell_type": "code",
   "execution_count": 5,
   "metadata": {
    "collapsed": false,
    "jupyter": {
     "outputs_hidden": false
    },
    "pycharm": {
     "name": "#%%\n"
    }
   },
   "outputs": [
    {
     "data": {
      "text/plain": [
       "4114"
      ]
     },
     "execution_count": 5,
     "metadata": {},
     "output_type": "execute_result"
    }
   ],
   "source": [
    "dfc = df.copy()\n",
    "# for exclude_mod in [\"OVERPERFORMING\", \"UNDERPERFORMING\", \"HIGH_PRESSURE\", \"GROWTH\", \"SINKING_SHIP\", \"TRAVELING\"]:\n",
    "# for exclude_mod in [\"FLINCH\", \"O_NO\", \"ON_FIRE\", \"GROWTH\", \"TRAVELING\"]:\n",
    "#     dfc = dfc[~dfc[\"batter_mods\"].astype(str).str.contains(exclude_mod)]\n",
    "#     dfc = dfc[~dfc[\"pitcher_mods\"].astype(str).str.contains(exclude_mod)]\n",
    "#     dfc = dfc[~dfc[\"fielder_mods\"].astype(str).str.contains(exclude_mod)]\n",
    "#     dfc = dfc[~dfc[\"runner_on_first_mods\"].astype(str).str.contains(exclude_mod)]\n",
    "#     dfc = dfc[~dfc[\"pitching_team_mods\"].astype(str).str.contains(exclude_mod)]\n",
    "#     dfc = dfc[~dfc[\"batting_team_mods\"].astype(str).str.contains(exclude_mod)]\n",
    "\n",
    "# dfc = dfc[\n",
    "#     (dfc[\"pitcher_multiplier\"] == 1)\n",
    "#     & (dfc[\"batter_multiplier\"] == 1)\n",
    "#     & (dfc[\"fielder_multiplier\"] == 1)\n",
    "#     & (dfc[\"runner_on_first_multiplier\"] == 1)\n",
    "# ]\n",
    "# dfc = dfc[(dfc['pitcher_vibes'].abs() < 0.2) & (dfc['batter_vibes'].abs() < 0.2)]\n",
    "# for limit_attr in ['batter_patheticism', 'batter_thwackability', 'batter_divinity', 'batter_musclitude', 'pitcher_ruthlessness']:\n",
    "#     dfc = dfc[(dfc[limit_attr] > 0.1) & (dfc[limit_attr] < 0.9)]\n",
    "# dfc = dfc[dfc['batter_thwackability'] + dfc['batter_musclitude'] + dfc['batter_divinity'] > dfc['batter_patheticism']]\n",
    "\n",
    "len(dfc)"
   ]
  },
  {
   "cell_type": "code",
   "execution_count": 6,
   "metadata": {},
   "outputs": [
    {
     "data": {
      "text/plain": [
       "<matplotlib.legend.Legend at 0x7f90d3597a90>"
      ]
     },
     "execution_count": 6,
     "metadata": {},
     "output_type": "execute_result"
    },
    {
     "data": {
      "image/png": "[encoded data removed]",
      "text/plain": [
       "<Figure size 720x432 with 1 Axes>"
      ]
     },
     "metadata": {},
     "output_type": "display_data"
    }
   ],
   "source": [
    "# This shows the first roll is related to DP vs other\n",
    "# The fc_dp notebook shows the second roll is related to FC vs Out\n",
    "fig, ax = plt.subplots(1, figsize=(10, 6), facecolor='white')\n",
    "# ax.hist(\n",
    "#     df[df['event_type'].isin(['FC','Out'])]['roll1'],\n",
    "#     bins=10,\n",
    "#     range=[0.,1.],\n",
    "#     color=\"blue\",\n",
    "#     label=\"fcorout_rolls\",\n",
    "#     alpha = 0.5\n",
    "# )\n",
    "ax.hist(\n",
    "    dfc[dfc['event_type']=='Out']['roll1'],\n",
    "    bins=10,\n",
    "    range=[0.,1.], \n",
    "    color=\"red\",\n",
    "    label=\"outrolls\",\n",
    "    alpha = 0.5\n",
    ")\n",
    "ax.hist(\n",
    "    dfc[dfc['event_type']=='FC']['roll1'],\n",
    "    bins=10,\n",
    "    range=[0.,1.],\n",
    "    color=\"blue\",\n",
    "    label=\"fcrolls\",\n",
    "    alpha = 0.5\n",
    ")\n",
    "ax.hist(\n",
    "    dfc[dfc['event_type']=='DP']['roll1'],\n",
    "    bins=10,\n",
    "    range=[0.,1.],\n",
    "    color=\"green\",\n",
    "    label=\"dprolls\",\n",
    "    alpha = 0.5\n",
    ")\n",
    "\n",
    "ax.set_xlabel('bin counts')\n",
    "ax.set_xlabel(\"roll[0]\")\n",
    "\n",
    "ax.legend()"
   ]
  },
  {
   "cell_type": "code",
   "execution_count": 7,
   "metadata": {
    "collapsed": false,
    "jupyter": {
     "outputs_hidden": false
    },
    "pycharm": {
     "name": "#%%\n"
    }
   },
   "outputs": [
    {
     "data": {
      "text/html": [
       "<div>\n",
       "<style scoped>\n",
       "    .dataframe tbody tr th:only-of-type {\n",
       "        vertical-align: middle;\n",
       "    }\n",
       "\n",
       "    .dataframe tbody tr th {\n",
       "        vertical-align: top;\n",
       "    }\n",
       "\n",
       "    .dataframe thead th {\n",
       "        text-align: right;\n",
       "    }\n",
       "</style>\n",
       "<table border=\"1\" class=\"dataframe\">\n",
       "  <thead>\n",
       "    <tr style=\"text-align: right;\">\n",
       "      <th></th>\n",
       "      <th>roll1</th>\n",
       "      <th>batter_inv_tragicness</th>\n",
       "      <th>pitcher_shakespearianism_with_vibe</th>\n",
       "      <th>fielder_tenaciousness_with_vibe</th>\n",
       "      <th>ballpark_elongation</th>\n",
       "    </tr>\n",
       "  </thead>\n",
       "  <tbody>\n",
       "    <tr>\n",
       "      <th>0</th>\n",
       "      <td>0.252581</td>\n",
       "      <td>0.940000</td>\n",
       "      <td>0.620725</td>\n",
       "      <td>0.295401</td>\n",
       "      <td>0.404077</td>\n",
       "    </tr>\n",
       "    <tr>\n",
       "      <th>1</th>\n",
       "      <td>0.423702</td>\n",
       "      <td>0.940000</td>\n",
       "      <td>0.620725</td>\n",
       "      <td>0.550431</td>\n",
       "      <td>0.404077</td>\n",
       "    </tr>\n",
       "    <tr>\n",
       "      <th>2</th>\n",
       "      <td>0.966077</td>\n",
       "      <td>0.900000</td>\n",
       "      <td>0.984897</td>\n",
       "      <td>0.605374</td>\n",
       "      <td>0.436543</td>\n",
       "    </tr>\n",
       "    <tr>\n",
       "      <th>3</th>\n",
       "      <td>0.831990</td>\n",
       "      <td>0.940000</td>\n",
       "      <td>1.055878</td>\n",
       "      <td>0.483374</td>\n",
       "      <td>0.562553</td>\n",
       "    </tr>\n",
       "    <tr>\n",
       "      <th>4</th>\n",
       "      <td>0.209812</td>\n",
       "      <td>0.900000</td>\n",
       "      <td>0.984897</td>\n",
       "      <td>0.482277</td>\n",
       "      <td>0.436543</td>\n",
       "    </tr>\n",
       "    <tr>\n",
       "      <th>...</th>\n",
       "      <td>...</td>\n",
       "      <td>...</td>\n",
       "      <td>...</td>\n",
       "      <td>...</td>\n",
       "      <td>...</td>\n",
       "    </tr>\n",
       "    <tr>\n",
       "      <th>4109</th>\n",
       "      <td>0.249282</td>\n",
       "      <td>0.940000</td>\n",
       "      <td>0.747509</td>\n",
       "      <td>0.349308</td>\n",
       "      <td>0.503937</td>\n",
       "    </tr>\n",
       "    <tr>\n",
       "      <th>4110</th>\n",
       "      <td>0.565652</td>\n",
       "      <td>0.957387</td>\n",
       "      <td>0.747068</td>\n",
       "      <td>0.441007</td>\n",
       "      <td>0.555106</td>\n",
       "    </tr>\n",
       "    <tr>\n",
       "      <th>4111</th>\n",
       "      <td>0.724748</td>\n",
       "      <td>0.940000</td>\n",
       "      <td>1.092042</td>\n",
       "      <td>0.702113</td>\n",
       "      <td>0.503937</td>\n",
       "    </tr>\n",
       "    <tr>\n",
       "      <th>4112</th>\n",
       "      <td>0.266896</td>\n",
       "      <td>0.900000</td>\n",
       "      <td>0.276078</td>\n",
       "      <td>0.379895</td>\n",
       "      <td>0.570287</td>\n",
       "    </tr>\n",
       "    <tr>\n",
       "      <th>4113</th>\n",
       "      <td>0.571253</td>\n",
       "      <td>0.947172</td>\n",
       "      <td>0.276078</td>\n",
       "      <td>0.332774</td>\n",
       "      <td>0.570287</td>\n",
       "    </tr>\n",
       "  </tbody>\n",
       "</table>\n",
       "<p>4112 rows × 5 columns</p>\n",
       "</div>"
      ],
      "text/plain": [
       "         roll1  batter_inv_tragicness  pitcher_shakespearianism_with_vibe  \\\n",
       "0     0.252581               0.940000                            0.620725   \n",
       "1     0.423702               0.940000                            0.620725   \n",
       "2     0.966077               0.900000                            0.984897   \n",
       "3     0.831990               0.940000                            1.055878   \n",
       "4     0.209812               0.900000                            0.984897   \n",
       "...        ...                    ...                                 ...   \n",
       "4109  0.249282               0.940000                            0.747509   \n",
       "4110  0.565652               0.957387                            0.747068   \n",
       "4111  0.724748               0.940000                            1.092042   \n",
       "4112  0.266896               0.900000                            0.276078   \n",
       "4113  0.571253               0.947172                            0.276078   \n",
       "\n",
       "      fielder_tenaciousness_with_vibe  ballpark_elongation  \n",
       "0                            0.295401             0.404077  \n",
       "1                            0.550431             0.404077  \n",
       "2                            0.605374             0.436543  \n",
       "3                            0.483374             0.562553  \n",
       "4                            0.482277             0.436543  \n",
       "...                               ...                  ...  \n",
       "4109                         0.349308             0.503937  \n",
       "4110                         0.441007             0.555106  \n",
       "4111                         0.702113             0.503937  \n",
       "4112                         0.379895             0.570287  \n",
       "4113                         0.332774             0.570287  \n",
       "\n",
       "[4112 rows x 5 columns]"
      ]
     },
     "execution_count": 7,
     "metadata": {},
     "output_type": "execute_result"
    }
   ],
   "source": [
    "X = dfc[\n",
    "    [\n",
    "        \"roll1\",\n",
    "        \"passed\",\n",
    "        # \"batter_patheticism_with_vibe\",\n",
    "        # \"batter_tragicness_with_vibe\",\n",
    "        \"batter_inv_tragicness\",\n",
    "        \"pitcher_shakespearianism_with_vibe\",\n",
    "        # 'fielder_anticapitalism_with_vibe',\n",
    "        # 'fielder_chasiness_with_vibe',\n",
    "        # 'fielder_omniscience_with_vibe',\n",
    "        'fielder_tenaciousness_with_vibe',\n",
    "        # 'fielder_watchfulness_with_vibe',\n",
    "        # 'ballpark_grandiosity',\n",
    "        # 'ballpark_fortification',\n",
    "        # 'ballpark_obtuseness',\n",
    "        # 'ballpark_ominousness',\n",
    "        # 'ballpark_inconvenience',\n",
    "        # 'ballpark_viscosity',\n",
    "        # 'ballpark_forwardness',\n",
    "        # 'ballpark_mysticism',\n",
    "        'ballpark_elongation',\n",
    "        # 'runner_on_first_tragicness_with_vibe',\n",
    "        # 'runner_on_first_laserlikeness_with_vibe',\n",
    "        # 'runner_on_first_continuation_with_vibe',\n",
    "        # 'runner_on_first_ground_friction_with_vibe',\n",
    "        # 'runner_on_first_indulgence_with_vibe',\n",
    "        # 'ballpark_filthiness',\n",
    "    ]\n",
    "]\n",
    "\n",
    "X = X[X[\"roll1\"] > 0.001]\n",
    "\n",
    "# X = dfc[['roll', 'pitcher_ruthlessness', 'ballpark_forwardness']]\n",
    "# X = dfc[['roll', 'pitcher_ruthlessness']]\n",
    "\n",
    "# Test out a specific coefficient\n",
    "# X[\"roll1\"] = X[\"roll1\"]-0.4*X[\"pitcher_shakespearianism_with_vibe\"]\n",
    "# X.drop(\"pitcher_shakespearianism_with_vibe\", axis=\"columns\", inplace=True)\n",
    "# X[\"roll1\"] = X[\"roll1\"]-0.1*X[\"fielder_tenaciousness_with_vibe\"]\n",
    "# X.drop(\"fielder_tenaciousness_with_vibe\", axis=\"columns\", inplace=True)\n",
    "y = X[\"passed\"]\n",
    "X = X.drop(\"passed\", axis=1)\n",
    "X"
   ]
  },
  {
   "cell_type": "code",
   "execution_count": 8,
   "metadata": {
    "collapsed": false,
    "jupyter": {
     "outputs_hidden": false
    },
    "pycharm": {
     "name": "#%%\n"
    }
   },
   "outputs": [
    {
     "name": "stdout",
     "output_type": "stream",
     "text": [
      "[[3592    0]\n",
      " [   0  520]]\n",
      "              precision    recall  f1-score   support\n",
      "\n",
      "       False       1.00      1.00      1.00      3592\n",
      "        True       1.00      1.00      1.00       520\n",
      "\n",
      "    accuracy                           1.00      4112\n",
      "   macro avg       1.00      1.00      1.00      4112\n",
      "weighted avg       1.00      1.00      1.00      4112\n",
      "\n",
      "1.0\n"
     ]
    }
   ],
   "source": [
    "from sklearn.preprocessing import StandardScaler\n",
    "from sklearn.metrics import confusion_matrix\n",
    "from sklearn.metrics import classification_report\n",
    "from sklearn import svm, linear_model\n",
    "\n",
    "# # trainedsvm = svm.SVC(kernel='linear').fit(X, y)\n",
    "# trainedsvm = svm.LinearSVC(dual=False, max_iter=100000).fit(X, y)\n",
    "# predictionsvm = trainedsvm.predict(X)\n",
    "# print(confusion_matrix(y,predictionsvm))\n",
    "# print(classification_report(y,predictionsvm))\n",
    "\n",
    "sc = StandardScaler()\n",
    "X2 = sc.fit_transform(X)\n",
    "\n",
    "#trainedsvm = svm.LinearSVC(intercept_scaling=1000, dual=False, max_iter=100000, C=1000, class_weight=\"balanced\").fit(\n",
    "trainedsvm = svm.LinearSVC(dual=False, max_iter=100000, C=1000).fit(\n",
    "    X2, y\n",
    ")\n",
    "predictionsvm = trainedsvm.predict(X2)\n",
    "print(confusion_matrix(y, predictionsvm))\n",
    "print(classification_report(y, predictionsvm))\n",
    "print(trainedsvm.score(X2, y))"
   ]
  },
  {
   "cell_type": "code",
   "execution_count": 9,
   "metadata": {
    "collapsed": false,
    "jupyter": {
     "outputs_hidden": false
    },
    "pycharm": {
     "name": "#%%\n"
    }
   },
   "outputs": [
    {
     "name": "stdout",
     "output_type": "stream",
     "text": [
      "[-0.03679498]\n"
     ]
    },
    {
     "data": {
      "text/plain": [
       "[(1.0, 'roll1'),\n",
       " (-0.4014051288757132, 'pitcher_shakespearianism_with_vibe'),\n",
       " (0.1816381668401558, 'batter_inv_tragicness'),\n",
       " (0.17378249997160913, 'ballpark_elongation'),\n",
       " (-0.10086764526758599, 'fielder_tenaciousness_with_vibe')]"
      ]
     },
     "execution_count": 9,
     "metadata": {},
     "output_type": "execute_result"
    }
   ],
   "source": [
    "coef = np.true_divide(trainedsvm.coef_, sc.scale_)\n",
    "coef_scaled = coef / coef[0, 0]\n",
    "coef_list = coef_scaled.tolist()[0]\n",
    "\n",
    "intercept = trainedsvm.intercept_ - np.dot(coef, sc.mean_)\n",
    "intercept_scaled = intercept / coef[0, 0]\n",
    "print(intercept_scaled)\n",
    "sorted(zip(coef_list, X.columns), key=lambda x: abs(x[0]), reverse=True)"
   ]
  },
  {
   "cell_type": "code",
   "execution_count": 10,
   "metadata": {
    "collapsed": false,
    "jupyter": {
     "outputs_hidden": false
    },
    "pycharm": {
     "name": "#%%\n"
    }
   },
   "outputs": [
    {
     "name": "stdout",
     "output_type": "stream",
     "text": [
      "[0.03679498]\n",
      "(-0.1816381668401558, 'batter_inv_tragicness')\n",
      "(0.4014051288757132, 'pitcher_shakespearianism_with_vibe')\n",
      "(0.10086764526758599, 'fielder_tenaciousness_with_vibe')\n",
      "(-0.17378249997160913, 'ballpark_elongation')\n"
     ]
    },
    {
     "data": {
      "image/png": "[encoded data removed]",
      "text/plain": [
       "<Figure size 720x432 with 1 Axes>"
      ]
     },
     "metadata": {},
     "output_type": "display_data"
    }
   ],
   "source": [
    "# Manual threshold\n",
    "dfc[\"threshold_rounded\"] = -0.05 + 0.40 * dfc[\"pitcher_shakespearianism_with_vibe\"] - 0.18 * dfc[\"batter_inv_tragicness\"] + 0.10 * dfc['fielder_tenaciousness_with_vibe'] - 0.18 * (dfc[\"ballpark_elongation\"] - 0.5)\n",
    "dfc.loc[dfc[\"threshold_rounded\"] < 0.001, \"threshold_rounded\"] = 0.001\n",
    "# {\n",
    "#     return \"It's okay Joel\"\n",
    "# }\n",
    "\n",
    "dfc[\"threshold_plot\"] = -0.05 + 0.40 * dfc[\"pitcher_shakespearianism_with_vibe\"] - 0.18 * dfc[\"batter_inv_tragicness\"] + 0.10 * dfc['fielder_tenaciousness_with_vibe'] - 0.18 * (dfc[\"ballpark_elongation\"] - 0.5)\n",
    "# SVC threshold\n",
    "dfc[\"threshold\"] = -intercept_scaled[0]\n",
    "print(-intercept_scaled)\n",
    "for pair in zip(-np.array(coef_list), X.columns):\n",
    "    if pair[1] != \"roll1\":\n",
    "        print(pair)\n",
    "        dfc[\"threshold\"] += pair[0] * dfc[pair[1]]\n",
    "\n",
    "x_val = \"threshold_plot\"\n",
    "fig, ax = plt.subplots(1, figsize=(10, 6), facecolor='white')\n",
    "ax.scatter(\n",
    "    dfc[~dfc[\"passed\"]][x_val],\n",
    "    dfc[~dfc[\"passed\"]][\"roll1\"],\n",
    "    color=\"red\",\n",
    "    label=\"FC or Out\",\n",
    "    marker=CARETRIGHTBASE,\n",
    ")\n",
    "ax.scatter(\n",
    "    dfc[dfc[\"passed\"]][x_val],\n",
    "    dfc[dfc[\"passed\"]][\"roll1\"],\n",
    "    color=\"blue\",\n",
    "    label=\"DP\",\n",
    "    marker=CARETLEFTBASE,\n",
    ")\n",
    "ax.set_xlabel(x_val)\n",
    "ax.set_ylabel(\"roll1\")\n",
    "ax.set_title(\"DP\")\n",
    "# ax.set_xlim(0.484, 0.499)\n",
    "# ax.set_yscale(\"log\")\n",
    "ax.set_ylim(0, 1)\n",
    "\n",
    "# intercept_plot = 0.40\n",
    "# intercept_plot = -intercept_scaled\n",
    "xline = np.linspace(*ax.get_xlim(), 2001)\n",
    "# xline = np.insert(xline, 1, 0.65)\n",
    "yline = xline.copy()\n",
    "yline[(yline < 0.001)] = 0.001\n",
    "\n",
    "ax.plot(xline, yline, \"k\")\n",
    "# ax.plot(np.logspace(-4, 0), np.logspace(-4, 0), \"k\")\n",
    "ax.legend()\n",
    "fig.savefig('./Figures/dp.png')"
   ]
  },
  {
   "cell_type": "code",
   "execution_count": 11,
   "metadata": {
    "collapsed": false,
    "jupyter": {
     "outputs_hidden": false
    },
    "pycharm": {
     "name": "#%%\n"
    }
   },
   "outputs": [
    {
     "name": "stdout",
     "output_type": "stream",
     "text": [
      "0\n"
     ]
    },
    {
     "data": {
      "text/plain": [
       "<matplotlib.legend.Legend at 0x7f90d1eff250>"
      ]
     },
     "execution_count": 11,
     "metadata": {},
     "output_type": "execute_result"
    },
    {
     "data": {
      "image/png": "[encoded data removed]",
      "text/plain": [
       "<Figure size 432x288 with 1 Axes>"
      ]
     },
     "metadata": {},
     "output_type": "display_data"
    }
   ],
   "source": [
    "dfc[\"offset\"] = dfc[\"roll1\"] - dfc[\"threshold_rounded\"]\n",
    "outliers = dfc[(dfc[\"passed\"] & (dfc[\"offset\"] >= 0)) | (~dfc[\"passed\"] & (dfc[\"offset\"] <= 0))]\n",
    "print(len(outliers))\n",
    "\n",
    "fig, ax = plt.subplots(1, facecolor='white')\n",
    "x_val = \"threshold_rounded\"\n",
    "ax.scatter(\n",
    "    outliers[~outliers[\"passed\"]][x_val],\n",
    "    outliers[~outliers[\"passed\"]][\"offset\"],\n",
    "    color=\"red\",\n",
    "    label=\"FC or Out\",\n",
    ")\n",
    "ax.scatter(\n",
    "    outliers[outliers[\"passed\"]][x_val],\n",
    "    outliers[outliers[\"passed\"]][\"offset\"],\n",
    "    color=\"blue\",\n",
    "    label=\"DP\",\n",
    ")\n",
    "ax.set_xlabel(x_val)\n",
    "ax.set_ylabel(\"offset\")\n",
    "ax.legend()"
   ]
  },
  {
   "cell_type": "code",
   "execution_count": 12,
   "metadata": {
    "collapsed": false,
    "jupyter": {
     "outputs_hidden": false
    },
    "pycharm": {
     "name": "#%%\n"
    }
   },
   "outputs": [
    {
     "name": "stdout",
     "output_type": "stream",
     "text": [
      "0\n"
     ]
    },
    {
     "data": {
      "text/html": [
       "<div>\n",
       "<style scoped>\n",
       "    .dataframe tbody tr th:only-of-type {\n",
       "        vertical-align: middle;\n",
       "    }\n",
       "\n",
       "    .dataframe tbody tr th {\n",
       "        vertical-align: top;\n",
       "    }\n",
       "\n",
       "    .dataframe thead th {\n",
       "        text-align: right;\n",
       "    }\n",
       "</style>\n",
       "<table border=\"1\" class=\"dataframe\">\n",
       "  <thead>\n",
       "    <tr style=\"text-align: right;\">\n",
       "      <th></th>\n",
       "      <th>season</th>\n",
       "      <th>event_type</th>\n",
       "      <th>offset</th>\n",
       "      <th>roll1</th>\n",
       "      <th>threshold_rounded</th>\n",
       "      <th>passed</th>\n",
       "      <th>pitcher_name</th>\n",
       "      <th>fielder_name</th>\n",
       "      <th>batter_name</th>\n",
       "      <th>batter_mul</th>\n",
       "      <th>pitcher_mul</th>\n",
       "      <th>fielder_mul</th>\n",
       "      <th>weather</th>\n",
       "      <th>batter_mods</th>\n",
       "      <th>pitcher_mods</th>\n",
       "      <th>fielder_mods</th>\n",
       "      <th>batting_team_mods</th>\n",
       "      <th>pitching_team_mods</th>\n",
       "      <th>game_id</th>\n",
       "      <th>play_count</th>\n",
       "    </tr>\n",
       "  </thead>\n",
       "  <tbody>\n",
       "  </tbody>\n",
       "</table>\n",
       "</div>"
      ],
      "text/plain": [
       "Empty DataFrame\n",
       "Columns: [season, event_type, offset, roll1, threshold_rounded, passed, pitcher_name, fielder_name, batter_name, batter_mul, pitcher_mul, fielder_mul, weather, batter_mods, pitcher_mods, fielder_mods, batting_team_mods, pitching_team_mods, game_id, play_count]\n",
       "Index: []"
      ]
     },
     "execution_count": 12,
     "metadata": {},
     "output_type": "execute_result"
    }
   ],
   "source": [
    "table = outliers\n",
    "print(len(table))\n",
    "#table = table[table['event_type'] == 'Out']\n",
    "table[\n",
    "    [\n",
    "        \"season\",\n",
    "        # \"day\",\n",
    "        \"event_type\",\n",
    "        \"offset\",\n",
    "        \"roll1\",\n",
    "        \"threshold_rounded\",\n",
    "        \"passed\",\n",
    "        # \"batter_inv_tragicness\",\n",
    "        # \"pitcher_shakespearianism_with_vibe\",\n",
    "        # 'fielder_tenaciousness_with_vibe',\n",
    "        # 'ballpark_elongation',\n",
    "        #\"baserunner_count\",\n",
    "        #\"top_of_inning\",\n",
    "        # \"inning\",\n",
    "        # \"home_score\",\n",
    "        # \"away_score\",\n",
    "        #\"event_type\",\n",
    "        #\"ballpark_filthiness\",\n",
    "        \"pitcher_name\",\n",
    "        \"fielder_name\",\n",
    "        \"batter_name\",\n",
    "        \"batter_mul\",\n",
    "        \"pitcher_mul\",\n",
    "        \"fielder_mul\",\n",
    "        # \"runner_on_first_name\",\n",
    "        \"weather\",\n",
    "        \"batter_mods\",\n",
    "        \"pitcher_mods\",\n",
    "        \"fielder_mods\",\n",
    "        # \"runner_on_first_mods\",\n",
    "        \"batting_team_mods\",\n",
    "        \"pitching_team_mods\",\n",
    "        \"game_id\",\n",
    "        \"play_count\",\n",
    "        # 'ball_count',\n",
    "        # 'strike_count',\n",
    "        # 'out_count',\n",
    "    ]\n",
    "].sort_values(\"offset\", ascending=True)\n",
    "# len(table)"
   ]
  },
  {
   "cell_type": "code",
   "execution_count": 13,
   "metadata": {
    "collapsed": false,
    "jupyter": {
     "outputs_hidden": false
    },
    "pycharm": {
     "name": "#%%\n"
    }
   },
   "outputs": [
    {
     "name": "stdout",
     "output_type": "stream",
     "text": [
      "0.0005110497847138\n",
      "0.0017943113906413\n",
      "0.5073574848835465\n",
      "0.9998523663261404\n"
     ]
    }
   ],
   "source": [
    "# list(df.columns)\n",
    "print(df.loc[df[\"passed\"], \"roll1\"].min())\n",
    "print(df.loc[~df[\"passed\"], \"roll1\"].min())\n",
    "print(df.loc[df[\"passed\"], \"roll1\"].max())\n",
    "print(df.loc[~df[\"passed\"], \"roll1\"].max())"
   ]
  },
  {
   "cell_type": "code",
   "execution_count": null,
   "metadata": {},
   "outputs": [],
   "source": []
  },
  {
   "cell_type": "code",
   "execution_count": null,
   "metadata": {},
   "outputs": [],
   "source": []
  }
 ],
 "metadata": {
  "kernelspec": {
   "display_name": "Python 3 (ipykernel)",
   "language": "python",
   "name": "python3"
  },
  "language_info": {
   "codemirror_mode": {
    "name": "ipython",
    "version": 3
   },
   "file_extension": ".py",
   "mimetype": "text/x-python",
   "name": "python",
   "nbconvert_exporter": "python",
   "pygments_lexer": "ipython3",
   "version": "3.9.12"
  },
  "vscode": {
   "interpreter": {
    "hash": "916dbcbb3f70747c44a77c7bcd40155683ae19c65e1c03b4aa3499c5328201f1"
   }
  }
 },
 "nbformat": 4,
 "nbformat_minor": 4
}
