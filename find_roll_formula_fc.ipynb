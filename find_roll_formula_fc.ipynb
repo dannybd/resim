{
 "cells": [
  {
   "cell_type": "markdown",
   "metadata": {},
   "source": [
    "# FC vs \"sac bunt\", runner on first only\n",
    "\n",
    "```python\n",
    "dfc[\"threshold_rounded\"] = 0.05 + 0.25 * dfc[\"batter_martyrdom\"]\n",
    "```\n",
    "\n",
    "No vibes in this formula. Yes multipliers, though."
   ]
  },
  {
   "cell_type": "code",
   "execution_count": 1,
   "metadata": {
    "collapsed": false,
    "jupyter": {
     "outputs_hidden": false
    },
    "pycharm": {
     "name": "#%%\n"
    }
   },
   "outputs": [
    {
     "data": {
      "text/plain": [
       "3592"
      ]
     },
     "execution_count": 1,
     "metadata": {},
     "output_type": "execute_result"
    }
   ],
   "source": [
    "import glob\n",
    "\n",
    "import pandas as pd\n",
    "import matplotlib.pyplot as plt\n",
    "import numpy as np\n",
    "from matplotlib.markers import CARETLEFTBASE, CARETRIGHTBASE\n",
    "\n",
    "all_files = glob.glob(\"roll_data/*-fc-dp.csv\")\n",
    "\n",
    "df = pd.concat((pd.read_csv(f) for f in all_files), ignore_index=True)\n",
    "\n",
    "seasons = [11,12,13,14]\n",
    "# seasons = [11]\n",
    "df = df[df['season'].isin(seasons)]\n",
    "df = df[df[\"event_type\"] != \"DP\"]\n",
    "df = df[df[\"baserunner_count\"] == 1]\n",
    "len(df)"
   ]
  },
  {
   "cell_type": "code",
   "execution_count": 2,
   "metadata": {
    "collapsed": true,
    "jupyter": {
     "outputs_hidden": true
    },
    "pycharm": {
     "name": "#%%\n"
    },
    "tags": []
   },
   "outputs": [
    {
     "name": "stderr",
     "output_type": "stream",
     "text": [
      "/var/folders/g5/scl2096539l75kwsbhhq4pth0000gn/T/ipykernel_15535/4149382873.py:65: PerformanceWarning: DataFrame is highly fragmented.  This is usually the result of calling `frame.insert` many times, which has poor performance.  Consider joining all columns at once using pd.concat(axis=1) instead. To get a de-fragmented frame, use `newframe = frame.copy()`\n",
      "  df[attr + \"_with_vibe\"] = df[attr] * (1 + 0.2 * df[\"runner_on_first_vibes\"])\n",
      "/var/folders/g5/scl2096539l75kwsbhhq4pth0000gn/T/ipykernel_15535/4149382873.py:65: PerformanceWarning: DataFrame is highly fragmented.  This is usually the result of calling `frame.insert` many times, which has poor performance.  Consider joining all columns at once using pd.concat(axis=1) instead. To get a de-fragmented frame, use `newframe = frame.copy()`\n",
      "  df[attr + \"_with_vibe\"] = df[attr] * (1 + 0.2 * df[\"runner_on_first_vibes\"])\n",
      "/var/folders/g5/scl2096539l75kwsbhhq4pth0000gn/T/ipykernel_15535/4149382873.py:65: PerformanceWarning: DataFrame is highly fragmented.  This is usually the result of calling `frame.insert` many times, which has poor performance.  Consider joining all columns at once using pd.concat(axis=1) instead. To get a de-fragmented frame, use `newframe = frame.copy()`\n",
      "  df[attr + \"_with_vibe\"] = df[attr] * (1 + 0.2 * df[\"runner_on_first_vibes\"])\n",
      "/var/folders/g5/scl2096539l75kwsbhhq4pth0000gn/T/ipykernel_15535/4149382873.py:65: PerformanceWarning: DataFrame is highly fragmented.  This is usually the result of calling `frame.insert` many times, which has poor performance.  Consider joining all columns at once using pd.concat(axis=1) instead. To get a de-fragmented frame, use `newframe = frame.copy()`\n",
      "  df[attr + \"_with_vibe\"] = df[attr] * (1 + 0.2 * df[\"runner_on_first_vibes\"])\n",
      "/var/folders/g5/scl2096539l75kwsbhhq4pth0000gn/T/ipykernel_15535/4149382873.py:95: PerformanceWarning: DataFrame is highly fragmented.  This is usually the result of calling `frame.insert` many times, which has poor performance.  Consider joining all columns at once using pd.concat(axis=1) instead. To get a de-fragmented frame, use `newframe = frame.copy()`\n",
      "  df[attr + \"_with_vibe\"] = df[attr] * (1 + 0.2 * df[\"pitcher_vibes\"])\n",
      "/var/folders/g5/scl2096539l75kwsbhhq4pth0000gn/T/ipykernel_15535/4149382873.py:95: PerformanceWarning: DataFrame is highly fragmented.  This is usually the result of calling `frame.insert` many times, which has poor performance.  Consider joining all columns at once using pd.concat(axis=1) instead. To get a de-fragmented frame, use `newframe = frame.copy()`\n",
      "  df[attr + \"_with_vibe\"] = df[attr] * (1 + 0.2 * df[\"pitcher_vibes\"])\n",
      "/var/folders/g5/scl2096539l75kwsbhhq4pth0000gn/T/ipykernel_15535/4149382873.py:95: PerformanceWarning: DataFrame is highly fragmented.  This is usually the result of calling `frame.insert` many times, which has poor performance.  Consider joining all columns at once using pd.concat(axis=1) instead. To get a de-fragmented frame, use `newframe = frame.copy()`\n",
      "  df[attr + \"_with_vibe\"] = df[attr] * (1 + 0.2 * df[\"pitcher_vibes\"])\n",
      "/var/folders/g5/scl2096539l75kwsbhhq4pth0000gn/T/ipykernel_15535/4149382873.py:95: PerformanceWarning: DataFrame is highly fragmented.  This is usually the result of calling `frame.insert` many times, which has poor performance.  Consider joining all columns at once using pd.concat(axis=1) instead. To get a de-fragmented frame, use `newframe = frame.copy()`\n",
      "  df[attr + \"_with_vibe\"] = df[attr] * (1 + 0.2 * df[\"pitcher_vibes\"])\n",
      "/var/folders/g5/scl2096539l75kwsbhhq4pth0000gn/T/ipykernel_15535/4149382873.py:95: PerformanceWarning: DataFrame is highly fragmented.  This is usually the result of calling `frame.insert` many times, which has poor performance.  Consider joining all columns at once using pd.concat(axis=1) instead. To get a de-fragmented frame, use `newframe = frame.copy()`\n",
      "  df[attr + \"_with_vibe\"] = df[attr] * (1 + 0.2 * df[\"pitcher_vibes\"])\n",
      "/var/folders/g5/scl2096539l75kwsbhhq4pth0000gn/T/ipykernel_15535/4149382873.py:95: PerformanceWarning: DataFrame is highly fragmented.  This is usually the result of calling `frame.insert` many times, which has poor performance.  Consider joining all columns at once using pd.concat(axis=1) instead. To get a de-fragmented frame, use `newframe = frame.copy()`\n",
      "  df[attr + \"_with_vibe\"] = df[attr] * (1 + 0.2 * df[\"pitcher_vibes\"])\n",
      "/var/folders/g5/scl2096539l75kwsbhhq4pth0000gn/T/ipykernel_15535/4149382873.py:95: PerformanceWarning: DataFrame is highly fragmented.  This is usually the result of calling `frame.insert` many times, which has poor performance.  Consider joining all columns at once using pd.concat(axis=1) instead. To get a de-fragmented frame, use `newframe = frame.copy()`\n",
      "  df[attr + \"_with_vibe\"] = df[attr] * (1 + 0.2 * df[\"pitcher_vibes\"])\n",
      "/var/folders/g5/scl2096539l75kwsbhhq4pth0000gn/T/ipykernel_15535/4149382873.py:95: PerformanceWarning: DataFrame is highly fragmented.  This is usually the result of calling `frame.insert` many times, which has poor performance.  Consider joining all columns at once using pd.concat(axis=1) instead. To get a de-fragmented frame, use `newframe = frame.copy()`\n",
      "  df[attr + \"_with_vibe\"] = df[attr] * (1 + 0.2 * df[\"pitcher_vibes\"])\n",
      "/var/folders/g5/scl2096539l75kwsbhhq4pth0000gn/T/ipykernel_15535/4149382873.py:95: PerformanceWarning: DataFrame is highly fragmented.  This is usually the result of calling `frame.insert` many times, which has poor performance.  Consider joining all columns at once using pd.concat(axis=1) instead. To get a de-fragmented frame, use `newframe = frame.copy()`\n",
      "  df[attr + \"_with_vibe\"] = df[attr] * (1 + 0.2 * df[\"pitcher_vibes\"])\n",
      "/var/folders/g5/scl2096539l75kwsbhhq4pth0000gn/T/ipykernel_15535/4149382873.py:95: PerformanceWarning: DataFrame is highly fragmented.  This is usually the result of calling `frame.insert` many times, which has poor performance.  Consider joining all columns at once using pd.concat(axis=1) instead. To get a de-fragmented frame, use `newframe = frame.copy()`\n",
      "  df[attr + \"_with_vibe\"] = df[attr] * (1 + 0.2 * df[\"pitcher_vibes\"])\n",
      "/var/folders/g5/scl2096539l75kwsbhhq4pth0000gn/T/ipykernel_15535/4149382873.py:95: PerformanceWarning: DataFrame is highly fragmented.  This is usually the result of calling `frame.insert` many times, which has poor performance.  Consider joining all columns at once using pd.concat(axis=1) instead. To get a de-fragmented frame, use `newframe = frame.copy()`\n",
      "  df[attr + \"_with_vibe\"] = df[attr] * (1 + 0.2 * df[\"pitcher_vibes\"])\n",
      "/var/folders/g5/scl2096539l75kwsbhhq4pth0000gn/T/ipykernel_15535/4149382873.py:95: PerformanceWarning: DataFrame is highly fragmented.  This is usually the result of calling `frame.insert` many times, which has poor performance.  Consider joining all columns at once using pd.concat(axis=1) instead. To get a de-fragmented frame, use `newframe = frame.copy()`\n",
      "  df[attr + \"_with_vibe\"] = df[attr] * (1 + 0.2 * df[\"pitcher_vibes\"])\n",
      "/var/folders/g5/scl2096539l75kwsbhhq4pth0000gn/T/ipykernel_15535/4149382873.py:95: PerformanceWarning: DataFrame is highly fragmented.  This is usually the result of calling `frame.insert` many times, which has poor performance.  Consider joining all columns at once using pd.concat(axis=1) instead. To get a de-fragmented frame, use `newframe = frame.copy()`\n",
      "  df[attr + \"_with_vibe\"] = df[attr] * (1 + 0.2 * df[\"pitcher_vibes\"])\n",
      "/var/folders/g5/scl2096539l75kwsbhhq4pth0000gn/T/ipykernel_15535/4149382873.py:95: PerformanceWarning: DataFrame is highly fragmented.  This is usually the result of calling `frame.insert` many times, which has poor performance.  Consider joining all columns at once using pd.concat(axis=1) instead. To get a de-fragmented frame, use `newframe = frame.copy()`\n",
      "  df[attr + \"_with_vibe\"] = df[attr] * (1 + 0.2 * df[\"pitcher_vibes\"])\n",
      "/var/folders/g5/scl2096539l75kwsbhhq4pth0000gn/T/ipykernel_15535/4149382873.py:95: PerformanceWarning: DataFrame is highly fragmented.  This is usually the result of calling `frame.insert` many times, which has poor performance.  Consider joining all columns at once using pd.concat(axis=1) instead. To get a de-fragmented frame, use `newframe = frame.copy()`\n",
      "  df[attr + \"_with_vibe\"] = df[attr] * (1 + 0.2 * df[\"pitcher_vibes\"])\n",
      "/var/folders/g5/scl2096539l75kwsbhhq4pth0000gn/T/ipykernel_15535/4149382873.py:95: PerformanceWarning: DataFrame is highly fragmented.  This is usually the result of calling `frame.insert` many times, which has poor performance.  Consider joining all columns at once using pd.concat(axis=1) instead. To get a de-fragmented frame, use `newframe = frame.copy()`\n",
      "  df[attr + \"_with_vibe\"] = df[attr] * (1 + 0.2 * df[\"pitcher_vibes\"])\n",
      "/var/folders/g5/scl2096539l75kwsbhhq4pth0000gn/T/ipykernel_15535/4149382873.py:95: PerformanceWarning: DataFrame is highly fragmented.  This is usually the result of calling `frame.insert` many times, which has poor performance.  Consider joining all columns at once using pd.concat(axis=1) instead. To get a de-fragmented frame, use `newframe = frame.copy()`\n",
      "  df[attr + \"_with_vibe\"] = df[attr] * (1 + 0.2 * df[\"pitcher_vibes\"])\n",
      "/var/folders/g5/scl2096539l75kwsbhhq4pth0000gn/T/ipykernel_15535/4149382873.py:95: PerformanceWarning: DataFrame is highly fragmented.  This is usually the result of calling `frame.insert` many times, which has poor performance.  Consider joining all columns at once using pd.concat(axis=1) instead. To get a de-fragmented frame, use `newframe = frame.copy()`\n",
      "  df[attr + \"_with_vibe\"] = df[attr] * (1 + 0.2 * df[\"pitcher_vibes\"])\n",
      "/var/folders/g5/scl2096539l75kwsbhhq4pth0000gn/T/ipykernel_15535/4149382873.py:95: PerformanceWarning: DataFrame is highly fragmented.  This is usually the result of calling `frame.insert` many times, which has poor performance.  Consider joining all columns at once using pd.concat(axis=1) instead. To get a de-fragmented frame, use `newframe = frame.copy()`\n",
      "  df[attr + \"_with_vibe\"] = df[attr] * (1 + 0.2 * df[\"pitcher_vibes\"])\n",
      "/var/folders/g5/scl2096539l75kwsbhhq4pth0000gn/T/ipykernel_15535/4149382873.py:95: PerformanceWarning: DataFrame is highly fragmented.  This is usually the result of calling `frame.insert` many times, which has poor performance.  Consider joining all columns at once using pd.concat(axis=1) instead. To get a de-fragmented frame, use `newframe = frame.copy()`\n",
      "  df[attr + \"_with_vibe\"] = df[attr] * (1 + 0.2 * df[\"pitcher_vibes\"])\n",
      "/var/folders/g5/scl2096539l75kwsbhhq4pth0000gn/T/ipykernel_15535/4149382873.py:95: PerformanceWarning: DataFrame is highly fragmented.  This is usually the result of calling `frame.insert` many times, which has poor performance.  Consider joining all columns at once using pd.concat(axis=1) instead. To get a de-fragmented frame, use `newframe = frame.copy()`\n",
      "  df[attr + \"_with_vibe\"] = df[attr] * (1 + 0.2 * df[\"pitcher_vibes\"])\n",
      "/var/folders/g5/scl2096539l75kwsbhhq4pth0000gn/T/ipykernel_15535/4149382873.py:95: PerformanceWarning: DataFrame is highly fragmented.  This is usually the result of calling `frame.insert` many times, which has poor performance.  Consider joining all columns at once using pd.concat(axis=1) instead. To get a de-fragmented frame, use `newframe = frame.copy()`\n",
      "  df[attr + \"_with_vibe\"] = df[attr] * (1 + 0.2 * df[\"pitcher_vibes\"])\n",
      "/var/folders/g5/scl2096539l75kwsbhhq4pth0000gn/T/ipykernel_15535/4149382873.py:95: PerformanceWarning: DataFrame is highly fragmented.  This is usually the result of calling `frame.insert` many times, which has poor performance.  Consider joining all columns at once using pd.concat(axis=1) instead. To get a de-fragmented frame, use `newframe = frame.copy()`\n",
      "  df[attr + \"_with_vibe\"] = df[attr] * (1 + 0.2 * df[\"pitcher_vibes\"])\n",
      "/var/folders/g5/scl2096539l75kwsbhhq4pth0000gn/T/ipykernel_15535/4149382873.py:95: PerformanceWarning: DataFrame is highly fragmented.  This is usually the result of calling `frame.insert` many times, which has poor performance.  Consider joining all columns at once using pd.concat(axis=1) instead. To get a de-fragmented frame, use `newframe = frame.copy()`\n",
      "  df[attr + \"_with_vibe\"] = df[attr] * (1 + 0.2 * df[\"pitcher_vibes\"])\n",
      "/var/folders/g5/scl2096539l75kwsbhhq4pth0000gn/T/ipykernel_15535/4149382873.py:95: PerformanceWarning: DataFrame is highly fragmented.  This is usually the result of calling `frame.insert` many times, which has poor performance.  Consider joining all columns at once using pd.concat(axis=1) instead. To get a de-fragmented frame, use `newframe = frame.copy()`\n",
      "  df[attr + \"_with_vibe\"] = df[attr] * (1 + 0.2 * df[\"pitcher_vibes\"])\n",
      "/var/folders/g5/scl2096539l75kwsbhhq4pth0000gn/T/ipykernel_15535/4149382873.py:95: PerformanceWarning: DataFrame is highly fragmented.  This is usually the result of calling `frame.insert` many times, which has poor performance.  Consider joining all columns at once using pd.concat(axis=1) instead. To get a de-fragmented frame, use `newframe = frame.copy()`\n",
      "  df[attr + \"_with_vibe\"] = df[attr] * (1 + 0.2 * df[\"pitcher_vibes\"])\n",
      "/var/folders/g5/scl2096539l75kwsbhhq4pth0000gn/T/ipykernel_15535/4149382873.py:104: PerformanceWarning: DataFrame is highly fragmented.  This is usually the result of calling `frame.insert` many times, which has poor performance.  Consider joining all columns at once using pd.concat(axis=1) instead. To get a de-fragmented frame, use `newframe = frame.copy()`\n",
      "  df[attr + \"_times_vibe\"] = df[attr] * df[\"fielder_vibes\"]\n",
      "/var/folders/g5/scl2096539l75kwsbhhq4pth0000gn/T/ipykernel_15535/4149382873.py:105: PerformanceWarning: DataFrame is highly fragmented.  This is usually the result of calling `frame.insert` many times, which has poor performance.  Consider joining all columns at once using pd.concat(axis=1) instead. To get a de-fragmented frame, use `newframe = frame.copy()`\n",
      "  df[attr + \"_with_vibe\"] = df[attr] * (1 + 0.2 * df[\"fielder_vibes\"])\n",
      "/var/folders/g5/scl2096539l75kwsbhhq4pth0000gn/T/ipykernel_15535/4149382873.py:104: PerformanceWarning: DataFrame is highly fragmented.  This is usually the result of calling `frame.insert` many times, which has poor performance.  Consider joining all columns at once using pd.concat(axis=1) instead. To get a de-fragmented frame, use `newframe = frame.copy()`\n",
      "  df[attr + \"_times_vibe\"] = df[attr] * df[\"fielder_vibes\"]\n",
      "/var/folders/g5/scl2096539l75kwsbhhq4pth0000gn/T/ipykernel_15535/4149382873.py:105: PerformanceWarning: DataFrame is highly fragmented.  This is usually the result of calling `frame.insert` many times, which has poor performance.  Consider joining all columns at once using pd.concat(axis=1) instead. To get a de-fragmented frame, use `newframe = frame.copy()`\n",
      "  df[attr + \"_with_vibe\"] = df[attr] * (1 + 0.2 * df[\"fielder_vibes\"])\n",
      "/var/folders/g5/scl2096539l75kwsbhhq4pth0000gn/T/ipykernel_15535/4149382873.py:104: PerformanceWarning: DataFrame is highly fragmented.  This is usually the result of calling `frame.insert` many times, which has poor performance.  Consider joining all columns at once using pd.concat(axis=1) instead. To get a de-fragmented frame, use `newframe = frame.copy()`\n",
      "  df[attr + \"_times_vibe\"] = df[attr] * df[\"fielder_vibes\"]\n",
      "/var/folders/g5/scl2096539l75kwsbhhq4pth0000gn/T/ipykernel_15535/4149382873.py:105: PerformanceWarning: DataFrame is highly fragmented.  This is usually the result of calling `frame.insert` many times, which has poor performance.  Consider joining all columns at once using pd.concat(axis=1) instead. To get a de-fragmented frame, use `newframe = frame.copy()`\n",
      "  df[attr + \"_with_vibe\"] = df[attr] * (1 + 0.2 * df[\"fielder_vibes\"])\n",
      "/var/folders/g5/scl2096539l75kwsbhhq4pth0000gn/T/ipykernel_15535/4149382873.py:104: PerformanceWarning: DataFrame is highly fragmented.  This is usually the result of calling `frame.insert` many times, which has poor performance.  Consider joining all columns at once using pd.concat(axis=1) instead. To get a de-fragmented frame, use `newframe = frame.copy()`\n",
      "  df[attr + \"_times_vibe\"] = df[attr] * df[\"fielder_vibes\"]\n",
      "/var/folders/g5/scl2096539l75kwsbhhq4pth0000gn/T/ipykernel_15535/4149382873.py:105: PerformanceWarning: DataFrame is highly fragmented.  This is usually the result of calling `frame.insert` many times, which has poor performance.  Consider joining all columns at once using pd.concat(axis=1) instead. To get a de-fragmented frame, use `newframe = frame.copy()`\n",
      "  df[attr + \"_with_vibe\"] = df[attr] * (1 + 0.2 * df[\"fielder_vibes\"])\n",
      "/var/folders/g5/scl2096539l75kwsbhhq4pth0000gn/T/ipykernel_15535/4149382873.py:104: PerformanceWarning: DataFrame is highly fragmented.  This is usually the result of calling `frame.insert` many times, which has poor performance.  Consider joining all columns at once using pd.concat(axis=1) instead. To get a de-fragmented frame, use `newframe = frame.copy()`\n",
      "  df[attr + \"_times_vibe\"] = df[attr] * df[\"fielder_vibes\"]\n",
      "/var/folders/g5/scl2096539l75kwsbhhq4pth0000gn/T/ipykernel_15535/4149382873.py:105: PerformanceWarning: DataFrame is highly fragmented.  This is usually the result of calling `frame.insert` many times, which has poor performance.  Consider joining all columns at once using pd.concat(axis=1) instead. To get a de-fragmented frame, use `newframe = frame.copy()`\n",
      "  df[attr + \"_with_vibe\"] = df[attr] * (1 + 0.2 * df[\"fielder_vibes\"])\n"
     ]
    }
   ],
   "source": [
    "df.loc[df[\"pitcher_mods\"].astype(str).str.contains(\"SCATTERED\"), \"pitcher_vibes\"] = 0\n",
    "df.loc[df[\"batter_mods\"].astype(str).str.contains(\"SCATTERED\"), \"batter_vibes\"] = 0\n",
    "df.loc[df[\"fielder_mods\"].astype(str).str.contains(\"SCATTERED\"), \"fielder_vibes\"] = 0\n",
    "df.loc[df[\"runner_on_first_mods\"].astype(str).str.contains(\"SCATTERED\"), \"runner_on_first_vibes\"] = 0\n",
    "\n",
    "for attr in [\n",
    "    \"batter_buoyancy\",\n",
    "    \"batter_divinity\",\n",
    "    \"batter_martyrdom\",\n",
    "    \"batter_moxie\",\n",
    "    \"batter_musclitude\",\n",
    "    \"batter_patheticism\",\n",
    "    \"batter_thwackability\",\n",
    "    \"batter_tragicness\",\n",
    "    \"batter_coldness\",\n",
    "    \"batter_overpowerment\",\n",
    "    \"batter_ruthlessness\",\n",
    "    \"batter_shakespearianism\",\n",
    "    \"batter_suppression\",\n",
    "    \"batter_unthwackability\",\n",
    "    \"batter_base_thirst\",\n",
    "    \"batter_continuation\",\n",
    "    \"batter_ground_friction\",\n",
    "    \"batter_indulgence\",\n",
    "    \"batter_laserlikeness\",\n",
    "    \"batter_anticapitalism\",\n",
    "    \"batter_chasiness\",\n",
    "    \"batter_omniscience\",\n",
    "    \"batter_tenaciousness\",\n",
    "    \"batter_watchfulness\",\n",
    "    \"batter_pressurization\",\n",
    "    \"batter_cinnamon\",\n",
    "]:\n",
    "    df[attr] = df[attr] * df[\"batter_multiplier\"]\n",
    "    df[attr + \"_with_vibe\"] = df[attr] * (1 + 0.2 * df[\"batter_vibes\"])\n",
    "for attr in [\n",
    "    \"runner_on_first_buoyancy\",\n",
    "    \"runner_on_first_divinity\",\n",
    "    \"runner_on_first_martyrdom\",\n",
    "    \"runner_on_first_moxie\",\n",
    "    \"runner_on_first_musclitude\",\n",
    "    \"runner_on_first_patheticism\",\n",
    "    \"runner_on_first_thwackability\",\n",
    "    \"runner_on_first_tragicness\",\n",
    "    \"runner_on_first_coldness\",\n",
    "    \"runner_on_first_overpowerment\",\n",
    "    \"runner_on_first_ruthlessness\",\n",
    "    \"runner_on_first_shakespearianism\",\n",
    "    \"runner_on_first_suppression\",\n",
    "    \"runner_on_first_unthwackability\",\n",
    "    \"runner_on_first_base_thirst\",\n",
    "    \"runner_on_first_continuation\",\n",
    "    \"runner_on_first_ground_friction\",\n",
    "    \"runner_on_first_indulgence\",\n",
    "    \"runner_on_first_laserlikeness\",\n",
    "    \"runner_on_first_anticapitalism\",\n",
    "    \"runner_on_first_chasiness\",\n",
    "    \"runner_on_first_omniscience\",\n",
    "    \"runner_on_first_tenaciousness\",\n",
    "    \"runner_on_first_watchfulness\",\n",
    "    \"runner_on_first_pressurization\",\n",
    "    \"runner_on_first_cinnamon\",\n",
    "]:\n",
    "    df[attr] = df[attr] * df[\"runner_on_first_multiplier\"]\n",
    "    df[attr + \"_with_vibe\"] = df[attr] * (1 + 0.2 * df[\"runner_on_first_vibes\"])\n",
    "for attr in [\n",
    "    \"pitcher_buoyancy\",\n",
    "    \"pitcher_divinity\",\n",
    "    \"pitcher_martyrdom\",\n",
    "    \"pitcher_moxie\",\n",
    "    \"pitcher_musclitude\",\n",
    "    \"pitcher_patheticism\",\n",
    "    \"pitcher_thwackability\",\n",
    "    \"pitcher_tragicness\",\n",
    "    \"pitcher_ruthlessness\",\n",
    "    \"pitcher_overpowerment\",\n",
    "    \"pitcher_unthwackability\",\n",
    "    \"pitcher_shakespearianism\",\n",
    "    \"pitcher_suppression\",\n",
    "    \"pitcher_coldness\",\n",
    "    \"pitcher_base_thirst\",\n",
    "    \"pitcher_continuation\",\n",
    "    \"pitcher_ground_friction\",\n",
    "    \"pitcher_indulgence\",\n",
    "    \"pitcher_laserlikeness\",\n",
    "    \"pitcher_anticapitalism\",\n",
    "    \"pitcher_chasiness\",\n",
    "    \"pitcher_omniscience\",\n",
    "    \"pitcher_tenaciousness\",\n",
    "    \"pitcher_watchfulness\",\n",
    "    \"pitcher_pressurization\",\n",
    "    \"pitcher_cinnamon\",\n",
    "]:\n",
    "    df[attr] = df[attr] * df[\"pitcher_multiplier\"]\n",
    "    df[attr + \"_with_vibe\"] = df[attr] * (1 + 0.2 * df[\"pitcher_vibes\"])\n",
    "\n",
    "for attr in [\n",
    "    \"fielder_anticapitalism\",\n",
    "    \"fielder_chasiness\",\n",
    "    \"fielder_omniscience\",\n",
    "    \"fielder_tenaciousness\",\n",
    "    \"fielder_watchfulness\",\n",
    "]:\n",
    "    df[attr + \"_times_vibe\"] = df[attr] * df[\"fielder_vibes\"]\n",
    "    df[attr + \"_with_vibe\"] = df[attr] * (1 + 0.2 * df[\"fielder_vibes\"])"
   ]
  },
  {
   "cell_type": "code",
   "execution_count": 3,
   "metadata": {
    "collapsed": false,
    "jupyter": {
     "outputs_hidden": false
    },
    "pycharm": {
     "name": "#%%\n"
    }
   },
   "outputs": [
    {
     "data": {
      "text/plain": [
       "3592"
      ]
     },
     "execution_count": 3,
     "metadata": {},
     "output_type": "execute_result"
    }
   ],
   "source": [
    "dfc = df.copy()\n",
    "# for exclude_mod in [\"OVERPERFORMING\", \"UNDERPERFORMING\", \"HIGH_PRESSURE\", \"GROWTH\", \"SINKING_SHIP\", \"TRAVELING\"]:\n",
    "# for exclude_mod in [\"FLINCH\", \"O_NO\", \"ON_FIRE\", \"GROWTH\", \"TRAVELING\"]:\n",
    "#     dfc = dfc[~dfc[\"batter_mods\"].astype(str).str.contains(exclude_mod)]\n",
    "#     dfc = dfc[~dfc[\"pitcher_mods\"].astype(str).str.contains(exclude_mod)]\n",
    "#     dfc = dfc[~dfc[\"fielder_mods\"].astype(str).str.contains(exclude_mod)]\n",
    "#     dfc = dfc[~dfc[\"runner_on_first_mods\"].astype(str).str.contains(exclude_mod)]\n",
    "#     dfc = dfc[~dfc[\"pitching_team_mods\"].astype(str).str.contains(exclude_mod)]\n",
    "#     dfc = dfc[~dfc[\"batting_team_mods\"].astype(str).str.contains(exclude_mod)]\n",
    "\n",
    "# dfc = dfc[dfc['roll'] < 0.7]\n",
    "# dfc = dfc[dfc['roll'] > 0.2]\n",
    "# dfc = dfc[\n",
    "    # (dfc[\"pitcher_multiplier\"] == 1)\n",
    "    # & (dfc[\"batter_multiplier\"] == 1)\n",
    "    # & (dfc[\"fielder_multiplier\"] == 1)\n",
    "    # & (dfc[\"runner_on_first_multiplier\"] == 1)\n",
    "# ]\n",
    "# dfc = dfc[(dfc['pitcher_vibes'].abs() < 0.2) & (dfc['batter_vibes'].abs() < 0.2)]\n",
    "# for limit_attr in ['batter_patheticism', 'batter_thwackability', 'batter_divinity', 'batter_musclitude', 'pitcher_ruthlessness']:\n",
    "#     dfc = dfc[(dfc[limit_attr] > 0.1) & (dfc[limit_attr] < 0.9)]\n",
    "# dfc = dfc[dfc['batter_thwackability'] + dfc['batter_musclitude'] + dfc['batter_divinity'] > dfc['batter_patheticism']]\n",
    "\n",
    "len(dfc)"
   ]
  },
  {
   "cell_type": "code",
   "execution_count": 4,
   "metadata": {
    "collapsed": false,
    "jupyter": {
     "outputs_hidden": false
    },
    "pycharm": {
     "name": "#%%\n"
    }
   },
   "outputs": [],
   "source": [
    "# dfc.corr()['offset'].sort_values()"
   ]
  },
  {
   "cell_type": "code",
   "execution_count": 5,
   "metadata": {
    "collapsed": false,
    "jupyter": {
     "outputs_hidden": false
    },
    "pycharm": {
     "name": "#%%\n"
    }
   },
   "outputs": [
    {
     "data": {
      "text/html": [
       "<div>\n",
       "<style scoped>\n",
       "    .dataframe tbody tr th:only-of-type {\n",
       "        vertical-align: middle;\n",
       "    }\n",
       "\n",
       "    .dataframe tbody tr th {\n",
       "        vertical-align: top;\n",
       "    }\n",
       "\n",
       "    .dataframe thead th {\n",
       "        text-align: right;\n",
       "    }\n",
       "</style>\n",
       "<table border=\"1\" class=\"dataframe\">\n",
       "  <thead>\n",
       "    <tr style=\"text-align: right;\">\n",
       "      <th></th>\n",
       "      <th>roll</th>\n",
       "      <th>batter_martyrdom</th>\n",
       "    </tr>\n",
       "  </thead>\n",
       "  <tbody>\n",
       "    <tr>\n",
       "      <th>0</th>\n",
       "      <td>0.554750</td>\n",
       "      <td>0.794712</td>\n",
       "    </tr>\n",
       "    <tr>\n",
       "      <th>2</th>\n",
       "      <td>0.945761</td>\n",
       "      <td>0.557612</td>\n",
       "    </tr>\n",
       "    <tr>\n",
       "      <th>3</th>\n",
       "      <td>0.350887</td>\n",
       "      <td>0.150456</td>\n",
       "    </tr>\n",
       "    <tr>\n",
       "      <th>4</th>\n",
       "      <td>0.065888</td>\n",
       "      <td>0.722029</td>\n",
       "    </tr>\n",
       "    <tr>\n",
       "      <th>5</th>\n",
       "      <td>0.036172</td>\n",
       "      <td>0.469685</td>\n",
       "    </tr>\n",
       "    <tr>\n",
       "      <th>...</th>\n",
       "      <td>...</td>\n",
       "      <td>...</td>\n",
       "    </tr>\n",
       "    <tr>\n",
       "      <th>5508</th>\n",
       "      <td>0.127861</td>\n",
       "      <td>0.697890</td>\n",
       "    </tr>\n",
       "    <tr>\n",
       "      <th>5509</th>\n",
       "      <td>0.303164</td>\n",
       "      <td>0.873252</td>\n",
       "    </tr>\n",
       "    <tr>\n",
       "      <th>5510</th>\n",
       "      <td>0.838524</td>\n",
       "      <td>0.914635</td>\n",
       "    </tr>\n",
       "    <tr>\n",
       "      <th>5514</th>\n",
       "      <td>0.283822</td>\n",
       "      <td>0.425469</td>\n",
       "    </tr>\n",
       "    <tr>\n",
       "      <th>5515</th>\n",
       "      <td>0.622314</td>\n",
       "      <td>0.937363</td>\n",
       "    </tr>\n",
       "  </tbody>\n",
       "</table>\n",
       "<p>3592 rows × 2 columns</p>\n",
       "</div>"
      ],
      "text/plain": [
       "          roll  batter_martyrdom\n",
       "0     0.554750          0.794712\n",
       "2     0.945761          0.557612\n",
       "3     0.350887          0.150456\n",
       "4     0.065888          0.722029\n",
       "5     0.036172          0.469685\n",
       "...        ...               ...\n",
       "5508  0.127861          0.697890\n",
       "5509  0.303164          0.873252\n",
       "5510  0.838524          0.914635\n",
       "5514  0.283822          0.425469\n",
       "5515  0.622314          0.937363\n",
       "\n",
       "[3592 rows x 2 columns]"
      ]
     },
     "execution_count": 5,
     "metadata": {},
     "output_type": "execute_result"
    }
   ],
   "source": [
    "X = dfc[\n",
    "    [\n",
    "        \"roll\",\n",
    "        \"passed\",\n",
    "        \"batter_martyrdom\",\n",
    "        # \"ballpark_elongation\",\n",
    "        # \"runner_on_first_base_thirst\",\n",
    "        # \"runner_on_first_continuation\",\n",
    "        # \"runner_on_first_indulgence\",\n",
    "        # \"fielder_chasiness_with_vibe\",\n",
    "        # \"fielder_omniscience_with_vibe\",\n",
    "    ]\n",
    "]\n",
    "# X = X[X['roll'] < 0.85]\n",
    "\n",
    "# X = dfc[['roll', 'pitcher_ruthlessness', 'ballpark_forwardness']]\n",
    "# X = dfc[['roll', 'pitcher_ruthlessness']]\n",
    "y = X[\"passed\"]\n",
    "X = X.drop(\"passed\", axis=1)\n",
    "X"
   ]
  },
  {
   "cell_type": "code",
   "execution_count": 6,
   "metadata": {
    "collapsed": false,
    "jupyter": {
     "outputs_hidden": false
    },
    "pycharm": {
     "name": "#%%\n"
    }
   },
   "outputs": [
    {
     "name": "stdout",
     "output_type": "stream",
     "text": [
      "[[2777    0]\n",
      " [   0  815]]\n",
      "              precision    recall  f1-score   support\n",
      "\n",
      "       False       1.00      1.00      1.00      2777\n",
      "        True       1.00      1.00      1.00       815\n",
      "\n",
      "    accuracy                           1.00      3592\n",
      "   macro avg       1.00      1.00      1.00      3592\n",
      "weighted avg       1.00      1.00      1.00      3592\n",
      "\n",
      "1.0\n"
     ]
    }
   ],
   "source": [
    "from sklearn.preprocessing import StandardScaler\n",
    "from sklearn.metrics import confusion_matrix\n",
    "from sklearn.metrics import classification_report\n",
    "from sklearn import svm, linear_model\n",
    "\n",
    "# # trainedsvm = svm.SVC(kernel='linear').fit(X, y)\n",
    "# trainedsvm = svm.LinearSVC(dual=False, max_iter=100000).fit(X, y)\n",
    "# predictionsvm = trainedsvm.predict(X)\n",
    "# print(confusion_matrix(y,predictionsvm))\n",
    "# print(classification_report(y,predictionsvm))\n",
    "\n",
    "sc = StandardScaler()\n",
    "X2 = sc.fit_transform(X)\n",
    "\n",
    "trainedsvm = svm.LinearSVC(dual=False, max_iter=100000, C=1000000).fit(\n",
    "    X2, y\n",
    ")\n",
    "predictionsvm = trainedsvm.predict(X2)\n",
    "print(confusion_matrix(y, predictionsvm))\n",
    "print(classification_report(y, predictionsvm))\n",
    "print(trainedsvm.score(X2, y))"
   ]
  },
  {
   "cell_type": "code",
   "execution_count": 7,
   "metadata": {
    "collapsed": false,
    "jupyter": {
     "outputs_hidden": false
    },
    "pycharm": {
     "name": "#%%\n"
    }
   },
   "outputs": [
    {
     "name": "stdout",
     "output_type": "stream",
     "text": [
      "[-0.0503434]\n"
     ]
    },
    {
     "data": {
      "text/plain": [
       "[(1.0, 'roll'), (-0.249408792000826, 'batter_martyrdom')]"
      ]
     },
     "execution_count": 7,
     "metadata": {},
     "output_type": "execute_result"
    }
   ],
   "source": [
    "coef = np.true_divide(trainedsvm.coef_, sc.scale_)\n",
    "coef_scaled = coef / coef[0, 0]\n",
    "coef_list = coef_scaled.tolist()[0]\n",
    "\n",
    "intercept = trainedsvm.intercept_ - np.dot(coef, sc.mean_)\n",
    "intercept_scaled = intercept / coef[0, 0]\n",
    "print(intercept_scaled)\n",
    "sorted(zip(coef_list, X.columns), key=lambda x: abs(x[0]), reverse=True)"
   ]
  },
  {
   "cell_type": "code",
   "execution_count": 8,
   "metadata": {
    "collapsed": false,
    "jupyter": {
     "outputs_hidden": false
    },
    "pycharm": {
     "name": "#%%\n"
    }
   },
   "outputs": [
    {
     "data": {
      "text/plain": [
       "<matplotlib.legend.Legend at 0x7fc1a814c6d0>"
      ]
     },
     "execution_count": 8,
     "metadata": {},
     "output_type": "execute_result"
    },
    {
     "data": {
      "image/png": "[encoded data removed]",
      "text/plain": [
       "<Figure size 720x432 with 1 Axes>"
      ]
     },
     "metadata": {
      "needs_background": "light"
     },
     "output_type": "display_data"
    }
   ],
   "source": [
    "dfc[\"threshold_rounded\"] = 0.05 + 0.25 * dfc[\"batter_martyrdom\"]\n",
    "\n",
    "# dfc[\"threshold\"] = -intercept_scaled[0]\n",
    "# print(-intercept_scaled)\n",
    "# for pair in zip(-np.array(coef_list), X.columns):\n",
    "#     if pair[1] != \"roll\":\n",
    "#         print(pair)\n",
    "#         dfc[\"threshold\"] += pair[0] * dfc[pair[1]]\n",
    "\n",
    "# x_val = \"day\"\n",
    "x_val = \"threshold_rounded\"\n",
    "fig, ax = plt.subplots(1, figsize=(10, 6))\n",
    "ax.scatter(\n",
    "    dfc[~dfc[\"passed\"]][x_val],\n",
    "    dfc[~dfc[\"passed\"]][\"roll\"],\n",
    "    color=\"red\",\n",
    "    label=\"FC\",\n",
    "    marker=CARETRIGHTBASE,\n",
    ")\n",
    "ax.scatter(\n",
    "    dfc[dfc[\"passed\"]][x_val],\n",
    "    dfc[dfc[\"passed\"]][\"roll\"],\n",
    "    color=\"blue\",\n",
    "    label=\"Normal Out\",\n",
    "    marker=CARETLEFTBASE,\n",
    ")\n",
    "ax.set_xlabel(x_val)\n",
    "ax.set_ylabel(\"roll\")\n",
    "ax.set_title(\"FC\")\n",
    "# ax.set_xlim(0.484, 0.499)\n",
    "# ax.set_ylim(-1e-2, 1e-2)\n",
    "# ax.grid()\n",
    "\n",
    "ax.plot(ax.get_xlim(), ax.get_xlim(), \"k\")\n",
    "\n",
    "ax.legend()"
   ]
  },
  {
   "cell_type": "code",
   "execution_count": 9,
   "metadata": {
    "collapsed": false,
    "jupyter": {
     "outputs_hidden": false
    },
    "pycharm": {
     "name": "#%%\n"
    }
   },
   "outputs": [
    {
     "data": {
      "text/plain": [
       "<matplotlib.legend.Legend at 0x7fc1b8d2ca30>"
      ]
     },
     "execution_count": 9,
     "metadata": {},
     "output_type": "execute_result"
    },
    {
     "data": {
      "image/png": "[encoded data removed]",
      "text/plain": [
       "<Figure size 432x288 with 1 Axes>"
      ]
     },
     "metadata": {
      "needs_background": "light"
     },
     "output_type": "display_data"
    }
   ],
   "source": [
    "dfc[\"offset\"] = dfc[\"roll\"] - dfc[\"threshold_rounded\"]\n",
    "outliers = dfc[(dfc[\"passed\"] & (dfc[\"offset\"] >= 0)) | (~dfc[\"passed\"] & (dfc[\"offset\"] <= 0))]\n",
    "\n",
    "fig, ax = plt.subplots(1)\n",
    "x_val = \"fielder_watchfulness_with_vibe\"\n",
    "ax.scatter(\n",
    "    outliers[~outliers[\"passed\"]][x_val],\n",
    "    outliers[~outliers[\"passed\"]][\"offset\"],\n",
    "    color=\"red\",\n",
    "    label=\"FC\",\n",
    ")\n",
    "ax.scatter(\n",
    "    outliers[outliers[\"passed\"]][x_val],\n",
    "    outliers[outliers[\"passed\"]][\"offset\"],\n",
    "    color=\"blue\",\n",
    "    label=\"Normal Out\",\n",
    ")\n",
    "ax.set_xlabel(x_val)\n",
    "ax.set_ylabel(\"offset\")\n",
    "ax.legend()"
   ]
  },
  {
   "cell_type": "code",
   "execution_count": 11,
   "metadata": {
    "collapsed": false,
    "jupyter": {
     "outputs_hidden": false
    },
    "pycharm": {
     "name": "#%%\n"
    }
   },
   "outputs": [
    {
     "name": "stdout",
     "output_type": "stream",
     "text": [
      "0\n"
     ]
    },
    {
     "data": {
      "text/html": [
       "<div>\n",
       "<style scoped>\n",
       "    .dataframe tbody tr th:only-of-type {\n",
       "        vertical-align: middle;\n",
       "    }\n",
       "\n",
       "    .dataframe tbody tr th {\n",
       "        vertical-align: top;\n",
       "    }\n",
       "\n",
       "    .dataframe thead th {\n",
       "        text-align: right;\n",
       "    }\n",
       "</style>\n",
       "<table border=\"1\" class=\"dataframe\">\n",
       "  <thead>\n",
       "    <tr style=\"text-align: right;\">\n",
       "      <th></th>\n",
       "      <th>offset</th>\n",
       "      <th>roll</th>\n",
       "      <th>threshold_rounded</th>\n",
       "      <th>event_type</th>\n",
       "      <th>baserunner_count</th>\n",
       "      <th>top_of_inning</th>\n",
       "      <th>inning</th>\n",
       "      <th>event_type</th>\n",
       "      <th>batter_vibes</th>\n",
       "      <th>batter_martyrdom</th>\n",
       "      <th>batter_name</th>\n",
       "      <th>batter_multiplier</th>\n",
       "      <th>batter_mods</th>\n",
       "      <th>batting_team_mods</th>\n",
       "      <th>season</th>\n",
       "      <th>day</th>\n",
       "      <th>game_id</th>\n",
       "      <th>play_count</th>\n",
       "    </tr>\n",
       "  </thead>\n",
       "  <tbody>\n",
       "  </tbody>\n",
       "</table>\n",
       "</div>"
      ],
      "text/plain": [
       "Empty DataFrame\n",
       "Columns: [offset, roll, threshold_rounded, event_type, baserunner_count, top_of_inning, inning, event_type, batter_vibes, batter_martyrdom, batter_name, batter_multiplier, batter_mods, batting_team_mods, season, day, game_id, play_count]\n",
       "Index: []"
      ]
     },
     "execution_count": 11,
     "metadata": {},
     "output_type": "execute_result"
    }
   ],
   "source": [
    "table = outliers\n",
    "print(len(table))\n",
    "table[\n",
    "    [\n",
    "        \"offset\",\n",
    "        \"roll\",\n",
    "        \"threshold_rounded\",\n",
    "        \"event_type\",\n",
    "        \"baserunner_count\",\n",
    "        \"top_of_inning\",\n",
    "        \"inning\",\n",
    "        \"event_type\",\n",
    "        \"batter_vibes\",\n",
    "        # \"pitcher_vibes\",\n",
    "        # \"ballpark_viscosity\",\n",
    "        \"batter_martyrdom\",\n",
    "        \"batter_name\",\n",
    "        \"batter_multiplier\",\n",
    "        # \"pitcher_name\",\n",
    "        \"batter_mods\",\n",
    "        # \"pitcher_mods\",\n",
    "        \"batting_team_mods\",\n",
    "        # \"pitching_team_mods\",\n",
    "        \"season\",\n",
    "        \"day\",\n",
    "        \"game_id\",\n",
    "        \"play_count\",\n",
    "    ]\n",
    "].sort_values(\"offset\", ascending=False)\n",
    "# len(table)"
   ]
  },
  {
   "cell_type": "code",
   "execution_count": 14,
   "metadata": {
    "collapsed": false,
    "jupyter": {
     "outputs_hidden": false
    },
    "pycharm": {
     "name": "#%%\n"
    }
   },
   "outputs": [],
   "source": [
    "# list(df.columns)"
   ]
  },
  {
   "cell_type": "code",
   "execution_count": 13,
   "metadata": {
    "collapsed": false,
    "jupyter": {
     "outputs_hidden": false
    },
    "pycharm": {
     "name": "#%%\n"
    }
   },
   "outputs": [
    {
     "data": {
      "text/plain": [
       "0       0.079041\n",
       "2      -0.554354\n",
       "3       0.146833\n",
       "4       0.427135\n",
       "5       0.137559\n",
       "          ...   \n",
       "5508   -0.001093\n",
       "5509    0.636946\n",
       "5510   -0.651912\n",
       "5514    0.321222\n",
       "5515    0.929254\n",
       "Name: runner_on_first_vibes, Length: 3592, dtype: float64"
      ]
     },
     "execution_count": 13,
     "metadata": {},
     "output_type": "execute_result"
    }
   ],
   "source": [
    "dfc['runner_on_first_vibes']"
   ]
  },
  {
   "cell_type": "code",
   "execution_count": null,
   "metadata": {
    "collapsed": false,
    "jupyter": {
     "outputs_hidden": false
    },
    "pycharm": {
     "name": "#%%\n"
    }
   },
   "outputs": [],
   "source": []
  },
  {
   "cell_type": "code",
   "execution_count": null,
   "metadata": {},
   "outputs": [],
   "source": []
  }
 ],
 "metadata": {
  "kernelspec": {
   "display_name": "Python 3 (ipykernel)",
   "language": "python",
   "name": "python3"
  },
  "language_info": {
   "codemirror_mode": {
    "name": "ipython",
    "version": 3
   },
   "file_extension": ".py",
   "mimetype": "text/x-python",
   "name": "python",
   "nbconvert_exporter": "python",
   "pygments_lexer": "ipython3",
   "version": "3.9.12"
  }
 },
 "nbformat": 4,
 "nbformat_minor": 4
}
