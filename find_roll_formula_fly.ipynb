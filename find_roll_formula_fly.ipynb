{
 "cells": [
  {
   "cell_type": "code",
   "execution_count": 1,
   "metadata": {
    "collapsed": false,
    "jupyter": {
     "outputs_hidden": false
    },
    "pycharm": {
     "name": "#%%\n"
    }
   },
   "outputs": [
    {
     "data": {
      "text/plain": [
       "60209"
      ]
     },
     "execution_count": 1,
     "metadata": {},
     "output_type": "execute_result"
    }
   ],
   "source": [
    "import glob\n",
    "\n",
    "import pandas as pd\n",
    "import matplotlib.pyplot as plt\n",
    "import numpy as np\n",
    "from matplotlib.markers import CARETLEFTBASE, CARETRIGHTBASE\n",
    "\n",
    "all_files = glob.glob(\"roll_data/*-fly.csv\")\n",
    "\n",
    "df = pd.concat((pd.read_csv(f) for f in all_files), ignore_index=True)\n",
    "\n",
    "season = 14\n",
    "# df = df[df['season'] == season]\n",
    "len(df)"
   ]
  },
  {
   "cell_type": "code",
   "execution_count": 2,
   "metadata": {
    "collapsed": false,
    "jupyter": {
     "outputs_hidden": false
    },
    "pycharm": {
     "name": "#%%\n"
    }
   },
   "outputs": [
    {
     "name": "stderr",
     "output_type": "stream",
     "text": [
      "/var/folders/g5/scl2096539l75kwsbhhq4pth0000gn/T/ipykernel_82301/2014679354.py:9: PerformanceWarning: DataFrame is highly fragmented.  This is usually the result of calling `frame.insert` many times, which has poor performance.  Consider joining all columns at once using pd.concat(axis=1) instead. To get a de-fragmented frame, use `newframe = frame.copy()`\n",
      "  df[attr+'_with_vibe'] = df[attr] * (1 + 0.2 * df['pitcher_vibes'])\n",
      "/var/folders/g5/scl2096539l75kwsbhhq4pth0000gn/T/ipykernel_82301/2014679354.py:9: PerformanceWarning: DataFrame is highly fragmented.  This is usually the result of calling `frame.insert` many times, which has poor performance.  Consider joining all columns at once using pd.concat(axis=1) instead. To get a de-fragmented frame, use `newframe = frame.copy()`\n",
      "  df[attr+'_with_vibe'] = df[attr] * (1 + 0.2 * df['pitcher_vibes'])\n",
      "/var/folders/g5/scl2096539l75kwsbhhq4pth0000gn/T/ipykernel_82301/2014679354.py:9: PerformanceWarning: DataFrame is highly fragmented.  This is usually the result of calling `frame.insert` many times, which has poor performance.  Consider joining all columns at once using pd.concat(axis=1) instead. To get a de-fragmented frame, use `newframe = frame.copy()`\n",
      "  df[attr+'_with_vibe'] = df[attr] * (1 + 0.2 * df['pitcher_vibes'])\n",
      "/var/folders/g5/scl2096539l75kwsbhhq4pth0000gn/T/ipykernel_82301/2014679354.py:9: PerformanceWarning: DataFrame is highly fragmented.  This is usually the result of calling `frame.insert` many times, which has poor performance.  Consider joining all columns at once using pd.concat(axis=1) instead. To get a de-fragmented frame, use `newframe = frame.copy()`\n",
      "  df[attr+'_with_vibe'] = df[attr] * (1 + 0.2 * df['pitcher_vibes'])\n",
      "/var/folders/g5/scl2096539l75kwsbhhq4pth0000gn/T/ipykernel_82301/2014679354.py:9: PerformanceWarning: DataFrame is highly fragmented.  This is usually the result of calling `frame.insert` many times, which has poor performance.  Consider joining all columns at once using pd.concat(axis=1) instead. To get a de-fragmented frame, use `newframe = frame.copy()`\n",
      "  df[attr+'_with_vibe'] = df[attr] * (1 + 0.2 * df['pitcher_vibes'])\n",
      "/var/folders/g5/scl2096539l75kwsbhhq4pth0000gn/T/ipykernel_82301/2014679354.py:9: PerformanceWarning: DataFrame is highly fragmented.  This is usually the result of calling `frame.insert` many times, which has poor performance.  Consider joining all columns at once using pd.concat(axis=1) instead. To get a de-fragmented frame, use `newframe = frame.copy()`\n",
      "  df[attr+'_with_vibe'] = df[attr] * (1 + 0.2 * df['pitcher_vibes'])\n",
      "/var/folders/g5/scl2096539l75kwsbhhq4pth0000gn/T/ipykernel_82301/2014679354.py:9: PerformanceWarning: DataFrame is highly fragmented.  This is usually the result of calling `frame.insert` many times, which has poor performance.  Consider joining all columns at once using pd.concat(axis=1) instead. To get a de-fragmented frame, use `newframe = frame.copy()`\n",
      "  df[attr+'_with_vibe'] = df[attr] * (1 + 0.2 * df['pitcher_vibes'])\n",
      "/var/folders/g5/scl2096539l75kwsbhhq4pth0000gn/T/ipykernel_82301/2014679354.py:9: PerformanceWarning: DataFrame is highly fragmented.  This is usually the result of calling `frame.insert` many times, which has poor performance.  Consider joining all columns at once using pd.concat(axis=1) instead. To get a de-fragmented frame, use `newframe = frame.copy()`\n",
      "  df[attr+'_with_vibe'] = df[attr] * (1 + 0.2 * df['pitcher_vibes'])\n",
      "/var/folders/g5/scl2096539l75kwsbhhq4pth0000gn/T/ipykernel_82301/2014679354.py:9: PerformanceWarning: DataFrame is highly fragmented.  This is usually the result of calling `frame.insert` many times, which has poor performance.  Consider joining all columns at once using pd.concat(axis=1) instead. To get a de-fragmented frame, use `newframe = frame.copy()`\n",
      "  df[attr+'_with_vibe'] = df[attr] * (1 + 0.2 * df['pitcher_vibes'])\n",
      "/var/folders/g5/scl2096539l75kwsbhhq4pth0000gn/T/ipykernel_82301/2014679354.py:9: PerformanceWarning: DataFrame is highly fragmented.  This is usually the result of calling `frame.insert` many times, which has poor performance.  Consider joining all columns at once using pd.concat(axis=1) instead. To get a de-fragmented frame, use `newframe = frame.copy()`\n",
      "  df[attr+'_with_vibe'] = df[attr] * (1 + 0.2 * df['pitcher_vibes'])\n",
      "/var/folders/g5/scl2096539l75kwsbhhq4pth0000gn/T/ipykernel_82301/2014679354.py:9: PerformanceWarning: DataFrame is highly fragmented.  This is usually the result of calling `frame.insert` many times, which has poor performance.  Consider joining all columns at once using pd.concat(axis=1) instead. To get a de-fragmented frame, use `newframe = frame.copy()`\n",
      "  df[attr+'_with_vibe'] = df[attr] * (1 + 0.2 * df['pitcher_vibes'])\n",
      "/var/folders/g5/scl2096539l75kwsbhhq4pth0000gn/T/ipykernel_82301/2014679354.py:9: PerformanceWarning: DataFrame is highly fragmented.  This is usually the result of calling `frame.insert` many times, which has poor performance.  Consider joining all columns at once using pd.concat(axis=1) instead. To get a de-fragmented frame, use `newframe = frame.copy()`\n",
      "  df[attr+'_with_vibe'] = df[attr] * (1 + 0.2 * df['pitcher_vibes'])\n",
      "/var/folders/g5/scl2096539l75kwsbhhq4pth0000gn/T/ipykernel_82301/2014679354.py:10: PerformanceWarning: DataFrame is highly fragmented.  This is usually the result of calling `frame.insert` many times, which has poor performance.  Consider joining all columns at once using pd.concat(axis=1) instead. To get a de-fragmented frame, use `newframe = frame.copy()`\n",
      "  df['batter_suppression_with_pitcher_vibe'] = df['batter_suppression'] * (1 + 0.2 * df['pitcher_vibes'])\n",
      "/var/folders/g5/scl2096539l75kwsbhhq4pth0000gn/T/ipykernel_82301/2014679354.py:13: PerformanceWarning: DataFrame is highly fragmented.  This is usually the result of calling `frame.insert` many times, which has poor performance.  Consider joining all columns at once using pd.concat(axis=1) instead. To get a de-fragmented frame, use `newframe = frame.copy()`\n",
      "  df[attr + '_times_vibe'] = df[attr] * df['fielder_vibes']\n",
      "/var/folders/g5/scl2096539l75kwsbhhq4pth0000gn/T/ipykernel_82301/2014679354.py:14: PerformanceWarning: DataFrame is highly fragmented.  This is usually the result of calling `frame.insert` many times, which has poor performance.  Consider joining all columns at once using pd.concat(axis=1) instead. To get a de-fragmented frame, use `newframe = frame.copy()`\n",
      "  df[attr+'_with_vibe'] = df[attr] * (1 + 0.2 * df['fielder_vibes'])\n",
      "/var/folders/g5/scl2096539l75kwsbhhq4pth0000gn/T/ipykernel_82301/2014679354.py:13: PerformanceWarning: DataFrame is highly fragmented.  This is usually the result of calling `frame.insert` many times, which has poor performance.  Consider joining all columns at once using pd.concat(axis=1) instead. To get a de-fragmented frame, use `newframe = frame.copy()`\n",
      "  df[attr + '_times_vibe'] = df[attr] * df['fielder_vibes']\n",
      "/var/folders/g5/scl2096539l75kwsbhhq4pth0000gn/T/ipykernel_82301/2014679354.py:14: PerformanceWarning: DataFrame is highly fragmented.  This is usually the result of calling `frame.insert` many times, which has poor performance.  Consider joining all columns at once using pd.concat(axis=1) instead. To get a de-fragmented frame, use `newframe = frame.copy()`\n",
      "  df[attr+'_with_vibe'] = df[attr] * (1 + 0.2 * df['fielder_vibes'])\n",
      "/var/folders/g5/scl2096539l75kwsbhhq4pth0000gn/T/ipykernel_82301/2014679354.py:13: PerformanceWarning: DataFrame is highly fragmented.  This is usually the result of calling `frame.insert` many times, which has poor performance.  Consider joining all columns at once using pd.concat(axis=1) instead. To get a de-fragmented frame, use `newframe = frame.copy()`\n",
      "  df[attr + '_times_vibe'] = df[attr] * df['fielder_vibes']\n",
      "/var/folders/g5/scl2096539l75kwsbhhq4pth0000gn/T/ipykernel_82301/2014679354.py:14: PerformanceWarning: DataFrame is highly fragmented.  This is usually the result of calling `frame.insert` many times, which has poor performance.  Consider joining all columns at once using pd.concat(axis=1) instead. To get a de-fragmented frame, use `newframe = frame.copy()`\n",
      "  df[attr+'_with_vibe'] = df[attr] * (1 + 0.2 * df['fielder_vibes'])\n",
      "/var/folders/g5/scl2096539l75kwsbhhq4pth0000gn/T/ipykernel_82301/2014679354.py:13: PerformanceWarning: DataFrame is highly fragmented.  This is usually the result of calling `frame.insert` many times, which has poor performance.  Consider joining all columns at once using pd.concat(axis=1) instead. To get a de-fragmented frame, use `newframe = frame.copy()`\n",
      "  df[attr + '_times_vibe'] = df[attr] * df['fielder_vibes']\n",
      "/var/folders/g5/scl2096539l75kwsbhhq4pth0000gn/T/ipykernel_82301/2014679354.py:14: PerformanceWarning: DataFrame is highly fragmented.  This is usually the result of calling `frame.insert` many times, which has poor performance.  Consider joining all columns at once using pd.concat(axis=1) instead. To get a de-fragmented frame, use `newframe = frame.copy()`\n",
      "  df[attr+'_with_vibe'] = df[attr] * (1 + 0.2 * df['fielder_vibes'])\n",
      "/var/folders/g5/scl2096539l75kwsbhhq4pth0000gn/T/ipykernel_82301/2014679354.py:13: PerformanceWarning: DataFrame is highly fragmented.  This is usually the result of calling `frame.insert` many times, which has poor performance.  Consider joining all columns at once using pd.concat(axis=1) instead. To get a de-fragmented frame, use `newframe = frame.copy()`\n",
      "  df[attr + '_times_vibe'] = df[attr] * df['fielder_vibes']\n",
      "/var/folders/g5/scl2096539l75kwsbhhq4pth0000gn/T/ipykernel_82301/2014679354.py:14: PerformanceWarning: DataFrame is highly fragmented.  This is usually the result of calling `frame.insert` many times, which has poor performance.  Consider joining all columns at once using pd.concat(axis=1) instead. To get a de-fragmented frame, use `newframe = frame.copy()`\n",
      "  df[attr+'_with_vibe'] = df[attr] * (1 + 0.2 * df['fielder_vibes'])\n"
     ]
    }
   ],
   "source": [
    "df.loc[df[\"pitcher_mods\"].astype(str).str.contains(\"SCATTERED\"),\"pitcher_vibes\"] = 0\n",
    "df.loc[df[\"batter_mods\"].astype(str).str.contains(\"SCATTERED\"),\"batter_vibes\"] = 0\n",
    "\n",
    "for attr in ['batter_buoyancy', 'batter_divinity', 'batter_martyrdom', 'batter_moxie', 'batter_musclitude', 'batter_patheticism', 'batter_thwackability', 'batter_tragicness', 'batter_coldness', 'batter_overpowerment', 'batter_ruthlessness', 'batter_shakespearianism', 'batter_suppression', 'batter_unthwackability', 'batter_base_thirst', 'batter_continuation', 'batter_ground_friction', 'batter_indulgence', 'batter_laserlikeness', 'batter_anticapitalism', 'batter_chasiness', 'batter_omniscience', 'batter_tenaciousness', 'batter_watchfulness', 'batter_pressurization', 'batter_cinnamon']:\n",
    "    df[attr] = df[attr] * df['batter_multiplier']\n",
    "    df[attr+'_with_vibe'] = df[attr] * (1 + 0.2 * df['batter_vibes'])\n",
    "for attr in ['pitcher_buoyancy', 'pitcher_divinity', 'pitcher_martyrdom', 'pitcher_moxie', 'pitcher_musclitude', 'pitcher_patheticism', 'pitcher_thwackability', 'pitcher_tragicness', 'pitcher_ruthlessness', 'pitcher_overpowerment', 'pitcher_unthwackability', 'pitcher_shakespearianism', 'pitcher_suppression', 'pitcher_coldness', 'pitcher_base_thirst', 'pitcher_continuation', 'pitcher_ground_friction', 'pitcher_indulgence', 'pitcher_laserlikeness', 'pitcher_anticapitalism', 'pitcher_chasiness', 'pitcher_omniscience', 'pitcher_tenaciousness', 'pitcher_watchfulness', 'pitcher_pressurization', 'pitcher_cinnamon']:\n",
    "    df[attr] = df[attr] * df['pitcher_multiplier']\n",
    "    df[attr+'_with_vibe'] = df[attr] * (1 + 0.2 * df['pitcher_vibes'])\n",
    "df['batter_suppression_with_pitcher_vibe'] = df['batter_suppression'] * (1 + 0.2 * df['pitcher_vibes'])\n",
    "\n",
    "for attr in ['fielder_anticapitalism', 'fielder_chasiness', 'fielder_omniscience', 'fielder_tenaciousness', 'fielder_watchfulness']:\n",
    "    df[attr + '_times_vibe'] = df[attr] * df['fielder_vibes']\n",
    "    df[attr+'_with_vibe'] = df[attr] * (1 + 0.2 * df['fielder_vibes'])\n"
   ]
  },
  {
   "cell_type": "code",
   "execution_count": 3,
   "metadata": {
    "collapsed": false,
    "jupyter": {
     "outputs_hidden": false
    },
    "pycharm": {
     "name": "#%%\n"
    }
   },
   "outputs": [
    {
     "data": {
      "text/plain": [
       "38176"
      ]
     },
     "execution_count": 3,
     "metadata": {},
     "output_type": "execute_result"
    }
   ],
   "source": [
    "dfc = df.copy()\n",
    "# for exclude_mod in [\"OVERPERFORMING\", \"UNDERPERFORMING\", \"HIGH_PRESSURE\", \"GROWTH\", \"SINKING_SHIP\", \"TRAVELING\"]:\n",
    "for exclude_mod in [\"FLINCH\", \"O_NO\", \"ON_FIRE\", \"GROWTH\", \"TRAVELING\"]:\n",
    " dfc = dfc[~dfc[\"batter_mods\"].astype(str).str.contains(exclude_mod)]\n",
    " dfc = dfc[~dfc[\"pitcher_mods\"].astype(str).str.contains(exclude_mod)]\n",
    " dfc = dfc[~dfc[\"pitching_team_mods\"].astype(str).str.contains(exclude_mod)]\n",
    " dfc = dfc[~dfc[\"batting_team_mods\"].astype(str).str.contains(exclude_mod)]\n",
    "\n",
    "# dfc = dfc[dfc['roll'] < 0.7]\n",
    "# dfc = dfc[dfc['roll'] > 0.2]\n",
    "dfc = dfc[(dfc['pitcher_multiplier'] == 1) & (dfc['batter_multiplier'] == 1)]\n",
    "# dfc = dfc[(dfc['pitcher_vibes'].abs() < 0.2) & (dfc['batter_vibes'].abs() < 0.2)]\n",
    "# for limit_attr in ['batter_patheticism', 'batter_thwackability', 'batter_divinity', 'batter_musclitude', 'pitcher_ruthlessness']:\n",
    "#     dfc = dfc[(dfc[limit_attr] > 0.1) & (dfc[limit_attr] < 0.9)]\n",
    "# dfc = dfc[dfc['batter_thwackability'] + dfc['batter_musclitude'] + dfc['batter_divinity'] > dfc['batter_patheticism']]\n",
    "\n",
    "len(dfc)"
   ]
  },
  {
   "cell_type": "code",
   "execution_count": 4,
   "metadata": {
    "collapsed": false,
    "jupyter": {
     "outputs_hidden": false
    },
    "pycharm": {
     "name": "#%%\n"
    }
   },
   "outputs": [],
   "source": [
    "# dfc.corr()['offset'].sort_values()"
   ]
  },
  {
   "cell_type": "code",
   "execution_count": 5,
   "metadata": {
    "collapsed": false,
    "jupyter": {
     "outputs_hidden": false
    },
    "pycharm": {
     "name": "#%%\n"
    }
   },
   "outputs": [],
   "source": [
    "X = dfc[['roll', 'passed',\n",
    " 'batter_buoyancy_with_vibe',\n",
    "'batter_suppression_with_vibe',\n",
    " # 'batter_suppression_with_pitcher_vibe',\n",
    "# 'batter_tragicness_with_vibe',\n",
    "# 'pitcher_watchfulness_with_vibe',\n",
    "]]\n",
    "# X = X[X['roll'] < 0.85]\n",
    "\n",
    "# X = dfc[['roll', 'pitcher_ruthlessness', 'ballpark_forwardness']]\n",
    "# X = dfc[['roll', 'pitcher_ruthlessness']]\n",
    "y = X['passed']\n",
    "X = X.drop('passed', axis=1)"
   ]
  },
  {
   "cell_type": "code",
   "execution_count": 6,
   "metadata": {
    "collapsed": false,
    "jupyter": {
     "outputs_hidden": false
    },
    "pycharm": {
     "name": "#%%\n"
    }
   },
   "outputs": [
    {
     "name": "stdout",
     "output_type": "stream",
     "text": [
      "[[26811   375]\n",
      " [   84 10906]]\n",
      "              precision    recall  f1-score   support\n",
      "\n",
      "       False       1.00      0.99      0.99     27186\n",
      "        True       0.97      0.99      0.98     10990\n",
      "\n",
      "    accuracy                           0.99     38176\n",
      "   macro avg       0.98      0.99      0.99     38176\n",
      "weighted avg       0.99      0.99      0.99     38176\n",
      "\n",
      "0.9879767393126572\n"
     ]
    }
   ],
   "source": [
    "from sklearn.preprocessing import StandardScaler\n",
    "from sklearn.metrics import confusion_matrix\n",
    "from sklearn.metrics import classification_report\n",
    "from sklearn import svm, linear_model\n",
    "\n",
    "# # trainedsvm = svm.SVC(kernel='linear').fit(X, y)\n",
    "# trainedsvm = svm.LinearSVC(dual=False, max_iter=100000).fit(X, y)\n",
    "# predictionsvm = trainedsvm.predict(X)\n",
    "# print(confusion_matrix(y,predictionsvm))\n",
    "# print(classification_report(y,predictionsvm))\n",
    "\n",
    "sc = StandardScaler()\n",
    "X2 = sc.fit_transform(X)\n",
    "\n",
    "trainedsvm = svm.LinearSVC(intercept_scaling=100, dual=False, max_iter=100000, C=1000, class_weight='balanced').fit(X2, y)\n",
    "predictionsvm = trainedsvm.predict(X2)\n",
    "print(confusion_matrix(y,predictionsvm))\n",
    "print(classification_report(y,predictionsvm))\n",
    "print(trainedsvm.score(X2, y))"
   ]
  },
  {
   "cell_type": "code",
   "execution_count": 7,
   "metadata": {
    "collapsed": false,
    "jupyter": {
     "outputs_hidden": false
    },
    "pycharm": {
     "name": "#%%\n"
    }
   },
   "outputs": [
    {
     "name": "stdout",
     "output_type": "stream",
     "text": [
      "[-0.19560794]\n"
     ]
    },
    {
     "data": {
      "text/plain": [
       "[(1.0, 'roll'),\n",
       " (-0.2916684741351475, 'batter_buoyancy_with_vibe'),\n",
       " (0.1632456592462056, 'batter_suppression_with_vibe')]"
      ]
     },
     "execution_count": 7,
     "metadata": {},
     "output_type": "execute_result"
    }
   ],
   "source": [
    "coef = np.true_divide(trainedsvm.coef_, sc.scale_)\n",
    "coef_scaled = coef / coef[0, 0]\n",
    "coef_list = coef_scaled.tolist()[0]\n",
    "\n",
    "intercept = trainedsvm.intercept_ - np.dot(coef, sc.mean_)\n",
    "intercept_scaled = intercept / coef[0, 0]\n",
    "print(intercept_scaled)\n",
    "sorted(zip(coef_list, X.columns), key=lambda x: abs(x[0]), reverse=True)"
   ]
  },
  {
   "cell_type": "code",
   "execution_count": 8,
   "metadata": {
    "collapsed": false,
    "jupyter": {
     "outputs_hidden": false
    },
    "pycharm": {
     "name": "#%%\n"
    }
   },
   "outputs": [
    {
     "name": "stdout",
     "output_type": "stream",
     "text": [
      "[0.19560794]\n",
      "(0.2916684741351475, 'batter_buoyancy_with_vibe')\n",
      "(-0.1632456592462056, 'batter_suppression_with_vibe')\n"
     ]
    },
    {
     "data": {
      "text/plain": [
       "<matplotlib.legend.Legend at 0x7ff1921ac190>"
      ]
     },
     "execution_count": 8,
     "metadata": {},
     "output_type": "execute_result"
    },
    {
     "data": {
      "image/png": "[encoded data removed]",
      "text/plain": [
       "<Figure size 720x432 with 1 Axes>"
      ]
     },
     "metadata": {
      "needs_background": "light"
     },
     "output_type": "display_data"
    }
   ],
   "source": [
    "dfc['threshold_rounded'] = 0.18-(\n",
    "     -0.3 * dfc['batter_buoyancy']\n",
    "     +0.16 * dfc['batter_suppression']\n",
    "     +0.1 * (dfc['ballpark_ominousness'] - 0.5)\n",
    ")\n",
    "\n",
    "dfc['threshold'] = -intercept_scaled[0]\n",
    "print(-intercept_scaled)\n",
    "for pair in zip(-np.array(coef_list), X.columns):\n",
    "    if pair[1] != \"roll\":\n",
    "        print(pair)\n",
    "        dfc['threshold'] += pair[0] * dfc[pair[1]]\n",
    "\n",
    "# x_val = \"day\"\n",
    "x_val = \"threshold_rounded\"\n",
    "fig, ax = plt.subplots(1, figsize=(10, 6))\n",
    "ax.scatter(dfc[~dfc['passed']][x_val], dfc[~dfc['passed']][\"roll\"], color=\"red\",\n",
    "           label=\"Ground out\", marker=CARETRIGHTBASE)\n",
    "ax.scatter(dfc[dfc['passed']][x_val], dfc[dfc['passed']][\"roll\"], color=\"blue\",\n",
    "           label=\"Flyout\", marker=CARETLEFTBASE)\n",
    "ax.set_xlabel(x_val)\n",
    "ax.set_ylabel('roll')\n",
    "ax.set_title(\"Fly\")\n",
    "# ax.set_xlim(0.484, 0.499)\n",
    "\n",
    "ax.plot(ax.get_xlim(), ax.get_xlim(), 'k')\n",
    "\n",
    "ax.legend()"
   ]
  },
  {
   "cell_type": "code",
   "execution_count": 9,
   "metadata": {
    "collapsed": false,
    "jupyter": {
     "outputs_hidden": false
    },
    "pycharm": {
     "name": "#%%\n"
    }
   },
   "outputs": [
    {
     "name": "stdout",
     "output_type": "stream",
     "text": [
      "0\n"
     ]
    },
    {
     "data": {
      "text/html": [
       "<div>\n",
       "<style scoped>\n",
       "    .dataframe tbody tr th:only-of-type {\n",
       "        vertical-align: middle;\n",
       "    }\n",
       "\n",
       "    .dataframe tbody tr th {\n",
       "        vertical-align: top;\n",
       "    }\n",
       "\n",
       "    .dataframe thead th {\n",
       "        text-align: right;\n",
       "    }\n",
       "</style>\n",
       "<table border=\"1\" class=\"dataframe\">\n",
       "  <thead>\n",
       "    <tr style=\"text-align: right;\">\n",
       "      <th></th>\n",
       "      <th>offset</th>\n",
       "      <th>roll</th>\n",
       "      <th>threshold</th>\n",
       "      <th>event_type</th>\n",
       "      <th>top_of_inning</th>\n",
       "      <th>inning</th>\n",
       "      <th>event_type</th>\n",
       "      <th>batter_vibes</th>\n",
       "      <th>pitcher_vibes</th>\n",
       "      <th>ballpark_viscosity</th>\n",
       "      <th>batter_musclitude</th>\n",
       "      <th>batter_name</th>\n",
       "      <th>pitcher_name</th>\n",
       "      <th>batter_mods</th>\n",
       "      <th>pitcher_mods</th>\n",
       "      <th>batting_team_mods</th>\n",
       "      <th>pitching_team_mods</th>\n",
       "      <th>day</th>\n",
       "      <th>game_id</th>\n",
       "      <th>play_count</th>\n",
       "    </tr>\n",
       "  </thead>\n",
       "  <tbody>\n",
       "  </tbody>\n",
       "</table>\n",
       "</div>"
      ],
      "text/plain": [
       "Empty DataFrame\n",
       "Columns: [offset, roll, threshold, event_type, top_of_inning, inning, event_type, batter_vibes, pitcher_vibes, ballpark_viscosity, batter_musclitude, batter_name, pitcher_name, batter_mods, pitcher_mods, batting_team_mods, pitching_team_mods, day, game_id, play_count]\n",
       "Index: []"
      ]
     },
     "execution_count": 9,
     "metadata": {},
     "output_type": "execute_result"
    },
    {
     "data": {
      "image/png": "[encoded data removed]",
      "text/plain": [
       "<Figure size 432x288 with 1 Axes>"
      ]
     },
     "metadata": {
      "needs_background": "light"
     },
     "output_type": "display_data"
    }
   ],
   "source": [
    "dfc[\"offset\"] = dfc[\"roll\"] - dfc[\"threshold_rounded\"]\n",
    "outliers = dfc[(dfc[\"passed\"] & (dfc[\"offset\"] >= 0)) | (~dfc[\"passed\"] & (dfc[\"offset\"] <= 0))]\n",
    "\n",
    "fig, ax = plt.subplots(1)\n",
    "x_val = \"ballpark_ominousness\"\n",
    "ax.scatter(outliers[~outliers['passed']][x_val], outliers[~outliers['passed']][\"offset\"], color=\"red\", label=\"No Swing\")\n",
    "ax.scatter(outliers[outliers['passed']][x_val], outliers[outliers['passed']][\"offset\"], color=\"blue\", label=\"Swing\")\n",
    "ax.set_xlabel(x_val)\n",
    "ax.set_ylabel('offset')\n",
    "ax.legend()\n",
    "\n",
    "table = outliers\n",
    "print(len(table))\n",
    "table[[\"offset\", \"roll\", \"threshold\", \"event_type\", \"top_of_inning\", \"inning\",\n",
    "       \"event_type\", \"batter_vibes\", \"pitcher_vibes\",\n",
    "       \"ballpark_viscosity\", \"batter_musclitude\",\n",
    "       \"batter_name\", \"pitcher_name\", \"batter_mods\", \"pitcher_mods\",\n",
    "       \"batting_team_mods\", \"pitching_team_mods\", \"day\",  \"game_id\", \"play_count\"]].sort_values('offset', ascending=False)\n",
    "# len(table)"
   ]
  },
  {
   "cell_type": "code",
   "execution_count": 10,
   "metadata": {
    "collapsed": false,
    "jupyter": {
     "outputs_hidden": false
    },
    "pycharm": {
     "name": "#%%\n"
    }
   },
   "outputs": [
    {
     "data": {
      "text/plain": [
       "['Unnamed: 0',\n",
       " 'event_type',\n",
       " 'roll',\n",
       " 'passed',\n",
       " 'batter_buoyancy',\n",
       " 'batter_divinity',\n",
       " 'batter_martyrdom',\n",
       " 'batter_moxie',\n",
       " 'batter_musclitude',\n",
       " 'batter_patheticism',\n",
       " 'batter_thwackability',\n",
       " 'batter_tragicness',\n",
       " 'batter_coldness',\n",
       " 'batter_overpowerment',\n",
       " 'batter_ruthlessness',\n",
       " 'batter_shakespearianism',\n",
       " 'batter_suppression',\n",
       " 'batter_unthwackability',\n",
       " 'batter_base_thirst',\n",
       " 'batter_continuation',\n",
       " 'batter_ground_friction',\n",
       " 'batter_indulgence',\n",
       " 'batter_laserlikeness',\n",
       " 'batter_anticapitalism',\n",
       " 'batter_chasiness',\n",
       " 'batter_omniscience',\n",
       " 'batter_tenaciousness',\n",
       " 'batter_watchfulness',\n",
       " 'batter_pressurization',\n",
       " 'batter_cinnamon',\n",
       " 'batter_multiplier',\n",
       " 'pitcher_buoyancy',\n",
       " 'pitcher_divinity',\n",
       " 'pitcher_martyrdom',\n",
       " 'pitcher_moxie',\n",
       " 'pitcher_musclitude',\n",
       " 'pitcher_patheticism',\n",
       " 'pitcher_thwackability',\n",
       " 'pitcher_tragicness',\n",
       " 'pitcher_ruthlessness',\n",
       " 'pitcher_overpowerment',\n",
       " 'pitcher_unthwackability',\n",
       " 'pitcher_shakespearianism',\n",
       " 'pitcher_suppression',\n",
       " 'pitcher_coldness',\n",
       " 'pitcher_base_thirst',\n",
       " 'pitcher_continuation',\n",
       " 'pitcher_ground_friction',\n",
       " 'pitcher_indulgence',\n",
       " 'pitcher_laserlikeness',\n",
       " 'pitcher_anticapitalism',\n",
       " 'pitcher_chasiness',\n",
       " 'pitcher_omniscience',\n",
       " 'pitcher_tenaciousness',\n",
       " 'pitcher_watchfulness',\n",
       " 'pitcher_pressurization',\n",
       " 'pitcher_cinnamon',\n",
       " 'pitcher_multiplier',\n",
       " 'fielder_anticapitalism',\n",
       " 'fielder_chasiness',\n",
       " 'fielder_omniscience',\n",
       " 'fielder_tenaciousness',\n",
       " 'fielder_watchfulness',\n",
       " 'ballpark_grandiosity',\n",
       " 'ballpark_fortification',\n",
       " 'ballpark_obtuseness',\n",
       " 'ballpark_ominousness',\n",
       " 'ballpark_inconvenience',\n",
       " 'ballpark_viscosity',\n",
       " 'ballpark_forwardness',\n",
       " 'ballpark_mysticism',\n",
       " 'ballpark_elongation',\n",
       " 'ballpark_filthiness',\n",
       " 'what1',\n",
       " 'what2',\n",
       " 'batting_team_hype',\n",
       " 'pitching_team_hype',\n",
       " 'batter_name',\n",
       " 'pitcher_name',\n",
       " 'fielder_name',\n",
       " 'batter_vibes',\n",
       " 'batter_vibes_multiplied',\n",
       " 'pitcher_vibes',\n",
       " 'pitcher_vibes_multiplied',\n",
       " 'fielder_vibes',\n",
       " 'batter_mods',\n",
       " 'batting_team_mods',\n",
       " 'pitcher_mods',\n",
       " 'pitching_team_mods',\n",
       " 'fielder_mods',\n",
       " 'game_id',\n",
       " 'stadium_id',\n",
       " 'play_count',\n",
       " 'weather',\n",
       " 'ball_count',\n",
       " 'strike_count',\n",
       " 'season',\n",
       " 'day',\n",
       " 'top_of_inning',\n",
       " 'home_score',\n",
       " 'away_score',\n",
       " 'inning',\n",
       " 'batting_team_roster_size',\n",
       " 'pitching_team_roster_size',\n",
       " 'baserunner_count',\n",
       " 'is_strike',\n",
       " 'strike_roll',\n",
       " 'strike_threshold',\n",
       " 'fielder_roll',\n",
       " 'batter_buoyancy_with_vibe',\n",
       " 'batter_divinity_with_vibe',\n",
       " 'batter_martyrdom_with_vibe',\n",
       " 'batter_moxie_with_vibe',\n",
       " 'batter_musclitude_with_vibe',\n",
       " 'batter_patheticism_with_vibe',\n",
       " 'batter_thwackability_with_vibe',\n",
       " 'batter_tragicness_with_vibe',\n",
       " 'batter_coldness_with_vibe',\n",
       " 'batter_overpowerment_with_vibe',\n",
       " 'batter_ruthlessness_with_vibe',\n",
       " 'batter_shakespearianism_with_vibe',\n",
       " 'batter_suppression_with_vibe',\n",
       " 'batter_unthwackability_with_vibe',\n",
       " 'batter_base_thirst_with_vibe',\n",
       " 'batter_continuation_with_vibe',\n",
       " 'batter_ground_friction_with_vibe',\n",
       " 'batter_indulgence_with_vibe',\n",
       " 'batter_laserlikeness_with_vibe',\n",
       " 'batter_anticapitalism_with_vibe',\n",
       " 'batter_chasiness_with_vibe',\n",
       " 'batter_omniscience_with_vibe',\n",
       " 'batter_tenaciousness_with_vibe',\n",
       " 'batter_watchfulness_with_vibe',\n",
       " 'batter_pressurization_with_vibe',\n",
       " 'batter_cinnamon_with_vibe',\n",
       " 'pitcher_buoyancy_with_vibe',\n",
       " 'pitcher_divinity_with_vibe',\n",
       " 'pitcher_martyrdom_with_vibe',\n",
       " 'pitcher_moxie_with_vibe',\n",
       " 'pitcher_musclitude_with_vibe',\n",
       " 'pitcher_patheticism_with_vibe',\n",
       " 'pitcher_thwackability_with_vibe',\n",
       " 'pitcher_tragicness_with_vibe',\n",
       " 'pitcher_ruthlessness_with_vibe',\n",
       " 'pitcher_overpowerment_with_vibe',\n",
       " 'pitcher_unthwackability_with_vibe',\n",
       " 'pitcher_shakespearianism_with_vibe',\n",
       " 'pitcher_suppression_with_vibe',\n",
       " 'pitcher_coldness_with_vibe',\n",
       " 'pitcher_base_thirst_with_vibe',\n",
       " 'pitcher_continuation_with_vibe',\n",
       " 'pitcher_ground_friction_with_vibe',\n",
       " 'pitcher_indulgence_with_vibe',\n",
       " 'pitcher_laserlikeness_with_vibe',\n",
       " 'pitcher_anticapitalism_with_vibe',\n",
       " 'pitcher_chasiness_with_vibe',\n",
       " 'pitcher_omniscience_with_vibe',\n",
       " 'pitcher_tenaciousness_with_vibe',\n",
       " 'pitcher_watchfulness_with_vibe',\n",
       " 'pitcher_pressurization_with_vibe',\n",
       " 'pitcher_cinnamon_with_vibe',\n",
       " 'batter_suppression_with_pitcher_vibe',\n",
       " 'fielder_anticapitalism_times_vibe',\n",
       " 'fielder_anticapitalism_with_vibe',\n",
       " 'fielder_chasiness_times_vibe',\n",
       " 'fielder_chasiness_with_vibe',\n",
       " 'fielder_omniscience_times_vibe',\n",
       " 'fielder_omniscience_with_vibe',\n",
       " 'fielder_tenaciousness_times_vibe',\n",
       " 'fielder_tenaciousness_with_vibe',\n",
       " 'fielder_watchfulness_times_vibe',\n",
       " 'fielder_watchfulness_with_vibe']"
      ]
     },
     "execution_count": 10,
     "metadata": {},
     "output_type": "execute_result"
    }
   ],
   "source": [
    "list(df.columns)"
   ]
  },
  {
   "cell_type": "code",
   "execution_count": null,
   "metadata": {
    "collapsed": false,
    "jupyter": {
     "outputs_hidden": false
    },
    "pycharm": {
     "name": "#%%\n"
    }
   },
   "outputs": [],
   "source": []
  },
  {
   "cell_type": "code",
   "execution_count": null,
   "metadata": {
    "collapsed": false,
    "jupyter": {
     "outputs_hidden": false
    },
    "pycharm": {
     "name": "#%%\n"
    }
   },
   "outputs": [],
   "source": []
  },
  {
   "cell_type": "code",
   "execution_count": null,
   "metadata": {
    "collapsed": false,
    "jupyter": {
     "outputs_hidden": false
    },
    "pycharm": {
     "name": "#%%\n"
    }
   },
   "outputs": [],
   "source": []
  }
 ],
 "metadata": {
  "kernelspec": {
   "display_name": "Python 3 (ipykernel)",
   "language": "python",
   "name": "python3"
  },
  "language_info": {
   "codemirror_mode": {
    "name": "ipython",
    "version": 3
   },
   "file_extension": ".py",
   "mimetype": "text/x-python",
   "name": "python",
   "nbconvert_exporter": "python",
   "pygments_lexer": "ipython3",
   "version": "3.9.12"
  }
 },
 "nbformat": 4,
 "nbformat_minor": 4
}
