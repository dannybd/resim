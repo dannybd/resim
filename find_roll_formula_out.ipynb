{
 "cells": [
  {
   "cell_type": "code",
   "execution_count": 1,
   "metadata": {
    "collapsed": false,
    "jupyter": {
     "outputs_hidden": false
    },
    "pycharm": {
     "name": "#%%\n"
    }
   },
   "outputs": [
    {
     "data": {
      "text/plain": [
       "37615"
      ]
     },
     "execution_count": 1,
     "metadata": {},
     "output_type": "execute_result"
    }
   ],
   "source": [
    "import glob\n",
    "\n",
    "import pandas as pd\n",
    "import matplotlib.pyplot as plt\n",
    "import numpy as np\n",
    "from matplotlib.markers import CARETLEFTBASE, CARETRIGHTBASE\n",
    "\n",
    "all_files = glob.glob(\"roll_data/*-out.csv\")\n",
    "\n",
    "df = pd.concat((pd.read_csv(f) for f in all_files), ignore_index=True)\n",
    "\n",
    "season = 13\n",
    "df = df[df[\"season\"] == season]\n",
    "len(df)"
   ]
  },
  {
   "cell_type": "code",
   "execution_count": 2,
   "metadata": {},
   "outputs": [],
   "source": [
    "def calc_vibes(df, prefix):\n",
    "    buoy = df[prefix + \"_buoyancy\"]  # * df[prefix + \"_mul\"]\n",
    "    press = df[prefix + \"_pressurization\"]  # * df[prefix + \"_mul\"]\n",
    "    cinn = df[prefix + \"_cinnamon\"]  # * df[prefix + \"_mul\"]\n",
    "\n",
    "    freq = 6 + (buoy * 10).round()\n",
    "    phase = math.pi * ((2 / freq) * dfc[\"day\"] + 0.5)\n",
    "    vibes = 0.5 * (press + cinn) * np.sin(phase) - (0.5 * press) + (0.5 * cinn)\n",
    "    return vibes\n",
    "\n",
    "\n",
    "def get_pitcher_mul(row):\n",
    "    pm = str(row[\"pitcher_mods\"])\n",
    "    ptm = str(row[\"pitching_team_mods\"])\n",
    "    mul = 1\n",
    "    if \"OVERPERFORMING\" in pm:\n",
    "        mul += 0.2\n",
    "    if \"OVERPERFORMING\" in ptm:\n",
    "        mul += 0.2\n",
    "    if \"UNDERPERFORMING\" in pm:\n",
    "        mul -= 0.2\n",
    "    if \"UNDERPERFORMING\" in ptm:\n",
    "        mul -= 0.2\n",
    "    if \"TRAVELING\" in ptm:\n",
    "        # pass # traveling just doesn't do anything on pitchers?\n",
    "        if not row[\"top_of_inning\"]:\n",
    "            mul += 0.05\n",
    "    if \"HIGH_PRESSURE\" in ptm:\n",
    "        # i messed up baserunner_count lol, so it's a string\n",
    "        if row[\"weather\"] == 18 and str(row[\"baserunner_count\"]) != \"[]\":\n",
    "            mul += 0.25\n",
    "    if \"GROWTH\" in ptm:\n",
    "        mul += min(0.05, 0.05 * (row[\"day\"] / 99))\n",
    "        # pass # growth doesn't do anything on pitchers either\n",
    "    if \"SINKING_SHIP\" in ptm:\n",
    "        mul += (14 - row[\"pitching_team_roster_size\"]) * 0.01\n",
    "    if \"AFFINITY_FOR_CROWS\" in ptm and row[\"weather\"] == 11:\n",
    "        mul += 0.5\n",
    "    return mul\n",
    "\n",
    "\n",
    "def get_batter_mul(row):\n",
    "    bm = str(row[\"batter_mods\"])\n",
    "    btm = str(row[\"batting_team_mods\"])\n",
    "    ptm = str(row[\"pitching_team_mods\"])\n",
    "    mul = 1\n",
    "    if \"OVERPERFORMING\" in bm:\n",
    "        mul += 0.2\n",
    "    if \"OVERPERFORMING\" in btm:\n",
    "        mul += 0.2\n",
    "    if \"UNDERPERFORMING\" in bm:\n",
    "        mul -= 0.2\n",
    "    if \"UNDERPERFORMING\" in btm:\n",
    "        mul -= 0.2\n",
    "    if \"TRAVELING\" in btm:\n",
    "        pass\n",
    "        # if row[\"top_of_inning\"]:\n",
    "        # this doesn't seem to do anything if it's here or not here\n",
    "        # mul += 0.05\n",
    "    if \"GROWTH\" in btm:\n",
    "        # mul += min(0.05, 0.05 * (row[\"day\"] / 99))\n",
    "        pass\n",
    "    if \"HIGH_PRESSURE\" in btm:\n",
    "        if row[\"weather\"] == 18 and str(row[\"baserunner_count\"]) != \"[]\":\n",
    "            mul += 0.25\n",
    "    if \"SINKING_SHIP\" in btm:\n",
    "        mul += (14 - row[\"batting_team_roster_size\"]) * 0.01\n",
    "    if \"AFFINITY_FOR_CROWS\" in btm and row[\"weather\"] == 11:\n",
    "        mul += 0.5\n",
    "    if \"CHUNKY\" in bm and row[\"weather\"] == 10:\n",
    "        # todo: handle, in peanuts weather\n",
    "        #         pass\n",
    "        mul += 1.0\n",
    "    if \"SMOOTH\" in bm and row[\"weather\"] == 10:\n",
    "        # todo: handle, in peanuts weather\n",
    "        pass\n",
    "    if \"ON_FIRE\" in bm:\n",
    "        # todo: handle\n",
    "        mul += 2.0\n",
    "    #         pass\n",
    "    return mul\n",
    "\n",
    "\n",
    "def get_fielder_mul(row):\n",
    "    fm = str(row[\"fielder_mods\"])\n",
    "    ptm = str(row[\"pitching_team_mods\"])\n",
    "    mul = 1\n",
    "    if \"OVERPERFORMING\" in fm:\n",
    "        mul += 0.2\n",
    "    if \"OVERPERFORMING\" in ptm:\n",
    "        mul += 0.2\n",
    "    if \"UNDERPERFORMING\" in fm:\n",
    "        mul -= 0.2\n",
    "    if \"UNDERPERFORMING\" in ptm:\n",
    "        mul -= 0.2\n",
    "    if \"TRAVELING\" in ptm:\n",
    "        # pass # traveling just doesn't do anything on pitchers?\n",
    "        if not row[\"top_of_inning\"]:\n",
    "            mul += 0.05\n",
    "    if \"HIGH_PRESSURE\" in ptm:\n",
    "        # i messed up baserunner_count lol, so it's a string\n",
    "        if row[\"weather\"] == 18 and str(row[\"baserunner_count\"]) != \"[]\":\n",
    "            mul += 0.25\n",
    "    if \"GROWTH\" in ptm:\n",
    "        mul += min(0.05, 0.05 * (row[\"day\"] / 99))\n",
    "        # pass # growth doesn't do anything on pitchers either\n",
    "    if \"SINKING_SHIP\" in ptm:\n",
    "        mul += (14 - row[\"pitching_team_roster_size\"]) * 0.01\n",
    "    if \"AFFINITY_FOR_CROWS\" in ptm and row[\"weather\"] == 11:\n",
    "        mul += 0.5\n",
    "    if \"SHELLED\" in fm:\n",
    "        # is it this, or is it \"mul = 0\", I wonder\n",
    "        mul -= 1.0\n",
    "    return mul"
   ]
  },
  {
   "cell_type": "code",
   "execution_count": 3,
   "metadata": {},
   "outputs": [],
   "source": [
    "df[\"batter_mul\"] = df.apply(get_batter_mul, axis=1)\n",
    "df[\"pitcher_mul\"] = df.apply(get_pitcher_mul, axis=1)\n",
    "df[\"fielder_mul\"] = df.apply(get_fielder_mul, axis=1)"
   ]
  },
  {
   "cell_type": "code",
   "execution_count": 4,
   "metadata": {
    "collapsed": false,
    "jupyter": {
     "outputs_hidden": false
    },
    "pycharm": {
     "name": "#%%\n"
    }
   },
   "outputs": [],
   "source": [
    "df[\"baserunner_n\"] = [int(np.floor(len(x) / 40)) for x in df.loc[:, \"baserunner_count\"]]\n",
    "\n",
    "df.loc[df[\"pitcher_mods\"].astype(str).str.contains(\"SCATTERED\"), \"pitcher_vibes\"] = 0\n",
    "df.loc[df[\"batter_mods\"].astype(str).str.contains(\"SCATTERED\"), \"batter_vibes\"] = 0\n",
    "df.loc[df[\"fielder_mods\"].astype(str).str.contains(\"SCATTERED\"), \"fielder_vibes\"] = 0\n",
    "\n",
    "for attr in [\n",
    "    \"batter_buoyancy\",\n",
    "    \"batter_divinity\",\n",
    "    \"batter_martyrdom\",\n",
    "    \"batter_moxie\",\n",
    "    \"batter_musclitude\",\n",
    "    \"batter_patheticism\",\n",
    "    \"batter_thwackability\",\n",
    "    \"batter_tragicness\",\n",
    "    \"batter_coldness\",\n",
    "    \"batter_overpowerment\",\n",
    "    \"batter_ruthlessness\",\n",
    "    \"batter_shakespearianism\",\n",
    "    \"batter_suppression\",\n",
    "    \"batter_unthwackability\",\n",
    "    \"batter_base_thirst\",\n",
    "    \"batter_continuation\",\n",
    "    \"batter_ground_friction\",\n",
    "    \"batter_indulgence\",\n",
    "    \"batter_laserlikeness\",\n",
    "    \"batter_anticapitalism\",\n",
    "    \"batter_chasiness\",\n",
    "    \"batter_omniscience\",\n",
    "    \"batter_tenaciousness\",\n",
    "    \"batter_watchfulness\",\n",
    "    \"batter_pressurization\",\n",
    "    \"batter_cinnamon\",\n",
    "]:\n",
    "    df[attr] = df[attr] * df[\"batter_mul\"]\n",
    "    df[attr + \"_with_vibe\"] = df[attr] * (1 + 0.2 * df[\"batter_vibes\"])\n",
    "df = df.copy()\n",
    "for attr in [\n",
    "    \"pitcher_buoyancy\",\n",
    "    \"pitcher_divinity\",\n",
    "    \"pitcher_martyrdom\",\n",
    "    \"pitcher_moxie\",\n",
    "    \"pitcher_musclitude\",\n",
    "    \"pitcher_patheticism\",\n",
    "    \"pitcher_thwackability\",\n",
    "    \"pitcher_tragicness\",\n",
    "    \"pitcher_ruthlessness\",\n",
    "    \"pitcher_overpowerment\",\n",
    "    \"pitcher_unthwackability\",\n",
    "    \"pitcher_shakespearianism\",\n",
    "    \"pitcher_suppression\",\n",
    "    \"pitcher_coldness\",\n",
    "    \"pitcher_base_thirst\",\n",
    "    \"pitcher_continuation\",\n",
    "    \"pitcher_ground_friction\",\n",
    "    \"pitcher_indulgence\",\n",
    "    \"pitcher_laserlikeness\",\n",
    "    \"pitcher_anticapitalism\",\n",
    "    \"pitcher_chasiness\",\n",
    "    \"pitcher_omniscience\",\n",
    "    \"pitcher_tenaciousness\",\n",
    "    \"pitcher_watchfulness\",\n",
    "    \"pitcher_pressurization\",\n",
    "    \"pitcher_cinnamon\",\n",
    "]:\n",
    "    df[attr] = df[attr] * df[\"pitcher_mul\"]\n",
    "    df[attr + \"_with_vibe\"] = df[attr] * (1 + 0.2 * df[\"pitcher_vibes\"])\n",
    "\n",
    "if \"fielder_vibes\" in df:\n",
    "    for attr in [\n",
    "        \"fielder_anticapitalism\",\n",
    "        \"fielder_chasiness\",\n",
    "        \"fielder_omniscience\",\n",
    "        \"fielder_tenaciousness\",\n",
    "        \"fielder_watchfulness\",\n",
    "    ]:\n",
    "        df[attr] = df[attr] * df[\"fielder_mul\"]\n",
    "        df[attr + \"_with_vibe\"] = df[attr] * (1 + 0.2 * df[\"fielder_vibes\"])\n",
    "\n",
    "\n",
    "df[\"omni_tenac\"] = df[\"fielder_omniscience_with_vibe\"] * df[\"fielder_tenaciousness_with_vibe\"]\n",
    "\n",
    "\n",
    "df[\"roll_minus_knowns\"] = (\n",
    "    df[\"roll\"] - 0.1 * df[\"batter_thwackability_with_vibe\"] + 0.08 * df[\"pitcher_unthwackability_with_vibe\"]\n",
    ")\n",
    "\n",
    "df[\"cold_runners\"] = df[\"pitcher_coldness_with_vibe\"] * (1 + df[\"baserunner_n\"])\n",
    "df[\"omnisq\"] = df[\"fielder_omniscience_with_vibe\"] * df[\"fielder_omniscience_with_vibe\"]\n",
    "df[\"rollsq\"] = df[\"roll\"] * df[\"roll\"]\n",
    "df = df.copy()"
   ]
  },
  {
   "cell_type": "code",
   "execution_count": 5,
   "metadata": {
    "collapsed": false,
    "jupyter": {
     "outputs_hidden": false
    },
    "pycharm": {
     "name": "#%%\n"
    }
   },
   "outputs": [
    {
     "data": {
      "text/plain": [
       "36635"
      ]
     },
     "execution_count": 5,
     "metadata": {},
     "output_type": "execute_result"
    }
   ],
   "source": [
    "dfc = df.copy()\n",
    "# for exclude_mod in [\"OVERPERFORMING\", \"UNDERPERFORMING\", \"HIGH_PRESSURE\", \"GROWTH\", \"SINKING_SHIP\", \"TRAVELING\"]:\n",
    "# for exclude_mod in [\"FLINCH\", \"O_NO\", \"ON_FIRE\", \"GROWTH\", \"TRAVELING\"]:\n",
    "for exclude_mod in [\"SPICY\", \"ON_FIRE\"]:\n",
    "    dfc = dfc[~dfc[\"batter_mods\"].astype(str).str.contains(exclude_mod)]\n",
    "#  dfc = dfc[~dfc[\"pitcher_mods\"].astype(str).str.contains(exclude_mod)]\n",
    "#  dfc = dfc[~dfc[\"pitching_team_mods\"].astype(str).str.contains(exclude_mod)]\n",
    "#  dfc = dfc[~dfc[\"batting_team_mods\"].astype(str).str.contains(exclude_mod)]\n",
    "\n",
    "\n",
    "# dfc = dfc[(dfc['pitcher_mul'] == 1) & (dfc['batter_mul'] == 1)]\n",
    "\n",
    "# dfc = dfc[dfc['stadium_id'].isna()]\n",
    "\n",
    "len(dfc)"
   ]
  },
  {
   "cell_type": "code",
   "execution_count": 6,
   "metadata": {
    "collapsed": false,
    "jupyter": {
     "outputs_hidden": false
    },
    "pycharm": {
     "name": "#%%\n"
    }
   },
   "outputs": [],
   "source": [
    "# X = dfc[['roll_minus_knowns', 'passed',\n",
    "X = dfc[\n",
    "    [\n",
    "        \"roll\",\n",
    "        \"passed\",\n",
    "        \"batter_thwackability_with_vibe\",\n",
    "        \"pitcher_unthwackability_with_vibe\",\n",
    "        # 'pitcher_coldness_with_vibe',\n",
    "        \"fielder_omniscience_with_vibe\",\n",
    "        # 'omnisq',\n",
    "        # 'baserunner_n',\n",
    "        # 'cold_runners',\n",
    "        # 'fielder_tenaciousness_with_vibe',\n",
    "        # 'fielder_watchfulness_with_vibe',\n",
    "        # 'fielder_anticapitalism_with_vibe',\n",
    "        # 'fielder_chasiness_with_vibe',\n",
    "        # 'fielder_roll',\n",
    "        # 'omni_tenac',\n",
    "        \"ballpark_grandiosity\",\n",
    "        # 'ballpark_fortification',\n",
    "        \"ballpark_obtuseness\",\n",
    "        # 'ballpark_ominousness',\n",
    "        # 'ballpark_inconvenience',\n",
    "        \"ballpark_viscosity\",\n",
    "        \"ballpark_forwardness\",\n",
    "        # 'ballpark_elongation',\n",
    "        # 'ballpark_mysticism',\n",
    "        # 'ballpark_filthiness',\n",
    "    ]\n",
    "]\n",
    "# X = X[X['roll'] < 0.85]\n",
    "\n",
    "# X = dfc[['roll', 'pitcher_ruthlessness', 'ballpark_forwardness']]\n",
    "# X = dfc[['roll', 'pitcher_ruthlessness']]\n",
    "y = X[\"passed\"]\n",
    "X = X.drop(\"passed\", axis=1)"
   ]
  },
  {
   "cell_type": "code",
   "execution_count": 7,
   "metadata": {
    "collapsed": false,
    "jupyter": {
     "outputs_hidden": false
    },
    "pycharm": {
     "name": "#%%\n"
    }
   },
   "outputs": [
    {
     "name": "stdout",
     "output_type": "stream",
     "text": [
      "[[26128     4]\n",
      " [    6 10497]]\n",
      "              precision    recall  f1-score   support\n",
      "\n",
      "       False       1.00      1.00      1.00     26132\n",
      "        True       1.00      1.00      1.00     10503\n",
      "\n",
      "    accuracy                           1.00     36635\n",
      "   macro avg       1.00      1.00      1.00     36635\n",
      "weighted avg       1.00      1.00      1.00     36635\n",
      "\n",
      "0.9997270369864883\n"
     ]
    }
   ],
   "source": [
    "from sklearn.preprocessing import StandardScaler\n",
    "from sklearn.metrics import confusion_matrix\n",
    "from sklearn.metrics import classification_report\n",
    "from sklearn import svm, linear_model\n",
    "\n",
    "# # trainedsvm = svm.SVC(kernel='linear').fit(X, y)\n",
    "# trainedsvm = svm.LinearSVC(dual=False, max_iter=100000).fit(X, y)\n",
    "# predictionsvm = trainedsvm.predict(X)\n",
    "# print(confusion_matrix(y,predictionsvm))\n",
    "# print(classification_report(y,predictionsvm))\n",
    "\n",
    "sc = StandardScaler()\n",
    "X2 = sc.fit_transform(X)\n",
    "\n",
    "trainedsvm = svm.LinearSVC(dual=False, max_iter=1000000, C=1000000, tol=1e-10).fit(X2, y)\n",
    "predictionsvm = trainedsvm.predict(X2)\n",
    "print(confusion_matrix(y, predictionsvm))\n",
    "print(classification_report(y, predictionsvm))\n",
    "print(trainedsvm.score(X2, y))"
   ]
  },
  {
   "cell_type": "code",
   "execution_count": 8,
   "metadata": {
    "collapsed": false,
    "jupyter": {
     "outputs_hidden": false
    },
    "pycharm": {
     "name": "#%%\n"
    }
   },
   "outputs": [
    {
     "name": "stdout",
     "output_type": "stream",
     "text": [
      "[-0.29830562]\n"
     ]
    },
    {
     "data": {
      "text/plain": [
       "[(1.0, 'roll'),\n",
       " (-0.10030457646780057, 'batter_thwackability_with_vibe'),\n",
       " (0.07945330171277859, 'pitcher_unthwackability_with_vibe'),\n",
       " (0.06455897253805108, 'fielder_omniscience_with_vibe'),\n",
       " (-0.010014455162938925, 'ballpark_grandiosity'),\n",
       " (-0.009889217717369796, 'ballpark_forwardness'),\n",
       " (-0.007484546588946438, 'ballpark_obtuseness'),\n",
       " (0.0020612678358678488, 'ballpark_viscosity')]"
      ]
     },
     "execution_count": 8,
     "metadata": {},
     "output_type": "execute_result"
    }
   ],
   "source": [
    "coef = np.true_divide(trainedsvm.coef_, sc.scale_)\n",
    "coef_scaled = coef / coef[0, 0]\n",
    "coef_list = coef_scaled.tolist()[0]\n",
    "\n",
    "intercept = trainedsvm.intercept_ - np.dot(coef, sc.mean_)\n",
    "intercept_scaled = intercept / coef[0, 0]\n",
    "print(intercept_scaled)\n",
    "sorted(zip(coef_list, X.columns), key=lambda x: abs(x[0]), reverse=True)"
   ]
  },
  {
   "cell_type": "markdown",
   "metadata": {},
   "source": [
    "## Best formulas so far"
   ]
  },
  {
   "cell_type": "code",
   "execution_count": 9,
   "metadata": {
    "collapsed": false,
    "jupyter": {
     "outputs_hidden": false
    },
    "pycharm": {
     "name": "#%%\n"
    }
   },
   "outputs": [
    {
     "name": "stdout",
     "output_type": "stream",
     "text": [
      "[0.29830562]\n",
      "(0.10030457646780057, 'batter_thwackability_with_vibe')\n",
      "(-0.07945330171277859, 'pitcher_unthwackability_with_vibe')\n",
      "(-0.06455897253805108, 'fielder_omniscience_with_vibe')\n",
      "(0.010014455162938925, 'ballpark_grandiosity')\n",
      "(0.007484546588946438, 'ballpark_obtuseness')\n",
      "(-0.0020612678358678488, 'ballpark_viscosity')\n",
      "(0.009889217717369796, 'ballpark_forwardness')\n"
     ]
    },
    {
     "data": {
      "text/plain": [
       "<matplotlib.legend.Legend at 0x7fb0a1cc7250>"
      ]
     },
     "execution_count": 9,
     "metadata": {},
     "output_type": "execute_result"
    },
    {
     "data": {
      "image/png": "[encoded data removed]",
      "text/plain": [
       "<Figure size 432x432 with 1 Axes>"
      ]
     },
     "metadata": {
      "needs_background": "light"
     },
     "output_type": "display_data"
    }
   ],
   "source": [
    "dfc[\"threshold\"] = 0.315 - (\n",
    "    -0.10 * dfc[\"batter_thwackability_with_vibe\"]\n",
    "    + 0.08 * dfc[\"pitcher_unthwackability_with_vibe\"]\n",
    "    + 0.07 * dfc[\"fielder_omniscience_with_vibe\"]\n",
    ")  # this works for season 12 and 13 without ballparks\n",
    "\n",
    "dfc[\"threshold\"] = 0.300 - (\n",
    "    -0.10 * dfc[\"batter_thwackability_with_vibe\"]\n",
    "    + 0.080 * dfc[\"pitcher_unthwackability_with_vibe\"]\n",
    "    + 0.065 * dfc[\"fielder_omniscience_with_vibe\"]\n",
    "    - 0.0115 * dfc[\"ballpark_grandiosity\"]\n",
    "    - 0.008 * dfc[\"ballpark_obtuseness\"]\n",
    "    - 0.007 * dfc[\"ballpark_forwardness\"]\n",
    "    + 0.0032 * dfc[\"ballpark_viscosity\"]\n",
    ")  # this almost works, for season 14 and 15\n",
    "\n",
    "# this will use the fit values\n",
    "dfc[\"threshold\"] = -intercept_scaled[0]\n",
    "print(-intercept_scaled)\n",
    "for pair in zip(-np.array(coef_list), X.columns):\n",
    "    if pair[1] != \"roll\":\n",
    "        print(pair)\n",
    "        dfc[\"threshold\"] += pair[0] * dfc[pair[1]]\n",
    "\n",
    "\n",
    "y_val = \"roll\"\n",
    "x_val = \"threshold\"\n",
    "# x_val = \"fielder_roll\"\n",
    "fig, ax = plt.subplots(1, figsize=(6, 6))\n",
    "ax.scatter(\n",
    "    dfc[~dfc[\"passed\"]][x_val],\n",
    "    dfc[~dfc[\"passed\"]][y_val],\n",
    "    color=\"red\",\n",
    "    label=\"Out\",\n",
    "    marker=CARETRIGHTBASE,\n",
    ")\n",
    "ax.scatter(\n",
    "    dfc[dfc[\"passed\"]][x_val],\n",
    "    dfc[dfc[\"passed\"]][y_val],\n",
    "    color=\"blue\",\n",
    "    label=\"Hit\",\n",
    "    marker=CARETLEFTBASE,\n",
    ")\n",
    "ax.set_xlabel(x_val)\n",
    "ax.set_ylabel(\"roll\")\n",
    "ax.set_title(f\"Season {season+1} Hits vs. Outs\")\n",
    "# ax.set_xlim(0.484, 0.499)\n",
    "\n",
    "if x_val == \"threshold\":\n",
    "    ax.plot(ax.get_xlim(), ax.get_xlim())\n",
    "\n",
    "ax.legend()"
   ]
  },
  {
   "cell_type": "code",
   "execution_count": 10,
   "metadata": {
    "pycharm": {
     "name": "#%%\n"
    },
    "tags": []
   },
   "outputs": [
    {
     "name": "stdout",
     "output_type": "stream",
     "text": [
      "10\n"
     ]
    },
    {
     "data": {
      "text/html": [
       "<div>\n",
       "<style scoped>\n",
       "    .dataframe tbody tr th:only-of-type {\n",
       "        vertical-align: middle;\n",
       "    }\n",
       "\n",
       "    .dataframe tbody tr th {\n",
       "        vertical-align: top;\n",
       "    }\n",
       "\n",
       "    .dataframe thead th {\n",
       "        text-align: right;\n",
       "    }\n",
       "</style>\n",
       "<table border=\"1\" class=\"dataframe\">\n",
       "  <thead>\n",
       "    <tr style=\"text-align: right;\">\n",
       "      <th></th>\n",
       "      <th>offset</th>\n",
       "      <th>event_type</th>\n",
       "      <th>pitcher_mul</th>\n",
       "      <th>batter_mul</th>\n",
       "      <th>fielder_mul</th>\n",
       "      <th>event_type</th>\n",
       "      <th>roll</th>\n",
       "      <th>threshold</th>\n",
       "      <th>batter_thwackability_with_vibe</th>\n",
       "      <th>pitcher_unthwackability_with_vibe</th>\n",
       "      <th>fielder_omniscience_with_vibe</th>\n",
       "      <th>batter_name</th>\n",
       "      <th>pitcher_name</th>\n",
       "      <th>fielder_name</th>\n",
       "      <th>batter_mods</th>\n",
       "      <th>pitcher_mods</th>\n",
       "      <th>fielder_mods</th>\n",
       "      <th>batting_team_mods</th>\n",
       "      <th>pitching_team_mods</th>\n",
       "      <th>day</th>\n",
       "      <th>game_id</th>\n",
       "      <th>play_count</th>\n",
       "      <th>fielder_roll</th>\n",
       "      <th>ballpark_obtuseness</th>\n",
       "    </tr>\n",
       "  </thead>\n",
       "  <tbody>\n",
       "    <tr>\n",
       "      <th>78989</th>\n",
       "      <td>0.015281</td>\n",
       "      <td>BaseHit</td>\n",
       "      <td>1.5</td>\n",
       "      <td>1.0</td>\n",
       "      <td>1.5</td>\n",
       "      <td>BaseHit</td>\n",
       "      <td>0.233571</td>\n",
       "      <td>0.218291</td>\n",
       "      <td>0.720966</td>\n",
       "      <td>1.459366</td>\n",
       "      <td>0.766728</td>\n",
       "      <td>Kline Greenlemon</td>\n",
       "      <td>Doc Anice</td>\n",
       "      <td>Yusef Puddles</td>\n",
       "      <td>NaN</td>\n",
       "      <td>TRIPLE_THREAT</td>\n",
       "      <td>NaN</td>\n",
       "      <td>NaN</td>\n",
       "      <td>AFFINITY_FOR_CROWS</td>\n",
       "      <td>17</td>\n",
       "      <td>609df474-4139-4797-96f5-d05876244cd8</td>\n",
       "      <td>153</td>\n",
       "      <td>0.818188</td>\n",
       "      <td>0.473072</td>\n",
       "    </tr>\n",
       "    <tr>\n",
       "      <th>83743</th>\n",
       "      <td>0.003960</td>\n",
       "      <td>BaseHit</td>\n",
       "      <td>1.5</td>\n",
       "      <td>1.0</td>\n",
       "      <td>1.5</td>\n",
       "      <td>BaseHit</td>\n",
       "      <td>0.334805</td>\n",
       "      <td>0.330845</td>\n",
       "      <td>0.884810</td>\n",
       "      <td>0.577147</td>\n",
       "      <td>0.422816</td>\n",
       "      <td>Washer Barajas</td>\n",
       "      <td>Henry Marshallow</td>\n",
       "      <td>Jode Preston</td>\n",
       "      <td>NaN</td>\n",
       "      <td>NaN</td>\n",
       "      <td>NaN</td>\n",
       "      <td>O_NO</td>\n",
       "      <td>AFFINITY_FOR_CROWS</td>\n",
       "      <td>102</td>\n",
       "      <td>bbd5d4d2-c0a4-48f3-a6db-d66874e77da3</td>\n",
       "      <td>218</td>\n",
       "      <td>0.978016</td>\n",
       "      <td>0.626709</td>\n",
       "    </tr>\n",
       "    <tr>\n",
       "      <th>79660</th>\n",
       "      <td>0.000606</td>\n",
       "      <td>BaseHit</td>\n",
       "      <td>1.0</td>\n",
       "      <td>1.0</td>\n",
       "      <td>1.0</td>\n",
       "      <td>BaseHit</td>\n",
       "      <td>0.416892</td>\n",
       "      <td>0.416286</td>\n",
       "      <td>1.188577</td>\n",
       "      <td>0.139287</td>\n",
       "      <td>0.106464</td>\n",
       "      <td>Jacob Haynes</td>\n",
       "      <td>Karato Bean</td>\n",
       "      <td>Stew Briggs</td>\n",
       "      <td>NaN</td>\n",
       "      <td>NaN</td>\n",
       "      <td>REPEATING;WANDERER</td>\n",
       "      <td>GROWTH</td>\n",
       "      <td>NaN</td>\n",
       "      <td>18</td>\n",
       "      <td>5bcae88a-3fbc-420e-956a-1fd34f6d0a30</td>\n",
       "      <td>186</td>\n",
       "      <td>0.960727</td>\n",
       "      <td>0.745675</td>\n",
       "    </tr>\n",
       "    <tr>\n",
       "      <th>64853</th>\n",
       "      <td>0.000238</td>\n",
       "      <td>BaseHit</td>\n",
       "      <td>1.0</td>\n",
       "      <td>1.0</td>\n",
       "      <td>1.0</td>\n",
       "      <td>BaseHit</td>\n",
       "      <td>0.342717</td>\n",
       "      <td>0.342480</td>\n",
       "      <td>0.716318</td>\n",
       "      <td>0.456895</td>\n",
       "      <td>0.125072</td>\n",
       "      <td>Zion Aliciakeyes</td>\n",
       "      <td>Sosa Hayes</td>\n",
       "      <td>Stew Briggs</td>\n",
       "      <td>SWIM_BLADDER</td>\n",
       "      <td>NaN</td>\n",
       "      <td>REPEATING;WANDERER</td>\n",
       "      <td>FIREPROOF;SEALANT;AMBUSH</td>\n",
       "      <td>NaN</td>\n",
       "      <td>86</td>\n",
       "      <td>0114739e-8e98-4e4f-b387-52ad0a60c9fa</td>\n",
       "      <td>191</td>\n",
       "      <td>0.932112</td>\n",
       "      <td>0.745675</td>\n",
       "    </tr>\n",
       "    <tr>\n",
       "      <th>80378</th>\n",
       "      <td>0.000183</td>\n",
       "      <td>BaseHit</td>\n",
       "      <td>1.0</td>\n",
       "      <td>1.0</td>\n",
       "      <td>1.0</td>\n",
       "      <td>BaseHit</td>\n",
       "      <td>0.380452</td>\n",
       "      <td>0.380269</td>\n",
       "      <td>0.957901</td>\n",
       "      <td>0.281600</td>\n",
       "      <td>0.052792</td>\n",
       "      <td>Eduardo Woodman</td>\n",
       "      <td>Jolene Willowtree</td>\n",
       "      <td>Kelvin Drumsolo</td>\n",
       "      <td>NaN</td>\n",
       "      <td>NaN</td>\n",
       "      <td>NaN</td>\n",
       "      <td>AFFINITY_FOR_CROWS</td>\n",
       "      <td>MAINTENANCE_MODE</td>\n",
       "      <td>19</td>\n",
       "      <td>59e83fde-7fc2-4b8c-a77a-aa0a32ae9101</td>\n",
       "      <td>267</td>\n",
       "      <td>0.466739</td>\n",
       "      <td>0.452160</td>\n",
       "    </tr>\n",
       "    <tr>\n",
       "      <th>82765</th>\n",
       "      <td>0.000138</td>\n",
       "      <td>BaseHit</td>\n",
       "      <td>1.0</td>\n",
       "      <td>1.0</td>\n",
       "      <td>1.0</td>\n",
       "      <td>BaseHit</td>\n",
       "      <td>0.313900</td>\n",
       "      <td>0.313762</td>\n",
       "      <td>0.717600</td>\n",
       "      <td>0.451308</td>\n",
       "      <td>0.587668</td>\n",
       "      <td>Herring Winfield</td>\n",
       "      <td>PolkaDot Zavala</td>\n",
       "      <td>Jessica Telephone</td>\n",
       "      <td>NaN</td>\n",
       "      <td>NaN</td>\n",
       "      <td>SUPERALLERGIC;HONEY_ROASTED;EGO1</td>\n",
       "      <td>TRAVELING</td>\n",
       "      <td>NaN</td>\n",
       "      <td>23</td>\n",
       "      <td>ebfccb55-d3bd-4e22-b9ab-b719aaacc0dc</td>\n",
       "      <td>247</td>\n",
       "      <td>0.306774</td>\n",
       "      <td>0.767839</td>\n",
       "    </tr>\n",
       "    <tr>\n",
       "      <th>68499</th>\n",
       "      <td>-0.000034</td>\n",
       "      <td>GroundOut</td>\n",
       "      <td>1.0</td>\n",
       "      <td>1.0</td>\n",
       "      <td>1.0</td>\n",
       "      <td>GroundOut</td>\n",
       "      <td>0.314552</td>\n",
       "      <td>0.314586</td>\n",
       "      <td>1.074833</td>\n",
       "      <td>0.929474</td>\n",
       "      <td>0.533838</td>\n",
       "      <td>Jode Preston</td>\n",
       "      <td>Fynn Doyle</td>\n",
       "      <td>Andrew Solis</td>\n",
       "      <td>NaN</td>\n",
       "      <td>ALTERNATE</td>\n",
       "      <td>FIRE_EATER</td>\n",
       "      <td>AFFINITY_FOR_CROWS</td>\n",
       "      <td>BIRD_SEED;PARTY_TIME</td>\n",
       "      <td>92</td>\n",
       "      <td>183482cf-777a-438d-bf61-31cb6256f22e</td>\n",
       "      <td>108</td>\n",
       "      <td>0.564496</td>\n",
       "      <td>0.763673</td>\n",
       "    </tr>\n",
       "    <tr>\n",
       "      <th>73681</th>\n",
       "      <td>-0.000314</td>\n",
       "      <td>GroundOut</td>\n",
       "      <td>1.0</td>\n",
       "      <td>1.0</td>\n",
       "      <td>1.0</td>\n",
       "      <td>GroundOut</td>\n",
       "      <td>0.323189</td>\n",
       "      <td>0.323504</td>\n",
       "      <td>1.207072</td>\n",
       "      <td>0.766287</td>\n",
       "      <td>0.721207</td>\n",
       "      <td>Knight Triumphant</td>\n",
       "      <td>Tot Clark</td>\n",
       "      <td>Malik Destiny</td>\n",
       "      <td>SIPHON;PERK</td>\n",
       "      <td>NaN</td>\n",
       "      <td>ALTERNATE;FIRE_EATER</td>\n",
       "      <td>LOVE</td>\n",
       "      <td>NaN</td>\n",
       "      <td>9</td>\n",
       "      <td>68bf182a-53c4-4f41-8b4c-28b2e0326125</td>\n",
       "      <td>19</td>\n",
       "      <td>0.343765</td>\n",
       "      <td>0.440767</td>\n",
       "    </tr>\n",
       "    <tr>\n",
       "      <th>82213</th>\n",
       "      <td>-0.000359</td>\n",
       "      <td>GroundOut</td>\n",
       "      <td>1.0</td>\n",
       "      <td>1.0</td>\n",
       "      <td>1.0</td>\n",
       "      <td>GroundOut</td>\n",
       "      <td>0.269915</td>\n",
       "      <td>0.270273</td>\n",
       "      <td>0.463527</td>\n",
       "      <td>1.009648</td>\n",
       "      <td>0.142414</td>\n",
       "      <td>Summers Pony</td>\n",
       "      <td>Inky Rutledge</td>\n",
       "      <td>Eizabeth Elliott</td>\n",
       "      <td>NaN</td>\n",
       "      <td>TRIPLE_THREAT</td>\n",
       "      <td>NaN</td>\n",
       "      <td>NaN</td>\n",
       "      <td>O_NO</td>\n",
       "      <td>22</td>\n",
       "      <td>76795bae-2e33-4e19-9082-0b3bf6965b6b</td>\n",
       "      <td>310</td>\n",
       "      <td>0.999097</td>\n",
       "      <td>0.546283</td>\n",
       "    </tr>\n",
       "    <tr>\n",
       "      <th>74802</th>\n",
       "      <td>-0.000642</td>\n",
       "      <td>GroundOut</td>\n",
       "      <td>1.2</td>\n",
       "      <td>1.0</td>\n",
       "      <td>1.2</td>\n",
       "      <td>GroundOut</td>\n",
       "      <td>0.199549</td>\n",
       "      <td>0.200191</td>\n",
       "      <td>0.449987</td>\n",
       "      <td>1.104450</td>\n",
       "      <td>1.047191</td>\n",
       "      <td>Inez Owens</td>\n",
       "      <td>Walton Sports</td>\n",
       "      <td>Campos Arias</td>\n",
       "      <td>ALTERNATE</td>\n",
       "      <td>FRIEND_OF_CROWS</td>\n",
       "      <td>ALTERNATE</td>\n",
       "      <td>GROWTH</td>\n",
       "      <td>OVERPERFORMING;EARLBIRDS</td>\n",
       "      <td>10</td>\n",
       "      <td>6c26ff07-f187-4c4e-9fa7-864fa67369d1</td>\n",
       "      <td>237</td>\n",
       "      <td>0.251630</td>\n",
       "      <td>0.437936</td>\n",
       "    </tr>\n",
       "  </tbody>\n",
       "</table>\n",
       "</div>"
      ],
      "text/plain": [
       "         offset event_type  pitcher_mul  batter_mul  fielder_mul event_type  \\\n",
       "78989  0.015281    BaseHit          1.5         1.0          1.5    BaseHit   \n",
       "83743  0.003960    BaseHit          1.5         1.0          1.5    BaseHit   \n",
       "79660  0.000606    BaseHit          1.0         1.0          1.0    BaseHit   \n",
       "64853  0.000238    BaseHit          1.0         1.0          1.0    BaseHit   \n",
       "80378  0.000183    BaseHit          1.0         1.0          1.0    BaseHit   \n",
       "82765  0.000138    BaseHit          1.0         1.0          1.0    BaseHit   \n",
       "68499 -0.000034  GroundOut          1.0         1.0          1.0  GroundOut   \n",
       "73681 -0.000314  GroundOut          1.0         1.0          1.0  GroundOut   \n",
       "82213 -0.000359  GroundOut          1.0         1.0          1.0  GroundOut   \n",
       "74802 -0.000642  GroundOut          1.2         1.0          1.2  GroundOut   \n",
       "\n",
       "           roll  threshold  batter_thwackability_with_vibe  \\\n",
       "78989  0.233571   0.218291                        0.720966   \n",
       "83743  0.334805   0.330845                        0.884810   \n",
       "79660  0.416892   0.416286                        1.188577   \n",
       "64853  0.342717   0.342480                        0.716318   \n",
       "80378  0.380452   0.380269                        0.957901   \n",
       "82765  0.313900   0.313762                        0.717600   \n",
       "68499  0.314552   0.314586                        1.074833   \n",
       "73681  0.323189   0.323504                        1.207072   \n",
       "82213  0.269915   0.270273                        0.463527   \n",
       "74802  0.199549   0.200191                        0.449987   \n",
       "\n",
       "       pitcher_unthwackability_with_vibe  fielder_omniscience_with_vibe  \\\n",
       "78989                           1.459366                       0.766728   \n",
       "83743                           0.577147                       0.422816   \n",
       "79660                           0.139287                       0.106464   \n",
       "64853                           0.456895                       0.125072   \n",
       "80378                           0.281600                       0.052792   \n",
       "82765                           0.451308                       0.587668   \n",
       "68499                           0.929474                       0.533838   \n",
       "73681                           0.766287                       0.721207   \n",
       "82213                           1.009648                       0.142414   \n",
       "74802                           1.104450                       1.047191   \n",
       "\n",
       "             batter_name       pitcher_name       fielder_name   batter_mods  \\\n",
       "78989   Kline Greenlemon          Doc Anice      Yusef Puddles           NaN   \n",
       "83743     Washer Barajas   Henry Marshallow       Jode Preston           NaN   \n",
       "79660       Jacob Haynes        Karato Bean        Stew Briggs           NaN   \n",
       "64853   Zion Aliciakeyes         Sosa Hayes        Stew Briggs  SWIM_BLADDER   \n",
       "80378    Eduardo Woodman  Jolene Willowtree    Kelvin Drumsolo           NaN   \n",
       "82765   Herring Winfield    PolkaDot Zavala  Jessica Telephone           NaN   \n",
       "68499       Jode Preston         Fynn Doyle       Andrew Solis           NaN   \n",
       "73681  Knight Triumphant          Tot Clark      Malik Destiny   SIPHON;PERK   \n",
       "82213       Summers Pony      Inky Rutledge   Eizabeth Elliott           NaN   \n",
       "74802         Inez Owens      Walton Sports       Campos Arias     ALTERNATE   \n",
       "\n",
       "          pitcher_mods                      fielder_mods  \\\n",
       "78989    TRIPLE_THREAT                               NaN   \n",
       "83743              NaN                               NaN   \n",
       "79660              NaN                REPEATING;WANDERER   \n",
       "64853              NaN                REPEATING;WANDERER   \n",
       "80378              NaN                               NaN   \n",
       "82765              NaN  SUPERALLERGIC;HONEY_ROASTED;EGO1   \n",
       "68499        ALTERNATE                        FIRE_EATER   \n",
       "73681              NaN              ALTERNATE;FIRE_EATER   \n",
       "82213    TRIPLE_THREAT                               NaN   \n",
       "74802  FRIEND_OF_CROWS                         ALTERNATE   \n",
       "\n",
       "              batting_team_mods        pitching_team_mods  day  \\\n",
       "78989                       NaN        AFFINITY_FOR_CROWS   17   \n",
       "83743                      O_NO        AFFINITY_FOR_CROWS  102   \n",
       "79660                    GROWTH                       NaN   18   \n",
       "64853  FIREPROOF;SEALANT;AMBUSH                       NaN   86   \n",
       "80378        AFFINITY_FOR_CROWS          MAINTENANCE_MODE   19   \n",
       "82765                 TRAVELING                       NaN   23   \n",
       "68499        AFFINITY_FOR_CROWS      BIRD_SEED;PARTY_TIME   92   \n",
       "73681                      LOVE                       NaN    9   \n",
       "82213                       NaN                      O_NO   22   \n",
       "74802                    GROWTH  OVERPERFORMING;EARLBIRDS   10   \n",
       "\n",
       "                                    game_id  play_count  fielder_roll  \\\n",
       "78989  609df474-4139-4797-96f5-d05876244cd8         153      0.818188   \n",
       "83743  bbd5d4d2-c0a4-48f3-a6db-d66874e77da3         218      0.978016   \n",
       "79660  5bcae88a-3fbc-420e-956a-1fd34f6d0a30         186      0.960727   \n",
       "64853  0114739e-8e98-4e4f-b387-52ad0a60c9fa         191      0.932112   \n",
       "80378  59e83fde-7fc2-4b8c-a77a-aa0a32ae9101         267      0.466739   \n",
       "82765  ebfccb55-d3bd-4e22-b9ab-b719aaacc0dc         247      0.306774   \n",
       "68499  183482cf-777a-438d-bf61-31cb6256f22e         108      0.564496   \n",
       "73681  68bf182a-53c4-4f41-8b4c-28b2e0326125          19      0.343765   \n",
       "82213  76795bae-2e33-4e19-9082-0b3bf6965b6b         310      0.999097   \n",
       "74802  6c26ff07-f187-4c4e-9fa7-864fa67369d1         237      0.251630   \n",
       "\n",
       "       ballpark_obtuseness  \n",
       "78989             0.473072  \n",
       "83743             0.626709  \n",
       "79660             0.745675  \n",
       "64853             0.745675  \n",
       "80378             0.452160  \n",
       "82765             0.767839  \n",
       "68499             0.763673  \n",
       "73681             0.440767  \n",
       "82213             0.546283  \n",
       "74802             0.437936  "
      ]
     },
     "execution_count": 10,
     "metadata": {},
     "output_type": "execute_result"
    },
    {
     "data": {
      "image/png": "[encoded data removed]",
      "text/plain": [
       "<Figure size 432x288 with 1 Axes>"
      ]
     },
     "metadata": {
      "needs_background": "light"
     },
     "output_type": "display_data"
    }
   ],
   "source": [
    "dfc[\"offset\"] = dfc[\"roll\"] - dfc[\"threshold\"]\n",
    "outliers = dfc[(dfc[\"passed\"] & (dfc[\"offset\"] >= 0)) | (~dfc[\"passed\"] & (dfc[\"offset\"] <= 0))]\n",
    "\n",
    "fig, ax = plt.subplots(1)\n",
    "x_val = \"threshold\"\n",
    "# x_val = \"pitcher_unthwackability_with_vibe\"\n",
    "ax.scatter(\n",
    "    outliers[~outliers[\"passed\"]][x_val],\n",
    "    outliers[~outliers[\"passed\"]][\"offset\"],\n",
    "    color=\"red\",\n",
    "    label=\"Out\",\n",
    ")\n",
    "ax.scatter(\n",
    "    outliers[outliers[\"passed\"]][x_val],\n",
    "    outliers[outliers[\"passed\"]][\"offset\"],\n",
    "    color=\"blue\",\n",
    "    label=\"Hit\",\n",
    ")\n",
    "ax.set_xlabel(x_val)\n",
    "ax.set_ylabel(\"offset\")\n",
    "ax.legend()\n",
    "\n",
    "pd.set_option(\"display.max_rows\", None)\n",
    "pd.set_option(\"display.max_columns\", None)\n",
    "table = outliers[\n",
    "    [\n",
    "        \"offset\",\n",
    "        \"event_type\",  # \"home_score\", \"away_score\", \"top_of_inning\", \"inning\",\n",
    "        \"pitcher_mul\",\n",
    "        \"batter_mul\",\n",
    "        \"fielder_mul\",  # \"baserunner_count\",\n",
    "        \"event_type\",\n",
    "        \"roll\",\n",
    "        \"threshold\",  # \"batter_vibes\", \"pitcher_vibes\",\n",
    "        \"batter_thwackability_with_vibe\",\n",
    "        \"pitcher_unthwackability_with_vibe\",\n",
    "        \"fielder_omniscience_with_vibe\",\n",
    "        \"batter_name\",\n",
    "        \"pitcher_name\",\n",
    "        \"fielder_name\",\n",
    "        \"batter_mods\",\n",
    "        \"pitcher_mods\",\n",
    "        \"fielder_mods\",\n",
    "        \"batting_team_mods\",\n",
    "        \"pitching_team_mods\",\n",
    "        \"day\",\n",
    "        \"game_id\",\n",
    "        \"play_count\",\n",
    "        \"fielder_roll\",\n",
    "        \"ballpark_obtuseness\",\n",
    "    ]\n",
    "]\n",
    "print(len(table))\n",
    "table.sort_values(\"offset\", ascending=False)[0:10]"
   ]
  },
  {
   "cell_type": "code",
   "execution_count": 11,
   "metadata": {},
   "outputs": [
    {
     "data": {
      "text/plain": [
       "fielder_name\n",
       "Halexandrey Walton    328\n",
       "Basilio Fig           297\n",
       "Yusef Puddles         295\n",
       "Basilio Mason         278\n",
       "Eduardo Woodman       273\n",
       "Valentine Games       271\n",
       "Jode Preston          264\n",
       "Sigmund Castillo      230\n",
       "Huber Frumple         228\n",
       "Nagomi Nava           228\n",
       "Marquez Clark         223\n",
       "Kaj Statter Jr.       221\n",
       "Kennedy Loser         221\n",
       "Nicholas Mora         217\n",
       "Richmond Harrison     216\n",
       "dtype: int64"
      ]
     },
     "execution_count": 11,
     "metadata": {},
     "output_type": "execute_result"
    }
   ],
   "source": [
    "# outliers.sort_values('roll', ascending=True).style.hide()\n",
    "dfc.groupby(\"fielder_name\").size().sort_values(ascending=False)[0:15]"
   ]
  },
  {
   "cell_type": "code",
   "execution_count": null,
   "metadata": {},
   "outputs": [],
   "source": []
  },
  {
   "cell_type": "code",
   "execution_count": null,
   "metadata": {},
   "outputs": [],
   "source": []
  },
  {
   "cell_type": "code",
   "execution_count": null,
   "metadata": {},
   "outputs": [],
   "source": []
  },
  {
   "cell_type": "code",
   "execution_count": null,
   "metadata": {},
   "outputs": [],
   "source": []
  },
  {
   "cell_type": "code",
   "execution_count": 12,
   "metadata": {
    "collapsed": false,
    "jupyter": {
     "outputs_hidden": false
    },
    "pycharm": {
     "name": "#%%\n"
    }
   },
   "outputs": [
    {
     "data": {
      "text/plain": [
       "passed                           -0.780808\n",
       "threshold                        -0.162845\n",
       "batter_thwackability_with_vibe   -0.111318\n",
       "batter_thwackability             -0.107602\n",
       "batter_musclitude_with_vibe      -0.043729\n",
       "batter_musclitude                -0.039269\n",
       "batter_overpowerment_with_vibe   -0.038237\n",
       "batter_overpowerment             -0.034199\n",
       "batter_coldness_with_vibe        -0.032661\n",
       "batter_buoyancy_with_vibe        -0.030218\n",
       "Name: offset, dtype: float64"
      ]
     },
     "execution_count": 12,
     "metadata": {},
     "output_type": "execute_result"
    }
   ],
   "source": [
    "dfc.corr()[\"offset\"].sort_values()[0:10]"
   ]
  },
  {
   "cell_type": "code",
   "execution_count": null,
   "metadata": {
    "pycharm": {
     "name": "#%%\n"
    },
    "tags": []
   },
   "outputs": [],
   "source": []
  },
  {
   "cell_type": "code",
   "execution_count": 13,
   "metadata": {
    "collapsed": false,
    "jupyter": {
     "outputs_hidden": false
    },
    "pycharm": {
     "name": "#%%\n"
    }
   },
   "outputs": [
    {
     "data": {
      "image/png": "[encoded data removed]",
      "text/plain": [
       "<Figure size 720x1080 with 6 Axes>"
      ]
     },
     "metadata": {
      "needs_background": "light"
     },
     "output_type": "display_data"
    }
   ],
   "source": [
    "plt.rcParams[\"font.size\"] = 10\n",
    "x_val = \"threshold\"\n",
    "fig, axes = plt.subplots(3, 2, figsize=(10, 15), constrained_layout=True)\n",
    "fig.suptitle(f\"Season {season+1} Hits vs. Outs\", fontsize=16)\n",
    "dimlist = [5e-2, 2e-2, 1e-2, 0.5e-2, 0.2e-2, 0.1e-2]\n",
    "for i, ax in enumerate(np.ravel(axes)):\n",
    "    ax.scatter(\n",
    "        dfc[dfc[\"passed\"]][x_val],\n",
    "        dfc[dfc[\"passed\"]][\"offset\"],\n",
    "        color=\"blue\",\n",
    "        label=\"Hit\",\n",
    "    )\n",
    "    ax.scatter(\n",
    "        dfc[~dfc[\"passed\"]][x_val],\n",
    "        dfc[~dfc[\"passed\"]][\"offset\"],\n",
    "        color=\"red\",\n",
    "        label=\"Out\",\n",
    "    )\n",
    "    ax.scatter(\n",
    "        outliers[~outliers[\"passed\"]][x_val],\n",
    "        outliers[~outliers[\"passed\"]][\"offset\"],\n",
    "        color=\"red\",\n",
    "        edgecolor=\"black\",\n",
    "    )\n",
    "    ax.scatter(\n",
    "        outliers[outliers[\"passed\"]][x_val],\n",
    "        outliers[outliers[\"passed\"]][\"offset\"],\n",
    "        color=\"blue\",\n",
    "        edgecolor=\"black\",\n",
    "    )\n",
    "    ax.set_xlabel(x_val)\n",
    "    ax.set_ylabel(\"offset\")\n",
    "    ax.legend()\n",
    "    ax.grid()\n",
    "    ax.set_ylim(-dimlist[i], dimlist[i])\n",
    "# fig.savefig(\"hit_out_fit_offsets.png\", facecolor='white')"
   ]
  },
  {
   "cell_type": "code",
   "execution_count": null,
   "metadata": {
    "collapsed": false,
    "jupyter": {
     "outputs_hidden": false
    },
    "pycharm": {
     "name": "#%%\n"
    }
   },
   "outputs": [],
   "source": []
  },
  {
   "cell_type": "code",
   "execution_count": null,
   "metadata": {
    "collapsed": false,
    "jupyter": {
     "outputs_hidden": false
    },
    "pycharm": {
     "name": "#%%\n"
    }
   },
   "outputs": [],
   "source": []
  },
  {
   "cell_type": "code",
   "execution_count": 14,
   "metadata": {
    "collapsed": false,
    "jupyter": {
     "outputs_hidden": false
    },
    "pycharm": {
     "name": "#%%\n"
    }
   },
   "outputs": [
    {
     "data": {
      "text/plain": [
       "baserunner_count\n",
       "[]                                          24361\n",
       "['03b80a57-77ea-4913-9be4-7a85c3594745']      106\n",
       "['efafe75e-2f00-4418-914c-9b6675d39264']       97\n",
       "['17392be2-7344-48a0-b4db-8a040a7fb532']       91\n",
       "['c675fcdf-6117-49a6-ac32-99a89a3a88aa']       88\n",
       "['2ffbaec8-a646-4435-a17a-3a0a2b5f3e16']       86\n",
       "['c755efce-d04d-4e00-b5c1-d801070d3808']       86\n",
       "['32810dca-825c-4dbc-8b65-0702794c424e']       80\n",
       "['88cd6efa-dbf2-4309-aabe-ec1d6f21f98a']       79\n",
       "['9a031b9a-16f8-4165-a468-5d0e28a81151']       79\n",
       "['083d09d4-7ed3-4100-b021-8fbe30dd43e8']       77\n",
       "['27c68d7f-5e40-4afa-8b6f-9df47b79e7dd']       75\n",
       "['ac69dba3-6225-4afd-ab4b-23fc78f730fb']       75\n",
       "['114100a4-1bf7-4433-b304-6aad75904055']       73\n",
       "['27839754-c351-43ec-9bff-ca662a2385b9']       72\n",
       "dtype: int64"
      ]
     },
     "execution_count": 14,
     "metadata": {},
     "output_type": "execute_result"
    }
   ],
   "source": [
    "dfc.groupby(\"baserunner_count\").size().sort_values(ascending=False)[0:15]"
   ]
  },
  {
   "cell_type": "code",
   "execution_count": 15,
   "metadata": {
    "collapsed": false,
    "jupyter": {
     "outputs_hidden": false
    },
    "pycharm": {
     "name": "#%%\n"
    }
   },
   "outputs": [
    {
     "data": {
      "text/plain": [
       "120"
      ]
     },
     "execution_count": 15,
     "metadata": {},
     "output_type": "execute_result"
    }
   ],
   "source": [
    "max(len(x) for x in dfc.loc[:, \"baserunner_count\"])"
   ]
  },
  {
   "cell_type": "code",
   "execution_count": 16,
   "metadata": {},
   "outputs": [
    {
     "data": {
      "text/plain": [
       "stadium_id\n",
       "031670ae-97a5-4215-b1a1-98e9f1de7c50    1174\n",
       "06c991f6-4ef3-4a9a-8254-8a2bc7d3a1e1    1708\n",
       "1c1614b3-abdb-4008-98eb-12aeb8f7bb54    1383\n",
       "21ce1233-b2d6-4bd2-8d03-68a8915afdc5    1316\n",
       "2841dc8c-b5a2-4b3a-a717-9e646e8e29fc    1672\n",
       "2a1a52b3-9759-44aa-ba49-b1437396d895    2175\n",
       "36ae955c-6264-4437-8669-3053f62992e5    1646\n",
       "36b94380-39a6-4e32-b525-3e888215798a    2809\n",
       "37c2743f-1a15-4e3f-bdb1-a6461df93434    1506\n",
       "43fbdf41-336f-46a8-9445-eb8a6e05d811    1657\n",
       "60e78a6c-fe49-4283-8293-735e9fa7e3e9    1219\n",
       "6bfd22e7-831d-4ba9-a9f9-2cf7ab00c39d    1610\n",
       "7f09624b-b3cf-4493-b768-adf090bebf21    1735\n",
       "8a84154e-80d7-47d5-8f56-295e9a9653d9    1176\n",
       "8e900d85-7d4c-47d0-a67f-6432144f0210    1360\n",
       "929fc650-948a-4736-b7a2-bb7b75902e6e    1115\n",
       "a0851e18-d5d7-4749-b3c5-c6023fe1cc61    1599\n",
       "a109bd65-bfd3-43c7-9eb8-70dddc4d8a29    1368\n",
       "ba794e99-4d6b-4e12-9450-6522745190f8    1203\n",
       "cb94ac8b-003b-4d95-baf3-7c14b1c3fc29     960\n",
       "cfb57d7c-4118-4b0a-85cc-4e3a51a66cb6    1439\n",
       "d37abba6-9fba-463a-8f4f-7cf49de3c7b6    1113\n",
       "e7431679-a45e-408f-92a8-a4db422c4925    1637\n",
       "f71fd587-d20c-461c-88a4-1634a2df3f43    2055\n",
       "dtype: int64"
      ]
     },
     "execution_count": 16,
     "metadata": {},
     "output_type": "execute_result"
    }
   ],
   "source": [
    "dfc.groupby(\"stadium_id\").size()"
   ]
  },
  {
   "cell_type": "code",
   "execution_count": null,
   "metadata": {
    "tags": []
   },
   "outputs": [],
   "source": []
  },
  {
   "cell_type": "code",
   "execution_count": null,
   "metadata": {},
   "outputs": [],
   "source": []
  }
 ],
 "metadata": {
  "kernelspec": {
   "display_name": "Python 3 (ipykernel)",
   "language": "python",
   "name": "python3"
  },
  "language_info": {
   "codemirror_mode": {
    "name": "ipython",
    "version": 3
   },
   "file_extension": ".py",
   "mimetype": "text/x-python",
   "name": "python",
   "nbconvert_exporter": "python",
   "pygments_lexer": "ipython3",
   "version": "3.9.12"
  }
 },
 "nbformat": 4,
 "nbformat_minor": 4
}
