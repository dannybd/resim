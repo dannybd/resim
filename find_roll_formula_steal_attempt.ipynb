{
 "cells": [
  {
   "cell_type": "code",
   "execution_count": 1,
   "metadata": {
    "collapsed": false,
    "jupyter": {
     "outputs_hidden": false
    },
    "pycharm": {
     "name": "#%%\n"
    }
   },
   "outputs": [],
   "source": [
    "import glob\n",
    "\n",
    "import pandas as pd\n",
    "import matplotlib.pyplot as plt\n",
    "import numpy as np\n",
    "from matplotlib.markers import CARETLEFTBASE, CARETRIGHTBASE"
   ]
  },
  {
   "cell_type": "code",
   "execution_count": 2,
   "metadata": {
    "collapsed": false,
    "jupyter": {
     "outputs_hidden": false
    },
    "pycharm": {
     "name": "#%%\n"
    }
   },
   "outputs": [
    {
     "data": {
      "text/plain": [
       "55082"
      ]
     },
     "execution_count": 2,
     "metadata": {},
     "output_type": "execute_result"
    }
   ],
   "source": [
    "all_files = glob.glob(\"roll_data/*-steal_attempt.csv\")\n",
    "\n",
    "df = pd.concat((pd.read_csv(f, dtype={\"stadium_id\": \"string\", \"is_strike\": \"boolean\"}) for f in all_files), ignore_index=True)\n",
    "\n",
    "season = 13\n",
    "df = df[df[\"season\"] == season]\n",
    "len(df)"
   ]
  },
  {
   "cell_type": "code",
   "execution_count": 3,
   "metadata": {
    "tags": []
   },
   "outputs": [],
   "source": [
    "def get_pitcher_mul(row):\n",
    "    pm = str(row[\"pitcher_mods\"])\n",
    "    ptm = str(row[\"pitching_team_mods\"])\n",
    "    mul = 1\n",
    "    if \"OVERPERFORMING\" in pm:\n",
    "        mul += 0.2\n",
    "    if \"OVERPERFORMING\" in ptm:\n",
    "        mul += 0.2\n",
    "    if \"UNDERPERFORMING\" in pm:\n",
    "        mul -= 0.2\n",
    "    if \"UNDERPERFORMING\" in ptm:\n",
    "        mul -= 0.2\n",
    "    if \"TRAVELING\" in ptm:\n",
    "        # pass  # traveling just doesn't do anything on pitchers?\n",
    "        if not row[\"top_of_inning\"]:\n",
    "            mul += 0.05\n",
    "    if \"HIGH_PRESSURE\" in ptm:\n",
    "        if row[\"weather\"] == \"Weather.FLOODING\" and row[\"baserunner_count\"] > 0:\n",
    "            mul += 0.25\n",
    "    if \"GROWTH\" in ptm:\n",
    "        mul += min(0.05, 0.05 * (row[\"day\"] / 99))\n",
    "        # pass  # growth doesn't do anything on pitchers either\n",
    "    if \"SINKING_SHIP\" in ptm:\n",
    "        mul += (14 - row[\"pitching_team_roster_size\"]) * 0.01\n",
    "    if \"AFFINITY_FOR_CROWS\" in ptm and row[\"weather\"] == \"Weather.BIRDS\":\n",
    "        mul += 0.5\n",
    "    return mul\n",
    "\n",
    "\n",
    "def get_batter_mul(row):\n",
    "    bm = str(row[\"batter_mods\"])\n",
    "    btm = str(row[\"batting_team_mods\"])\n",
    "    ptm = str(row[\"pitching_team_mods\"])\n",
    "    mul = 1\n",
    "    attrs = \"\"\n",
    "    if \"OVERPERFORMING\" in bm:\n",
    "        mul += 0.2\n",
    "    if \"OVERPERFORMING\" in btm:\n",
    "        mul += 0.2\n",
    "    if \"UNDERPERFORMING\" in bm:\n",
    "        mul -= 0.2\n",
    "    if \"UNDERPERFORMING\" in btm:\n",
    "        mul -= 0.2\n",
    "    if \"TRAVELING\" in btm:\n",
    "        if row[\"top_of_inning\"]:\n",
    "            # is this actually 0.035 instead of 0.05?\n",
    "            mul += 0.35\n",
    "    if \"GROWTH\" in btm:\n",
    "        # is this actually 0.035 instead of 0.05?\n",
    "        mul += min(0.05, 0.05 * (row[\"day\"] / 99))\n",
    "        # pass\n",
    "    if \"HIGH_PRESSURE\" in btm:\n",
    "        if row[\"weather\"] == \"Weather.FLOODING\" and row[\"baserunner_count\"] > 0:\n",
    "            mul += 0.25\n",
    "    if \"SINKING_SHIP\" in btm:\n",
    "        mul += (14 - row[\"batting_team_roster_size\"]) * 0.01\n",
    "    if \"AFFINITY_FOR_CROWS\" in btm and row[\"weather\"] == \"Weather.BIRDS\":\n",
    "        mul += 0.5\n",
    "    if \"CHUNKY\" in bm and row[\"weather\"] == \"Weather.PEANUTS\":\n",
    "        # todo: make this work if there's also, like, Overperforming active\n",
    "        # it only should apply to \"power\" attrs\n",
    "        mul += 1.0\n",
    "        attrs = \"batter_musclitude, batter_divinity, batter_ground_friction\"\n",
    "    if \"SMOOTH\" in bm and row[\"weather\"] == \"Weather.PEANUTS\":\n",
    "        # todo: make this work if there's also, like, Overperforming active\n",
    "        # it only should apply to \"speed\" attrs\n",
    "        # doing 80% because of evidence from the Spin Attack blessing that \"speed\"\n",
    "        # boosts laserlikeness 80% of what it says the total boost is?\n",
    "        mul += 0.80\n",
    "        attrs = \"batter_musclitude, batter_laserlikeness, batter_ground_friction, batter_continuation\"\n",
    "    if \"ON_FIRE\" in bm:\n",
    "        # todo: handle\n",
    "        # test \"+125% multiplier\"\n",
    "        mul += 1.25\n",
    "        # pass\n",
    "    # NVGs real??? eclipse weather, special case for Sutton Dreamy\n",
    "    # surely this will not break from scattering, right? (It totally will)\n",
    "    if row[\"batter_name\"] == \"Sutton Dreamy\" and row[\"weather\"] == \"Weather.ECLIPSE\":\n",
    "        # NVGs allow the player to play 50% better in a solar eclipse.\n",
    "        # This might affect fielding and baserunning as well?\n",
    "        mul += 0.50\n",
    "    return mul, attrs\n",
    "\n",
    "def get_fielder_mul(row):\n",
    "    fm = str(row[\"fielder_mods\"])\n",
    "    ptm = str(row[\"pitching_team_mods\"])\n",
    "    mul = 1\n",
    "    if \"OVERPERFORMING\" in fm:\n",
    "        mul += 0.2\n",
    "    if \"OVERPERFORMING\" in ptm:\n",
    "        mul += 0.2\n",
    "    if \"UNDERPERFORMING\" in fm:\n",
    "        mul -= 0.2\n",
    "    if \"UNDERPERFORMING\" in ptm:\n",
    "        mul -= 0.2\n",
    "    if \"TRAVELING\" in ptm:\n",
    "        # pass\n",
    "        if not row[\"top_of_inning\"]:\n",
    "            mul += 0.05\n",
    "    if \"HIGH_PRESSURE\" in ptm:\n",
    "        if row[\"weather\"] == 18 and str(row[\"baserunner_count\"]) > 0:\n",
    "            mul += 0.25\n",
    "    if \"GROWTH\" in ptm:\n",
    "        mul += min(0.05, 0.05 * (row[\"day\"] / 99))\n",
    "    if \"SINKING_SHIP\" in ptm:\n",
    "        mul += (14 - row[\"pitching_team_roster_size\"]) * 0.01\n",
    "    if \"AFFINITY_FOR_CROWS\" in ptm and row[\"weather\"] == \"Weather.BIRDS\":\n",
    "        mul += 0.5\n",
    "    if \"SHELLED\" in fm:\n",
    "        # is it this, or is it \"mul = 0\", I wonder\n",
    "        mul -= 1.0\n",
    "    if row[\"fielder_name\"] == \"Sutton Dreamy\" and row[\"weather\"] == \"Weather.ECLIPSE\":\n",
    "        # NVGs allow the player to play 50% better in a solar eclipse.\n",
    "        # This might affect fielding and baserunning as well?\n",
    "        mul += 0.50\n",
    "    return mul\n"
   ]
  },
  {
   "cell_type": "code",
   "execution_count": 4,
   "metadata": {
    "tags": []
   },
   "outputs": [],
   "source": [
    "# df[\"batter_mul\"] = df.apply(get_batter_mul, axis=1)\n",
    "df[[\"batter_mul\", \"batter_mul_attrs\"]] = df.apply(get_batter_mul, axis=1, result_type=\"expand\")\n",
    "df[\"pitcher_mul\"] = df.apply(get_pitcher_mul, axis=1)\n",
    "df[\"fielder_mul\"] = df.apply(get_fielder_mul, axis=1)"
   ]
  },
  {
   "cell_type": "code",
   "execution_count": 5,
   "metadata": {
    "collapsed": false,
    "jupyter": {
     "outputs_hidden": false
    },
    "pycharm": {
     "name": "#%%\n"
    }
   },
   "outputs": [],
   "source": [
    "# df[\"baserunner_n\"] = [int(np.floor(len(x) / 40)) for x in df.loc[:, \"baserunner_count\"]]\n",
    "\n",
    "df.loc[df[\"pitcher_mods\"].astype(str).str.contains(\"SCATTERED\"), \"pitcher_vibes\"] = 0\n",
    "df.loc[df[\"batter_mods\"].astype(str).str.contains(\"SCATTERED\"), \"batter_vibes\"] = 0\n",
    "df.loc[df[\"fielder_mods\"].astype(str).str.contains(\"SCATTERED\"), \"fielder_vibes\"] = 0"
   ]
  },
  {
   "cell_type": "code",
   "execution_count": 6,
   "metadata": {
    "collapsed": false,
    "jupyter": {
     "outputs_hidden": false
    },
    "pycharm": {
     "name": "#%%\n"
    }
   },
   "outputs": [],
   "source": [
    "for attr in [\n",
    "    \"batter_buoyancy\",\n",
    "    \"batter_divinity\",\n",
    "    \"batter_martyrdom\",\n",
    "    \"batter_moxie\",\n",
    "    \"batter_musclitude\",\n",
    "    \"batter_patheticism\",\n",
    "    \"batter_thwackability\",\n",
    "    \"batter_tragicness\",\n",
    "    \"batter_coldness\",\n",
    "    \"batter_overpowerment\",\n",
    "    \"batter_ruthlessness\",\n",
    "    \"batter_shakespearianism\",\n",
    "    \"batter_suppression\",\n",
    "    \"batter_unthwackability\",\n",
    "    \"batter_base_thirst\",\n",
    "    \"batter_continuation\",\n",
    "    \"batter_ground_friction\",\n",
    "    \"batter_indulgence\",\n",
    "    \"batter_laserlikeness\",\n",
    "    \"batter_anticapitalism\",\n",
    "    \"batter_chasiness\",\n",
    "    \"batter_omniscience\",\n",
    "    \"batter_tenaciousness\",\n",
    "    \"batter_watchfulness\",\n",
    "    \"batter_pressurization\",\n",
    "    \"batter_cinnamon\",\n",
    "]:\n",
    "    # had to do all this to make chunky and smooth work correctly\n",
    "    df[attr+\"_mul_vibe\"] = df.apply(lambda x: x[attr] * x[\"batter_mul\"] * (1 + 0.2 * x[\"batter_vibes\"])\n",
    "                                  if (x[\"batter_mul_attrs\"] == \"\") or (attr in x[\"batter_mul_attrs\"])\n",
    "                                  else x[attr] * (1 + 0.2 * x[\"batter_vibes\"]),\n",
    "                                  axis=1)\n",
    "    # df[attr + \"_mul_vibe\"] = df[attr] * df[\"batter_mul\"] * (1 + 0.2 * df[\"batter_vibes\"])"
   ]
  },
  {
   "cell_type": "code",
   "execution_count": 7,
   "metadata": {
    "collapsed": false,
    "jupyter": {
     "outputs_hidden": false
    },
    "pycharm": {
     "name": "#%%\n"
    }
   },
   "outputs": [],
   "source": [
    "df = df.copy()\n",
    "for attr in [\n",
    "    \"pitcher_buoyancy\",\n",
    "    \"pitcher_divinity\",\n",
    "    \"pitcher_martyrdom\",\n",
    "    \"pitcher_moxie\",\n",
    "    \"pitcher_musclitude\",\n",
    "    \"pitcher_patheticism\",\n",
    "    \"pitcher_thwackability\",\n",
    "    \"pitcher_tragicness\",\n",
    "    \"pitcher_ruthlessness\",\n",
    "    \"pitcher_overpowerment\",\n",
    "    \"pitcher_unthwackability\",\n",
    "    \"pitcher_shakespearianism\",\n",
    "    \"pitcher_suppression\",\n",
    "    \"pitcher_coldness\",\n",
    "    \"pitcher_base_thirst\",\n",
    "    \"pitcher_continuation\",\n",
    "    \"pitcher_ground_friction\",\n",
    "    \"pitcher_indulgence\",\n",
    "    \"pitcher_laserlikeness\",\n",
    "    \"pitcher_anticapitalism\",\n",
    "    \"pitcher_chasiness\",\n",
    "    \"pitcher_omniscience\",\n",
    "    \"pitcher_tenaciousness\",\n",
    "    \"pitcher_watchfulness\",\n",
    "    \"pitcher_pressurization\",\n",
    "    \"pitcher_cinnamon\",\n",
    "]:\n",
    "    # df[attr+\"_mul_vibe\"] = df.apply(lambda x: x[attr] * x[\"pitcher_mul\"] * (1 + 0.2 * df[\"pitcher_vibes\"])\n",
    "    #                           if (x[\"pitcher_mul_attrs\"] == \"\") or (attr in x[\"pitcher_mul_attrs\"])\n",
    "    #                           else x[attr] * (1 + 0.2 * df[\"pitcher_vibes\"]),\n",
    "    #                           axis=1)\n",
    "    df[attr + \"_mul_vibe\"] = df[attr] * df[\"pitcher_mul\"] * (1 + 0.2 * df[\"pitcher_vibes\"])"
   ]
  },
  {
   "cell_type": "code",
   "execution_count": 294,
   "metadata": {
    "collapsed": false,
    "jupyter": {
     "outputs_hidden": false
    },
    "pycharm": {
     "name": "#%%\n"
    }
   },
   "outputs": [],
   "source": [
    "if \"fielder_vibes\" in df:\n",
    "    for attr in [\n",
    "        \"fielder_anticapitalism\",\n",
    "        \"fielder_chasiness\",\n",
    "        \"fielder_omniscience\",\n",
    "        \"fielder_tenaciousness\",\n",
    "        \"fielder_watchfulness\",\n",
    "    ]:\n",
    "        # df[attr+\"_mul_vibe\"] = df.apply(lambda x: x[attr] * x[\"fielder_mul\"] * (1 + 0.2 * df[\"fielder_vibes\"])\n",
    "        #                       if (x[\"fielder_mul_attrs\"] == \"\") or (attr in x[\"fielder_mul_attrs\"])\n",
    "        #                       else x[attr] * (1 + 0.2 * df[\"fielder_vibes\"]),\n",
    "        #                       axis=1)\n",
    "        df[attr + \"_mul_vibe\"] = df[attr] * df[\"fielder_mul\"] * (1 + 0.2 * df[\"fielder_vibes\"])\n",
    "\n",
    "df[\"cold_runners\"] = df[\"pitcher_coldness_mul_vibe\"] * (0 + df[\"baserunner_count\"])\n",
    "df[\"laser_thirst\"] = df[\"batter_laserlikeness_mul_vibe\"] * df[\"batter_base_thirst_mul_vibe\"]\n",
    "df[\"thirstsq\"] = df[\"batter_base_thirst_mul_vibe\"] * df[\"batter_base_thirst_mul_vibe\"]\n",
    "df[\"lasersq\"] = df[\"batter_laserlikeness_mul_vibe\"] * df[\"batter_laserlikeness_mul_vibe\"]\n",
    "df[\"explaser\"] = np.exp(df[\"batter_laserlikeness_mul_vibe\"])\n",
    "df[\"sinlaser\"] = np.sin(df[\"batter_laserlikeness_mul_vibe\"])\n",
    "# df[\"laser3\"] = df[\"lasersq\"] * df[\"batter_laserlikeness_mul_vibe\"]\n",
    "# df[\"laser4\"] = df[\"laser3\"] * df[\"batter_laserlikeness_mul_vibe\"]\n",
    "# df[\"laser5\"] = df[\"laser4\"] * df[\"batter_laserlikeness_mul_vibe\"]\n",
    "df = df.copy()"
   ]
  },
  {
   "cell_type": "code",
   "execution_count": 295,
   "metadata": {},
   "outputs": [
    {
     "data": {
      "text/plain": [
       "event_type\n",
       "StealAttempt0    27686\n",
       "StealAttempt1    14307\n",
       "StealAttempt2    13089\n",
       "dtype: int64"
      ]
     },
     "execution_count": 295,
     "metadata": {},
     "output_type": "execute_result"
    }
   ],
   "source": [
    "df.groupby(\"event_type\").size().sort_values(ascending=False)[0:15]"
   ]
  },
  {
   "cell_type": "code",
   "execution_count": 296,
   "metadata": {
    "collapsed": false,
    "jupyter": {
     "outputs_hidden": false
    },
    "pycharm": {
     "name": "#%%\n"
    }
   },
   "outputs": [
    {
     "data": {
      "text/plain": [
       "20190"
      ]
     },
     "execution_count": 296,
     "metadata": {},
     "output_type": "execute_result"
    }
   ],
   "source": [
    "dfc = df[df[\"event_type\"] == \"StealAttempt0\"].copy()\n",
    "# for exclude_mod in [\"OVERPERFORMING\", \"UNDERPERFORMING\", \"HIGH_PRESSURE\", \"GROWTH\", \"SINKING_SHIP\", \"TRAVELING\"]:\n",
    "# for exclude_mod in [\"FLINCH\", \"O_NO\", \"ON_FIRE\", \"GROWTH\", \"TRAVELING\"]:\n",
    "# for exclude_mod in [\"SPICY\", \"ON_FIRE\"]:\n",
    "# dfc = dfc[~dfc[\"batter_mods\"].astype(str).str.contains(exclude_mod)]\n",
    "#  dfc = dfc[~dfc[\"pitcher_mods\"].astype(str).str.contains(exclude_mod)]\n",
    "#  dfc = dfc[~dfc[\"pitching_team_mods\"].astype(str).str.contains(exclude_mod)]\n",
    "#  dfc = dfc[~dfc[\"batting_team_mods\"].astype(str).str.contains(exclude_mod)]\n",
    "\n",
    "\n",
    "dfc = dfc[(dfc[\"pitcher_mul\"] == 1) & (dfc[\"batter_mul\"] == 1) & (dfc[\"fielder_mul\"] == 1)]\n",
    "\n",
    "# dfc = dfc[dfc['stadium_id'].isna()]\n",
    "\n",
    "len(dfc)"
   ]
  },
  {
   "cell_type": "code",
   "execution_count": 348,
   "metadata": {
    "collapsed": false,
    "jupyter": {
     "outputs_hidden": false
    },
    "pycharm": {
     "name": "#%%\n"
    }
   },
   "outputs": [],
   "source": [
    "X = dfc[\n",
    "    [\n",
    "        \"roll\",\n",
    "        \"passed\",\n",
    "        # \"batter_base_thirst_mul_vibe\",\n",
    "        # \"batter_laserlikeness_mul_vibe\",\n",
    "        \"pitcher_watchfulness_mul_vibe\",\n",
    "        # \"pitcher_anticapitalism_mul_vibe\",\n",
    "        # \"pitcher_coldness_mul_vibe\",\n",
    "        \"laser_thirst\",\n",
    "        # \"explaser\",\n",
    "        # \"sinlaser\",\n",
    "        # \"lasersq\",\n",
    "        # \"laser3\",\n",
    "        # \"laser4\",\n",
    "        # \"laser5\",\n",
    "        # \"thirstsq\",\n",
    "        # \"cold_runners\",\n",
    "        # \"fielder_omniscience_mul_vibe\",\n",
    "        # 'fielder_tenaciousness_mul_vibe',\n",
    "        \"fielder_watchfulness_mul_vibe\",\n",
    "        # \"fielder_watchfulness\",\n",
    "        # \"fielder_anticapitalism_mul_vibe\",\n",
    "        # 'fielder_chasiness_mul_vibe',\n",
    "        # \"ballpark_grandiosity\",\n",
    "        # 'ballpark_fortification',\n",
    "        # \"ballpark_obtuseness\",\n",
    "        # 'ballpark_ominousness',\n",
    "        \"ballpark_inconvenience\",\n",
    "        # \"ballpark_viscosity\",\n",
    "        # \"ballpark_forwardness\",\n",
    "        'ballpark_elongation',\n",
    "        # 'ballpark_mysticism',\n",
    "        # 'ballpark_filthiness',\n",
    "    ]\n",
    "]\n",
    "# X = X[X['roll'] < 0.85]\n",
    "\n",
    "y = X[\"passed\"]\n",
    "X = X.drop(\"passed\", axis=1)"
   ]
  },
  {
   "cell_type": "code",
   "execution_count": 349,
   "metadata": {
    "collapsed": false,
    "jupyter": {
     "outputs_hidden": false
    },
    "pycharm": {
     "name": "#%%\n"
    }
   },
   "outputs": [
    {
     "name": "stdout",
     "output_type": "stream",
     "text": [
      "[[19238    52]\n",
      " [   77   823]]\n",
      "              precision    recall  f1-score   support\n",
      "\n",
      "       False       1.00      1.00      1.00     19290\n",
      "        True       0.94      0.91      0.93       900\n",
      "\n",
      "    accuracy                           0.99     20190\n",
      "   macro avg       0.97      0.96      0.96     20190\n",
      "weighted avg       0.99      0.99      0.99     20190\n",
      "\n",
      "0.9936106983655275\n"
     ]
    }
   ],
   "source": [
    "from sklearn.preprocessing import StandardScaler\n",
    "from sklearn.metrics import confusion_matrix\n",
    "from sklearn.metrics import classification_report\n",
    "from sklearn import svm, linear_model\n",
    "\n",
    "# # trainedsvm = svm.SVC(kernel='linear').fit(X, y)\n",
    "# trainedsvm = svm.LinearSVC(dual=False, max_iter=100000).fit(X, y)\n",
    "# predictionsvm = trainedsvm.predict(X)\n",
    "# print(confusion_matrix(y,predictionsvm))\n",
    "# print(classification_report(y,predictionsvm))\n",
    "\n",
    "sc = StandardScaler()\n",
    "X2 = sc.fit_transform(X)\n",
    "\n",
    "trainedsvm = svm.LinearSVC(dual=False, max_iter=1000000, C=1000000, tol=1e-10).fit(X2, y)\n",
    "predictionsvm = trainedsvm.predict(X2)\n",
    "print(confusion_matrix(y, predictionsvm))\n",
    "print(classification_report(y, predictionsvm))\n",
    "print(trainedsvm.score(X2, y))"
   ]
  },
  {
   "cell_type": "code",
   "execution_count": 350,
   "metadata": {
    "collapsed": false,
    "jupyter": {
     "outputs_hidden": false
    },
    "pycharm": {
     "name": "#%%\n"
    }
   },
   "outputs": [
    {
     "name": "stdout",
     "output_type": "stream",
     "text": [
      "[-0.07655228]\n"
     ]
    },
    {
     "data": {
      "text/plain": [
       "[(1.0, 'roll'),\n",
       " (-0.13874919102487646, 'laser_thirst'),\n",
       " (0.05912713321015933, 'pitcher_watchfulness_mul_vibe'),\n",
       " (0.05576143922253287, 'ballpark_elongation'),\n",
       " (0.027670731397518585, 'ballpark_inconvenience'),\n",
       " (0.021151587926087765, 'fielder_watchfulness_mul_vibe')]"
      ]
     },
     "execution_count": 350,
     "metadata": {},
     "output_type": "execute_result"
    }
   ],
   "source": [
    "coef = np.true_divide(trainedsvm.coef_, sc.scale_)\n",
    "coef_scaled = coef / coef[0, 0]\n",
    "coef_list = coef_scaled.tolist()[0]\n",
    "\n",
    "intercept = trainedsvm.intercept_ - np.dot(coef, sc.mean_)\n",
    "intercept_scaled = intercept / coef[0, 0]\n",
    "print(intercept_scaled)\n",
    "sorted(zip(coef_list, X.columns), key=lambda x: abs(x[0]), reverse=True)"
   ]
  },
  {
   "cell_type": "markdown",
   "metadata": {},
   "source": [
    "## Best formulas so far"
   ]
  },
  {
   "cell_type": "code",
   "execution_count": 351,
   "metadata": {
    "collapsed": false,
    "jupyter": {
     "outputs_hidden": false
    },
    "pycharm": {
     "name": "#%%\n"
    }
   },
   "outputs": [
    {
     "name": "stdout",
     "output_type": "stream",
     "text": [
      "[0.07655228]\n",
      "(-0.05912713321015933, 'pitcher_watchfulness_mul_vibe')\n",
      "(0.13874919102487646, 'laser_thirst')\n",
      "(-0.021151587926087765, 'fielder_watchfulness_mul_vibe')\n",
      "(-0.027670731397518585, 'ballpark_inconvenience')\n",
      "(-0.05576143922253287, 'ballpark_elongation')\n"
     ]
    },
    {
     "data": {
      "text/plain": [
       "<matplotlib.legend.Legend at 0x7f903a1e91c0>"
      ]
     },
     "execution_count": 351,
     "metadata": {},
     "output_type": "execute_result"
    },
    {
     "data": {
      "image/png": "[encoded data removed]",
      "text/plain": [
       "<Figure size 432x432 with 1 Axes>"
      ]
     },
     "metadata": {
      "needs_background": "light"
     },
     "output_type": "display_data"
    }
   ],
   "source": [
    "# dfc[\"threshold\"] = 0.315 - (\n",
    "#     -0.10 * dfc[\"batter_thwackability_mul_vibe\"]\n",
    "#     + 0.08 * dfc[\"pitcher_unthwackability_mul_vibe\"]\n",
    "#     + 0.07 * dfc[\"fielder_omniscience_mul_vibe\"]\n",
    "# )  # this works for season 12 and 13 without ballparks\n",
    "\n",
    "# this will use the fit values\n",
    "dfc[\"threshold\"] = -intercept_scaled[0]\n",
    "print(-intercept_scaled)\n",
    "for pair in zip(-np.array(coef_list), X.columns):\n",
    "    if pair[1] != \"roll\":\n",
    "        print(pair)\n",
    "        dfc[\"threshold\"] += pair[0] * dfc[pair[1]]\n",
    "\n",
    "\n",
    "y_val = \"roll\"\n",
    "x_val = \"threshold\"\n",
    "# x_val = \"batter_watchfulness_mul_vibe\"\n",
    "fig, ax = plt.subplots(1, figsize=(6, 6))\n",
    "ax.scatter(\n",
    "    dfc[~dfc[\"passed\"]][x_val],\n",
    "    dfc[~dfc[\"passed\"]][y_val],\n",
    "    color=\"red\",\n",
    "    label=\"No Steal\",\n",
    "    marker=CARETRIGHTBASE,\n",
    ")\n",
    "ax.scatter(\n",
    "    dfc[dfc[\"passed\"]][x_val],\n",
    "    dfc[dfc[\"passed\"]][y_val],\n",
    "    color=\"blue\",\n",
    "    label=\"Steal\",\n",
    "    marker=CARETLEFTBASE,\n",
    ")\n",
    "ax.set_xlabel(x_val)\n",
    "ax.set_ylabel(\"roll\")\n",
    "ax.set_title(f\"Season {season+1} Steal Attempts\")\n",
    "# ax.set_xlim(0.484, 0.499)\n",
    "ax.set_ylim(0, 0.5)\n",
    "\n",
    "if x_val == \"threshold\":\n",
    "    ax.plot(ax.get_xlim(), ax.get_xlim())\n",
    "\n",
    "ax.legend()"
   ]
  },
  {
   "cell_type": "code",
   "execution_count": 352,
   "metadata": {
    "tags": []
   },
   "outputs": [
    {
     "data": {
      "text/plain": [
       "<matplotlib.legend.Legend at 0x7f905f8d1970>"
      ]
     },
     "execution_count": 352,
     "metadata": {},
     "output_type": "execute_result"
    },
    {
     "data": {
      "image/png": "[encoded data removed]",
      "text/plain": [
       "<Figure size 432x288 with 1 Axes>"
      ]
     },
     "metadata": {
      "needs_background": "light"
     },
     "output_type": "display_data"
    }
   ],
   "source": [
    "dfc[\"offset\"] = dfc[\"roll\"] - dfc[\"threshold\"]\n",
    "outliers = dfc[(dfc[\"passed\"] & (dfc[\"offset\"] >= 0)) | (~dfc[\"passed\"] & (dfc[\"offset\"] <= 0))]\n",
    "\n",
    "fig, ax = plt.subplots(1)\n",
    "x_val = \"threshold\"\n",
    "x_val = \"fielder_watchfulness_mul_vibe\"\n",
    "# x_val = \"lasersq\"\n",
    "ax.scatter(\n",
    "    outliers[~outliers[\"passed\"]][x_val],\n",
    "    outliers[~outliers[\"passed\"]][\"offset\"],\n",
    "    color=\"red\",\n",
    "    label=\"No Steal\",\n",
    ")\n",
    "ax.scatter(\n",
    "    outliers[outliers[\"passed\"]][x_val],\n",
    "    outliers[outliers[\"passed\"]][\"offset\"],\n",
    "    color=\"blue\",\n",
    "    label=\"Steal\",\n",
    ")\n",
    "ax.set_xlabel(x_val)\n",
    "ax.set_ylabel(\"offset\")\n",
    "ax.legend()"
   ]
  },
  {
   "cell_type": "code",
   "execution_count": 353,
   "metadata": {},
   "outputs": [
    {
     "name": "stdout",
     "output_type": "stream",
     "text": [
      "129\n"
     ]
    },
    {
     "data": {
      "text/html": [
       "<div>\n",
       "<style scoped>\n",
       "    .dataframe tbody tr th:only-of-type {\n",
       "        vertical-align: middle;\n",
       "    }\n",
       "\n",
       "    .dataframe tbody tr th {\n",
       "        vertical-align: top;\n",
       "    }\n",
       "\n",
       "    .dataframe thead th {\n",
       "        text-align: right;\n",
       "    }\n",
       "</style>\n",
       "<table border=\"1\" class=\"dataframe\">\n",
       "  <thead>\n",
       "    <tr style=\"text-align: right;\">\n",
       "      <th></th>\n",
       "      <th>passed</th>\n",
       "      <th>offset</th>\n",
       "      <th>roll</th>\n",
       "      <th>threshold</th>\n",
       "      <th>pitcher_mul</th>\n",
       "      <th>batter_mul</th>\n",
       "      <th>fielder_mul</th>\n",
       "      <th>laser_thirst</th>\n",
       "      <th>pitcher_watchfulness_mul_vibe</th>\n",
       "      <th>fielder_watchfulness_mul_vibe</th>\n",
       "      <th>ballpark_inconvenience</th>\n",
       "      <th>batter_name</th>\n",
       "      <th>pitcher_name</th>\n",
       "      <th>fielder_name</th>\n",
       "      <th>batter_mods</th>\n",
       "      <th>pitcher_mods</th>\n",
       "      <th>fielder_mods</th>\n",
       "      <th>batting_team_mods</th>\n",
       "      <th>pitching_team_mods</th>\n",
       "      <th>season</th>\n",
       "      <th>day</th>\n",
       "      <th>game_id</th>\n",
       "      <th>play_count</th>\n",
       "    </tr>\n",
       "  </thead>\n",
       "  <tbody>\n",
       "    <tr>\n",
       "      <th>128455</th>\n",
       "      <td>True</td>\n",
       "      <td>0.036149</td>\n",
       "      <td>0.000184</td>\n",
       "      <td>-0.035965</td>\n",
       "      <td>1.0</td>\n",
       "      <td>1.0</td>\n",
       "      <td>1.0</td>\n",
       "      <td>0.027196</td>\n",
       "      <td>1.176318</td>\n",
       "      <td>0.335918</td>\n",
       "      <td>0.466335</td>\n",
       "      <td>Bonk Jokes</td>\n",
       "      <td>Ruslan Greatness</td>\n",
       "      <td>Lang Richardson</td>\n",
       "      <td>NaN</td>\n",
       "      <td>FRIEND_OF_CROWS</td>\n",
       "      <td>NaN</td>\n",
       "      <td>O_NO</td>\n",
       "      <td>AFFINITY_FOR_CROWS</td>\n",
       "      <td>13</td>\n",
       "      <td>104</td>\n",
       "      <td>bf090bfc-0b4b-4654-bd85-f2ec3123341d</td>\n",
       "      <td>128</td>\n",
       "    </tr>\n",
       "    <tr>\n",
       "      <th>113554</th>\n",
       "      <td>True</td>\n",
       "      <td>0.032880</td>\n",
       "      <td>0.028028</td>\n",
       "      <td>-0.004852</td>\n",
       "      <td>1.0</td>\n",
       "      <td>1.0</td>\n",
       "      <td>1.0</td>\n",
       "      <td>0.445086</td>\n",
       "      <td>1.495249</td>\n",
       "      <td>0.785549</td>\n",
       "      <td>0.414432</td>\n",
       "      <td>Scratch Deleuze</td>\n",
       "      <td>Gerund Pantheocide</td>\n",
       "      <td>Stijn Strongbody</td>\n",
       "      <td>NaN</td>\n",
       "      <td>NaN</td>\n",
       "      <td>SWIM_BLADDER</td>\n",
       "      <td>BOTTOM_DWELLER</td>\n",
       "      <td>NaN</td>\n",
       "      <td>13</td>\n",
       "      <td>36</td>\n",
       "      <td>6b9835ed-8454-41c3-ad57-e6db766fadea</td>\n",
       "      <td>12</td>\n",
       "    </tr>\n",
       "    <tr>\n",
       "      <th>101626</th>\n",
       "      <td>True</td>\n",
       "      <td>0.032069</td>\n",
       "      <td>0.136149</td>\n",
       "      <td>0.104080</td>\n",
       "      <td>1.0</td>\n",
       "      <td>1.0</td>\n",
       "      <td>1.0</td>\n",
       "      <td>1.095403</td>\n",
       "      <td>1.186304</td>\n",
       "      <td>0.610490</td>\n",
       "      <td>0.681991</td>\n",
       "      <td>Aldon Cashmoney</td>\n",
       "      <td>Enid Marlow</td>\n",
       "      <td>Scratch Deleuze</td>\n",
       "      <td>SPICY;EGO1</td>\n",
       "      <td>NaN</td>\n",
       "      <td>NaN</td>\n",
       "      <td>FIREPROOF;SEALANT;AMBUSH</td>\n",
       "      <td>BOTTOM_DWELLER</td>\n",
       "      <td>13</td>\n",
       "      <td>18</td>\n",
       "      <td>686aa24f-4f10-42a2-95d2-a50d679fd74d</td>\n",
       "      <td>245</td>\n",
       "    </tr>\n",
       "    <tr>\n",
       "      <th>7437</th>\n",
       "      <td>True</td>\n",
       "      <td>0.029116</td>\n",
       "      <td>0.000576</td>\n",
       "      <td>-0.028540</td>\n",
       "      <td>1.0</td>\n",
       "      <td>1.0</td>\n",
       "      <td>1.0</td>\n",
       "      <td>0.038572</td>\n",
       "      <td>0.940037</td>\n",
       "      <td>0.454521</td>\n",
       "      <td>0.602586</td>\n",
       "      <td>Oliver Mueller</td>\n",
       "      <td>Mindy Kugel</td>\n",
       "      <td>Adelaide Judochop</td>\n",
       "      <td>NaN</td>\n",
       "      <td>NaN</td>\n",
       "      <td>NaN</td>\n",
       "      <td>PARTY_TIME</td>\n",
       "      <td>MAINTENANCE_MODE;PARTY_TIME</td>\n",
       "      <td>13</td>\n",
       "      <td>88</td>\n",
       "      <td>0923b3fa-be73-4e3d-a7db-d423dc7e18ac</td>\n",
       "      <td>212</td>\n",
       "    </tr>\n",
       "    <tr>\n",
       "      <th>127817</th>\n",
       "      <td>True</td>\n",
       "      <td>0.027250</td>\n",
       "      <td>0.187810</td>\n",
       "      <td>0.160560</td>\n",
       "      <td>1.0</td>\n",
       "      <td>1.0</td>\n",
       "      <td>1.0</td>\n",
       "      <td>1.199111</td>\n",
       "      <td>0.484959</td>\n",
       "      <td>0.359714</td>\n",
       "      <td>0.505260</td>\n",
       "      <td>Aldon Cashmoney</td>\n",
       "      <td>Val Hitherto</td>\n",
       "      <td>Engine Eberhardt</td>\n",
       "      <td>SPICY;EGO2</td>\n",
       "      <td>NaN</td>\n",
       "      <td>NaN</td>\n",
       "      <td>FIREPROOF;SEALANT;AMBUSH</td>\n",
       "      <td>NaN</td>\n",
       "      <td>13</td>\n",
       "      <td>102</td>\n",
       "      <td>88596964-df34-4d81-996e-bce32b41ac01</td>\n",
       "      <td>140</td>\n",
       "    </tr>\n",
       "    <tr>\n",
       "      <th>...</th>\n",
       "      <td>...</td>\n",
       "      <td>...</td>\n",
       "      <td>...</td>\n",
       "      <td>...</td>\n",
       "      <td>...</td>\n",
       "      <td>...</td>\n",
       "      <td>...</td>\n",
       "      <td>...</td>\n",
       "      <td>...</td>\n",
       "      <td>...</td>\n",
       "      <td>...</td>\n",
       "      <td>...</td>\n",
       "      <td>...</td>\n",
       "      <td>...</td>\n",
       "      <td>...</td>\n",
       "      <td>...</td>\n",
       "      <td>...</td>\n",
       "      <td>...</td>\n",
       "      <td>...</td>\n",
       "      <td>...</td>\n",
       "      <td>...</td>\n",
       "      <td>...</td>\n",
       "      <td>...</td>\n",
       "    </tr>\n",
       "    <tr>\n",
       "      <th>105504</th>\n",
       "      <td>False</td>\n",
       "      <td>-0.019112</td>\n",
       "      <td>0.089067</td>\n",
       "      <td>0.108179</td>\n",
       "      <td>1.0</td>\n",
       "      <td>1.0</td>\n",
       "      <td>1.0</td>\n",
       "      <td>0.894883</td>\n",
       "      <td>0.861668</td>\n",
       "      <td>0.240852</td>\n",
       "      <td>0.426239</td>\n",
       "      <td>Pedro Davids</td>\n",
       "      <td>Doc Anice</td>\n",
       "      <td>Yusef Puddles</td>\n",
       "      <td>FLINCH</td>\n",
       "      <td>TRIPLE_THREAT</td>\n",
       "      <td>NaN</td>\n",
       "      <td>CARCINIZATION;UNHOLEY</td>\n",
       "      <td>AFFINITY_FOR_CROWS</td>\n",
       "      <td>13</td>\n",
       "      <td>22</td>\n",
       "      <td>5aee3e80-6285-457d-aa81-32fd4c637a56</td>\n",
       "      <td>291</td>\n",
       "    </tr>\n",
       "    <tr>\n",
       "      <th>7246</th>\n",
       "      <td>False</td>\n",
       "      <td>-0.019455</td>\n",
       "      <td>0.123543</td>\n",
       "      <td>0.142998</td>\n",
       "      <td>1.0</td>\n",
       "      <td>1.0</td>\n",
       "      <td>1.0</td>\n",
       "      <td>1.006718</td>\n",
       "      <td>0.466471</td>\n",
       "      <td>0.094312</td>\n",
       "      <td>0.459210</td>\n",
       "      <td>Kline Greenlemon</td>\n",
       "      <td>Felix Garbage</td>\n",
       "      <td>Winnie Mccall</td>\n",
       "      <td>NaN</td>\n",
       "      <td>NaN</td>\n",
       "      <td>NaN</td>\n",
       "      <td>NaN</td>\n",
       "      <td>BIRD_SEED</td>\n",
       "      <td>13</td>\n",
       "      <td>88</td>\n",
       "      <td>bbcb3c19-82cb-4350-9666-cdcf3df8dd89</td>\n",
       "      <td>128</td>\n",
       "    </tr>\n",
       "    <tr>\n",
       "      <th>120377</th>\n",
       "      <td>False</td>\n",
       "      <td>-0.022319</td>\n",
       "      <td>0.099297</td>\n",
       "      <td>0.121616</td>\n",
       "      <td>1.0</td>\n",
       "      <td>1.0</td>\n",
       "      <td>1.0</td>\n",
       "      <td>0.860336</td>\n",
       "      <td>0.364109</td>\n",
       "      <td>0.318188</td>\n",
       "      <td>0.512710</td>\n",
       "      <td>Pedro Davids</td>\n",
       "      <td>Cornelius Games</td>\n",
       "      <td>Simon Haley</td>\n",
       "      <td>FLINCH</td>\n",
       "      <td>WILD;PERK</td>\n",
       "      <td>FLINCH</td>\n",
       "      <td>CARCINIZATION;UNHOLEY</td>\n",
       "      <td>TRAVELING</td>\n",
       "      <td>13</td>\n",
       "      <td>43</td>\n",
       "      <td>e751d84a-49a4-4b2d-b234-0838d077b0e9</td>\n",
       "      <td>50</td>\n",
       "    </tr>\n",
       "    <tr>\n",
       "      <th>101249</th>\n",
       "      <td>False</td>\n",
       "      <td>-0.026301</td>\n",
       "      <td>0.071256</td>\n",
       "      <td>0.097557</td>\n",
       "      <td>1.0</td>\n",
       "      <td>1.0</td>\n",
       "      <td>1.0</td>\n",
       "      <td>0.979316</td>\n",
       "      <td>0.973806</td>\n",
       "      <td>0.835037</td>\n",
       "      <td>0.466335</td>\n",
       "      <td>Tot Fox</td>\n",
       "      <td>Curry Aliciakeyes</td>\n",
       "      <td>Bevan Wise</td>\n",
       "      <td>FLINCH</td>\n",
       "      <td>OVERUNDER</td>\n",
       "      <td>NaN</td>\n",
       "      <td>CARCINIZATION;UNHOLEY</td>\n",
       "      <td>O_NO</td>\n",
       "      <td>13</td>\n",
       "      <td>18</td>\n",
       "      <td>800c2e8d-1b3a-4c92-8e98-b2ae3813775e</td>\n",
       "      <td>132</td>\n",
       "    </tr>\n",
       "    <tr>\n",
       "      <th>97966</th>\n",
       "      <td>False</td>\n",
       "      <td>-0.036218</td>\n",
       "      <td>0.139534</td>\n",
       "      <td>0.175752</td>\n",
       "      <td>1.0</td>\n",
       "      <td>1.0</td>\n",
       "      <td>1.0</td>\n",
       "      <td>1.519016</td>\n",
       "      <td>1.074307</td>\n",
       "      <td>0.114946</td>\n",
       "      <td>0.544278</td>\n",
       "      <td>Nagomi Nava</td>\n",
       "      <td>Qais Dogwalker</td>\n",
       "      <td>Cannonball Sports</td>\n",
       "      <td>FIRE_EATER</td>\n",
       "      <td>FRIEND_OF_CROWS</td>\n",
       "      <td>NaN</td>\n",
       "      <td>BASE_INSTINCTS</td>\n",
       "      <td>LIFE_OF_PARTY;ELECTRIC</td>\n",
       "      <td>13</td>\n",
       "      <td>14</td>\n",
       "      <td>9ec53fb5-cd61-41c8-8aca-d1e50de5024a</td>\n",
       "      <td>178</td>\n",
       "    </tr>\n",
       "  </tbody>\n",
       "</table>\n",
       "<p>129 rows × 23 columns</p>\n",
       "</div>"
      ],
      "text/plain": [
       "        passed    offset      roll  threshold  pitcher_mul  batter_mul  \\\n",
       "128455    True  0.036149  0.000184  -0.035965          1.0         1.0   \n",
       "113554    True  0.032880  0.028028  -0.004852          1.0         1.0   \n",
       "101626    True  0.032069  0.136149   0.104080          1.0         1.0   \n",
       "7437      True  0.029116  0.000576  -0.028540          1.0         1.0   \n",
       "127817    True  0.027250  0.187810   0.160560          1.0         1.0   \n",
       "...        ...       ...       ...        ...          ...         ...   \n",
       "105504   False -0.019112  0.089067   0.108179          1.0         1.0   \n",
       "7246     False -0.019455  0.123543   0.142998          1.0         1.0   \n",
       "120377   False -0.022319  0.099297   0.121616          1.0         1.0   \n",
       "101249   False -0.026301  0.071256   0.097557          1.0         1.0   \n",
       "97966    False -0.036218  0.139534   0.175752          1.0         1.0   \n",
       "\n",
       "        fielder_mul  laser_thirst  pitcher_watchfulness_mul_vibe  \\\n",
       "128455          1.0      0.027196                       1.176318   \n",
       "113554          1.0      0.445086                       1.495249   \n",
       "101626          1.0      1.095403                       1.186304   \n",
       "7437            1.0      0.038572                       0.940037   \n",
       "127817          1.0      1.199111                       0.484959   \n",
       "...             ...           ...                            ...   \n",
       "105504          1.0      0.894883                       0.861668   \n",
       "7246            1.0      1.006718                       0.466471   \n",
       "120377          1.0      0.860336                       0.364109   \n",
       "101249          1.0      0.979316                       0.973806   \n",
       "97966           1.0      1.519016                       1.074307   \n",
       "\n",
       "        fielder_watchfulness_mul_vibe  ballpark_inconvenience  \\\n",
       "128455                       0.335918                0.466335   \n",
       "113554                       0.785549                0.414432   \n",
       "101626                       0.610490                0.681991   \n",
       "7437                         0.454521                0.602586   \n",
       "127817                       0.359714                0.505260   \n",
       "...                               ...                     ...   \n",
       "105504                       0.240852                0.426239   \n",
       "7246                         0.094312                0.459210   \n",
       "120377                       0.318188                0.512710   \n",
       "101249                       0.835037                0.466335   \n",
       "97966                        0.114946                0.544278   \n",
       "\n",
       "             batter_name        pitcher_name       fielder_name batter_mods  \\\n",
       "128455        Bonk Jokes    Ruslan Greatness    Lang Richardson         NaN   \n",
       "113554   Scratch Deleuze  Gerund Pantheocide   Stijn Strongbody         NaN   \n",
       "101626   Aldon Cashmoney         Enid Marlow    Scratch Deleuze  SPICY;EGO1   \n",
       "7437      Oliver Mueller         Mindy Kugel  Adelaide Judochop         NaN   \n",
       "127817   Aldon Cashmoney        Val Hitherto   Engine Eberhardt  SPICY;EGO2   \n",
       "...                  ...                 ...                ...         ...   \n",
       "105504      Pedro Davids           Doc Anice      Yusef Puddles      FLINCH   \n",
       "7246    Kline Greenlemon       Felix Garbage      Winnie Mccall         NaN   \n",
       "120377      Pedro Davids     Cornelius Games        Simon Haley      FLINCH   \n",
       "101249           Tot Fox   Curry Aliciakeyes         Bevan Wise      FLINCH   \n",
       "97966        Nagomi Nava      Qais Dogwalker  Cannonball Sports  FIRE_EATER   \n",
       "\n",
       "           pitcher_mods  fielder_mods         batting_team_mods  \\\n",
       "128455  FRIEND_OF_CROWS           NaN                      O_NO   \n",
       "113554              NaN  SWIM_BLADDER            BOTTOM_DWELLER   \n",
       "101626              NaN           NaN  FIREPROOF;SEALANT;AMBUSH   \n",
       "7437                NaN           NaN                PARTY_TIME   \n",
       "127817              NaN           NaN  FIREPROOF;SEALANT;AMBUSH   \n",
       "...                 ...           ...                       ...   \n",
       "105504    TRIPLE_THREAT           NaN     CARCINIZATION;UNHOLEY   \n",
       "7246                NaN           NaN                       NaN   \n",
       "120377        WILD;PERK        FLINCH     CARCINIZATION;UNHOLEY   \n",
       "101249        OVERUNDER           NaN     CARCINIZATION;UNHOLEY   \n",
       "97966   FRIEND_OF_CROWS           NaN            BASE_INSTINCTS   \n",
       "\n",
       "                 pitching_team_mods  season  day  \\\n",
       "128455           AFFINITY_FOR_CROWS      13  104   \n",
       "113554                          NaN      13   36   \n",
       "101626               BOTTOM_DWELLER      13   18   \n",
       "7437    MAINTENANCE_MODE;PARTY_TIME      13   88   \n",
       "127817                          NaN      13  102   \n",
       "...                             ...     ...  ...   \n",
       "105504           AFFINITY_FOR_CROWS      13   22   \n",
       "7246                      BIRD_SEED      13   88   \n",
       "120377                    TRAVELING      13   43   \n",
       "101249                         O_NO      13   18   \n",
       "97966        LIFE_OF_PARTY;ELECTRIC      13   14   \n",
       "\n",
       "                                     game_id  play_count  \n",
       "128455  bf090bfc-0b4b-4654-bd85-f2ec3123341d         128  \n",
       "113554  6b9835ed-8454-41c3-ad57-e6db766fadea          12  \n",
       "101626  686aa24f-4f10-42a2-95d2-a50d679fd74d         245  \n",
       "7437    0923b3fa-be73-4e3d-a7db-d423dc7e18ac         212  \n",
       "127817  88596964-df34-4d81-996e-bce32b41ac01         140  \n",
       "...                                      ...         ...  \n",
       "105504  5aee3e80-6285-457d-aa81-32fd4c637a56         291  \n",
       "7246    bbcb3c19-82cb-4350-9666-cdcf3df8dd89         128  \n",
       "120377  e751d84a-49a4-4b2d-b234-0838d077b0e9          50  \n",
       "101249  800c2e8d-1b3a-4c92-8e98-b2ae3813775e         132  \n",
       "97966   9ec53fb5-cd61-41c8-8aca-d1e50de5024a         178  \n",
       "\n",
       "[129 rows x 23 columns]"
      ]
     },
     "execution_count": 353,
     "metadata": {},
     "output_type": "execute_result"
    }
   ],
   "source": [
    "# pd.set_option(\"display.max_rows\", None)\n",
    "pd.set_option(\"display.max_columns\", None)\n",
    "table = outliers[\n",
    "    [\n",
    "        \"passed\",\n",
    "        \"offset\",\n",
    "        \"roll\",\n",
    "        \"threshold\",\n",
    "        # \"event_type\",  # \"home_score\", \"away_score\", \"top_of_inning\", \"inning\",\n",
    "        \"pitcher_mul\",\n",
    "        \"batter_mul\",\n",
    "        \"fielder_mul\",  # \"baserunner_count\",\n",
    "        # \"batter_vibes\", \"pitcher_vibes\",\n",
    "        \"laser_thirst\",\n",
    "        \"pitcher_watchfulness_mul_vibe\",\n",
    "        \"fielder_watchfulness_mul_vibe\",\n",
    "        \"ballpark_inconvenience\",\n",
    "        \"batter_name\",\n",
    "        \"pitcher_name\",\n",
    "        \"fielder_name\",\n",
    "        \"batter_mods\",\n",
    "        \"pitcher_mods\",\n",
    "        \"fielder_mods\",\n",
    "        \"batting_team_mods\",\n",
    "        \"pitching_team_mods\",\n",
    "        \"season\",\n",
    "        \"day\",\n",
    "        \"game_id\",\n",
    "        \"play_count\",\n",
    "        # \"fielder_roll\",\n",
    "    ]\n",
    "]\n",
    "print(len(table))\n",
    "table.sort_values(\"offset\", ascending=False)#[0:10]"
   ]
  },
  {
   "cell_type": "code",
   "execution_count": null,
   "metadata": {},
   "outputs": [],
   "source": []
  },
  {
   "cell_type": "code",
   "execution_count": null,
   "metadata": {},
   "outputs": [],
   "source": []
  },
  {
   "cell_type": "code",
   "execution_count": null,
   "metadata": {},
   "outputs": [],
   "source": []
  },
  {
   "cell_type": "code",
   "execution_count": 327,
   "metadata": {},
   "outputs": [
    {
     "data": {
      "text/plain": [
       "fielder_name\n",
       "Basilio Mason      192\n",
       "Basilio Fig        191\n",
       "Valentine Games    185\n",
       "Eduardo Woodman    182\n",
       "Kaz Fiasco         177\n",
       "dtype: int64"
      ]
     },
     "execution_count": 327,
     "metadata": {},
     "output_type": "execute_result"
    }
   ],
   "source": [
    "# outliers.sort_values('roll', ascending=True).style.hide()\n",
    "dfc.groupby(\"fielder_name\").size().sort_values(ascending=False)[0:5]"
   ]
  },
  {
   "cell_type": "code",
   "execution_count": 328,
   "metadata": {
    "collapsed": false,
    "jupyter": {
     "outputs_hidden": false
    },
    "pycharm": {
     "name": "#%%\n"
    }
   },
   "outputs": [
    {
     "data": {
      "text/plain": [
       "passed                          -0.373477\n",
       "threshold                       -0.188566\n",
       "laser_thirst                    -0.176084\n",
       "lasersq                         -0.151750\n",
       "explaser                        -0.151741\n",
       "laser3                          -0.148070\n",
       "batter_laserlikeness_mul_vibe   -0.146644\n",
       "laser4                          -0.140539\n",
       "runner_on_first_laserlikeness   -0.137732\n",
       "batter_laserlikeness            -0.137732\n",
       "Name: offset, dtype: float64"
      ]
     },
     "execution_count": 328,
     "metadata": {},
     "output_type": "execute_result"
    }
   ],
   "source": [
    "dfc.corr()[\"offset\"].sort_values()[0:10]"
   ]
  },
  {
   "cell_type": "code",
   "execution_count": null,
   "metadata": {
    "pycharm": {
     "name": "#%%\n"
    },
    "tags": []
   },
   "outputs": [],
   "source": []
  },
  {
   "cell_type": "code",
   "execution_count": 329,
   "metadata": {
    "collapsed": false,
    "jupyter": {
     "outputs_hidden": false
    },
    "pycharm": {
     "name": "#%%\n"
    }
   },
   "outputs": [
    {
     "data": {
      "image/png": "[encoded data removed]",
      "text/plain": [
       "<Figure size 720x1080 with 6 Axes>"
      ]
     },
     "metadata": {
      "needs_background": "light"
     },
     "output_type": "display_data"
    }
   ],
   "source": [
    "plt.rcParams[\"font.size\"] = 10\n",
    "x_val = \"threshold\"\n",
    "fig, axes = plt.subplots(3, 2, figsize=(10, 15), constrained_layout=True)\n",
    "# fig.suptitle(f\"Season {season+1} Hits vs. Outs\", fontsize=16)\n",
    "dimlist = [5e-2, 2e-2, 1e-2, 0.5e-2, 0.2e-2, 0.1e-2]\n",
    "for i, ax in enumerate(np.ravel(axes)):\n",
    "    ax.scatter(\n",
    "        dfc[dfc[\"passed\"]][x_val],\n",
    "        dfc[dfc[\"passed\"]][\"offset\"],\n",
    "        color=\"blue\",\n",
    "        label=\"Steal\",\n",
    "    )\n",
    "    ax.scatter(\n",
    "        dfc[~dfc[\"passed\"]][x_val],\n",
    "        dfc[~dfc[\"passed\"]][\"offset\"],\n",
    "        color=\"red\",\n",
    "        label=\"No Steal\",\n",
    "    )\n",
    "    ax.scatter(\n",
    "        outliers[~outliers[\"passed\"]][x_val],\n",
    "        outliers[~outliers[\"passed\"]][\"offset\"],\n",
    "        color=\"red\",\n",
    "        edgecolor=\"black\",\n",
    "    )\n",
    "    ax.scatter(\n",
    "        outliers[outliers[\"passed\"]][x_val],\n",
    "        outliers[outliers[\"passed\"]][\"offset\"],\n",
    "        color=\"blue\",\n",
    "        edgecolor=\"black\",\n",
    "    )\n",
    "    ax.set_xlabel(x_val)\n",
    "    ax.set_ylabel(\"offset\")\n",
    "    ax.legend()\n",
    "    ax.grid()\n",
    "    ax.set_ylim(-dimlist[i], dimlist[i])\n",
    "# fig.savefig(\"hit_out_fit_offsets.png\", facecolor='white')"
   ]
  },
  {
   "cell_type": "code",
   "execution_count": null,
   "metadata": {
    "collapsed": false,
    "jupyter": {
     "outputs_hidden": false
    },
    "pycharm": {
     "name": "#%%\n"
    }
   },
   "outputs": [],
   "source": []
  },
  {
   "cell_type": "code",
   "execution_count": null,
   "metadata": {
    "collapsed": false,
    "jupyter": {
     "outputs_hidden": false
    },
    "pycharm": {
     "name": "#%%\n"
    }
   },
   "outputs": [],
   "source": []
  },
  {
   "cell_type": "code",
   "execution_count": null,
   "metadata": {
    "tags": []
   },
   "outputs": [],
   "source": []
  },
  {
   "cell_type": "code",
   "execution_count": null,
   "metadata": {},
   "outputs": [],
   "source": []
  }
 ],
 "metadata": {
  "kernelspec": {
   "display_name": "Python 3 (ipykernel)",
   "language": "python",
   "name": "python3"
  },
  "language_info": {
   "codemirror_mode": {
    "name": "ipython",
    "version": 3
   },
   "file_extension": ".py",
   "mimetype": "text/x-python",
   "name": "python",
   "nbconvert_exporter": "python",
   "pygments_lexer": "ipython3",
   "version": "3.9.12"
  }
 },
 "nbformat": 4,
 "nbformat_minor": 4
}
