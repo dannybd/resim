{
 "cells": [
  {
   "cell_type": "markdown",
   "metadata": {},
   "source": [
    "#Looks like the original was probably 0.02 - 0.01*fortification but was adjusted each season\n",
    "#Season 12-14 = 0.019 - 0.01*dfc[\"ballpark_fortification\"]\n",
    "#Season 15 = 0.02 - 0.0125*dfc[\"ballpark_fortification\"]"
   ]
  },
  {
   "cell_type": "code",
   "execution_count": 2,
   "metadata": {},
   "outputs": [],
   "source": [
    "import glob\n",
    "\n",
    "import pandas as pd\n",
    "import matplotlib.pyplot as plt\n",
    "import numpy as np\n",
    "from matplotlib.markers import CARETLEFTBASE, CARETRIGHTBASE\n",
    "from csv_dtypes import column_dtypes\n",
    "\n",
    "from sklearn.preprocessing import StandardScaler\n",
    "from sklearn.metrics import confusion_matrix\n",
    "from sklearn.metrics import classification_report\n",
    "from sklearn import svm, linear_model"
   ]
  },
  {
   "cell_type": "code",
   "execution_count": 3,
   "metadata": {},
   "outputs": [
    {
     "data": {
      "text/plain": [
       "11120"
      ]
     },
     "execution_count": 3,
     "metadata": {},
     "output_type": "execute_result"
    }
   ],
   "source": [
    "all_files = glob.glob(\"../roll_data/*-c1.csv\")\n",
    "\n",
    "df = pd.concat((pd.read_csv(f, dtype=column_dtypes) for f in all_files), ignore_index=True)\n",
    "\n",
    "# seasons = [11, 12]\n",
    "seasons = [11,12,13,14]\n",
    "# seasons = [14]\n",
    "# seasons = [13, 14]\n",
    "df = df[df['season'].isin(seasons)]\n",
    "len(df)"
   ]
  },
  {
   "cell_type": "code",
   "execution_count": 4,
   "metadata": {},
   "outputs": [],
   "source": [
    "dfc = df.copy()\n",
    "for exclude_mod in []:\n",
    "    dfc = dfc[~dfc[\"batter_mods\"].astype(str).str.contains(exclude_mod)]\n",
    "    dfc = dfc[~dfc[\"pitcher_mods\"].astype(str).str.contains(exclude_mod)]\n",
    "    dfc = dfc[~dfc[\"pitching_team_mods\"].astype(str).str.contains(exclude_mod)]\n",
    "    dfc = dfc[~dfc[\"batting_team_mods\"].astype(str).str.contains(exclude_mod)]\n",
    "for exclude_mod in []:\n",
    "    dfc = dfc[~dfc[\"fielder_mods\"].astype(str).str.contains(exclude_mod)]\n",
    "\n",
    "\n",
    "batter_params = ['batter_buoyancy', 'batter_divinity', 'batter_martyrdom', 'batter_moxie', 'batter_musclitude', 'batter_patheticism', 'batter_thwackability', 'batter_tragicness', 'batter_coldness', 'batter_overpowerment', 'batter_ruthlessness', 'batter_shakespearianism', 'batter_suppression', 'batter_unthwackability', 'batter_base_thirst', 'batter_continuation', 'batter_ground_friction', 'batter_indulgence', 'batter_laserlikeness', 'batter_anticapitalism', 'batter_chasiness', 'batter_omniscience', 'batter_tenaciousness', 'batter_watchfulness', 'batter_pressurization', 'batter_cinnamon']\n",
    "pitcher_params = ['pitcher_buoyancy', 'pitcher_divinity', 'pitcher_martyrdom', 'pitcher_moxie', 'pitcher_musclitude', 'pitcher_patheticism', 'pitcher_thwackability', 'pitcher_tragicness', 'pitcher_ruthlessness', 'pitcher_overpowerment', 'pitcher_unthwackability', 'pitcher_shakespearianism', 'pitcher_suppression', 'pitcher_coldness', 'pitcher_base_thirst', 'pitcher_continuation', 'pitcher_ground_friction', 'pitcher_indulgence', 'pitcher_laserlikeness', 'pitcher_anticapitalism', 'pitcher_chasiness', 'pitcher_omniscience', 'pitcher_tenaciousness', 'pitcher_watchfulness', 'pitcher_pressurization', 'pitcher_cinnamon']\n",
    "fielder_params = ['fielder_anticapitalism', 'fielder_chasiness', 'fielder_omniscience', 'fielder_tenaciousness', 'fielder_watchfulness']\n",
    "for attr in batter_params:\n",
    "    dfc[attr] = dfc[attr] * df['batter_multiplier']\n",
    "for attr in pitcher_params:\n",
    "    dfc[attr] = dfc[attr] * df['pitcher_multiplier']\n",
    "\n",
    "\n",
    "dfc.loc[dfc[\"pitcher_mods\"].astype(str).str.contains(\"SCATTERED\"),\"pitcher_vibes\"] = 0\n",
    "dfc.loc[dfc[\"batter_mods\"].astype(str).str.contains(\"SCATTERED\"),\"batter_vibes\"] = 0\n",
    "dfc.loc[dfc[\"fielder_mods\"].astype(str).str.contains(\"SCATTERED\"),\"fielder_vibes\"] = 0\n",
    "\n",
    "dfc = dfc[dfc[\"batter_multiplier\"] == 1]\n",
    "dfc = dfc[dfc[\"pitcher_multiplier\"] == 1]\n"
   ]
  },
  {
   "cell_type": "code",
   "execution_count": 5,
   "metadata": {},
   "outputs": [
    {
     "data": {
      "text/plain": [
       "array([[8871,    0],\n",
       "       [   0,  129]], dtype=int64)"
      ]
     },
     "execution_count": 5,
     "metadata": {},
     "output_type": "execute_result"
    }
   ],
   "source": [
    "from sklearn.preprocessing import StandardScaler\n",
    "from sklearn.metrics import confusion_matrix\n",
    "from sklearn.metrics import classification_report\n",
    "from sklearn import svm, linear_model\n",
    "\n",
    "dfc[\"fort\"] = dfc[\"ballpark_fortification\"] - 0.5\n",
    "\n",
    "X = dfc[[\"roll\", \"ballpark_fortification\"]]\n",
    "y = dfc['passed']\n",
    "\n",
    "sc = StandardScaler()\n",
    "X2 = sc.fit_transform(X)\n",
    "\n",
    "trainedsvm = svm.LinearSVC(dual=False, C=500000, max_iter=5000000, tol=1e-5).fit(X2, y)\n",
    "predictionsvm = trainedsvm.predict(X2)\n",
    "confusion_matrix(y,predictionsvm)"
   ]
  },
  {
   "cell_type": "code",
   "execution_count": 6,
   "metadata": {},
   "outputs": [
    {
     "data": {
      "text/plain": [
       "[(1.0, 'roll'), (0.013023248625305362, 'ballpark_fortification')]"
      ]
     },
     "execution_count": 6,
     "metadata": {},
     "output_type": "execute_result"
    }
   ],
   "source": [
    "coef = np.true_divide(trainedsvm.coef_, sc.scale_)\n",
    "coef_scaled = coef / coef[0, 0]\n",
    "coef_list = coef_scaled.tolist()[0]\n",
    "sorted(zip(coef_list, X.columns), key=lambda x: abs(x[0]), reverse=True)"
   ]
  },
  {
   "cell_type": "code",
   "execution_count": 7,
   "metadata": {},
   "outputs": [
    {
     "data": {
      "text/plain": [
       "array([-0.0205378])"
      ]
     },
     "execution_count": 7,
     "metadata": {},
     "output_type": "execute_result"
    }
   ],
   "source": [
    "intercept = trainedsvm.intercept_ - np.dot(coef, sc.mean_)\n",
    "intercept_scaled = intercept / coef[0, 0]\n",
    "intercept_scaled"
   ]
  },
  {
   "cell_type": "code",
   "execution_count": 8,
   "metadata": {},
   "outputs": [
    {
     "name": "stdout",
     "output_type": "stream",
     "text": [
      "8871\n",
      "129\n"
     ]
    }
   ],
   "source": [
    "print(len(dfc[~dfc[\"passed\"]]))\n",
    "print(len(dfc[dfc[\"passed\"]]))"
   ]
  },
  {
   "cell_type": "code",
   "execution_count": 12,
   "metadata": {},
   "outputs": [],
   "source": [
    "fort = dfc[\"ballpark_fortification\"] - 0.5\n",
    "\n",
    "#Looks like the original was probably 0.02 - 0.01*fortification but was adjusted each season\n",
    "#Season 12-14 = 0.019 - 0.01*dfc[\"ballpark_fortification\"]\n",
    "#Season 15 = 0.02 - 0.0125*dfc[\"ballpark_fortification\"]\n",
    "dfc[\"threshold\"] = 0.02 - 0.01*dfc[\"ballpark_fortification\"]"
   ]
  },
  {
   "cell_type": "code",
   "execution_count": 13,
   "metadata": {},
   "outputs": [
    {
     "data": {
      "text/plain": [
       "<matplotlib.legend.Legend at 0x21abfd7fc10>"
      ]
     },
     "execution_count": 13,
     "metadata": {},
     "output_type": "execute_result"
    },
    {
     "data": {
      "image/png": "[encoded data removed]",
      "text/plain": [
       "<Figure size 720x432 with 1 Axes>"
      ]
     },
     "metadata": {
      "needs_background": "light"
     },
     "output_type": "display_data"
    }
   ],
   "source": [
    "x_val = \"threshold\"\n",
    "fig, ax = plt.subplots(1, figsize=(10, 6))\n",
    "ax.scatter(dfc[~dfc['passed']][x_val], dfc[~dfc['passed']][\"roll\"], color=\"red\",\n",
    "           label=\"NoBean\", marker=CARETRIGHTBASE)\n",
    "ax.scatter(dfc[dfc['passed']][x_val], dfc[dfc['passed']][\"roll\"], color=\"blue\",\n",
    "           label=\"Beaned\", marker=CARETLEFTBASE)\n",
    "\n",
    "ax.plot([0, 1], [0, 1])\n",
    "ax.set_xlabel(x_val)\n",
    "ax.set_ylabel('roll')\n",
    "ax.set_title(\"Coffee 1\")\n",
    "ax.set_xlim([0.0, 0.2])\n",
    "ax.set_ylim([0.0, 0.2])\n",
    "ax.legend()"
   ]
  },
  {
   "cell_type": "code",
   "execution_count": 14,
   "metadata": {},
   "outputs": [
    {
     "data": {
      "text/html": [
       "<div>\n",
       "<style scoped>\n",
       "    .dataframe tbody tr th:only-of-type {\n",
       "        vertical-align: middle;\n",
       "    }\n",
       "\n",
       "    .dataframe tbody tr th {\n",
       "        vertical-align: top;\n",
       "    }\n",
       "\n",
       "    .dataframe thead th {\n",
       "        text-align: right;\n",
       "    }\n",
       "</style>\n",
       "<table border=\"1\" class=\"dataframe\">\n",
       "  <thead>\n",
       "    <tr style=\"text-align: right;\">\n",
       "      <th></th>\n",
       "      <th>offset</th>\n",
       "      <th>weather</th>\n",
       "      <th>event_type</th>\n",
       "      <th>fielder_mods</th>\n",
       "      <th>pitcher_overpowerment</th>\n",
       "      <th>roll</th>\n",
       "      <th>threshold</th>\n",
       "      <th>fielder_name</th>\n",
       "      <th>season</th>\n",
       "      <th>batter_name</th>\n",
       "      <th>pitcher_name</th>\n",
       "      <th>batter_mods</th>\n",
       "      <th>pitcher_mods</th>\n",
       "      <th>batting_team_mods</th>\n",
       "      <th>pitching_team_mods</th>\n",
       "      <th>day</th>\n",
       "      <th>game_id</th>\n",
       "      <th>play_count</th>\n",
       "    </tr>\n",
       "  </thead>\n",
       "  <tbody>\n",
       "    <tr>\n",
       "      <th>9280</th>\n",
       "      <td>-0.001149</td>\n",
       "      <td>Weather.COFFEE</td>\n",
       "      <td>NoBean</td>\n",
       "      <td>&lt;NA&gt;</td>\n",
       "      <td>1.100612</td>\n",
       "      <td>0.012321</td>\n",
       "      <td>0.013470</td>\n",
       "      <td>&lt;NA&gt;</td>\n",
       "      <td>14</td>\n",
       "      <td>Kichiro Guerra</td>\n",
       "      <td>Finn James</td>\n",
       "      <td>ALTERNATE;MAXIMALIST;WIRED</td>\n",
       "      <td>WILD</td>\n",
       "      <td>LOVE</td>\n",
       "      <td>CARCINIZATION;UNHOLEY</td>\n",
       "      <td>79</td>\n",
       "      <td>229df7b4-a8d4-4949-9d74-941268a46ee6</td>\n",
       "      <td>297</td>\n",
       "    </tr>\n",
       "    <tr>\n",
       "      <th>10290</th>\n",
       "      <td>-0.000959</td>\n",
       "      <td>Weather.COFFEE</td>\n",
       "      <td>NoBean</td>\n",
       "      <td>&lt;NA&gt;</td>\n",
       "      <td>1.020226</td>\n",
       "      <td>0.013057</td>\n",
       "      <td>0.014017</td>\n",
       "      <td>&lt;NA&gt;</td>\n",
       "      <td>14</td>\n",
       "      <td>Eizabeth Elliott</td>\n",
       "      <td>PolkaDot Patterson</td>\n",
       "      <td>&lt;NA&gt;</td>\n",
       "      <td>SQUIDDISH;SWIM_BLADDER</td>\n",
       "      <td>O_NO</td>\n",
       "      <td>HIGH_PRESSURE</td>\n",
       "      <td>91</td>\n",
       "      <td>673cd98b-cb94-4b46-8590-82074ffde9c8</td>\n",
       "      <td>53</td>\n",
       "    </tr>\n",
       "    <tr>\n",
       "      <th>7372</th>\n",
       "      <td>-0.000900</td>\n",
       "      <td>Weather.COFFEE</td>\n",
       "      <td>NoBean</td>\n",
       "      <td>&lt;NA&gt;</td>\n",
       "      <td>0.471050</td>\n",
       "      <td>0.013906</td>\n",
       "      <td>0.014806</td>\n",
       "      <td>&lt;NA&gt;</td>\n",
       "      <td>14</td>\n",
       "      <td>Ortiz Lopez</td>\n",
       "      <td>Brock Forbes</td>\n",
       "      <td>FIRE_EATER</td>\n",
       "      <td>WILD</td>\n",
       "      <td>LOVE</td>\n",
       "      <td>CARCINIZATION;UNHOLEY</td>\n",
       "      <td>60</td>\n",
       "      <td>eebb949c-39e0-4d58-9bc4-a9e974ce3e85</td>\n",
       "      <td>45</td>\n",
       "    </tr>\n",
       "    <tr>\n",
       "      <th>8615</th>\n",
       "      <td>-0.000897</td>\n",
       "      <td>Weather.COFFEE</td>\n",
       "      <td>NoBean</td>\n",
       "      <td>&lt;NA&gt;</td>\n",
       "      <td>0.776169</td>\n",
       "      <td>0.013855</td>\n",
       "      <td>0.014752</td>\n",
       "      <td>&lt;NA&gt;</td>\n",
       "      <td>14</td>\n",
       "      <td>Valentine Games</td>\n",
       "      <td>Xandra Pancakes</td>\n",
       "      <td>EGO1</td>\n",
       "      <td>&lt;NA&gt;</td>\n",
       "      <td>SINKING_SHIP</td>\n",
       "      <td>BOTTOM_DWELLER;BLACKHOLE_PAYOUTS</td>\n",
       "      <td>72</td>\n",
       "      <td>06182bea-b2eb-4c9b-90ab-7043bad204fa</td>\n",
       "      <td>277</td>\n",
       "    </tr>\n",
       "    <tr>\n",
       "      <th>2101</th>\n",
       "      <td>-0.000656</td>\n",
       "      <td>Weather.COFFEE</td>\n",
       "      <td>NoBean</td>\n",
       "      <td>&lt;NA&gt;</td>\n",
       "      <td>0.405756</td>\n",
       "      <td>0.014344</td>\n",
       "      <td>0.015000</td>\n",
       "      <td>&lt;NA&gt;</td>\n",
       "      <td>12</td>\n",
       "      <td>Cory Ross</td>\n",
       "      <td>Beasley Gloom</td>\n",
       "      <td>SIPHON</td>\n",
       "      <td>&lt;NA&gt;</td>\n",
       "      <td>&lt;NA&gt;</td>\n",
       "      <td>EARLBIRDS</td>\n",
       "      <td>63</td>\n",
       "      <td>076befac-0b8a-41a4-8a4a-582f2d60f7f1</td>\n",
       "      <td>65</td>\n",
       "    </tr>\n",
       "    <tr>\n",
       "      <th>4726</th>\n",
       "      <td>-0.000438</td>\n",
       "      <td>Weather.COFFEE</td>\n",
       "      <td>NoBean</td>\n",
       "      <td>&lt;NA&gt;</td>\n",
       "      <td>0.725363</td>\n",
       "      <td>0.013573</td>\n",
       "      <td>0.014011</td>\n",
       "      <td>&lt;NA&gt;</td>\n",
       "      <td>13</td>\n",
       "      <td>Gia Holbrook</td>\n",
       "      <td>Orville Manco</td>\n",
       "      <td>&lt;NA&gt;</td>\n",
       "      <td>&lt;NA&gt;</td>\n",
       "      <td>MAINTENANCE_MODE</td>\n",
       "      <td>&lt;NA&gt;</td>\n",
       "      <td>86</td>\n",
       "      <td>addb1c7c-2cd2-4b37-bd8f-8da4e616054c</td>\n",
       "      <td>260</td>\n",
       "    </tr>\n",
       "    <tr>\n",
       "      <th>1499</th>\n",
       "      <td>-0.000408</td>\n",
       "      <td>Weather.COFFEE</td>\n",
       "      <td>NoBean</td>\n",
       "      <td>&lt;NA&gt;</td>\n",
       "      <td>1.370251</td>\n",
       "      <td>0.014592</td>\n",
       "      <td>0.015000</td>\n",
       "      <td>&lt;NA&gt;</td>\n",
       "      <td>12</td>\n",
       "      <td>Bees Taswell</td>\n",
       "      <td>Sandford Garner</td>\n",
       "      <td>&lt;NA&gt;</td>\n",
       "      <td>&lt;NA&gt;</td>\n",
       "      <td>MAINTENANCE_MODE</td>\n",
       "      <td>LOVE;EXTRA_STRIKE</td>\n",
       "      <td>7</td>\n",
       "      <td>a52ee168-fa89-4edd-86cd-880de9a7a17b</td>\n",
       "      <td>281</td>\n",
       "    </tr>\n",
       "    <tr>\n",
       "      <th>872</th>\n",
       "      <td>-0.000377</td>\n",
       "      <td>Weather.COFFEE</td>\n",
       "      <td>NoBean</td>\n",
       "      <td>&lt;NA&gt;</td>\n",
       "      <td>0.975465</td>\n",
       "      <td>0.014623</td>\n",
       "      <td>0.015000</td>\n",
       "      <td>&lt;NA&gt;</td>\n",
       "      <td>11</td>\n",
       "      <td>Paula Mason</td>\n",
       "      <td>Combs Estes</td>\n",
       "      <td>FIRE_EATER</td>\n",
       "      <td>SIPHON</td>\n",
       "      <td>FIREPROOF;SEALANT</td>\n",
       "      <td>&lt;NA&gt;</td>\n",
       "      <td>54</td>\n",
       "      <td>8f6a7e3b-5971-4790-8319-e206bfb221b8</td>\n",
       "      <td>14</td>\n",
       "    </tr>\n",
       "    <tr>\n",
       "      <th>4844</th>\n",
       "      <td>-0.000241</td>\n",
       "      <td>Weather.COFFEE</td>\n",
       "      <td>NoBean</td>\n",
       "      <td>&lt;NA&gt;</td>\n",
       "      <td>0.843811</td>\n",
       "      <td>0.014444</td>\n",
       "      <td>0.014685</td>\n",
       "      <td>&lt;NA&gt;</td>\n",
       "      <td>13</td>\n",
       "      <td>Stu Trololol</td>\n",
       "      <td>Oscar Vaughan</td>\n",
       "      <td>ALTERNATE;FLINCH</td>\n",
       "      <td>ALTERNATE</td>\n",
       "      <td>TRAVELING;PARTY_TIME</td>\n",
       "      <td>&lt;NA&gt;</td>\n",
       "      <td>90</td>\n",
       "      <td>fd8d22dc-89c7-41dd-83da-5ad9337527c1</td>\n",
       "      <td>123</td>\n",
       "    </tr>\n",
       "    <tr>\n",
       "      <th>9519</th>\n",
       "      <td>-0.000068</td>\n",
       "      <td>Weather.COFFEE</td>\n",
       "      <td>NoBean</td>\n",
       "      <td>&lt;NA&gt;</td>\n",
       "      <td>0.315023</td>\n",
       "      <td>0.014684</td>\n",
       "      <td>0.014752</td>\n",
       "      <td>&lt;NA&gt;</td>\n",
       "      <td>14</td>\n",
       "      <td>Cantus Hojo</td>\n",
       "      <td>Dunn Keyes</td>\n",
       "      <td>&lt;NA&gt;</td>\n",
       "      <td>ALTERNATE</td>\n",
       "      <td>BOTTOM_DWELLER;BLACKHOLE_PAYOUTS</td>\n",
       "      <td>GROWTH</td>\n",
       "      <td>80</td>\n",
       "      <td>be826818-68ee-4407-8e18-169cb41db31e</td>\n",
       "      <td>343</td>\n",
       "    </tr>\n",
       "  </tbody>\n",
       "</table>\n",
       "</div>"
      ],
      "text/plain": [
       "         offset         weather event_type fielder_mods  \\\n",
       "9280  -0.001149  Weather.COFFEE     NoBean         <NA>   \n",
       "10290 -0.000959  Weather.COFFEE     NoBean         <NA>   \n",
       "7372  -0.000900  Weather.COFFEE     NoBean         <NA>   \n",
       "8615  -0.000897  Weather.COFFEE     NoBean         <NA>   \n",
       "2101  -0.000656  Weather.COFFEE     NoBean         <NA>   \n",
       "4726  -0.000438  Weather.COFFEE     NoBean         <NA>   \n",
       "1499  -0.000408  Weather.COFFEE     NoBean         <NA>   \n",
       "872   -0.000377  Weather.COFFEE     NoBean         <NA>   \n",
       "4844  -0.000241  Weather.COFFEE     NoBean         <NA>   \n",
       "9519  -0.000068  Weather.COFFEE     NoBean         <NA>   \n",
       "\n",
       "       pitcher_overpowerment      roll  threshold fielder_name  season  \\\n",
       "9280                1.100612  0.012321   0.013470         <NA>      14   \n",
       "10290               1.020226  0.013057   0.014017         <NA>      14   \n",
       "7372                0.471050  0.013906   0.014806         <NA>      14   \n",
       "8615                0.776169  0.013855   0.014752         <NA>      14   \n",
       "2101                0.405756  0.014344   0.015000         <NA>      12   \n",
       "4726                0.725363  0.013573   0.014011         <NA>      13   \n",
       "1499                1.370251  0.014592   0.015000         <NA>      12   \n",
       "872                 0.975465  0.014623   0.015000         <NA>      11   \n",
       "4844                0.843811  0.014444   0.014685         <NA>      13   \n",
       "9519                0.315023  0.014684   0.014752         <NA>      14   \n",
       "\n",
       "            batter_name        pitcher_name                 batter_mods  \\\n",
       "9280     Kichiro Guerra          Finn James  ALTERNATE;MAXIMALIST;WIRED   \n",
       "10290  Eizabeth Elliott  PolkaDot Patterson                        <NA>   \n",
       "7372        Ortiz Lopez        Brock Forbes                  FIRE_EATER   \n",
       "8615    Valentine Games     Xandra Pancakes                        EGO1   \n",
       "2101          Cory Ross       Beasley Gloom                      SIPHON   \n",
       "4726       Gia Holbrook       Orville Manco                        <NA>   \n",
       "1499       Bees Taswell     Sandford Garner                        <NA>   \n",
       "872         Paula Mason         Combs Estes                  FIRE_EATER   \n",
       "4844       Stu Trololol       Oscar Vaughan            ALTERNATE;FLINCH   \n",
       "9519        Cantus Hojo          Dunn Keyes                        <NA>   \n",
       "\n",
       "                 pitcher_mods                 batting_team_mods  \\\n",
       "9280                     WILD                              LOVE   \n",
       "10290  SQUIDDISH;SWIM_BLADDER                              O_NO   \n",
       "7372                     WILD                              LOVE   \n",
       "8615                     <NA>                      SINKING_SHIP   \n",
       "2101                     <NA>                              <NA>   \n",
       "4726                     <NA>                  MAINTENANCE_MODE   \n",
       "1499                     <NA>                  MAINTENANCE_MODE   \n",
       "872                    SIPHON                 FIREPROOF;SEALANT   \n",
       "4844                ALTERNATE              TRAVELING;PARTY_TIME   \n",
       "9519                ALTERNATE  BOTTOM_DWELLER;BLACKHOLE_PAYOUTS   \n",
       "\n",
       "                     pitching_team_mods  day  \\\n",
       "9280              CARCINIZATION;UNHOLEY   79   \n",
       "10290                     HIGH_PRESSURE   91   \n",
       "7372              CARCINIZATION;UNHOLEY   60   \n",
       "8615   BOTTOM_DWELLER;BLACKHOLE_PAYOUTS   72   \n",
       "2101                          EARLBIRDS   63   \n",
       "4726                               <NA>   86   \n",
       "1499                  LOVE;EXTRA_STRIKE    7   \n",
       "872                                <NA>   54   \n",
       "4844                               <NA>   90   \n",
       "9519                             GROWTH   80   \n",
       "\n",
       "                                    game_id  play_count  \n",
       "9280   229df7b4-a8d4-4949-9d74-941268a46ee6         297  \n",
       "10290  673cd98b-cb94-4b46-8590-82074ffde9c8          53  \n",
       "7372   eebb949c-39e0-4d58-9bc4-a9e974ce3e85          45  \n",
       "8615   06182bea-b2eb-4c9b-90ab-7043bad204fa         277  \n",
       "2101   076befac-0b8a-41a4-8a4a-582f2d60f7f1          65  \n",
       "4726   addb1c7c-2cd2-4b37-bd8f-8da4e616054c         260  \n",
       "1499   a52ee168-fa89-4edd-86cd-880de9a7a17b         281  \n",
       "872    8f6a7e3b-5971-4790-8319-e206bfb221b8          14  \n",
       "4844   fd8d22dc-89c7-41dd-83da-5ad9337527c1         123  \n",
       "9519   be826818-68ee-4407-8e18-169cb41db31e         343  "
      ]
     },
     "execution_count": 14,
     "metadata": {},
     "output_type": "execute_result"
    },
    {
     "data": {
      "image/png": "[encoded data removed]",
      "text/plain": [
       "<Figure size 432x288 with 1 Axes>"
      ]
     },
     "metadata": {
      "needs_background": "light"
     },
     "output_type": "display_data"
    }
   ],
   "source": [
    "dfc[\"offset\"] = dfc[\"roll\"] - dfc[\"threshold\"]\n",
    "outliers = dfc[(dfc[\"passed\"] & (dfc[\"offset\"] > 0)) | (~dfc[\"passed\"] & (dfc[\"offset\"] < 0))]\n",
    "\n",
    "fig, ax = plt.subplots(1)\n",
    "x_val = \"ballpark_fortification\"\n",
    "y_val = \"offset\"\n",
    "ax.scatter(outliers[~outliers['passed']][x_val], outliers[~outliers['passed']][y_val], color=\"red\", label=\"Double\")\n",
    "ax.scatter(outliers[outliers['passed']][x_val], outliers[outliers['passed']][y_val], color=\"blue\", label=\"Other Hit\")\n",
    "ax.set_xlabel(x_val)\n",
    "ax.set_ylabel(y_val)\n",
    "ax.legend()\n",
    "\n",
    "table = outliers\n",
    "table[[\"offset\", \"weather\", \"event_type\", \"fielder_mods\", \"pitcher_overpowerment\",\n",
    "       \"roll\", \"threshold\",\n",
    "       \"fielder_name\", \"season\",\n",
    "       \"batter_name\", \"pitcher_name\", \"batter_mods\", \"pitcher_mods\",\n",
    "       \"batting_team_mods\", \"pitching_team_mods\", \"day\",  \"game_id\", \"play_count\"]].sort_values('offset')\n"
   ]
  },
  {
   "cell_type": "code",
   "execution_count": 265,
   "metadata": {},
   "outputs": [
    {
     "name": "stdout",
     "output_type": "stream",
     "text": [
      "0.0002648354734513525\n",
      "0.9994472809302016\n"
     ]
    }
   ],
   "source": [
    "print(dfc[dfc[\"passed\"]][\"roll\"].min())\n",
    "print(dfc[~dfc[\"passed\"]][\"roll\"].max())"
   ]
  }
 ],
 "metadata": {
  "kernelspec": {
   "display_name": "Python 3.8.5 64-bit",
   "language": "python",
   "name": "python3"
  },
  "language_info": {
   "codemirror_mode": {
    "name": "ipython",
    "version": 3
   },
   "file_extension": ".py",
   "mimetype": "text/x-python",
   "name": "python",
   "nbconvert_exporter": "python",
   "pygments_lexer": "ipython3",
   "version": "3.8.5"
  },
  "vscode": {
   "interpreter": {
    "hash": "893958406e8c6944eb13075791d2ee6bb1de84c8ef46ad5e9bf9040b431b0bd8"
   }
  }
 },
 "nbformat": 4,
 "nbformat_minor": 1
}
