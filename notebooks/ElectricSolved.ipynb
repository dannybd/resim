{
 "cells": [
  {
   "cell_type": "markdown",
   "metadata": {},
   "source": [
    "This is the cleanest formula ever\n",
    "0.05 + 0.1*dfc[\"ballpark_mysticism\"]\n",
    "Works on every season"
   ]
  },
  {
   "cell_type": "code",
   "execution_count": 1,
   "metadata": {},
   "outputs": [],
   "source": [
    "import glob\n",
    "\n",
    "import pandas as pd\n",
    "import matplotlib.pyplot as plt\n",
    "import numpy as np\n",
    "from matplotlib.markers import CARETLEFTBASE, CARETRIGHTBASE\n",
    "from csv_dtypes import column_dtypes\n",
    "\n",
    "from sklearn.preprocessing import StandardScaler\n",
    "from sklearn.metrics import confusion_matrix\n",
    "from sklearn.metrics import classification_report\n",
    "from sklearn import svm, linear_model"
   ]
  },
  {
   "cell_type": "code",
   "execution_count": 2,
   "metadata": {},
   "outputs": [
    {
     "data": {
      "text/plain": [
       "21376"
      ]
     },
     "execution_count": 2,
     "metadata": {},
     "output_type": "execute_result"
    }
   ],
   "source": [
    "all_files = glob.glob(\"../roll_data/*-eblood.csv\")\n",
    "\n",
    "df = pd.concat((pd.read_csv(f, dtype=column_dtypes) for f in all_files), ignore_index=True)\n",
    "\n",
    "# seasons = [11, 12]\n",
    "seasons = [11, 12, 13, 14]\n",
    "# seasons = [14]\n",
    "# seasons = [13, 14]\n",
    "df = df[df['season'].isin(seasons)]\n",
    "len(df)"
   ]
  },
  {
   "cell_type": "code",
   "execution_count": 3,
   "metadata": {},
   "outputs": [],
   "source": [
    "dfc = df.copy()\n",
    "for exclude_mod in []:\n",
    "    dfc = dfc[~dfc[\"batter_mods\"].astype(str).str.contains(exclude_mod)]\n",
    "    dfc = dfc[~dfc[\"pitcher_mods\"].astype(str).str.contains(exclude_mod)]\n",
    "    dfc = dfc[~dfc[\"pitching_team_mods\"].astype(str).str.contains(exclude_mod)]\n",
    "    dfc = dfc[~dfc[\"batting_team_mods\"].astype(str).str.contains(exclude_mod)]\n",
    "for exclude_mod in []:\n",
    "    dfc = dfc[~dfc[\"fielder_mods\"].astype(str).str.contains(exclude_mod)]\n",
    "\n",
    "\n",
    "batter_params = ['batter_buoyancy', 'batter_divinity', 'batter_martyrdom', 'batter_moxie', 'batter_musclitude', 'batter_patheticism', 'batter_thwackability', 'batter_tragicness', 'batter_coldness', 'batter_overpowerment', 'batter_ruthlessness', 'batter_shakespearianism', 'batter_suppression', 'batter_unthwackability', 'batter_base_thirst', 'batter_continuation', 'batter_ground_friction', 'batter_indulgence', 'batter_laserlikeness', 'batter_anticapitalism', 'batter_chasiness', 'batter_omniscience', 'batter_tenaciousness', 'batter_watchfulness', 'batter_pressurization', 'batter_cinnamon']\n",
    "pitcher_params = ['pitcher_buoyancy', 'pitcher_divinity', 'pitcher_martyrdom', 'pitcher_moxie', 'pitcher_musclitude', 'pitcher_patheticism', 'pitcher_thwackability', 'pitcher_tragicness', 'pitcher_ruthlessness', 'pitcher_overpowerment', 'pitcher_unthwackability', 'pitcher_shakespearianism', 'pitcher_suppression', 'pitcher_coldness', 'pitcher_base_thirst', 'pitcher_continuation', 'pitcher_ground_friction', 'pitcher_indulgence', 'pitcher_laserlikeness', 'pitcher_anticapitalism', 'pitcher_chasiness', 'pitcher_omniscience', 'pitcher_tenaciousness', 'pitcher_watchfulness', 'pitcher_pressurization', 'pitcher_cinnamon']\n",
    "fielder_params = ['fielder_anticapitalism', 'fielder_chasiness', 'fielder_omniscience', 'fielder_tenaciousness', 'fielder_watchfulness']\n",
    "for attr in batter_params:\n",
    "    dfc[attr] = dfc[attr] * df['batter_multiplier']\n",
    "for attr in pitcher_params:\n",
    "    dfc[attr] = dfc[attr] * df['pitcher_multiplier']\n",
    "\n",
    "\n",
    "dfc.loc[dfc[\"pitcher_mods\"].astype(str).str.contains(\"SCATTERED\"),\"pitcher_vibes\"] = 0\n",
    "dfc.loc[dfc[\"batter_mods\"].astype(str).str.contains(\"SCATTERED\"),\"batter_vibes\"] = 0\n",
    "dfc.loc[dfc[\"fielder_mods\"].astype(str).str.contains(\"SCATTERED\"),\"fielder_vibes\"] = 0\n",
    "\n",
    "dfc = dfc[dfc[\"batter_multiplier\"] == 1]\n",
    "dfc = dfc[dfc[\"pitcher_multiplier\"] == 1]\n"
   ]
  },
  {
   "cell_type": "code",
   "execution_count": 4,
   "metadata": {},
   "outputs": [
    {
     "data": {
      "text/plain": [
       "array([[18434,     1],\n",
       "       [    0,  2209]], dtype=int64)"
      ]
     },
     "execution_count": 4,
     "metadata": {},
     "output_type": "execute_result"
    }
   ],
   "source": [
    "from sklearn.preprocessing import StandardScaler\n",
    "from sklearn.metrics import confusion_matrix\n",
    "from sklearn.metrics import classification_report\n",
    "from sklearn import svm, linear_model\n",
    "\n",
    "dfc[\"myst\"] = dfc[\"ballpark_mysticism\"] - 0.5\n",
    "\n",
    "X = dfc[[\"roll\", \"ballpark_mysticism\"]]\n",
    "y = dfc['passed']\n",
    "\n",
    "sc = StandardScaler()\n",
    "X2 = sc.fit_transform(X)\n",
    "\n",
    "trainedsvm = svm.LinearSVC(dual=False, C=500000, max_iter=5000000, tol=1e-5).fit(X2, y)\n",
    "predictionsvm = trainedsvm.predict(X2)\n",
    "confusion_matrix(y,predictionsvm)"
   ]
  },
  {
   "cell_type": "code",
   "execution_count": 5,
   "metadata": {},
   "outputs": [
    {
     "data": {
      "text/plain": [
       "[(1.0, 'roll'), (-0.100080382124444, 'ballpark_mysticism')]"
      ]
     },
     "execution_count": 5,
     "metadata": {},
     "output_type": "execute_result"
    }
   ],
   "source": [
    "coef = np.true_divide(trainedsvm.coef_, sc.scale_)\n",
    "coef_scaled = coef / coef[0, 0]\n",
    "coef_list = coef_scaled.tolist()[0]\n",
    "sorted(zip(coef_list, X.columns), key=lambda x: abs(x[0]), reverse=True)"
   ]
  },
  {
   "cell_type": "code",
   "execution_count": 6,
   "metadata": {},
   "outputs": [
    {
     "data": {
      "text/plain": [
       "array([-0.05003632])"
      ]
     },
     "execution_count": 6,
     "metadata": {},
     "output_type": "execute_result"
    }
   ],
   "source": [
    "intercept = trainedsvm.intercept_ - np.dot(coef, sc.mean_)\n",
    "intercept_scaled = intercept / coef[0, 0]\n",
    "intercept_scaled"
   ]
  },
  {
   "cell_type": "code",
   "execution_count": 7,
   "metadata": {},
   "outputs": [
    {
     "name": "stdout",
     "output_type": "stream",
     "text": [
      "18435\n",
      "2209\n"
     ]
    }
   ],
   "source": [
    "print(len(dfc[~dfc[\"passed\"]]))\n",
    "print(len(dfc[dfc[\"passed\"]]))"
   ]
  },
  {
   "cell_type": "code",
   "execution_count": 8,
   "metadata": {},
   "outputs": [],
   "source": [
    "myst = dfc[\"ballpark_mysticism\"] - 0.5\n",
    "\n",
    "# 0.05 + 0.1*dfc[\"ballpark_mysticism\"]\n",
    "dfc[\"threshold\"] = 0.05 + 0.1*dfc[\"ballpark_mysticism\"]"
   ]
  },
  {
   "cell_type": "code",
   "execution_count": 9,
   "metadata": {},
   "outputs": [
    {
     "data": {
      "text/plain": [
       "<matplotlib.legend.Legend at 0x2aea491daf0>"
      ]
     },
     "execution_count": 9,
     "metadata": {},
     "output_type": "execute_result"
    },
    {
     "data": {
      "image/png": "[encoded data removed]",
      "text/plain": [
       "<Figure size 720x432 with 1 Axes>"
      ]
     },
     "metadata": {
      "needs_background": "light"
     },
     "output_type": "display_data"
    }
   ],
   "source": [
    "x_val = \"threshold\"\n",
    "fig, ax = plt.subplots(1, figsize=(10, 6))\n",
    "ax.scatter(dfc[dfc['passed']][x_val], dfc[dfc['passed']][\"roll\"], color=\"blue\",\n",
    "           label=\"Zap\", marker=CARETLEFTBASE)\n",
    "ax.scatter(dfc[~dfc['passed']][x_val], dfc[~dfc['passed']][\"roll\"], color=\"red\",\n",
    "           label=\"NoZap\", marker=CARETRIGHTBASE)\n",
    "ax.plot([0, 1], [0, 1])\n",
    "ax.set_xlabel(x_val)\n",
    "ax.set_ylabel('roll')\n",
    "ax.set_title(\"Zaps\")\n",
    "ax.set_xlim([0.0, 1.0])\n",
    "ax.set_ylim([0.0, 1.0])\n",
    "ax.legend()"
   ]
  },
  {
   "cell_type": "code",
   "execution_count": 10,
   "metadata": {},
   "outputs": [
    {
     "data": {
      "text/html": [
       "<div>\n",
       "<style scoped>\n",
       "    .dataframe tbody tr th:only-of-type {\n",
       "        vertical-align: middle;\n",
       "    }\n",
       "\n",
       "    .dataframe tbody tr th {\n",
       "        vertical-align: top;\n",
       "    }\n",
       "\n",
       "    .dataframe thead th {\n",
       "        text-align: right;\n",
       "    }\n",
       "</style>\n",
       "<table border=\"1\" class=\"dataframe\">\n",
       "  <thead>\n",
       "    <tr style=\"text-align: right;\">\n",
       "      <th></th>\n",
       "      <th>offset</th>\n",
       "      <th>weather</th>\n",
       "      <th>event_type</th>\n",
       "      <th>fielder_mods</th>\n",
       "      <th>pitcher_overpowerment</th>\n",
       "      <th>roll</th>\n",
       "      <th>threshold</th>\n",
       "      <th>fielder_name</th>\n",
       "      <th>fielder_chasiness</th>\n",
       "      <th>batter_name</th>\n",
       "      <th>pitcher_name</th>\n",
       "      <th>batter_mods</th>\n",
       "      <th>pitcher_mods</th>\n",
       "      <th>batting_team_mods</th>\n",
       "      <th>pitching_team_mods</th>\n",
       "      <th>day</th>\n",
       "      <th>game_id</th>\n",
       "      <th>play_count</th>\n",
       "    </tr>\n",
       "  </thead>\n",
       "  <tbody>\n",
       "  </tbody>\n",
       "</table>\n",
       "</div>"
      ],
      "text/plain": [
       "Empty DataFrame\n",
       "Columns: [offset, weather, event_type, fielder_mods, pitcher_overpowerment, roll, threshold, fielder_name, fielder_chasiness, batter_name, pitcher_name, batter_mods, pitcher_mods, batting_team_mods, pitching_team_mods, day, game_id, play_count]\n",
       "Index: []"
      ]
     },
     "execution_count": 10,
     "metadata": {},
     "output_type": "execute_result"
    },
    {
     "data": {
      "image/png": "[encoded data removed]",
      "text/plain": [
       "<Figure size 432x288 with 1 Axes>"
      ]
     },
     "metadata": {
      "needs_background": "light"
     },
     "output_type": "display_data"
    }
   ],
   "source": [
    "dfc[\"offset\"] = dfc[\"roll\"] - dfc[\"threshold\"]\n",
    "outliers = dfc[(dfc[\"passed\"] & (dfc[\"offset\"] > 0)) | (~dfc[\"passed\"] & (dfc[\"offset\"] < 0))]\n",
    "\n",
    "fig, ax = plt.subplots(1)\n",
    "x_val = \"myst\"\n",
    "y_val = \"offset\"\n",
    "ax.scatter(outliers[~outliers['passed']][x_val], outliers[~outliers['passed']][y_val], color=\"red\", label=\"Double\")\n",
    "ax.scatter(outliers[outliers['passed']][x_val], outliers[outliers['passed']][y_val], color=\"blue\", label=\"Other Hit\")\n",
    "ax.set_xlabel(x_val)\n",
    "ax.set_ylabel(y_val)\n",
    "ax.legend()\n",
    "\n",
    "table = outliers\n",
    "table[[\"offset\", \"weather\", \"event_type\", \"fielder_mods\", \"pitcher_overpowerment\",\n",
    "       \"roll\", \"threshold\",\n",
    "       \"fielder_name\", \"fielder_chasiness\",\n",
    "       \"batter_name\", \"pitcher_name\", \"batter_mods\", \"pitcher_mods\",\n",
    "       \"batting_team_mods\", \"pitching_team_mods\", \"day\",  \"game_id\", \"play_count\"]].sort_values('offset')\n"
   ]
  },
  {
   "cell_type": "code",
   "execution_count": 11,
   "metadata": {},
   "outputs": [
    {
     "name": "stdout",
     "output_type": "stream",
     "text": [
      "3.398253219244473e-05\n",
      "0.999965323385511\n"
     ]
    }
   ],
   "source": [
    "print(dfc[dfc[\"passed\"]][\"roll\"].min())\n",
    "print(dfc[~dfc[\"passed\"]][\"roll\"].max())"
   ]
  }
 ],
 "metadata": {
  "kernelspec": {
   "display_name": "Python 3.8.5 64-bit",
   "language": "python",
   "name": "python3"
  },
  "language_info": {
   "codemirror_mode": {
    "name": "ipython",
    "version": 3
   },
   "file_extension": ".py",
   "mimetype": "text/x-python",
   "name": "python",
   "nbconvert_exporter": "python",
   "pygments_lexer": "ipython3",
   "version": "3.8.5"
  },
  "vscode": {
   "interpreter": {
    "hash": "893958406e8c6944eb13075791d2ee6bb1de84c8ef46ad5e9bf9040b431b0bd8"
   }
  }
 },
 "nbformat": 4,
 "nbformat_minor": 1
}
