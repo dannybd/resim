{
 "cells": [
  {
   "cell_type": "markdown",
   "metadata": {},
   "source": [
    "#Season 12-15 = 0.0002 - 0.0002*dfc[\"ballpark_fortification\"]\n",
    "Formula works for every season, but has outliers if the player selected has one of the two Flickering Mods.\n",
    "Needs further research to only check for Flickering Players"
   ]
  },
  {
   "cell_type": "code",
   "execution_count": 1,
   "metadata": {},
   "outputs": [],
   "source": [
    "import glob\n",
    "\n",
    "import pandas as pd\n",
    "import matplotlib.pyplot as plt\n",
    "import numpy as np\n",
    "from matplotlib.markers import CARETLEFTBASE, CARETRIGHTBASE\n",
    "from csv_dtypes import column_dtypes\n",
    "\n",
    "from sklearn.preprocessing import StandardScaler\n",
    "from sklearn.metrics import confusion_matrix\n",
    "from sklearn.metrics import classification_report\n",
    "from sklearn import svm, linear_model"
   ]
  },
  {
   "cell_type": "code",
   "execution_count": 2,
   "metadata": {},
   "outputs": [
    {
     "data": {
      "text/plain": [
       "65708"
      ]
     },
     "execution_count": 2,
     "metadata": {},
     "output_type": "execute_result"
    }
   ],
   "source": [
    "all_files = glob.glob(\"../roll_data/*-fback.csv\")\n",
    "\n",
    "df = pd.concat((pd.read_csv(f, dtype=column_dtypes) for f in all_files), ignore_index=True)\n",
    "\n",
    "# seasons = [11, 12]\n",
    "seasons = [11,12,13,14]\n",
    "# seasons = [14]\n",
    "# seasons = [13, 14]\n",
    "df = df[df['season'].isin(seasons)]\n",
    "len(df)"
   ]
  },
  {
   "cell_type": "code",
   "execution_count": 3,
   "metadata": {},
   "outputs": [],
   "source": [
    "dfc = df.copy()\n",
    "for exclude_mod in []:\n",
    "    dfc = dfc[~dfc[\"batter_mods\"].astype(str).str.contains(exclude_mod)]\n",
    "    dfc = dfc[~dfc[\"pitcher_mods\"].astype(str).str.contains(exclude_mod)]\n",
    "    dfc = dfc[~dfc[\"pitching_team_mods\"].astype(str).str.contains(exclude_mod)]\n",
    "    dfc = dfc[~dfc[\"batting_team_mods\"].astype(str).str.contains(exclude_mod)]\n",
    "for exclude_mod in []:\n",
    "    dfc = dfc[~dfc[\"fielder_mods\"].astype(str).str.contains(exclude_mod)]\n",
    "\n",
    "\n",
    "batter_params = ['batter_buoyancy', 'batter_divinity', 'batter_martyrdom', 'batter_moxie', 'batter_musclitude', 'batter_patheticism', 'batter_thwackability', 'batter_tragicness', 'batter_coldness', 'batter_overpowerment', 'batter_ruthlessness', 'batter_shakespearianism', 'batter_suppression', 'batter_unthwackability', 'batter_base_thirst', 'batter_continuation', 'batter_ground_friction', 'batter_indulgence', 'batter_laserlikeness', 'batter_anticapitalism', 'batter_chasiness', 'batter_omniscience', 'batter_tenaciousness', 'batter_watchfulness', 'batter_pressurization', 'batter_cinnamon']\n",
    "pitcher_params = ['pitcher_buoyancy', 'pitcher_divinity', 'pitcher_martyrdom', 'pitcher_moxie', 'pitcher_musclitude', 'pitcher_patheticism', 'pitcher_thwackability', 'pitcher_tragicness', 'pitcher_ruthlessness', 'pitcher_overpowerment', 'pitcher_unthwackability', 'pitcher_shakespearianism', 'pitcher_suppression', 'pitcher_coldness', 'pitcher_base_thirst', 'pitcher_continuation', 'pitcher_ground_friction', 'pitcher_indulgence', 'pitcher_laserlikeness', 'pitcher_anticapitalism', 'pitcher_chasiness', 'pitcher_omniscience', 'pitcher_tenaciousness', 'pitcher_watchfulness', 'pitcher_pressurization', 'pitcher_cinnamon']\n",
    "fielder_params = ['fielder_anticapitalism', 'fielder_chasiness', 'fielder_omniscience', 'fielder_tenaciousness', 'fielder_watchfulness']\n",
    "for attr in batter_params:\n",
    "    dfc[attr] = dfc[attr] * df['batter_multiplier']\n",
    "for attr in pitcher_params:\n",
    "    dfc[attr] = dfc[attr] * df['pitcher_multiplier']\n",
    "\n",
    "\n",
    "dfc.loc[dfc[\"pitcher_mods\"].astype(str).str.contains(\"SCATTERED\"),\"pitcher_vibes\"] = 0\n",
    "dfc.loc[dfc[\"batter_mods\"].astype(str).str.contains(\"SCATTERED\"),\"batter_vibes\"] = 0\n",
    "dfc.loc[dfc[\"fielder_mods\"].astype(str).str.contains(\"SCATTERED\"),\"fielder_vibes\"] = 0\n",
    "\n",
    "dfc = dfc[dfc[\"batter_multiplier\"] == 1]\n",
    "dfc = dfc[dfc[\"pitcher_multiplier\"] == 1]\n"
   ]
  },
  {
   "cell_type": "code",
   "execution_count": 4,
   "metadata": {},
   "outputs": [
    {
     "data": {
      "text/plain": [
       "array([[53050,     0],\n",
       "       [    9,     0]], dtype=int64)"
      ]
     },
     "execution_count": 4,
     "metadata": {},
     "output_type": "execute_result"
    }
   ],
   "source": [
    "from sklearn.preprocessing import StandardScaler\n",
    "from sklearn.metrics import confusion_matrix\n",
    "from sklearn.metrics import classification_report\n",
    "from sklearn import svm, linear_model\n",
    "\n",
    "dfc[\"fort\"] = dfc[\"ballpark_fortification\"] - 0.5\n",
    "\n",
    "X = dfc[[\"roll\", \"ballpark_fortification\"]]\n",
    "y = dfc['passed']\n",
    "\n",
    "sc = StandardScaler()\n",
    "X2 = sc.fit_transform(X)\n",
    "\n",
    "trainedsvm = svm.LinearSVC(dual=False, C=500000, max_iter=5000000, tol=1e-5).fit(X2, y)\n",
    "predictionsvm = trainedsvm.predict(X2)\n",
    "confusion_matrix(y,predictionsvm)"
   ]
  },
  {
   "cell_type": "code",
   "execution_count": 5,
   "metadata": {},
   "outputs": [
    {
     "data": {
      "text/plain": [
       "[(1.0, 'roll'), (-0.029629260199288934, 'ballpark_fortification')]"
      ]
     },
     "execution_count": 5,
     "metadata": {},
     "output_type": "execute_result"
    }
   ],
   "source": [
    "coef = np.true_divide(trainedsvm.coef_, sc.scale_)\n",
    "coef_scaled = coef / coef[0, 0]\n",
    "coef_list = coef_scaled.tolist()[0]\n",
    "sorted(zip(coef_list, X.columns), key=lambda x: abs(x[0]), reverse=True)"
   ]
  },
  {
   "cell_type": "code",
   "execution_count": 6,
   "metadata": {},
   "outputs": [
    {
     "data": {
      "text/plain": [
       "array([3.4311051])"
      ]
     },
     "execution_count": 6,
     "metadata": {},
     "output_type": "execute_result"
    }
   ],
   "source": [
    "intercept = trainedsvm.intercept_ - np.dot(coef, sc.mean_)\n",
    "intercept_scaled = intercept / coef[0, 0]\n",
    "intercept_scaled"
   ]
  },
  {
   "cell_type": "code",
   "execution_count": 7,
   "metadata": {},
   "outputs": [
    {
     "name": "stdout",
     "output_type": "stream",
     "text": [
      "53050\n",
      "9\n"
     ]
    }
   ],
   "source": [
    "print(len(dfc[~dfc[\"passed\"]]))\n",
    "print(len(dfc[dfc[\"passed\"]]))"
   ]
  },
  {
   "cell_type": "code",
   "execution_count": 9,
   "metadata": {},
   "outputs": [],
   "source": [
    "fort = dfc[\"ballpark_fortification\"] - 0.5\n",
    "\n",
    "\n",
    "#Season 12-15 = 0.0002 - 0.0002*dfc[\"ballpark_fortification\"]\n",
    "dfc[\"threshold\"] = 0.0002 - 0.0002*dfc[\"ballpark_fortification\"]"
   ]
  },
  {
   "cell_type": "code",
   "execution_count": 10,
   "metadata": {},
   "outputs": [
    {
     "data": {
      "text/plain": [
       "<matplotlib.legend.Legend at 0x298c8fedb20>"
      ]
     },
     "execution_count": 10,
     "metadata": {},
     "output_type": "execute_result"
    },
    {
     "data": {
      "image/png": "[encoded data removed]",
      "text/plain": [
       "<Figure size 720x432 with 1 Axes>"
      ]
     },
     "metadata": {
      "needs_background": "light"
     },
     "output_type": "display_data"
    }
   ],
   "source": [
    "x_val = \"threshold\"\n",
    "fig, ax = plt.subplots(1, figsize=(10, 6))\n",
    "ax.scatter(dfc[~dfc['passed']][x_val], dfc[~dfc['passed']][\"roll\"], color=\"red\",\n",
    "           label=\"No Feedback\", marker=CARETRIGHTBASE)\n",
    "ax.scatter(dfc[dfc['passed']][x_val], dfc[dfc['passed']][\"roll\"], color=\"blue\",\n",
    "           label=\"Feedback\", marker=CARETLEFTBASE)\n",
    "\n",
    "ax.plot([0, 1], [0, 1])\n",
    "ax.set_xlabel(x_val)\n",
    "ax.set_ylabel('roll')\n",
    "ax.set_title(\"Feedback\")\n",
    "ax.set_xlim([-0.002, 0.002])\n",
    "ax.set_ylim([0.00, 0.06])\n",
    "ax.legend()"
   ]
  },
  {
   "cell_type": "code",
   "execution_count": 11,
   "metadata": {},
   "outputs": [
    {
     "data": {
      "text/html": [
       "<div>\n",
       "<style scoped>\n",
       "    .dataframe tbody tr th:only-of-type {\n",
       "        vertical-align: middle;\n",
       "    }\n",
       "\n",
       "    .dataframe tbody tr th {\n",
       "        vertical-align: top;\n",
       "    }\n",
       "\n",
       "    .dataframe thead th {\n",
       "        text-align: right;\n",
       "    }\n",
       "</style>\n",
       "<table border=\"1\" class=\"dataframe\">\n",
       "  <thead>\n",
       "    <tr style=\"text-align: right;\">\n",
       "      <th></th>\n",
       "      <th>offset</th>\n",
       "      <th>weather</th>\n",
       "      <th>event_type</th>\n",
       "      <th>fielder_mods</th>\n",
       "      <th>pitcher_overpowerment</th>\n",
       "      <th>roll</th>\n",
       "      <th>threshold</th>\n",
       "      <th>fielder_name</th>\n",
       "      <th>season</th>\n",
       "      <th>batter_name</th>\n",
       "      <th>pitcher_name</th>\n",
       "      <th>batter_mods</th>\n",
       "      <th>pitcher_mods</th>\n",
       "      <th>batting_team_mods</th>\n",
       "      <th>pitching_team_mods</th>\n",
       "      <th>day</th>\n",
       "      <th>game_id</th>\n",
       "      <th>play_count</th>\n",
       "    </tr>\n",
       "  </thead>\n",
       "  <tbody>\n",
       "    <tr>\n",
       "      <th>90</th>\n",
       "      <td>0.000171</td>\n",
       "      <td>Weather.FEEDBACK</td>\n",
       "      <td>Swap</td>\n",
       "      <td>&lt;NA&gt;</td>\n",
       "      <td>0.510311</td>\n",
       "      <td>0.000271</td>\n",
       "      <td>0.000100</td>\n",
       "      <td>&lt;NA&gt;</td>\n",
       "      <td>11</td>\n",
       "      <td>NaN</td>\n",
       "      <td>Montgomery Bullock</td>\n",
       "      <td>FLICKERING;RECEIVER</td>\n",
       "      <td>FRIEND_OF_CROWS;WILD</td>\n",
       "      <td>LOVE</td>\n",
       "      <td>&lt;NA&gt;</td>\n",
       "      <td>30</td>\n",
       "      <td>0d4d3edb-7727-40f4-ab03-617bb2c0f7f4</td>\n",
       "      <td>141</td>\n",
       "    </tr>\n",
       "    <tr>\n",
       "      <th>42011</th>\n",
       "      <td>0.011707</td>\n",
       "      <td>Weather.FEEDBACK</td>\n",
       "      <td>Swap</td>\n",
       "      <td>&lt;NA&gt;</td>\n",
       "      <td>0.172319</td>\n",
       "      <td>0.011786</td>\n",
       "      <td>0.000079</td>\n",
       "      <td>&lt;NA&gt;</td>\n",
       "      <td>13</td>\n",
       "      <td>Nicholas Mora</td>\n",
       "      <td>&lt;NA&gt;</td>\n",
       "      <td>&lt;NA&gt;</td>\n",
       "      <td>FLICKERING;RECEIVER;ALTERNATE</td>\n",
       "      <td>FIREPROOF;SEALANT;AMBUSH</td>\n",
       "      <td>&lt;NA&gt;</td>\n",
       "      <td>78</td>\n",
       "      <td>30e0cfa2-091f-4501-8ebb-378650a04392</td>\n",
       "      <td>106</td>\n",
       "    </tr>\n",
       "    <tr>\n",
       "      <th>39017</th>\n",
       "      <td>0.011983</td>\n",
       "      <td>Weather.FEEDBACK</td>\n",
       "      <td>Swap</td>\n",
       "      <td>&lt;NA&gt;</td>\n",
       "      <td>0.172319</td>\n",
       "      <td>0.012079</td>\n",
       "      <td>0.000095</td>\n",
       "      <td>&lt;NA&gt;</td>\n",
       "      <td>13</td>\n",
       "      <td>Justice Spoon</td>\n",
       "      <td>&lt;NA&gt;</td>\n",
       "      <td>ALTERNATE;FIRE_EATER</td>\n",
       "      <td>FLICKERING;RECEIVER</td>\n",
       "      <td>&lt;NA&gt;</td>\n",
       "      <td>BOTTOM_DWELLER</td>\n",
       "      <td>66</td>\n",
       "      <td>f814e524-a257-4e72-a0c6-f7dae24aa15e</td>\n",
       "      <td>140</td>\n",
       "    </tr>\n",
       "    <tr>\n",
       "      <th>2369</th>\n",
       "      <td>0.019866</td>\n",
       "      <td>Weather.FEEDBACK</td>\n",
       "      <td>Swap</td>\n",
       "      <td>&lt;NA&gt;</td>\n",
       "      <td>0.216309</td>\n",
       "      <td>0.019966</td>\n",
       "      <td>0.000100</td>\n",
       "      <td>&lt;NA&gt;</td>\n",
       "      <td>11</td>\n",
       "      <td>NaN</td>\n",
       "      <td>Patty Fox</td>\n",
       "      <td>FLICKERING;RECEIVER</td>\n",
       "      <td>&lt;NA&gt;</td>\n",
       "      <td>&lt;NA&gt;</td>\n",
       "      <td>BIRD_SEED</td>\n",
       "      <td>49</td>\n",
       "      <td>bc9788bd-7ef9-4ed1-ba33-b29e57380cb6</td>\n",
       "      <td>228</td>\n",
       "    </tr>\n",
       "    <tr>\n",
       "      <th>15936</th>\n",
       "      <td>0.049233</td>\n",
       "      <td>Weather.FEEDBACK</td>\n",
       "      <td>Swap</td>\n",
       "      <td>&lt;NA&gt;</td>\n",
       "      <td>0.790761</td>\n",
       "      <td>0.049333</td>\n",
       "      <td>0.000100</td>\n",
       "      <td>&lt;NA&gt;</td>\n",
       "      <td>12</td>\n",
       "      <td>Sparks Beans</td>\n",
       "      <td>Jaylen Hotdogfingers</td>\n",
       "      <td>&lt;NA&gt;</td>\n",
       "      <td>WILD;FRIEND_OF_CROWS;FLIICKERRRIIING;SQUIDDISH</td>\n",
       "      <td>&lt;NA&gt;</td>\n",
       "      <td>MAINTENANCE_MODE</td>\n",
       "      <td>63</td>\n",
       "      <td>a351f1c9-7890-45ce-bb8a-86f4901006e3</td>\n",
       "      <td>74</td>\n",
       "    </tr>\n",
       "    <tr>\n",
       "      <th>3707</th>\n",
       "      <td>0.052513</td>\n",
       "      <td>Weather.FEEDBACK</td>\n",
       "      <td>Swap</td>\n",
       "      <td>&lt;NA&gt;</td>\n",
       "      <td>0.790761</td>\n",
       "      <td>0.052613</td>\n",
       "      <td>0.000100</td>\n",
       "      <td>&lt;NA&gt;</td>\n",
       "      <td>11</td>\n",
       "      <td>Juice Collins</td>\n",
       "      <td>Jaylen Hotdogfingers</td>\n",
       "      <td>&lt;NA&gt;</td>\n",
       "      <td>WILD;FRIEND_OF_CROWS;FLIICKERRRIIING;SQUIDDISH</td>\n",
       "      <td>&lt;NA&gt;</td>\n",
       "      <td>O_NO</td>\n",
       "      <td>55</td>\n",
       "      <td>de8676e2-0b77-4a52-9349-928757c24289</td>\n",
       "      <td>12</td>\n",
       "    </tr>\n",
       "  </tbody>\n",
       "</table>\n",
       "</div>"
      ],
      "text/plain": [
       "         offset           weather event_type fielder_mods  \\\n",
       "90     0.000171  Weather.FEEDBACK       Swap         <NA>   \n",
       "42011  0.011707  Weather.FEEDBACK       Swap         <NA>   \n",
       "39017  0.011983  Weather.FEEDBACK       Swap         <NA>   \n",
       "2369   0.019866  Weather.FEEDBACK       Swap         <NA>   \n",
       "15936  0.049233  Weather.FEEDBACK       Swap         <NA>   \n",
       "3707   0.052513  Weather.FEEDBACK       Swap         <NA>   \n",
       "\n",
       "       pitcher_overpowerment      roll  threshold fielder_name  season  \\\n",
       "90                  0.510311  0.000271   0.000100         <NA>      11   \n",
       "42011               0.172319  0.011786   0.000079         <NA>      13   \n",
       "39017               0.172319  0.012079   0.000095         <NA>      13   \n",
       "2369                0.216309  0.019966   0.000100         <NA>      11   \n",
       "15936               0.790761  0.049333   0.000100         <NA>      12   \n",
       "3707                0.790761  0.052613   0.000100         <NA>      11   \n",
       "\n",
       "         batter_name          pitcher_name           batter_mods  \\\n",
       "90               NaN    Montgomery Bullock   FLICKERING;RECEIVER   \n",
       "42011  Nicholas Mora                  <NA>                  <NA>   \n",
       "39017  Justice Spoon                  <NA>  ALTERNATE;FIRE_EATER   \n",
       "2369             NaN             Patty Fox   FLICKERING;RECEIVER   \n",
       "15936   Sparks Beans  Jaylen Hotdogfingers                  <NA>   \n",
       "3707   Juice Collins  Jaylen Hotdogfingers                  <NA>   \n",
       "\n",
       "                                         pitcher_mods  \\\n",
       "90                               FRIEND_OF_CROWS;WILD   \n",
       "42011                   FLICKERING;RECEIVER;ALTERNATE   \n",
       "39017                             FLICKERING;RECEIVER   \n",
       "2369                                             <NA>   \n",
       "15936  WILD;FRIEND_OF_CROWS;FLIICKERRRIIING;SQUIDDISH   \n",
       "3707   WILD;FRIEND_OF_CROWS;FLIICKERRRIIING;SQUIDDISH   \n",
       "\n",
       "              batting_team_mods pitching_team_mods  day  \\\n",
       "90                         LOVE               <NA>   30   \n",
       "42011  FIREPROOF;SEALANT;AMBUSH               <NA>   78   \n",
       "39017                      <NA>     BOTTOM_DWELLER   66   \n",
       "2369                       <NA>          BIRD_SEED   49   \n",
       "15936                      <NA>   MAINTENANCE_MODE   63   \n",
       "3707                       <NA>               O_NO   55   \n",
       "\n",
       "                                    game_id  play_count  \n",
       "90     0d4d3edb-7727-40f4-ab03-617bb2c0f7f4         141  \n",
       "42011  30e0cfa2-091f-4501-8ebb-378650a04392         106  \n",
       "39017  f814e524-a257-4e72-a0c6-f7dae24aa15e         140  \n",
       "2369   bc9788bd-7ef9-4ed1-ba33-b29e57380cb6         228  \n",
       "15936  a351f1c9-7890-45ce-bb8a-86f4901006e3          74  \n",
       "3707   de8676e2-0b77-4a52-9349-928757c24289          12  "
      ]
     },
     "execution_count": 11,
     "metadata": {},
     "output_type": "execute_result"
    },
    {
     "data": {
      "image/png": "[encoded data removed]",
      "text/plain": [
       "<Figure size 432x288 with 1 Axes>"
      ]
     },
     "metadata": {
      "needs_background": "light"
     },
     "output_type": "display_data"
    }
   ],
   "source": [
    "dfc[\"offset\"] = dfc[\"roll\"] - dfc[\"threshold\"]\n",
    "outliers = dfc[(dfc[\"passed\"] & (dfc[\"offset\"] > 0)) | (~dfc[\"passed\"] & (dfc[\"offset\"] < 0))]\n",
    "\n",
    "fig, ax = plt.subplots(1)\n",
    "x_val = \"ballpark_fortification\"\n",
    "y_val = \"offset\"\n",
    "ax.scatter(outliers[~outliers['passed']][x_val], outliers[~outliers['passed']][y_val], color=\"red\", label=\"Double\")\n",
    "ax.scatter(outliers[outliers['passed']][x_val], outliers[outliers['passed']][y_val], color=\"blue\", label=\"Other Hit\")\n",
    "ax.set_xlabel(x_val)\n",
    "ax.set_ylabel(y_val)\n",
    "ax.legend()\n",
    "\n",
    "table = outliers\n",
    "table[[\"offset\", \"weather\", \"event_type\", \"fielder_mods\", \"pitcher_overpowerment\",\n",
    "       \"roll\", \"threshold\",\n",
    "       \"fielder_name\", \"season\",\n",
    "       \"batter_name\", \"pitcher_name\", \"batter_mods\", \"pitcher_mods\",\n",
    "       \"batting_team_mods\", \"pitching_team_mods\", \"day\",  \"game_id\", \"play_count\"]].sort_values('offset')\n"
   ]
  },
  {
   "cell_type": "code",
   "execution_count": 265,
   "metadata": {},
   "outputs": [
    {
     "name": "stdout",
     "output_type": "stream",
     "text": [
      "0.0002648354734513525\n",
      "0.9994472809302016\n"
     ]
    }
   ],
   "source": [
    "print(dfc[dfc[\"passed\"]][\"roll\"].min())\n",
    "print(dfc[~dfc[\"passed\"]][\"roll\"].max())"
   ]
  }
 ],
 "metadata": {
  "kernelspec": {
   "display_name": "Python 3.8.5 64-bit",
   "language": "python",
   "name": "python3"
  },
  "language_info": {
   "codemirror_mode": {
    "name": "ipython",
    "version": 3
   },
   "file_extension": ".py",
   "mimetype": "text/x-python",
   "name": "python",
   "nbconvert_exporter": "python",
   "pygments_lexer": "ipython3",
   "version": "3.8.5"
  },
  "vscode": {
   "interpreter": {
    "hash": "893958406e8c6944eb13075791d2ee6bb1de84c8ef46ad5e9bf9040b431b0bd8"
   }
  }
 },
 "nbformat": 4,
 "nbformat_minor": 1
}
