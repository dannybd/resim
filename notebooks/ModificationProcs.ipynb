{
 "cells": [
  {
   "cell_type": "markdown",
   "metadata": {},
   "source": [
    "Mild: 0.0005 + 0.004 * dfc[\"ballpark_mysticism\"] (ALL SEASONS)\n",
    "\n",
    "Haunted: 0.2 (Season 12) More to come, likely a logging error\n",
    "\n",
    "Electric: 0.05 + 0.1 * dfc[\"ballpark_mysticism\"] (SEASON 12-15)\n",
    "          0.0325 + 0.1 * dfc[\"ballpark_mysticism\"] or 0.033 + 0.1 * dfc[\"ballpark_mysticism\"] (SEASON 16)\n",
    "          0.025 + 0.1*dfc[\"ballpark_mysticism\"] (SEASON 17)\n",
    "          0.02085 + 0.1*dfc[\"ballpark_mysticism\"] (SEASON 18)\n",
    "\n",
    "Peanut Mister: 0.0005 (ALL SEASONS. NOTE: IF NO ELIGIBLE TARGETS THEN NO TARGET ROLL)\n",
    "\n",
    "Smithy: 0.0004 (ALL SEASONS)\n",
    "\n",
    "Taste the Infinite (Pitcher): 0.001 (ALL SEASONS)\n",
    "\n",
    "Birds Ambush: 0.0255 (ALL SEASONS)\n",
    "\n",
    "Charm: 0.015 + 0.02*dfc[\"ballpark_mysticism\"] (SEASON 12-17)  \n",
    "       0.014 + 0.006*dfc[\"ballpark_mysticism\"] (SEASON 18)\n",
    "\n",
    "Echo Chamber: 0.0055 (SEASON 14-17)\n",
    "              0.013 (SEASON 18)\n",
    "              Between 0.006 & 0.012 (SEASON 19)\n",
    "\n",
    "Base Intincts: 0.2 (ALL SEASONS)\n",
    "\n",
    "\n",
    "Debt_Three: 0.0095 (ALL SEASONS FOR ACTUAL REAL DEBT)\n",
    "            0.015 (ALL SEASONS BUT FOR COPIED DEBT)\n",
    "            (THIS IS LIKELY CAUSED BY A STAT BUT IT'S HARD TO TELL WITH LIMITED DATA AND CHORBY SHELLING SOUL WITH FLOORED STATS)\n",
    "\n",
    "Psychic (Pitcher): 0.075ish\n",
    "Psychic (Batter): 0.078 + 0.0375*dfc[\"ballpark_mysticism\"]"
   ]
  },
  {
   "cell_type": "code",
   "execution_count": null,
   "metadata": {},
   "outputs": [],
   "source": [
    "import glob\n",
    "\n",
    "import pandas as pd\n",
    "import matplotlib.pyplot as plt\n",
    "import numpy as np\n",
    "from matplotlib.markers import CARETLEFTBASE, CARETRIGHTBASE\n",
    "from csv_dtypes import column_dtypes\n",
    "\n",
    "from sklearn.preprocessing import StandardScaler\n",
    "from sklearn.metrics import confusion_matrix\n",
    "from sklearn.metrics import classification_report\n",
    "from sklearn import svm, linear_model\n",
    "\n",
    "pd.set_option(\"display.max_rows\", 60)  # default 60\n",
    "pd.set_option(\"display.max_columns\", 20)  # default 20"
   ]
  },
  {
   "cell_type": "code",
   "execution_count": null,
   "metadata": {},
   "outputs": [],
   "source": [
    "all_files = glob.glob(\"../roll_data/*-modproc.csv\")\n",
    "\n",
    "df = pd.concat((pd.read_csv(f, dtype=column_dtypes) for f in all_files), ignore_index=True)\n",
    "\n",
    "seasons = [14,15,16,17,18]\n",
    "df = df[df['season'].isin(seasons)]\n",
    "len(df)"
   ]
  },
  {
   "cell_type": "code",
   "execution_count": null,
   "metadata": {},
   "outputs": [],
   "source": [
    "def get_pitcher_mul(row):\n",
    "    pm = str(row[\"pitcher_mods\"])\n",
    "    ptm = str(row[\"pitching_team_mods\"])\n",
    "    mul = 1\n",
    "    if \"OVERPERFORMING\" in pm:\n",
    "        mul += 0.2\n",
    "    if \"OVERPERFORMING\" in ptm:\n",
    "        mul += 0.2\n",
    "    if \"UNDERPERFORMING\" in pm:\n",
    "        mul -= 0.2\n",
    "    if \"UNDERPERFORMING\" in ptm:\n",
    "        mul -= 0.2\n",
    "    if \"TRAVELING\" in ptm:\n",
    "        # pass  # traveling just doesn't do anything on pitchers?\n",
    "        if not row[\"top_of_inning\"]:\n",
    "            mul += 0.05\n",
    "    if \"HIGH_PRESSURE\" in ptm:\n",
    "        if row[\"weather\"] == \"Weather.FLOODING\" and row[\"baserunner_count\"] > 0:\n",
    "            mul += 0.25\n",
    "    if \"GROWTH\" in ptm:\n",
    "        mul += min(0.05, 0.05 * (row[\"day\"] / 99))\n",
    "        # pass  # growth doesn't do anything on pitchers either\n",
    "    if \"SINKING_SHIP\" in ptm:\n",
    "        mul += (14 - row[\"pitching_team_roster_size\"]) * 0.01\n",
    "    if \"AFFINITY_FOR_CROWS\" in ptm and row[\"weather\"] == \"Weather.BIRDS\":\n",
    "        mul += 0.5\n",
    "    return mul\n",
    "\n",
    "\n",
    "def get_batter_mul(row):\n",
    "    # if row[[\"runner_name\"]].isna().any():\n",
    "    # row[\"runner_name\"] == \"NaaN\"\n",
    "    bm = str(row[\"batter_mods\"])\n",
    "    btm = str(row[\"batting_team_mods\"])\n",
    "    ptm = str(row[\"pitching_team_mods\"])\n",
    "    mul = 1\n",
    "    attrs = \"\"\n",
    "    if \"OVERPERFORMING\" in bm:\n",
    "        mul += 0.2\n",
    "    if \"OVERPERFORMING\" in btm:\n",
    "        mul += 0.2\n",
    "    if \"UNDERPERFORMING\" in bm:\n",
    "        mul -= 0.2\n",
    "    if \"UNDERPERFORMING\" in btm:\n",
    "        mul -= 0.2\n",
    "    if \"TRAVELING\" in btm:\n",
    "        if row[\"top_of_inning\"]:\n",
    "            # is this actually 0.035 instead of 0.05?\n",
    "            mul += 0.35\n",
    "    if \"GROWTH\" in btm:\n",
    "        # is this actually 0.035 instead of 0.05?\n",
    "        mul += min(0.05, 0.05 * (row[\"day\"] / 99))\n",
    "        # pass\n",
    "    if \"HIGH_PRESSURE\" in btm:\n",
    "        if row[\"weather\"] == \"Weather.FLOODING\" and row[\"baserunner_count\"] > 0:\n",
    "            mul += 0.25\n",
    "    if \"SINKING_SHIP\" in btm:\n",
    "        mul += (14 - row[\"batting_team_roster_size\"]) * 0.01\n",
    "    if \"AFFINITY_FOR_CROWS\" in btm and row[\"weather\"] == \"Weather.BIRDS\":\n",
    "        mul += 0.5\n",
    "    if \"CHUNKY\" in bm and row[\"weather\"] == \"Weather.PEANUTS\":\n",
    "        # todo: make this work if there's also, like, Overperforming active\n",
    "        # it only should apply to \"power\" attrs\n",
    "        mul += 1.0\n",
    "        attrs = \"batter_musclitude, batter_divinity, batter_ground_friction\"\n",
    "    if \"SMOOTH\" in bm and row[\"weather\"] == \"Weather.PEANUTS\":\n",
    "        # todo: make this work if there's also, like, Overperforming active\n",
    "        # it only should apply to \"speed\" attrs\n",
    "        # doing 80% because of evidence from the Spin Attack blessing that \"speed\"\n",
    "        # boosts laserlikeness 80% of what it says the total boost is?\n",
    "        mul += 0.80\n",
    "        attrs = \"batter_musclitude, batter_laserlikeness, batter_ground_friction, batter_continuation\"\n",
    "    if \"ON_FIRE\" in bm:\n",
    "        # todo: handle\n",
    "        # test \"+125% multiplier\"\n",
    "        mul += 1.25\n",
    "        # pass\n",
    "    # NVGs real??? eclipse weather, special case for Sutton Dreamy\n",
    "    # surely this will not break from scattering, right? (It totally will)\n",
    "    # if row[\"runner_name\"] == \"Sutton Dreamy\" and row[\"weather\"] == \"Weather.ECLIPSE\":\n",
    "    # NVGs allow the player to play 50% better in a solar eclipse.\n",
    "    # This might affect fielding and baserunning as well?\n",
    "    # mul += 0.50\n",
    "    return mul, attrs\n",
    "\n",
    "\n",
    "def get_fielder_mul(row):\n",
    "    fm = str(row[\"fielder_mods\"])\n",
    "    ptm = str(row[\"pitching_team_mods\"])\n",
    "    mul = 1\n",
    "    if \"OVERPERFORMING\" in fm:\n",
    "        mul += 0.2\n",
    "    if \"OVERPERFORMING\" in ptm:\n",
    "        mul += 0.2\n",
    "    if \"UNDERPERFORMING\" in fm:\n",
    "        mul -= 0.2\n",
    "    if \"UNDERPERFORMING\" in ptm:\n",
    "        mul -= 0.2\n",
    "    if \"TRAVELING\" in ptm:\n",
    "        # pass\n",
    "        if not row[\"top_of_inning\"]:\n",
    "            mul += 0.05\n",
    "    if \"HIGH_PRESSURE\" in ptm:\n",
    "        if row[\"weather\"] == 18 and str(row[\"baserunner_count\"]) > 0:\n",
    "            mul += 0.25\n",
    "    if \"GROWTH\" in ptm:\n",
    "        mul += min(0.05, 0.05 * (row[\"day\"] / 99))\n",
    "    if \"SINKING_SHIP\" in ptm:\n",
    "        mul += (14 - row[\"pitching_team_roster_size\"]) * 0.01\n",
    "    if \"AFFINITY_FOR_CROWS\" in ptm and row[\"weather\"] == \"Weather.BIRDS\":\n",
    "        mul += 0.5\n",
    "    if \"SHELLED\" in fm:\n",
    "        # is it this, or is it \"mul = 0\", I wonder\n",
    "        mul -= 1.0\n",
    "    # if row[\"fielder_name\"] == \"Sutton Dreamy\" and row[\"weather\"] == \"Weather.ECLIPSE\":\n",
    "    # NVGs allow the player to play 50% better in a solar eclipse.\n",
    "    # This might affect fielding and baserunning as well?\n",
    "    # mul += 0.50\n",
    "    return mul"
   ]
  },
  {
   "cell_type": "code",
   "execution_count": null,
   "metadata": {},
   "outputs": [],
   "source": [
    "dfc = df.copy()\n",
    "for exclude_mod in []:\n",
    "    dfc = dfc[~dfc[\"batter_mods\"].astype(str).str.contains(exclude_mod)]\n",
    "    dfc = dfc[~dfc[\"pitcher_mods\"].astype(str).str.contains(exclude_mod)]\n",
    "    dfc = dfc[~dfc[\"pitching_team_mods\"].astype(str).str.contains(exclude_mod)]\n",
    "    dfc = dfc[~dfc[\"batting_team_mods\"].astype(str).str.contains(exclude_mod)]\n",
    "    dfc = dfc[~dfc[\"fielder_mods\"].astype(str).str.contains(exclude_mod)]\n",
    "\n",
    "len(dfc)"
   ]
  },
  {
   "cell_type": "code",
   "execution_count": null,
   "metadata": {},
   "outputs": [],
   "source": [
    "mister_events = (\"cure\", \"NoCure\")\n",
    "mild_events = (\"Mild\", \"NoMild\")\n",
    "birds_ambush_events = (\"Ambushed\", \"NoBush\")\n",
    "echo_chamber_events = (\"Copy\", \"nocopy\")\n",
    "taste_infinite_events = (\"shelled2\", \"no shell2\")\n",
    "electric_events = (\"Zap\", \"NoZap\")\n",
    "base_instinct_events = (\"Walk\", \"Balk\", \"Second\", \"Third\")\n",
    "smithy_events = (\"Fix\", \"NoFix\")\n",
    "haunted_events = (\"NoHaunt\", \"YesHaunt\")\n",
    "grind_rail_events = (\"Grind\", \"NoGrind\")\n",
    "taste_infinite_batter_events = (\"shelled1\", \"no shell1\")\n",
    "debt_events = (\"Bonk\", \"No Bonk\")\n",
    "big_buckets_events = (\"Bucket\", \"NoBucket\")\n",
    "acidic_events = (\"Acidic Pitch\", \"Not Acidic Pitch\")\n",
    "double_strike_events = (\"Double Strike\", \"Single Strike\")\n",
    "hotel_motel_events = (\"Hotel\", \"Notel\")\n",
    "\n",
    "include_events = double_strike_events\n",
    "\n",
    "dfc = dfc[dfc[\"event_type\"].astype(str).isin(include_events)]\n",
    "\n",
    "if \"Hotel\" in include_events:\n",
    "    # These rolls are not in the right place currently\n",
    "    dfc = dfc[~dfc[\"inning\"] == -1]\n",
    "\n",
    "len(dfc)"
   ]
  },
  {
   "cell_type": "code",
   "execution_count": 802,
   "metadata": {},
   "outputs": [
    {
     "name": "stdout",
     "output_type": "stream",
     "text": [
      "[[24185   225]\n",
      " [  216   748]]\n",
      "441 outliers\n",
      "0.9826200047292504\n",
      "0.03572411737246579\n"
     ]
    },
    {
     "data": {
      "text/plain": [
       "[(1.0, 'roll')]"
      ]
     },
     "execution_count": 802,
     "metadata": {},
     "output_type": "execute_result"
    }
   ],
   "source": [
    "X = dfc[\n",
    "    [\n",
    "        \"roll\",\n",
    "        \"passed\",\n",
    "        #\"pitcher_musclitude\",\n",
    "        #\"ballpark_mysticism\",\n",
    "        #\"ballpark_forwardness\"\n",
    "        #\"pitcher_unthwackability\"\n",
    "\n",
    "    ]\n",
    "].copy()\n",
    "#X = X[X[\"pitcher_musclitude\"] > 0.07]\n",
    "\n",
    "y = X[\"passed\"]\n",
    "X = X.drop([\"passed\"], axis=1)\n",
    "\n",
    "pin_intercept = None\n",
    "pins = [ #(0.02, \"ballpark_mysticism\")\n",
    "]\n",
    "for val, var in pins:\n",
    "    X[\"roll\"] -= X[var] * val\n",
    "    X = X.drop(var, axis=1)\n",
    "\n",
    "sc = StandardScaler(with_mean=False)\n",
    "X2 = sc.fit_transform(X)\n",
    "if pin_intercept is not None:\n",
    "    X2[:, 0] -= pin_intercept / sc.scale_[0]\n",
    "\n",
    "trainedsvm = svm.LinearSVC(\n",
    "    dual=False, max_iter=10000000, C=100000000, tol=1e-12, fit_intercept=pin_intercept is None\n",
    ").fit(X2, y)\n",
    "predictionsvm = trainedsvm.predict(X2)\n",
    "print(confusion_matrix(y, predictionsvm))\n",
    "print(confusion_matrix(y, predictionsvm)[0, 1] + confusion_matrix(y, predictionsvm)[1, 0], \"outliers\")\n",
    "print(trainedsvm.score(X2, y))\n",
    "\n",
    "coef = np.true_divide(trainedsvm.coef_, sc.scale_)\n",
    "coef_scaled = coef / coef[0, 0]\n",
    "coef_list = coef_scaled.tolist()[0]\n",
    "\n",
    "intercept = trainedsvm.intercept_  # - np.dot(coef, sc.mean_)\n",
    "intercept_scaled = -(intercept / coef[0, 0])[0] if pin_intercept is None else pin_intercept\n",
    "print(intercept_scaled)\n",
    "sorted(zip(coef_list, X.columns), key=lambda x: abs(x[0]), reverse=True)"
   ]
  },
  {
   "cell_type": "code",
   "execution_count": 797,
   "metadata": {},
   "outputs": [
    {
     "name": "stdout",
     "output_type": "stream",
     "text": [
      "2701\n",
      "99\n"
     ]
    }
   ],
   "source": [
    "print(len(dfc[~dfc[\"passed\"]]))\n",
    "print(len(dfc[dfc[\"passed\"]]))"
   ]
  },
  {
   "cell_type": "code",
   "execution_count": 789,
   "metadata": {},
   "outputs": [],
   "source": [
    "\n",
    "dfc[\"threshold\"] = 0.009 + 0.011274885732420673*dfc[\"pitcher_ruthlessness\"]"
   ]
  },
  {
   "cell_type": "code",
   "execution_count": 790,
   "metadata": {},
   "outputs": [
    {
     "data": {
      "text/plain": [
       "<matplotlib.legend.Legend at 0x2cdb59af7c0>"
      ]
     },
     "execution_count": 790,
     "metadata": {},
     "output_type": "execute_result"
    },
    {
     "data": {
      "image/png": "[encoded data removed]",
      "text/plain": [
       "<Figure size 720x432 with 1 Axes>"
      ]
     },
     "metadata": {
      "needs_background": "light"
     },
     "output_type": "display_data"
    }
   ],
   "source": [
    "x_val = \"threshold\"\n",
    "fig, ax = plt.subplots(1, figsize=(10, 6))\n",
    "ax.scatter(dfc[dfc['passed']][x_val], dfc[dfc['passed']][\"roll\"], color=\"blue\",\n",
    "           label=\"Activate\", marker=CARETLEFTBASE)\n",
    "ax.scatter(dfc[~dfc['passed']][x_val], dfc[~dfc['passed']][\"roll\"], color=\"red\",\n",
    "           label=\"NoActivate\", marker=CARETRIGHTBASE)\n",
    "ax.plot([0, 1], [0, 1])\n",
    "ax.set_xlabel(x_val)\n",
    "ax.set_ylabel('roll')\n",
    "ax.set_title(\"Weather Procs\")\n",
    "ax.set_xlim([0.001, 0.02])\n",
    "ax.set_ylim([0.0, 0.15])\n",
    "ax.legend()"
   ]
  },
  {
   "cell_type": "code",
   "execution_count": 792,
   "metadata": {},
   "outputs": [
    {
     "data": {
      "text/html": [
       "<div>\n",
       "<style scoped>\n",
       "    .dataframe tbody tr th:only-of-type {\n",
       "        vertical-align: middle;\n",
       "    }\n",
       "\n",
       "    .dataframe tbody tr th {\n",
       "        vertical-align: top;\n",
       "    }\n",
       "\n",
       "    .dataframe thead th {\n",
       "        text-align: right;\n",
       "    }\n",
       "</style>\n",
       "<table border=\"1\" class=\"dataframe\">\n",
       "  <thead>\n",
       "    <tr style=\"text-align: right;\">\n",
       "      <th></th>\n",
       "      <th>offset</th>\n",
       "      <th>event_type</th>\n",
       "      <th>season</th>\n",
       "      <th>roll</th>\n",
       "      <th>threshold</th>\n",
       "      <th>ballpark_forwardness</th>\n",
       "      <th>batter_name</th>\n",
       "      <th>pitcher_name</th>\n",
       "      <th>batter_mods</th>\n",
       "      <th>pitcher_mods</th>\n",
       "      <th>day</th>\n",
       "      <th>game_id</th>\n",
       "      <th>play_count</th>\n",
       "    </tr>\n",
       "  </thead>\n",
       "  <tbody>\n",
       "  </tbody>\n",
       "</table>\n",
       "</div>"
      ],
      "text/plain": [
       "Empty DataFrame\n",
       "Columns: [offset, event_type, season, roll, threshold, ballpark_forwardness, batter_name, pitcher_name, batter_mods, pitcher_mods, day, game_id, play_count]\n",
       "Index: []"
      ]
     },
     "execution_count": 792,
     "metadata": {},
     "output_type": "execute_result"
    },
    {
     "data": {
      "image/png": "[encoded data removed]",
      "text/plain": [
       "<Figure size 432x288 with 1 Axes>"
      ]
     },
     "metadata": {
      "needs_background": "light"
     },
     "output_type": "display_data"
    }
   ],
   "source": [
    "dfc[\"offset\"] = dfc[\"roll\"] - dfc[\"threshold\"]\n",
    "outliers = dfc[(dfc[\"passed\"] & (dfc[\"offset\"] > 0)) | (~dfc[\"passed\"] & (dfc[\"offset\"] < 0))]\n",
    "#outliers = outliers[outliers[\"pitcher_musclitude\"] > 0.07]\n",
    "fig, ax = plt.subplots(1)\n",
    "x_val = \"ballpark_mysticism\"\n",
    "y_val = \"offset\"\n",
    "ax.scatter(outliers[~outliers['passed']][x_val], outliers[~outliers['passed']][y_val], color=\"red\", label=\"Proc\")\n",
    "ax.scatter(outliers[outliers['passed']][x_val], outliers[outliers['passed']][y_val], color=\"blue\", label=\"No Proc\")\n",
    "ax.set_xlabel(x_val)\n",
    "ax.set_ylabel(y_val)\n",
    "ax.legend()\n",
    "\n",
    "table = outliers\n",
    "table[[\"offset\", \"event_type\", \"season\",\n",
    "       \"roll\", \"threshold\", \"ballpark_forwardness\",\n",
    "       \"batter_name\", \"pitcher_name\", \"batter_mods\", \"pitcher_mods\",\n",
    "       \"day\",  \"game_id\", \"play_count\"]].sort_values('offset')\n"
   ]
  },
  {
   "cell_type": "code",
   "execution_count": 662,
   "metadata": {},
   "outputs": [
    {
     "name": "stdout",
     "output_type": "stream",
     "text": [
      "0.014591677356671662\n",
      "0.00959761035961626\n"
     ]
    }
   ],
   "source": [
    "print(dfc[dfc[\"passed\"]][\"roll\"].max())\n",
    "print(dfc[~dfc[\"passed\"]][\"roll\"].min())"
   ]
  }
 ],
 "metadata": {
  "kernelspec": {
   "display_name": "Python 3 (ipykernel)",
   "language": "python",
   "name": "python3"
  },
  "language_info": {
   "codemirror_mode": {
    "name": "ipython",
    "version": 3
   },
   "file_extension": ".py",
   "mimetype": "text/x-python",
   "name": "python",
   "nbconvert_exporter": "python",
   "pygments_lexer": "ipython3",
   "version": "3.11.0"
  },
  "vscode": {
   "interpreter": {
    "hash": "893958406e8c6944eb13075791d2ee6bb1de84c8ef46ad5e9bf9040b431b0bd8"
   }
  }
 },
 "nbformat": 4,
 "nbformat_minor": 1
}
