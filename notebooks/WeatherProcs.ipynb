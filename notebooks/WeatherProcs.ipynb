{
 "cells": [
  {
   "cell_type": "markdown",
   "metadata": {},
   "source": [
    "Coffee 1 = 0.02 - 0.012*dfc[\"ballpark_fortification\"] (ALL SEASONS)\n",
    "Coffee 2 = 0.01875 - 0.0075*dfc[\"ballpark_fortification\"] (ALL SEASONS)\n",
    "Flooding = 0.016 - 0.001*dfc[\"ballpark_fortification\"] (SEASON 12)\n",
    "           0.03 - 0.0245*dfc[\"ballpark_fortification\"] (SEASON 13)\n",
    "           0.019 - 0.020*dfc[\"ballpark_fortification\"] (SEASON 14)\n",
    "           0.013 - 0.012*dfc[\"ballpark_fortification\"] (SEASON 15, 16, 17)\n",
    "           0.0145 - 0.01*dfc[\"ballpark_fortification\"] (SEASON 18, 19)\n",
    "\n",
    "Salmon: 0.15 - 0.1*dfc[\"ballpark_fortification\"] (SEASON 15, 16)\n",
    "        0.1375 - 0.1*dfc[\"ballpark_fortification\"] (SEASON 17, 18, 19)\n",
    "\n",
    "Reverb: \n",
    "\n",
    "Blooddrain: 0.00065 - 0.001*dfc[\"ballpark_fortification\"] (SEASON 12, 13, 14, 15, 16)\n",
    "            0.00125 - 0.00125*dfc[\"ballpark_fortification\"] (SEASON, 17, 18, 19)\n",
    "Siphon: Anything between Blooddrain threshold and 0.0025\n",
    "\n",
    "Feedback: 0.0001 - 0.0001*dfc[\"ballpark_fortification\"]\n",
    "FLICKERING: 0.02 or 0.025\n",
    "FLIICKERRRIIING: 0.055, probably a bit higher like 0.075\n",
    "\n",
    "Peanut: 0.0006 - 0.00055 * dfc[\"ballpark_fortification\"] or 0.0005 - 0.000325 * dfc[\"ballpark_fortification\"] (ALL SEASONS)\n",
    "\n",
    "Glitter: 0.007 - 0.0055*dfc[\"ballpark_fortification\"] (SEASON 16, currently only have misses in Season 17 and no actual glitter games in S18 or S19)\n",
    "\n",
    "Polarity: 0.035 - 0.025*dfc[\"ballpark_fortification\"] (SEASON 19)\n",
    "\n",
    "Eclipse:  0.00045 - 0.0004*dfc[\"ballpark_fortification\"] (SEASON 14, 15,16,17,18,19)\n"
   ]
  },
  {
   "cell_type": "code",
   "execution_count": 83,
   "metadata": {},
   "outputs": [],
   "source": [
    "import glob\n",
    "\n",
    "import pandas as pd\n",
    "import matplotlib.pyplot as plt\n",
    "import numpy as np\n",
    "from matplotlib.markers import CARETLEFTBASE, CARETRIGHTBASE\n",
    "from csv_dtypes import column_dtypes\n",
    "\n",
    "from sklearn.preprocessing import StandardScaler\n",
    "from sklearn.metrics import confusion_matrix\n",
    "from sklearn.metrics import classification_report\n",
    "from sklearn import svm, linear_model"
   ]
  },
  {
   "cell_type": "code",
   "execution_count": 362,
   "metadata": {},
   "outputs": [
    {
     "data": {
      "text/plain": [
       "513387"
      ]
     },
     "execution_count": 362,
     "metadata": {},
     "output_type": "execute_result"
    }
   ],
   "source": [
    "all_files = glob.glob(\"../roll_data/*-weatherproc.csv\")\n",
    "\n",
    "df = pd.concat((pd.read_csv(f, dtype=column_dtypes) for f in all_files), ignore_index=True)\n",
    "\n",
    "seasons = [11,12,13,14,15,16,17,18]\n",
    "df = df[df['season'].isin(seasons)]\n",
    "len(df)"
   ]
  },
  {
   "cell_type": "code",
   "execution_count": 363,
   "metadata": {},
   "outputs": [],
   "source": [
    "dfc = df.copy()\n",
    "for exclude_mod in []:\n",
    "    dfc = dfc[~dfc[\"batter_mods\"].astype(str).str.contains(exclude_mod)]\n",
    "    dfc = dfc[~dfc[\"pitcher_mods\"].astype(str).str.contains(exclude_mod)]\n",
    "    dfc = dfc[~dfc[\"pitching_team_mods\"].astype(str).str.contains(exclude_mod)]\n",
    "    dfc = dfc[~dfc[\"batting_team_mods\"].astype(str).str.contains(exclude_mod)]\n",
    "    dfc = dfc[~dfc[\"fielder_mods\"].astype(str).str.contains(exclude_mod)]\n",
    "\n",
    "coffee_events = (\"Bean\", \"NoBean\")\n",
    "coffee2_events = (\"Refill\", \"NoRefill\")\n",
    "flooding_events = (\"Swept\", \"NoSweep\")\n",
    "reverb_events = (\"Shuffle\", \"NoShuffle\")\n",
    "bloodrain_events = (\"Drain\", \"NoDrain\") \n",
    "feedback_events = (\"Swap\", \"NoSwap\")\n",
    "peanut_events = (\"Allergy\", \"NoAllergy\")\n",
    "salmon_events = (\"Salmon\", \"NoSalmon\")\n",
    "eclipse_events = (\"Burn\", \"NoBurn\")\n",
    "glitter_events = (\"LootDrop\", \"NootDrop\")\n",
    "polarity_events = (\"Switch\", \"NoSwitch\")\n",
    "\n",
    "include_events = eclipse_events\n",
    "\n",
    "dfc = dfc[dfc[\"event_type\"].astype(str).isin(include_events)]"
   ]
  },
  {
   "cell_type": "code",
   "execution_count": 364,
   "metadata": {},
   "outputs": [
    {
     "name": "stdout",
     "output_type": "stream",
     "text": [
      "[[66425     0]\n",
      " [    1    19]]\n",
      "1 outliers\n",
      "0.9999849499586124\n",
      "0.00044657916677825224\n"
     ]
    },
    {
     "data": {
      "text/plain": [
       "[(1.0, 'roll'), (0.0003989030091810781, 'ballpark_fortification')]"
      ]
     },
     "execution_count": 364,
     "metadata": {},
     "output_type": "execute_result"
    }
   ],
   "source": [
    "\n",
    "X = dfc[\n",
    "    [\n",
    "        \"roll\",\n",
    "        \"passed\",\n",
    "        \"ballpark_fortification\"\n",
    "    ]\n",
    "].copy()\n",
    "#X = X[X[\"roll\"] > 0.001]\n",
    "y = X[\"passed\"]\n",
    "X = X.drop([\"passed\"], axis=1)\n",
    "\n",
    "pin_intercept = None\n",
    "pins = [ \n",
    "]\n",
    "\n",
    "for val, var in pins:\n",
    "    X[\"roll\"] -= X[var] * val\n",
    "    X = X.drop(var, axis=1)\n",
    "\n",
    "sc = StandardScaler(with_mean=False)\n",
    "X2 = sc.fit_transform(X)\n",
    "if pin_intercept is not None:\n",
    "    X2[:, 0] -= pin_intercept / sc.scale_[0]\n",
    "\n",
    "trainedsvm = svm.LinearSVC(\n",
    "    dual=False, max_iter=10000000, C=100000000, tol=1e-12, fit_intercept=pin_intercept is None\n",
    ").fit(X2, y)\n",
    "predictionsvm = trainedsvm.predict(X2)\n",
    "print(confusion_matrix(y, predictionsvm))\n",
    "print(confusion_matrix(y, predictionsvm)[0, 1] + confusion_matrix(y, predictionsvm)[1, 0], \"outliers\")\n",
    "print(trainedsvm.score(X2, y))\n",
    "\n",
    "coef = np.true_divide(trainedsvm.coef_, sc.scale_)\n",
    "coef_scaled = coef / coef[0, 0]\n",
    "coef_list = coef_scaled.tolist()[0]\n",
    "\n",
    "intercept = trainedsvm.intercept_  # - np.dot(coef, sc.mean_)\n",
    "intercept_scaled = -(intercept / coef[0, 0])[0] if pin_intercept is None else pin_intercept\n",
    "print(intercept_scaled)\n",
    "sorted(zip(coef_list, X.columns), key=lambda x: abs(x[0]), reverse=True)"
   ]
  },
  {
   "cell_type": "code",
   "execution_count": 365,
   "metadata": {},
   "outputs": [
    {
     "name": "stdout",
     "output_type": "stream",
     "text": [
      "66425\n",
      "20\n"
     ]
    }
   ],
   "source": [
    "print(len(dfc[~dfc[\"passed\"]]))\n",
    "print(len(dfc[dfc[\"passed\"]]))"
   ]
  },
  {
   "cell_type": "code",
   "execution_count": 384,
   "metadata": {},
   "outputs": [],
   "source": [
    "\n",
    "dfc[\"threshold\"] = 0.00045 - 0.0004*dfc[\"ballpark_fortification\"]"
   ]
  },
  {
   "cell_type": "code",
   "execution_count": 385,
   "metadata": {},
   "outputs": [
    {
     "data": {
      "text/plain": [
       "<matplotlib.legend.Legend at 0x1c9b5b65fa0>"
      ]
     },
     "execution_count": 385,
     "metadata": {},
     "output_type": "execute_result"
    },
    {
     "data": {
      "image/png": "[encoded data removed]",
      "text/plain": [
       "<Figure size 720x432 with 1 Axes>"
      ]
     },
     "metadata": {
      "needs_background": "light"
     },
     "output_type": "display_data"
    }
   ],
   "source": [
    "x_val = \"threshold\"\n",
    "fig, ax = plt.subplots(1, figsize=(10, 6))\n",
    "ax.scatter(dfc[dfc['passed']][x_val], dfc[dfc['passed']][\"roll\"], color=\"blue\",\n",
    "           label=\"Activate\", marker=CARETLEFTBASE)\n",
    "ax.scatter(dfc[~dfc['passed']][x_val], dfc[~dfc['passed']][\"roll\"], color=\"red\",\n",
    "           label=\"NoActivate\", marker=CARETRIGHTBASE)\n",
    "ax.plot([0, 1], [0, 1])\n",
    "ax.set_xlabel(x_val)\n",
    "ax.set_ylabel('roll')\n",
    "ax.set_title(\"Weather Procs\")\n",
    "ax.set_xlim([-0.1, 1.0])\n",
    "ax.set_ylim([0.0, 1.0])\n",
    "ax.legend()"
   ]
  },
  {
   "cell_type": "code",
   "execution_count": 386,
   "metadata": {},
   "outputs": [
    {
     "data": {
      "text/html": [
       "<div>\n",
       "<style scoped>\n",
       "    .dataframe tbody tr th:only-of-type {\n",
       "        vertical-align: middle;\n",
       "    }\n",
       "\n",
       "    .dataframe tbody tr th {\n",
       "        vertical-align: top;\n",
       "    }\n",
       "\n",
       "    .dataframe thead th {\n",
       "        text-align: right;\n",
       "    }\n",
       "</style>\n",
       "<table border=\"1\" class=\"dataframe\">\n",
       "  <thead>\n",
       "    <tr style=\"text-align: right;\">\n",
       "      <th></th>\n",
       "      <th>offset</th>\n",
       "      <th>weather</th>\n",
       "      <th>event_type</th>\n",
       "      <th>season</th>\n",
       "      <th>roll</th>\n",
       "      <th>threshold</th>\n",
       "      <th>batter_name</th>\n",
       "      <th>pitcher_name</th>\n",
       "      <th>batter_mods</th>\n",
       "      <th>pitcher_mods</th>\n",
       "      <th>batting_team_mods</th>\n",
       "      <th>pitching_team_mods</th>\n",
       "      <th>day</th>\n",
       "      <th>game_id</th>\n",
       "      <th>play_count</th>\n",
       "    </tr>\n",
       "  </thead>\n",
       "  <tbody>\n",
       "    <tr>\n",
       "      <th>202849</th>\n",
       "      <td>-3.019121e-07</td>\n",
       "      <td>Weather.ECLIPSE</td>\n",
       "      <td>NoBurn</td>\n",
       "      <td>13</td>\n",
       "      <td>0.000163</td>\n",
       "      <td>0.000163</td>\n",
       "      <td>Jesús Koch</td>\n",
       "      <td>Gabriel Griffith</td>\n",
       "      <td>ALTERNATE</td>\n",
       "      <td>&lt;NA&gt;</td>\n",
       "      <td>HIGH_PRESSURE</td>\n",
       "      <td>LOVE</td>\n",
       "      <td>5</td>\n",
       "      <td>871c2227-e3de-45d9-b2fa-cd53323ca01d</td>\n",
       "      <td>213</td>\n",
       "    </tr>\n",
       "  </tbody>\n",
       "</table>\n",
       "</div>"
      ],
      "text/plain": [
       "              offset          weather event_type  season      roll  threshold  \\\n",
       "202849 -3.019121e-07  Weather.ECLIPSE     NoBurn      13  0.000163   0.000163   \n",
       "\n",
       "       batter_name      pitcher_name batter_mods pitcher_mods  \\\n",
       "202849  Jesús Koch  Gabriel Griffith   ALTERNATE         <NA>   \n",
       "\n",
       "       batting_team_mods pitching_team_mods  day  \\\n",
       "202849     HIGH_PRESSURE               LOVE    5   \n",
       "\n",
       "                                     game_id  play_count  \n",
       "202849  871c2227-e3de-45d9-b2fa-cd53323ca01d         213  "
      ]
     },
     "execution_count": 386,
     "metadata": {},
     "output_type": "execute_result"
    },
    {
     "data": {
      "image/png": "[encoded data removed]",
      "text/plain": [
       "<Figure size 432x288 with 1 Axes>"
      ]
     },
     "metadata": {
      "needs_background": "light"
     },
     "output_type": "display_data"
    }
   ],
   "source": [
    "dfc[\"offset\"] = dfc[\"roll\"] - dfc[\"threshold\"]\n",
    "outliers = dfc[(dfc[\"passed\"] & (dfc[\"offset\"] > 0)) | (~dfc[\"passed\"] & (dfc[\"offset\"] < 0))]\n",
    "\n",
    "fig, ax = plt.subplots(1)\n",
    "x_val = \"ballpark_fortification\"\n",
    "y_val = \"offset\"\n",
    "ax.scatter(outliers[~outliers['passed']][x_val], outliers[~outliers['passed']][y_val], color=\"red\", label=\"Proc\")\n",
    "ax.scatter(outliers[outliers['passed']][x_val], outliers[outliers['passed']][y_val], color=\"blue\", label=\"No Proc\")\n",
    "ax.set_xlabel(x_val)\n",
    "ax.set_ylabel(y_val)\n",
    "ax.legend()\n",
    "\n",
    "table = outliers\n",
    "table[[\"offset\", \"weather\", \"event_type\", \"season\",\n",
    "       \"roll\", \"threshold\", \n",
    "       \"batter_name\", \"pitcher_name\", \"batter_mods\", \"pitcher_mods\",\n",
    "       \"batting_team_mods\", \"pitching_team_mods\", \"day\",  \"game_id\", \"play_count\"]].sort_values('offset')\n"
   ]
  },
  {
   "cell_type": "code",
   "execution_count": 353,
   "metadata": {},
   "outputs": [
    {
     "name": "stdout",
     "output_type": "stream",
     "text": [
      "0.00022437805880382025\n",
      "3.781289435189628e-05\n"
     ]
    }
   ],
   "source": [
    "print(dfc[dfc[\"passed\"]][\"roll\"].max())\n",
    "print(dfc[~dfc[\"passed\"]][\"roll\"].min())"
   ]
  }
 ],
 "metadata": {
  "kernelspec": {
   "display_name": "Python 3 (ipykernel)",
   "language": "python",
   "name": "python3"
  },
  "language_info": {
   "codemirror_mode": {
    "name": "ipython",
    "version": 3
   },
   "file_extension": ".py",
   "mimetype": "text/x-python",
   "name": "python",
   "nbconvert_exporter": "python",
   "pygments_lexer": "ipython3",
   "version": "3.8.5"
  },
  "vscode": {
   "interpreter": {
    "hash": "893958406e8c6944eb13075791d2ee6bb1de84c8ef46ad5e9bf9040b431b0bd8"
   }
  }
 },
 "nbformat": 4,
 "nbformat_minor": 1
}
