{
 "cells": [
  {
   "cell_type": "code",
   "execution_count": 1,
   "id": "5bc334b5-1470-4560-a4cd-b574d53900ba",
   "metadata": {},
   "outputs": [],
   "source": [
    "import matplotlib.pyplot as plt\n",
    "import numpy as np\n",
    "from itertools import permutations"
   ]
  },
  {
   "cell_type": "markdown",
   "id": "442b901e-b88d-435d-86e9-78862b9ebd9b",
   "metadata": {},
   "source": [
    "# Notebook to figure out attractor \"fake star\" boost formula\n",
    "\n",
    "Formula:\n",
    "```python\n",
    "# order calculated: pitching, batting, baserunning, defense\n",
    "rating_boost: 0.4 + 0.6*roll\n",
    "\n",
    "```\n",
    "\n",
    "Inverse:\n",
    "```python\n",
    "roll = (rating_boost - 0.4)/0.6\n",
    "```"
   ]
  },
  {
   "cell_type": "markdown",
   "id": "6a610c08-a6fc-450e-bb0c-69fd152392e1",
   "metadata": {},
   "source": [
    "## Kurt Crueller..."
   ]
  },
  {
   "cell_type": "code",
   "execution_count": 2,
   "id": "408f52a6-3719-4514-8773-c0d5b7499d76",
   "metadata": {},
   "outputs": [],
   "source": [
    "# attractor?: 1.8855620043112253e-07\n",
    "# attractor?: 0.9772063185686546\n",
    "# attractor?: 0.11183916337031041\n",
    "# attractor?: 0.4023997194755462\n",
    "# attractor?: 0.7475658379309105\n",
    "# attractor?: 0.6436092241786782"
   ]
  },
  {
   "cell_type": "code",
   "execution_count": 3,
   "id": "af83feab-ee9c-4d78-810b-ad764bd8e5bc",
   "metadata": {},
   "outputs": [],
   "source": [
    "# batting: 0.6093857658130397 -> 1.3739899702965452 (added: 0.76460420448)\n",
    "# pitching: 0.7130959835516578 -> 1.5453320789990581 (added: 0.83223609544)\n",
    "# baserunning: 0.16649469485574486 -> 0.7480266318734069 (added: 0.58153193701)\n",
    "# defense: 0.5340988884709847 -> 1.4861416521770414 (added: 0.9520427637)"
   ]
  },
  {
   "cell_type": "code",
   "execution_count": 4,
   "id": "5b61111d-51d8-40a7-a4f0-f70cc3f02995",
   "metadata": {},
   "outputs": [
    {
     "data": {
      "text/plain": [
       "23"
      ]
     },
     "execution_count": 4,
     "metadata": {},
     "output_type": "execute_result"
    }
   ],
   "source": [
    "rolls = np.array(\n",
    "    [\n",
    "        0.9772063185686546,\n",
    "        0.11183916337031041,\n",
    "        0.4023997194755462,\n",
    "        0.7475658379309105,\n",
    "        0.6436092241786782,\n",
    "        0.006302368941637715,\n",
    "        0.21894378835437567,\n",
    "        0.11504878331187385,\n",
    "        0.7203934924123341,\n",
    "        0.607673674139176,\n",
    "        0.3025532283627701,\n",
    "        0.9200712728434277,\n",
    "        0.44779954309209047,\n",
    "        0.4706988191843251,\n",
    "        0.7773508792110455,\n",
    "        0.7604876150450022,\n",
    "        0.980699180916847,\n",
    "        0.9688300796068063,\n",
    "        0.6958450903925995,\n",
    "        0.47097756839867855,\n",
    "        0.7120524034734126,\n",
    "        0.027945612557191746,\n",
    "        0.648635159892009,\n",
    "    ]\n",
    ")\n",
    "boosts = np.array([0.76460420448, 0.83223609544, 0.58153193701, 0.9520427637])\n",
    "len(rolls)"
   ]
  },
  {
   "cell_type": "code",
   "execution_count": 5,
   "id": "ab017dfc-32b9-4c15-a05a-f6c05f07a671",
   "metadata": {},
   "outputs": [
    {
     "data": {
      "text/plain": [
       "[<matplotlib.lines.Line2D at 0x7f87a8074640>]"
      ]
     },
     "execution_count": 5,
     "metadata": {},
     "output_type": "execute_result"
    },
    {
     "data": {
      "image/png": "[encoded data removed]",
      "text/plain": [
       "<Figure size 432x288 with 1 Axes>"
      ]
     },
     "metadata": {
      "needs_background": "light"
     },
     "output_type": "display_data"
    }
   ],
   "source": [
    "plt.plot(boosts, \"o\")\n",
    "plt.plot(rolls, \"o\")"
   ]
  },
  {
   "cell_type": "code",
   "execution_count": 6,
   "id": "971e9f26-f44e-458f-8265-cdd3b922f381",
   "metadata": {},
   "outputs": [],
   "source": [
    "p1, sse, __, __, __ = np.polyfit(rolls[11:15], boosts, 1, cov=False, full=True)"
   ]
  },
  {
   "cell_type": "code",
   "execution_count": null,
   "id": "30fd9831-4b88-4328-ab52-60300da86cc8",
   "metadata": {},
   "outputs": [],
   "source": []
  },
  {
   "cell_type": "code",
   "execution_count": 7,
   "id": "37c93dbd-74e0-406d-ab7e-f73642f1b33a",
   "metadata": {},
   "outputs": [
    {
     "data": {
      "image/png": "[encoded data removed]",
      "text/plain": [
       "<Figure size 432x288 with 1 Axes>"
      ]
     },
     "metadata": {
      "needs_background": "light"
     },
     "output_type": "display_data"
    }
   ],
   "source": [
    "plt.plot(rolls[11:15], boosts, \"o\")\n",
    "plt.plot(rolls[11:15], p1[1] + p1[0] * rolls[11:15])\n",
    "plt.xlabel(\"roll\")\n",
    "plt.ylabel(\"boost\")\n",
    "plt.savefig(\"../figures/attractor.png\", facecolor=\"white\")"
   ]
  },
  {
   "cell_type": "code",
   "execution_count": 8,
   "id": "d4961ec3-8a67-403c-8db5-571498e13622",
   "metadata": {},
   "outputs": [
    {
     "name": "stdout",
     "output_type": "stream",
     "text": [
      "8 [0.6 0.4] [1.02367719e-23] (1, 0, 2, 3)\n",
      "rolls:\t\t [0.72039349 0.60767367 0.30255323 0.92007127]\n",
      "boosts:\t\t [0.8322361  0.7646042  0.58153194 0.95204276]\n",
      "0.4 + 0.6*rolls: [0.8322361  0.7646042  0.58153194 0.95204276]\n"
     ]
    }
   ],
   "source": [
    "pbest = np.array([0, 0])\n",
    "ssebest = np.array([np.inf])\n",
    "nbest = 0\n",
    "perms = set(permutations(np.array([0, 1, 2, 3])))\n",
    "permbest = (0, 1, 2, 3)\n",
    "\n",
    "for n in np.arange(len(rolls) - 3):\n",
    "    for perm in perms:\n",
    "        p, sse, __, __, __ = np.polyfit(rolls[n : n + 4], boosts[np.array(perm)], 1, cov=False, full=True)\n",
    "        if sse < ssebest:\n",
    "            ssebest = sse\n",
    "            pbest = p\n",
    "            nbest = n\n",
    "            permbest = perm\n",
    "print(nbest, pbest, ssebest, permbest)\n",
    "print(\"rolls:\\t\\t\", rolls[nbest : nbest + 4])\n",
    "print(\"boosts:\\t\\t\", boosts[np.array(permbest)])\n",
    "print(\"0.4 + 0.6*rolls:\", 0.4 + 0.6 * rolls[nbest : nbest + 4])"
   ]
  },
  {
   "cell_type": "code",
   "execution_count": 9,
   "id": "64ffb423-fc17-49de-a6a4-3584fbf00742",
   "metadata": {},
   "outputs": [
    {
     "data": {
      "text/plain": [
       "array([0.97720632, 0.11183916, 0.40239972, 0.74756584, 0.64360922,\n",
       "       0.00630237, 0.21894379, 0.11504878, 0.72039349, 0.60767367,\n",
       "       0.30255323, 0.92007127, 0.44779954, 0.47069882, 0.77735088,\n",
       "       0.76048762, 0.98069918, 0.96883008, 0.69584509, 0.47097757,\n",
       "       0.7120524 , 0.02794561, 0.64863516])"
      ]
     },
     "execution_count": 9,
     "metadata": {},
     "output_type": "execute_result"
    }
   ],
   "source": [
    "rolls"
   ]
  },
  {
   "cell_type": "code",
   "execution_count": 10,
   "id": "66a115c1-d25b-4d2e-ac25-96b0464d89c1",
   "metadata": {},
   "outputs": [],
   "source": [
    "# batting: 0.6093857658130397 -> 1.3739899702965452 (added: 0.76460420448)\n",
    "# pitching: 0.7130959835516578 -> 1.5453320789990581 (added: 0.83223609544)\n",
    "# baserunning: 0.16649469485574486 -> 0.7480266318734069 (added: 0.58153193701)\n",
    "# defense: 0.5340988884709847 -> 1.4861416521770414 (added: 0.9520427637)"
   ]
  },
  {
   "cell_type": "markdown",
   "id": "33ed1306-d53e-4050-8bce-f39e163e1c6a",
   "metadata": {},
   "source": [
    "## Tad Seeth...\n",
    "```\n",
    "validFrom    \"2021-04-05T00:13:09Z\"\n",
    "validTo    \"2021-04-09T14:14:02.023024Z\"\n",
    "defenseRating    0.46148615677565125\n",
    "hittingRating    0.4517751245932814\n",
    "pitchingRating    0.48072285605052745\n",
    "baserunningRating    0.5542612079131312\n",
    "\n",
    "validFrom    \"2021-04-09T14:14:02.023024Z\"\n",
    "validTo    \"2021-04-11T18:04:47Z\"\n",
    "defenseRating    1.01175060371196\n",
    "hittingRating    1.062637751468344\n",
    "pitchingRating    1.2638735542317168\n",
    "baserunningRating    1.0423794180917825\n",
    "```"
   ]
  },
  {
   "cell_type": "code",
   "execution_count": 11,
   "id": "418b1b63-6308-43a1-b154-85a2b8634f12",
   "metadata": {},
   "outputs": [],
   "source": [
    "tad_pitching = 1.2638735542317168 - 0.48072285605052745\n",
    "tad_hitting = 1.062637751468344 - 0.4517751245932814\n",
    "tad_baserunning = 1.0423794180917825 - 0.5542612079131312\n",
    "tad_defense = 1.01175060371196 - 0.46148615677565125"
   ]
  },
  {
   "cell_type": "code",
   "execution_count": 12,
   "id": "a6496adf-436c-466c-b5c0-84afd86d0fd5",
   "metadata": {},
   "outputs": [
    {
     "name": "stdout",
     "output_type": "stream",
     "text": [
      "[0.7831507  0.61086263 0.48811821 0.55026445]\n",
      "[0.6385845  0.35143771 0.14686368 0.25044074]\n"
     ]
    }
   ],
   "source": [
    "tad_changes = np.array([tad_pitching, tad_hitting, tad_baserunning, tad_defense])\n",
    "tad_rolls = (tad_changes - 0.4)/0.6\n",
    "print(tad_changes)\n",
    "print(tad_rolls)"
   ]
  },
  {
   "cell_type": "code",
   "execution_count": null,
   "id": "ff7da49a-8d37-4469-99a5-3d9a8f834aa9",
   "metadata": {},
   "outputs": [],
   "source": []
  }
 ],
 "metadata": {
  "kernelspec": {
   "display_name": "Python 3 (ipykernel)",
   "language": "python",
   "name": "python3"
  },
  "language_info": {
   "codemirror_mode": {
    "name": "ipython",
    "version": 3
   },
   "file_extension": ".py",
   "mimetype": "text/x-python",
   "name": "python",
   "nbconvert_exporter": "python",
   "pygments_lexer": "ipython3",
   "version": "3.9.12"
  }
 },
 "nbformat": 4,
 "nbformat_minor": 5
}
