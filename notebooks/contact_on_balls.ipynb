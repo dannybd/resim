{
 "cells": [
  {
   "cell_type": "code",
   "execution_count": 103,
   "metadata": {},
   "outputs": [
    {
     "data": {
      "text/plain": [
       "402595"
      ]
     },
     "execution_count": 103,
     "metadata": {},
     "output_type": "execute_result"
    }
   ],
   "source": [
    "import glob\n",
    "\n",
    "import pandas as pd\n",
    "import matplotlib.pyplot as plt\n",
    "import numpy as np\n",
    "from matplotlib.markers import CARETLEFTBASE, CARETRIGHTBASE\n",
    "all_files = glob.glob(\"../roll_data/*-contact.csv\")\n",
    "\n",
    "df = pd.concat((pd.read_csv(f, dtype={\"stadium_id\": \"string\", \"is_strike\": \"boolean\"}) for f in all_files), ignore_index=True)\n",
    "\n",
    "seasons = [11, 12, 13, 14]\n",
    "df = df[df['season'].isin(seasons)]\n",
    "len(df)"
   ]
  },
  {
   "cell_type": "markdown",
   "metadata": {},
   "source": [
    "### Contact on balls outside strike zone\n",
    "\n",
    "$$\\text{inv\\_path} = \\left(1-\\frac{\\text{path}}{\\text{batter\\_multiplier}}\\right) \\times (1+0.2 \\times \\text{batter\\_vibes})$$\n",
    "$$\\text{ballpark\\_sum} = \\frac{(\\text{fort} - 0.5) + 3 \\times (\\text{visc} - 0.5) - 6 \\times (\\text{fwd} - 0.5)}{10}$$\n",
    "$$\\text{threshold\\_s12\\_s13} = 0.35 - 0.1 \\times \\text{ruth} + 0.4 \\times \\text{inv\\_path} ^ {1.5} + 0.14 \\times \\text{ballpark\\_sum}$$\n",
    "$$\\text{threshold\\_s14\\_s15} = 0.4 - 0.1 \\times \\text{ruth} + 0.35 \\times \\text{inv\\_path} ^ {1.5} + 0.14 \\times \\text{ballpark\\_sum}$$\n",
    "\n",
    "$ruth$ is standard pitcher ruthlessness with 20% vibes and multiplier."
   ]
  },
  {
   "cell_type": "code",
   "execution_count": 104,
   "metadata": {},
   "outputs": [],
   "source": [
    "df.loc[df[\"pitcher_mods\"].astype(str).str.contains(\"SCATTERED\"), \"pitcher_vibes\"] = 0\n",
    "df.loc[df[\"batter_mods\"].astype(str).str.contains(\"SCATTERED\"), \"batter_vibes\"] = 0\n",
    "df.loc[df[\"fielder_mods\"].astype(str).str.contains(\"SCATTERED\"), \"fielder_vibes\"] = 0"
   ]
  },
  {
   "cell_type": "code",
   "execution_count": 105,
   "metadata": {},
   "outputs": [],
   "source": [
    "dfc = df.copy()\n",
    "dfc = dfc[dfc[\"is_strike\"] == False]\n",
    "\n",
    "dfc = dfc[~((dfc[\"season\"] == 11) & (dfc[\"day\"] == 98))] # bad data here\n",
    "\n",
    "for exclude_mod in [\"GROWTH\", \"TRAVELING\", \"SHELLED\", \"CHUNKY\", \"SMOOTH\"]:\n",
    "    dfc = dfc[~dfc[\"batter_mods\"].astype(str).str.contains(exclude_mod)]\n",
    "    dfc = dfc[~dfc[\"pitcher_mods\"].astype(str).str.contains(exclude_mod)]\n",
    "    dfc = dfc[~dfc[\"fielder_mods\"].astype(str).str.contains(exclude_mod)]\n",
    "    dfc = dfc[~dfc[\"pitching_team_mods\"].astype(str).str.contains(exclude_mod)]\n",
    "    dfc = dfc[~dfc[\"batting_team_mods\"].astype(str).str.contains(exclude_mod)]\n",
    "\n",
    "dfc = dfc[~(dfc[\"batting_team_mods\"].astype(str).str.contains(\"O_NO\") & (dfc[\"ball_count\"] == 0))]"
   ]
  },
  {
   "cell_type": "code",
   "execution_count": 106,
   "metadata": {},
   "outputs": [
    {
     "data": {
      "text/plain": [
       "<matplotlib.legend.Legend at 0x1b199f0ac70>"
      ]
     },
     "execution_count": 106,
     "metadata": {},
     "output_type": "execute_result"
    },
    {
     "data": {
      "image/png": "[encoded data removed]",
      "text/plain": [
       "<Figure size 432x432 with 1 Axes>"
      ]
     },
     "metadata": {
      "needs_background": "light"
     },
     "output_type": "display_data"
    }
   ],
   "source": [
    "x_val = \"batter_patheticism\"\n",
    "y_val = \"roll\"\n",
    "fig, ax = plt.subplots(1, figsize=(6, 6))\n",
    "ax.scatter(\n",
    "    dfc[dfc[\"passed\"]][x_val],\n",
    "    dfc[dfc[\"passed\"]][y_val],\n",
    "    color=\"blue\",\n",
    "    label=\"Hit\",\n",
    "    marker=CARETLEFTBASE,\n",
    ")\n",
    "ax.scatter(\n",
    "    dfc[~dfc[\"passed\"]][x_val],\n",
    "    dfc[~dfc[\"passed\"]][y_val],\n",
    "    color=\"red\",\n",
    "    label=\"Miss\",\n",
    "    marker=CARETRIGHTBASE,\n",
    ")\n",
    "\n",
    "ax.set_xlabel(x_val)\n",
    "ax.set_ylabel(\"roll\")\n",
    "ax.set_title(f\"Contact\")\n",
    "ax.set_ylim(0, 1)\n",
    "\n",
    "if x_val == \"threshold\":\n",
    "    ax.plot(ax.get_xlim(), ax.get_xlim())\n",
    "\n",
    "ax.legend()"
   ]
  },
  {
   "cell_type": "code",
   "execution_count": 117,
   "metadata": {},
   "outputs": [],
   "source": [
    "dfc[\"inv_path\"] = (1 - (dfc[\"batter_patheticism\"] / dfc[\"batter_multiplier\"])) * (1 + 0.2*dfc[\"batter_vibes\"])\n",
    "dfc[\"inv_path_pow\"] = (dfc[\"inv_path\"] ** 1.5)\n",
    "dfc[\"ruth\"] = dfc[\"pitcher_ruthlessness\"] * (1 + 0.2*dfc[\"pitcher_vibes\"]) * dfc[\"pitcher_multiplier\"]\n",
    "\n",
    "dfc[\"grand_center\"] = dfc[\"ballpark_grandiosity\"] - 0.5\n",
    "dfc[\"fort_center\"] = dfc[\"ballpark_fortification\"] - 0.5\n",
    "dfc[\"obt_center\"] = dfc[\"ballpark_obtuseness\"] - 0.5\n",
    "dfc[\"om_center\"] = dfc[\"ballpark_ominousness\"] - 0.5\n",
    "dfc[\"inc_center\"] = dfc[\"ballpark_inconvenience\"] - 0.5\n",
    "dfc[\"visc_center\"] = dfc[\"ballpark_viscosity\"] - 0.5\n",
    "dfc[\"fwd_center\"] = dfc[\"ballpark_forwardness\"] - 0.5\n",
    "dfc[\"myst_center\"] = dfc[\"ballpark_mysticism\"] - 0.5\n",
    "dfc[\"elong_center\"] = dfc[\"ballpark_elongation\"] - 0.5\n",
    "\n",
    "dfc.loc[dfc[\"season\"] == 11,\"inv_path_pow_season\"] = dfc[\"inv_path_pow\"] * 0.4\n",
    "dfc.loc[dfc[\"season\"] == 12,\"inv_path_pow_season\"] = dfc[\"inv_path_pow\"] * 0.4\n",
    "dfc.loc[dfc[\"season\"] == 13,\"inv_path_pow_season\"] = dfc[\"inv_path_pow\"] * 0.35\n",
    "dfc.loc[dfc[\"season\"] == 14,\"inv_path_pow_season\"] = dfc[\"inv_path_pow\"] * 0.35\n",
    "\n",
    "dfc[\"ballpark_sum\"] = (dfc[\"fort_center\"] + 3*dfc[\"visc_center\"] - 6*dfc[\"fwd_center\"]) / 10\n",
    "\n",
    "# we know the intercept is 0.4 in s12/s13 and 0.35 in s14/s15 so special case it here so the fit works across\n",
    "dfc.loc[dfc[\"season\"] == 13,\"roll\"] -= 0.05\n",
    "dfc.loc[dfc[\"season\"] == 14,\"roll\"] -= 0.05"
   ]
  },
  {
   "cell_type": "code",
   "execution_count": 120,
   "metadata": {},
   "outputs": [],
   "source": [
    "X = dfc[\n",
    "    [\n",
    "        \"roll\",\n",
    "        \"season\",\n",
    "        \"passed\",\n",
    "        \"inv_path_pow_season\",\n",
    "        \"ruth\",\n",
    "\n",
    "        \"ballpark_sum\",\n",
    "    ]\n",
    "].copy()\n",
    "\n",
    "\n",
    "pin_intercept = None\n",
    "pin_intercept = 0.35\n",
    "pins = [\n",
    "    (-0.1, \"ruth\"),\n",
    "    (1, \"inv_path_pow_season\"),\n",
    "    (0.14, \"ballpark_sum\"),\n",
    "]\n",
    "for val, var in pins:\n",
    "    X[\"roll\"] -= X[var] * val\n",
    "    X = X.drop(var, axis=1)\n",
    "\n",
    "y = X[\"passed\"]\n",
    "X = X.drop([\"passed\", \"season\"], axis=1)"
   ]
  },
  {
   "cell_type": "code",
   "execution_count": 121,
   "metadata": {},
   "outputs": [
    {
     "name": "stdout",
     "output_type": "stream",
     "text": [
      "[[43797     0]\n",
      " [    0 36700]]\n",
      "              precision    recall  f1-score   support\n",
      "\n",
      "       False       1.00      1.00      1.00     43797\n",
      "        True       1.00      1.00      1.00     36700\n",
      "\n",
      "    accuracy                           1.00     80497\n",
      "   macro avg       1.00      1.00      1.00     80497\n",
      "weighted avg       1.00      1.00      1.00     80497\n",
      "\n",
      "1.0\n"
     ]
    }
   ],
   "source": [
    "from sklearn.preprocessing import StandardScaler\n",
    "from sklearn.metrics import confusion_matrix\n",
    "from sklearn.metrics import classification_report\n",
    "from sklearn import svm, linear_model\n",
    "\n",
    "\n",
    "sc = StandardScaler(with_mean=False)\n",
    "X2 = sc.fit_transform(X)\n",
    "if pin_intercept is not None:\n",
    "    X2[:,0] -= pin_intercept / sc.scale_[0]\n",
    "\n",
    "trainedsvm = svm.LinearSVC(dual=False, max_iter=100000, C=100000000, tol=1e-12, fit_intercept=pin_intercept is None).fit(X2, y)\n",
    "predictionsvm = trainedsvm.predict(X2)\n",
    "print(confusion_matrix(y, predictionsvm))\n",
    "print(classification_report(y, predictionsvm))\n",
    "print(trainedsvm.score(X2, y))"
   ]
  },
  {
   "cell_type": "code",
   "execution_count": 122,
   "metadata": {},
   "outputs": [
    {
     "name": "stdout",
     "output_type": "stream",
     "text": [
      "intercept: 0.35\n",
      "(-0.1, 'ruth')\n",
      "(1, 'inv_path_pow_season')\n",
      "(0.14, 'ballpark_sum')\n"
     ]
    }
   ],
   "source": [
    "coef = np.true_divide(trainedsvm.coef_, sc.scale_)\n",
    "coef_scaled = coef / coef[0, 0]\n",
    "coef_list = coef_scaled.tolist()[0]\n",
    "\n",
    "intercept = trainedsvm.intercept_# - np.dot(coef, sc.mean_)\n",
    "intercept_scaled = pin_intercept or -(intercept / coef[0, 0])[0]\n",
    "\n",
    "dfc[\"threshold\"] = intercept_scaled\n",
    "print(\"intercept:\", intercept_scaled)\n",
    "for pair in pins + list(zip(-np.array(coef_list), X.columns)):\n",
    "    if pair[1] != \"roll\":\n",
    "        print(pair)\n",
    "        dfc[\"threshold\"] += pair[0] * dfc[pair[1]]\n"
   ]
  },
  {
   "cell_type": "code",
   "execution_count": 124,
   "metadata": {},
   "outputs": [
    {
     "data": {
      "text/plain": [
       "<matplotlib.legend.Legend at 0x1b199303f10>"
      ]
     },
     "execution_count": 124,
     "metadata": {},
     "output_type": "execute_result"
    },
    {
     "data": {
      "image/png": "[encoded data removed]",
      "text/plain": [
       "<Figure size 432x288 with 1 Axes>"
      ]
     },
     "metadata": {
      "needs_background": "light"
     },
     "output_type": "display_data"
    }
   ],
   "source": [
    "dfc[\"offset\"] = dfc[\"roll\"] - dfc[\"threshold\"]\n",
    "outliers = dfc[(dfc[\"passed\"] & (dfc[\"offset\"] >= 0)) | (~dfc[\"passed\"] & (dfc[\"offset\"] <= 0))]\n",
    "\n",
    "fig, ax = plt.subplots(1)\n",
    "x_val = \"roll\"\n",
    "ax.scatter(\n",
    "    outliers[~outliers[\"passed\"]][x_val],\n",
    "    outliers[~outliers[\"passed\"]][\"offset\"],\n",
    "    color=\"red\",\n",
    "    label=\"No Contact\",\n",
    ")\n",
    "ax.scatter(\n",
    "    outliers[outliers[\"passed\"]][x_val],\n",
    "    outliers[outliers[\"passed\"]][\"offset\"],\n",
    "    color=\"blue\",\n",
    "    label=\"Contact\",\n",
    ")\n",
    "ax.set_xlabel(x_val)\n",
    "ax.set_ylabel(\"offset\")\n",
    "ax.legend()"
   ]
  },
  {
   "cell_type": "code",
   "execution_count": 125,
   "metadata": {},
   "outputs": [
    {
     "name": "stdout",
     "output_type": "stream",
     "text": [
      "0\n"
     ]
    },
    {
     "data": {
      "text/html": [
       "<div>\n",
       "<style scoped>\n",
       "    .dataframe tbody tr th:only-of-type {\n",
       "        vertical-align: middle;\n",
       "    }\n",
       "\n",
       "    .dataframe tbody tr th {\n",
       "        vertical-align: top;\n",
       "    }\n",
       "\n",
       "    .dataframe thead th {\n",
       "        text-align: right;\n",
       "    }\n",
       "</style>\n",
       "<table border=\"1\" class=\"dataframe\">\n",
       "  <thead>\n",
       "    <tr style=\"text-align: right;\">\n",
       "      <th></th>\n",
       "      <th>passed</th>\n",
       "      <th>offset</th>\n",
       "      <th>roll</th>\n",
       "      <th>threshold</th>\n",
       "      <th>pitcher_multiplier</th>\n",
       "      <th>batter_multiplier</th>\n",
       "      <th>fielder_multiplier</th>\n",
       "      <th>batter_name</th>\n",
       "      <th>pitcher_name</th>\n",
       "      <th>fielder_name</th>\n",
       "      <th>batter_mods</th>\n",
       "      <th>pitcher_mods</th>\n",
       "      <th>fielder_mods</th>\n",
       "      <th>batting_team_mods</th>\n",
       "      <th>pitching_team_mods</th>\n",
       "      <th>season</th>\n",
       "      <th>day</th>\n",
       "      <th>game_id</th>\n",
       "      <th>play_count</th>\n",
       "    </tr>\n",
       "  </thead>\n",
       "  <tbody>\n",
       "  </tbody>\n",
       "</table>\n",
       "</div>"
      ],
      "text/plain": [
       "Empty DataFrame\n",
       "Columns: [passed, offset, roll, threshold, pitcher_multiplier, batter_multiplier, fielder_multiplier, batter_name, pitcher_name, fielder_name, batter_mods, pitcher_mods, fielder_mods, batting_team_mods, pitching_team_mods, season, day, game_id, play_count]\n",
       "Index: []"
      ]
     },
     "execution_count": 125,
     "metadata": {},
     "output_type": "execute_result"
    }
   ],
   "source": [
    "pd.set_option(\"display.max_columns\", None)\n",
    "table = outliers[\n",
    "    [\n",
    "        \"passed\",\n",
    "        \"offset\",\n",
    "        # \"event_type\",\n",
    "        # \"weather\",\n",
    "        # \"batter_laserlikeness\",\n",
    "        \"roll\",\n",
    "        \"threshold\",\n",
    "        \"pitcher_multiplier\",\n",
    "        \"batter_multiplier\",\n",
    "        \"fielder_multiplier\",\n",
    "        \"batter_name\",\n",
    "        \"pitcher_name\",\n",
    "        \"fielder_name\",\n",
    "        \"batter_mods\",\n",
    "        \"pitcher_mods\",\n",
    "        \"fielder_mods\",\n",
    "        \"batting_team_mods\",\n",
    "        \"pitching_team_mods\",\n",
    "        \"season\",\n",
    "        \"day\",\n",
    "        \"game_id\",\n",
    "        \"play_count\",\n",
    "        # \"fielder_roll\",\n",
    "    ]\n",
    "]\n",
    "print(len(table))\n",
    "table.sort_values(\"offset\", ascending=False)#[0:10]"
   ]
  }
 ],
 "metadata": {
  "kernelspec": {
   "display_name": "Python 3.9.6 64-bit",
   "language": "python",
   "name": "python3"
  },
  "language_info": {
   "codemirror_mode": {
    "name": "ipython",
    "version": 3
   },
   "file_extension": ".py",
   "mimetype": "text/x-python",
   "name": "python",
   "nbconvert_exporter": "python",
   "pygments_lexer": "ipython3",
   "version": "3.9.6"
  },
  "orig_nbformat": 4,
  "vscode": {
   "interpreter": {
    "hash": "55c90e3f6875ff0202586c47fc7803fe16ed38f621983635a34e412a80a71124"
   }
  }
 },
 "nbformat": 4,
 "nbformat_minor": 2
}
