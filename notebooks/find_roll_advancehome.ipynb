{
 "cells": [
  {
   "cell_type": "markdown",
   "metadata": {},
   "source": [
    "This looks at a situation with a runner only on second and a ground out.\n",
    "\n",
    "We know the first roll is uncorrelated with whether the runner advances\n",
    "\n",
    "The second roll does control it\n",
    "\n",
    "\n",
    "In similar situation with a runner only on third, there are also two rolls\n",
    "\n",
    "When there's runners on second and third, there are three rolls no matter what\n",
    "\n",
    "When there'e holding hands on third, there are also three rolls"
   ]
  },
  {
   "cell_type": "code",
   "execution_count": 84,
   "metadata": {
    "collapsed": false,
    "jupyter": {
     "outputs_hidden": false
    },
    "pycharm": {
     "name": "#%%\n"
    }
   },
   "outputs": [
    {
     "data": {
      "text/plain": [
       "1505"
      ]
     },
     "execution_count": 84,
     "metadata": {},
     "output_type": "execute_result"
    }
   ],
   "source": [
    "import glob\n",
    "\n",
    "import pandas as pd\n",
    "import matplotlib.pyplot as plt\n",
    "import numpy as np\n",
    "from matplotlib.markers import CARETLEFTBASE, CARETRIGHTBASE\n",
    "\n",
    "all_files = glob.glob(\"../roll_data/*-advancehome.csv\")\n",
    "\n",
    "df = pd.concat((pd.read_csv(f) for f in all_files), ignore_index=True)\n",
    "\n",
    "seasons = [11,12,13,14]\n",
    "# seasons = [11]\n",
    "df = df[df['season'].isin(seasons)]\n",
    "\n",
    "# 'rolls' is a list of 3 rolls (None if no 3rd roll). Split into three columns\n",
    "df['roll'] = df['roll'].apply(lambda x: x[1:-1].split(','))\n",
    "splitrolls = pd.DataFrame(df['roll'].to_list(), columns = ['roll1','roll2'], index = df.index)\n",
    "df[['roll1','roll2']] = splitrolls\n",
    "df[['roll1','roll2']] = df[['roll1','roll2']].apply(pd.to_numeric)\n",
    "\n",
    "len(df)"
   ]
  },
  {
   "cell_type": "code",
   "execution_count": 85,
   "metadata": {
    "collapsed": false,
    "jupyter": {
     "outputs_hidden": false
    },
    "pycharm": {
     "name": "#%%\n"
    }
   },
   "outputs": [
    {
     "name": "stderr",
     "output_type": "stream",
     "text": [
      "/tmp/ipykernel_5003/1267586587.py:101: PerformanceWarning: DataFrame is highly fragmented.  This is usually the result of calling `frame.insert` many times, which has poor performance.  Consider joining all columns at once using pd.concat(axis=1) instead. To get a de-fragmented frame, use `newframe = frame.copy()`\n",
      "  df[attr + \"_with_vibe\"] = df[attr] * (1 + 0.2 * df[\"pitcher_vibes\"])\n",
      "/tmp/ipykernel_5003/1267586587.py:101: PerformanceWarning: DataFrame is highly fragmented.  This is usually the result of calling `frame.insert` many times, which has poor performance.  Consider joining all columns at once using pd.concat(axis=1) instead. To get a de-fragmented frame, use `newframe = frame.copy()`\n",
      "  df[attr + \"_with_vibe\"] = df[attr] * (1 + 0.2 * df[\"pitcher_vibes\"])\n",
      "/tmp/ipykernel_5003/1267586587.py:101: PerformanceWarning: DataFrame is highly fragmented.  This is usually the result of calling `frame.insert` many times, which has poor performance.  Consider joining all columns at once using pd.concat(axis=1) instead. To get a de-fragmented frame, use `newframe = frame.copy()`\n",
      "  df[attr + \"_with_vibe\"] = df[attr] * (1 + 0.2 * df[\"pitcher_vibes\"])\n",
      "/tmp/ipykernel_5003/1267586587.py:101: PerformanceWarning: DataFrame is highly fragmented.  This is usually the result of calling `frame.insert` many times, which has poor performance.  Consider joining all columns at once using pd.concat(axis=1) instead. To get a de-fragmented frame, use `newframe = frame.copy()`\n",
      "  df[attr + \"_with_vibe\"] = df[attr] * (1 + 0.2 * df[\"pitcher_vibes\"])\n",
      "/tmp/ipykernel_5003/1267586587.py:101: PerformanceWarning: DataFrame is highly fragmented.  This is usually the result of calling `frame.insert` many times, which has poor performance.  Consider joining all columns at once using pd.concat(axis=1) instead. To get a de-fragmented frame, use `newframe = frame.copy()`\n",
      "  df[attr + \"_with_vibe\"] = df[attr] * (1 + 0.2 * df[\"pitcher_vibes\"])\n",
      "/tmp/ipykernel_5003/1267586587.py:101: PerformanceWarning: DataFrame is highly fragmented.  This is usually the result of calling `frame.insert` many times, which has poor performance.  Consider joining all columns at once using pd.concat(axis=1) instead. To get a de-fragmented frame, use `newframe = frame.copy()`\n",
      "  df[attr + \"_with_vibe\"] = df[attr] * (1 + 0.2 * df[\"pitcher_vibes\"])\n",
      "/tmp/ipykernel_5003/1267586587.py:101: PerformanceWarning: DataFrame is highly fragmented.  This is usually the result of calling `frame.insert` many times, which has poor performance.  Consider joining all columns at once using pd.concat(axis=1) instead. To get a de-fragmented frame, use `newframe = frame.copy()`\n",
      "  df[attr + \"_with_vibe\"] = df[attr] * (1 + 0.2 * df[\"pitcher_vibes\"])\n",
      "/tmp/ipykernel_5003/1267586587.py:101: PerformanceWarning: DataFrame is highly fragmented.  This is usually the result of calling `frame.insert` many times, which has poor performance.  Consider joining all columns at once using pd.concat(axis=1) instead. To get a de-fragmented frame, use `newframe = frame.copy()`\n",
      "  df[attr + \"_with_vibe\"] = df[attr] * (1 + 0.2 * df[\"pitcher_vibes\"])\n",
      "/tmp/ipykernel_5003/1267586587.py:101: PerformanceWarning: DataFrame is highly fragmented.  This is usually the result of calling `frame.insert` many times, which has poor performance.  Consider joining all columns at once using pd.concat(axis=1) instead. To get a de-fragmented frame, use `newframe = frame.copy()`\n",
      "  df[attr + \"_with_vibe\"] = df[attr] * (1 + 0.2 * df[\"pitcher_vibes\"])\n",
      "/tmp/ipykernel_5003/1267586587.py:101: PerformanceWarning: DataFrame is highly fragmented.  This is usually the result of calling `frame.insert` many times, which has poor performance.  Consider joining all columns at once using pd.concat(axis=1) instead. To get a de-fragmented frame, use `newframe = frame.copy()`\n",
      "  df[attr + \"_with_vibe\"] = df[attr] * (1 + 0.2 * df[\"pitcher_vibes\"])\n",
      "/tmp/ipykernel_5003/1267586587.py:101: PerformanceWarning: DataFrame is highly fragmented.  This is usually the result of calling `frame.insert` many times, which has poor performance.  Consider joining all columns at once using pd.concat(axis=1) instead. To get a de-fragmented frame, use `newframe = frame.copy()`\n",
      "  df[attr + \"_with_vibe\"] = df[attr] * (1 + 0.2 * df[\"pitcher_vibes\"])\n",
      "/tmp/ipykernel_5003/1267586587.py:101: PerformanceWarning: DataFrame is highly fragmented.  This is usually the result of calling `frame.insert` many times, which has poor performance.  Consider joining all columns at once using pd.concat(axis=1) instead. To get a de-fragmented frame, use `newframe = frame.copy()`\n",
      "  df[attr + \"_with_vibe\"] = df[attr] * (1 + 0.2 * df[\"pitcher_vibes\"])\n",
      "/tmp/ipykernel_5003/1267586587.py:101: PerformanceWarning: DataFrame is highly fragmented.  This is usually the result of calling `frame.insert` many times, which has poor performance.  Consider joining all columns at once using pd.concat(axis=1) instead. To get a de-fragmented frame, use `newframe = frame.copy()`\n",
      "  df[attr + \"_with_vibe\"] = df[attr] * (1 + 0.2 * df[\"pitcher_vibes\"])\n",
      "/tmp/ipykernel_5003/1267586587.py:101: PerformanceWarning: DataFrame is highly fragmented.  This is usually the result of calling `frame.insert` many times, which has poor performance.  Consider joining all columns at once using pd.concat(axis=1) instead. To get a de-fragmented frame, use `newframe = frame.copy()`\n",
      "  df[attr + \"_with_vibe\"] = df[attr] * (1 + 0.2 * df[\"pitcher_vibes\"])\n",
      "/tmp/ipykernel_5003/1267586587.py:101: PerformanceWarning: DataFrame is highly fragmented.  This is usually the result of calling `frame.insert` many times, which has poor performance.  Consider joining all columns at once using pd.concat(axis=1) instead. To get a de-fragmented frame, use `newframe = frame.copy()`\n",
      "  df[attr + \"_with_vibe\"] = df[attr] * (1 + 0.2 * df[\"pitcher_vibes\"])\n",
      "/tmp/ipykernel_5003/1267586587.py:101: PerformanceWarning: DataFrame is highly fragmented.  This is usually the result of calling `frame.insert` many times, which has poor performance.  Consider joining all columns at once using pd.concat(axis=1) instead. To get a de-fragmented frame, use `newframe = frame.copy()`\n",
      "  df[attr + \"_with_vibe\"] = df[attr] * (1 + 0.2 * df[\"pitcher_vibes\"])\n",
      "/tmp/ipykernel_5003/1267586587.py:101: PerformanceWarning: DataFrame is highly fragmented.  This is usually the result of calling `frame.insert` many times, which has poor performance.  Consider joining all columns at once using pd.concat(axis=1) instead. To get a de-fragmented frame, use `newframe = frame.copy()`\n",
      "  df[attr + \"_with_vibe\"] = df[attr] * (1 + 0.2 * df[\"pitcher_vibes\"])\n",
      "/tmp/ipykernel_5003/1267586587.py:101: PerformanceWarning: DataFrame is highly fragmented.  This is usually the result of calling `frame.insert` many times, which has poor performance.  Consider joining all columns at once using pd.concat(axis=1) instead. To get a de-fragmented frame, use `newframe = frame.copy()`\n",
      "  df[attr + \"_with_vibe\"] = df[attr] * (1 + 0.2 * df[\"pitcher_vibes\"])\n",
      "/tmp/ipykernel_5003/1267586587.py:101: PerformanceWarning: DataFrame is highly fragmented.  This is usually the result of calling `frame.insert` many times, which has poor performance.  Consider joining all columns at once using pd.concat(axis=1) instead. To get a de-fragmented frame, use `newframe = frame.copy()`\n",
      "  df[attr + \"_with_vibe\"] = df[attr] * (1 + 0.2 * df[\"pitcher_vibes\"])\n",
      "/tmp/ipykernel_5003/1267586587.py:101: PerformanceWarning: DataFrame is highly fragmented.  This is usually the result of calling `frame.insert` many times, which has poor performance.  Consider joining all columns at once using pd.concat(axis=1) instead. To get a de-fragmented frame, use `newframe = frame.copy()`\n",
      "  df[attr + \"_with_vibe\"] = df[attr] * (1 + 0.2 * df[\"pitcher_vibes\"])\n",
      "/tmp/ipykernel_5003/1267586587.py:101: PerformanceWarning: DataFrame is highly fragmented.  This is usually the result of calling `frame.insert` many times, which has poor performance.  Consider joining all columns at once using pd.concat(axis=1) instead. To get a de-fragmented frame, use `newframe = frame.copy()`\n",
      "  df[attr + \"_with_vibe\"] = df[attr] * (1 + 0.2 * df[\"pitcher_vibes\"])\n",
      "/tmp/ipykernel_5003/1267586587.py:101: PerformanceWarning: DataFrame is highly fragmented.  This is usually the result of calling `frame.insert` many times, which has poor performance.  Consider joining all columns at once using pd.concat(axis=1) instead. To get a de-fragmented frame, use `newframe = frame.copy()`\n",
      "  df[attr + \"_with_vibe\"] = df[attr] * (1 + 0.2 * df[\"pitcher_vibes\"])\n",
      "/tmp/ipykernel_5003/1267586587.py:115: PerformanceWarning: DataFrame is highly fragmented.  This is usually the result of calling `frame.insert` many times, which has poor performance.  Consider joining all columns at once using pd.concat(axis=1) instead. To get a de-fragmented frame, use `newframe = frame.copy()`\n",
      "  df[attr + \"_times_vibe\"] = df[attr] * df[\"fielder_vibes\"]\n",
      "/tmp/ipykernel_5003/1267586587.py:116: PerformanceWarning: DataFrame is highly fragmented.  This is usually the result of calling `frame.insert` many times, which has poor performance.  Consider joining all columns at once using pd.concat(axis=1) instead. To get a de-fragmented frame, use `newframe = frame.copy()`\n",
      "  df[attr + \"_with_vibe\"] = df[attr] * (1 + 0.2 * df[\"fielder_vibes\"])\n",
      "/tmp/ipykernel_5003/1267586587.py:115: PerformanceWarning: DataFrame is highly fragmented.  This is usually the result of calling `frame.insert` many times, which has poor performance.  Consider joining all columns at once using pd.concat(axis=1) instead. To get a de-fragmented frame, use `newframe = frame.copy()`\n",
      "  df[attr + \"_times_vibe\"] = df[attr] * df[\"fielder_vibes\"]\n",
      "/tmp/ipykernel_5003/1267586587.py:116: PerformanceWarning: DataFrame is highly fragmented.  This is usually the result of calling `frame.insert` many times, which has poor performance.  Consider joining all columns at once using pd.concat(axis=1) instead. To get a de-fragmented frame, use `newframe = frame.copy()`\n",
      "  df[attr + \"_with_vibe\"] = df[attr] * (1 + 0.2 * df[\"fielder_vibes\"])\n",
      "/tmp/ipykernel_5003/1267586587.py:115: PerformanceWarning: DataFrame is highly fragmented.  This is usually the result of calling `frame.insert` many times, which has poor performance.  Consider joining all columns at once using pd.concat(axis=1) instead. To get a de-fragmented frame, use `newframe = frame.copy()`\n",
      "  df[attr + \"_times_vibe\"] = df[attr] * df[\"fielder_vibes\"]\n",
      "/tmp/ipykernel_5003/1267586587.py:116: PerformanceWarning: DataFrame is highly fragmented.  This is usually the result of calling `frame.insert` many times, which has poor performance.  Consider joining all columns at once using pd.concat(axis=1) instead. To get a de-fragmented frame, use `newframe = frame.copy()`\n",
      "  df[attr + \"_with_vibe\"] = df[attr] * (1 + 0.2 * df[\"fielder_vibes\"])\n",
      "/tmp/ipykernel_5003/1267586587.py:115: PerformanceWarning: DataFrame is highly fragmented.  This is usually the result of calling `frame.insert` many times, which has poor performance.  Consider joining all columns at once using pd.concat(axis=1) instead. To get a de-fragmented frame, use `newframe = frame.copy()`\n",
      "  df[attr + \"_times_vibe\"] = df[attr] * df[\"fielder_vibes\"]\n",
      "/tmp/ipykernel_5003/1267586587.py:116: PerformanceWarning: DataFrame is highly fragmented.  This is usually the result of calling `frame.insert` many times, which has poor performance.  Consider joining all columns at once using pd.concat(axis=1) instead. To get a de-fragmented frame, use `newframe = frame.copy()`\n",
      "  df[attr + \"_with_vibe\"] = df[attr] * (1 + 0.2 * df[\"fielder_vibes\"])\n",
      "/tmp/ipykernel_5003/1267586587.py:115: PerformanceWarning: DataFrame is highly fragmented.  This is usually the result of calling `frame.insert` many times, which has poor performance.  Consider joining all columns at once using pd.concat(axis=1) instead. To get a de-fragmented frame, use `newframe = frame.copy()`\n",
      "  df[attr + \"_times_vibe\"] = df[attr] * df[\"fielder_vibes\"]\n",
      "/tmp/ipykernel_5003/1267586587.py:116: PerformanceWarning: DataFrame is highly fragmented.  This is usually the result of calling `frame.insert` many times, which has poor performance.  Consider joining all columns at once using pd.concat(axis=1) instead. To get a de-fragmented frame, use `newframe = frame.copy()`\n",
      "  df[attr + \"_with_vibe\"] = df[attr] * (1 + 0.2 * df[\"fielder_vibes\"])\n"
     ]
    },
    {
     "data": {
      "text/plain": [
       "1505"
      ]
     },
     "execution_count": 85,
     "metadata": {},
     "output_type": "execute_result"
    }
   ],
   "source": [
    "df.loc[df[\"pitcher_mods\"].astype(str).str.contains(\"SCATTERED\"), \"pitcher_vibes\"] = 0\n",
    "df.loc[df[\"batter_mods\"].astype(str).str.contains(\"SCATTERED\"), \"batter_vibes\"] = 0\n",
    "df.loc[df[\"fielder_mods\"].astype(str).str.contains(\"SCATTERED\"), \"fielder_vibes\"] = 0\n",
    "df.loc[df[\"runner_on_first_mods\"].astype(str).str.contains(\"SCATTERED\"), \"runner_on_first_vibes\"] = 0\n",
    "df.loc[df[\"runner_on_second_mods\"].astype(str).str.contains(\"SCATTERED\"), \"runner_on_second_vibes\"] = 0\n",
    "df.loc[df[\"runner_on_third_mods\"].astype(str).str.contains(\"SCATTERED\"), \"runner_on_third_vibes\"] = 0\n",
    "\n",
    "\n",
    "df['batter_inv_patheticism'] = 1-df['batter_patheticism']/df[\"batter_multiplier\"]\n",
    "df['batter_inv_patheticism_with_vibe'] = df['batter_inv_patheticism'] * (1 + 0.2*df['batter_vibes'])\n",
    "df['batter_inv_tragicness'] = 1-df['batter_tragicness']/df[\"batter_multiplier\"]\n",
    "df['batter_inv_tragicness_with_vibe'] = df['batter_inv_tragicness'] * (1 + 0.2*df['batter_vibes'])\n",
    "for attr in [\n",
    "    \"batter_buoyancy\",\n",
    "    \"batter_divinity\",\n",
    "    \"batter_martyrdom\",\n",
    "    \"batter_moxie\",\n",
    "    \"batter_musclitude\",\n",
    "    \"batter_patheticism\",\n",
    "    \"batter_thwackability\",\n",
    "    \"batter_tragicness\",\n",
    "    \"batter_coldness\",\n",
    "    \"batter_overpowerment\",\n",
    "    \"batter_ruthlessness\",\n",
    "    \"batter_shakespearianism\",\n",
    "    \"batter_suppression\",\n",
    "    \"batter_unthwackability\",\n",
    "    \"batter_base_thirst\",\n",
    "    \"batter_continuation\",\n",
    "    \"batter_ground_friction\",\n",
    "    \"batter_indulgence\",\n",
    "    \"batter_laserlikeness\",\n",
    "    \"batter_anticapitalism\",\n",
    "    \"batter_chasiness\",\n",
    "    \"batter_omniscience\",\n",
    "    \"batter_tenaciousness\",\n",
    "    \"batter_watchfulness\",\n",
    "    \"batter_pressurization\",\n",
    "    \"batter_cinnamon\",\n",
    "]:\n",
    "    df[attr] = df[attr] * df[\"batter_multiplier\"]\n",
    "    df[attr + \"_with_vibe\"] = df[attr] * (1 + 0.2 * df[\"batter_vibes\"])\n",
    "\n",
    "for attr in [\n",
    "    \"runner_on_first_base_thirst\",\n",
    "    \"runner_on_first_continuation\",\n",
    "    \"runner_on_first_ground_friction\",\n",
    "    \"runner_on_first_indulgence\",\n",
    "    \"runner_on_first_laserlikeness\",\n",
    "]:\n",
    "    df[attr] = df[attr] * df[\"runner_on_first_multiplier\"]\n",
    "    df[attr + \"_with_vibe\"] = df[attr] * (1 + 0.2 * df[\"runner_on_first_vibes\"])\n",
    "for attr in [\n",
    "    \"runner_on_second_base_thirst\",\n",
    "    \"runner_on_second_continuation\",\n",
    "    \"runner_on_second_ground_friction\",\n",
    "    \"runner_on_second_indulgence\",\n",
    "    \"runner_on_second_laserlikeness\",\n",
    "]:\n",
    "    df[attr] = df[attr] * df[\"runner_on_second_multiplier\"]\n",
    "    df[attr + \"_with_vibe\"] = df[attr] * (1 + 0.2 * df[\"runner_on_second_vibes\"])\n",
    "for attr in [\n",
    "    \"runner_on_third_base_thirst\",\n",
    "    \"runner_on_third_continuation\",\n",
    "    \"runner_on_third_ground_friction\",\n",
    "    \"runner_on_third_indulgence\",\n",
    "    \"runner_on_third_laserlikeness\",\n",
    "]:\n",
    "    df[attr] = df[attr] * df[\"runner_on_third_multiplier\"]\n",
    "    df[attr + \"_with_vibe\"] = df[attr] * (1 + 0.2 * df[\"runner_on_third_vibes\"])\n",
    "\n",
    "for attr in [\n",
    "    \"pitcher_buoyancy\",\n",
    "    \"pitcher_divinity\",\n",
    "    \"pitcher_martyrdom\",\n",
    "    \"pitcher_moxie\",\n",
    "    \"pitcher_musclitude\",\n",
    "    \"pitcher_patheticism\",\n",
    "    \"pitcher_thwackability\",\n",
    "    \"pitcher_tragicness\",\n",
    "    \"pitcher_ruthlessness\",\n",
    "    \"pitcher_overpowerment\",\n",
    "    \"pitcher_unthwackability\",\n",
    "    \"pitcher_shakespearianism\",\n",
    "    \"pitcher_suppression\",\n",
    "    \"pitcher_coldness\",\n",
    "    \"pitcher_base_thirst\",\n",
    "    \"pitcher_continuation\",\n",
    "    \"pitcher_ground_friction\",\n",
    "    \"pitcher_indulgence\",\n",
    "    \"pitcher_laserlikeness\",\n",
    "    \"pitcher_anticapitalism\",\n",
    "    \"pitcher_chasiness\",\n",
    "    \"pitcher_omniscience\",\n",
    "    \"pitcher_tenaciousness\",\n",
    "    \"pitcher_watchfulness\",\n",
    "    \"pitcher_pressurization\",\n",
    "    \"pitcher_cinnamon\",\n",
    "]:\n",
    "    df[attr] = df[attr] * df[\"pitcher_multiplier\"]\n",
    "    df[attr + \"_with_vibe\"] = df[attr] * (1 + 0.2 * df[\"pitcher_vibes\"])\n",
    "\n",
    "for attr in [\n",
    "    \"fielder_anticapitalism\",\n",
    "    \"fielder_chasiness\",\n",
    "    \"fielder_omniscience\",\n",
    "    \"fielder_tenaciousness\",\n",
    "    \"fielder_watchfulness\",\n",
    "    # \"fielder2_anticapitalism\",\n",
    "    # \"fielder2_chasiness\",\n",
    "    # \"fielder2_omniscience\",\n",
    "    # \"fielder2_tenaciousness\",\n",
    "    # \"fielder2_watchfulness\",\n",
    "]:\n",
    "    df[attr + \"_times_vibe\"] = df[attr] * df[\"fielder_vibes\"]\n",
    "    df[attr + \"_with_vibe\"] = df[attr] * (1 + 0.2 * df[\"fielder_vibes\"])\n",
    "\n",
    "len(df)"
   ]
  },
  {
   "cell_type": "code",
   "execution_count": 86,
   "metadata": {
    "collapsed": false,
    "jupyter": {
     "outputs_hidden": false
    },
    "pycharm": {
     "name": "#%%\n"
    }
   },
   "outputs": [
    {
     "name": "stdout",
     "output_type": "stream",
     "text": [
      "865\n"
     ]
    }
   ],
   "source": [
    "dfc = df.copy()\n",
    "\n",
    "# for exclude_mod in [\"OVERPERFORMING\", \"UNDERPERFORMING\", \"HIGH_PRESSURE\", \"GROWTH\", \"SINKING_SHIP\", \"TRAVELING\"]:\n",
    "for exclude_mod in [\"FLINCH\", \"O_NO\", \"ON_FIRE\", \"GROWTH\", \"TRAVELING\"]:\n",
    "    dfc = dfc[~dfc[\"batter_mods\"].astype(str).str.contains(exclude_mod)]\n",
    "    dfc = dfc[~dfc[\"pitcher_mods\"].astype(str).str.contains(exclude_mod)]\n",
    "    dfc = dfc[~dfc[\"fielder_mods\"].astype(str).str.contains(exclude_mod)]\n",
    "    dfc = dfc[~dfc[\"runner_on_first_mods\"].astype(str).str.contains(exclude_mod)]\n",
    "    dfc = dfc[~dfc[\"runner_on_second_mods\"].astype(str).str.contains(exclude_mod)]\n",
    "    dfc = dfc[~dfc[\"runner_on_third_mods\"].astype(str).str.contains(exclude_mod)]\n",
    "    dfc = dfc[~dfc[\"pitching_team_mods\"].astype(str).str.contains(exclude_mod)]\n",
    "    dfc = dfc[~dfc[\"batting_team_mods\"].astype(str).str.contains(exclude_mod)]\n",
    "\n",
    "# If there is no baserunner, override multiplier to 1 to avoid discarding\n",
    "# dfc.loc[dfc[\"runner_on_first_name\"].isnull(), \"runner_on_first_multiplier\"] = 1\n",
    "# dfc.loc[dfc[\"runner_on_second_name\"].isnull(), \"runner_on_second_multiplier\"] = 1\n",
    "# dfc.loc[dfc[\"runner_on_third_name\"].isnull(), \"runner_on_third_multiplier\"] = 1\n",
    "# print(dfc.loc[dfc[\"runner_on_first_name\"].isnull()][\"runner_on_first_multiplier\"])\n",
    "\n",
    "dfc = dfc[\n",
    "    (dfc[\"pitcher_multiplier\"] == 1)\n",
    "    & (dfc[\"batter_multiplier\"] == 1)\n",
    "    & (dfc[\"fielder_multiplier\"] == 1)\n",
    "    # & (dfc[\"fielder2_multiplier\"] == 1)\n",
    "    & (dfc[\"runner_on_first_multiplier\"] == 1)\n",
    "    & (dfc[\"runner_on_second_multiplier\"] == 1)\n",
    "    & (dfc[\"runner_on_third_multiplier\"] == 1)\n",
    "]\n",
    "\n",
    "# dfc = dfc[(dfc['pitcher_vibes'].abs() < 0.2) & (dfc['batter_vibes'].abs() < 0.2)]\n",
    "# for limit_attr in ['batter_patheticism', 'batter_thwackability', 'batter_divinity', 'batter_musclitude', 'pitcher_ruthlessness']:\n",
    "#     dfc = dfc[(dfc[limit_attr] > 0.1) & (dfc[limit_attr] < 0.9)]\n",
    "# dfc = dfc[dfc['batter_thwackability'] + dfc['batter_musclitude'] + dfc['batter_divinity'] > dfc['batter_patheticism']]\n",
    "\n",
    "print(len(dfc))"
   ]
  },
  {
   "cell_type": "code",
   "execution_count": 87,
   "metadata": {},
   "outputs": [
    {
     "data": {
      "text/plain": [
       "<matplotlib.legend.Legend at 0x7f80da8d9160>"
      ]
     },
     "execution_count": 87,
     "metadata": {},
     "output_type": "execute_result"
    },
    {
     "data": {
      "image/png": "[encoded data removed]",
      "text/plain": [
       "<Figure size 720x432 with 1 Axes>"
      ]
     },
     "metadata": {},
     "output_type": "display_data"
    }
   ],
   "source": [
    "# This shows the first roll is uncorrelated to whether the runner advances\n",
    "fig, ax = plt.subplots(1, figsize=(10, 6), facecolor='white')\n",
    "ax.hist(\n",
    "    df[df['passed']]['roll1'],\n",
    "    bins=10,\n",
    "    range=[0.,1.],\n",
    "    color=\"green\",\n",
    "    label=\"Advance\",\n",
    "    alpha = 0.5\n",
    ")\n",
    "ax.hist(\n",
    "    df[~df['passed']]['roll1'],\n",
    "    bins=10,\n",
    "    range=[0.,1.],\n",
    "    color=\"red\",\n",
    "    label=\"Stay\",\n",
    "    alpha = 0.5\n",
    ")\n",
    "\n",
    "ax.set_xlabel('bin counts')\n",
    "ax.set_xlabel(\"roll[1]\")\n",
    "\n",
    "ax.legend()"
   ]
  },
  {
   "cell_type": "code",
   "execution_count": 88,
   "metadata": {},
   "outputs": [
    {
     "data": {
      "text/plain": [
       "<matplotlib.legend.Legend at 0x7f80db13fcd0>"
      ]
     },
     "execution_count": 88,
     "metadata": {},
     "output_type": "execute_result"
    },
    {
     "data": {
      "image/png": "[encoded data removed]",
      "text/plain": [
       "<Figure size 720x432 with 1 Axes>"
      ]
     },
     "metadata": {},
     "output_type": "display_data"
    }
   ],
   "source": [
    "# This shows the second roll is related to whether the runner advances\n",
    "fig, ax = plt.subplots(1, figsize=(10, 6), facecolor='white')\n",
    "ax.hist(\n",
    "    df[df['passed']]['roll2'],\n",
    "    bins=10,\n",
    "    range=[0.,1.],\n",
    "    color=\"green\",\n",
    "    label=\"Advance\",\n",
    "    alpha = 0.5\n",
    ")\n",
    "ax.hist(\n",
    "    df[~df['passed']]['roll2'],\n",
    "    bins=10,\n",
    "    range=[0.,1.],\n",
    "    color=\"red\",\n",
    "    label=\"Stay\",\n",
    "    alpha = 0.5\n",
    ")\n",
    "\n",
    "ax.set_xlabel('bin counts')\n",
    "ax.set_xlabel(\"roll[1]\")\n",
    "\n",
    "ax.legend()"
   ]
  },
  {
   "cell_type": "code",
   "execution_count": 140,
   "metadata": {
    "collapsed": false,
    "jupyter": {
     "outputs_hidden": false
    },
    "pycharm": {
     "name": "#%%\n"
    }
   },
   "outputs": [
    {
     "data": {
      "text/html": [
       "<div>\n",
       "<style scoped>\n",
       "    .dataframe tbody tr th:only-of-type {\n",
       "        vertical-align: middle;\n",
       "    }\n",
       "\n",
       "    .dataframe tbody tr th {\n",
       "        vertical-align: top;\n",
       "    }\n",
       "\n",
       "    .dataframe thead th {\n",
       "        text-align: right;\n",
       "    }\n",
       "</style>\n",
       "<table border=\"1\" class=\"dataframe\">\n",
       "  <thead>\n",
       "    <tr style=\"text-align: right;\">\n",
       "      <th></th>\n",
       "      <th>roll2</th>\n",
       "      <th>fielder_tenaciousness_with_vibe</th>\n",
       "      <th>ballpark_inconvenience</th>\n",
       "      <th>ballpark_elongation</th>\n",
       "      <th>runner_on_third_indulgence_with_vibe</th>\n",
       "    </tr>\n",
       "  </thead>\n",
       "  <tbody>\n",
       "    <tr>\n",
       "      <th>0</th>\n",
       "      <td>0.625520</td>\n",
       "      <td>0.160344</td>\n",
       "      <td>0.500000</td>\n",
       "      <td>0.500000</td>\n",
       "      <td>1.044509</td>\n",
       "    </tr>\n",
       "    <tr>\n",
       "      <th>2</th>\n",
       "      <td>0.261447</td>\n",
       "      <td>1.014194</td>\n",
       "      <td>0.500000</td>\n",
       "      <td>0.500000</td>\n",
       "      <td>0.484904</td>\n",
       "    </tr>\n",
       "    <tr>\n",
       "      <th>3</th>\n",
       "      <td>0.353593</td>\n",
       "      <td>0.489473</td>\n",
       "      <td>0.500000</td>\n",
       "      <td>0.500000</td>\n",
       "      <td>1.104098</td>\n",
       "    </tr>\n",
       "    <tr>\n",
       "      <th>6</th>\n",
       "      <td>0.652682</td>\n",
       "      <td>0.702462</td>\n",
       "      <td>0.500000</td>\n",
       "      <td>0.500000</td>\n",
       "      <td>1.128678</td>\n",
       "    </tr>\n",
       "    <tr>\n",
       "      <th>7</th>\n",
       "      <td>0.490988</td>\n",
       "      <td>1.106564</td>\n",
       "      <td>0.500000</td>\n",
       "      <td>0.500000</td>\n",
       "      <td>1.205040</td>\n",
       "    </tr>\n",
       "    <tr>\n",
       "      <th>...</th>\n",
       "      <td>...</td>\n",
       "      <td>...</td>\n",
       "      <td>...</td>\n",
       "      <td>...</td>\n",
       "      <td>...</td>\n",
       "    </tr>\n",
       "    <tr>\n",
       "      <th>1498</th>\n",
       "      <td>0.074204</td>\n",
       "      <td>0.698275</td>\n",
       "      <td>0.505260</td>\n",
       "      <td>0.575745</td>\n",
       "      <td>0.729781</td>\n",
       "    </tr>\n",
       "    <tr>\n",
       "      <th>1500</th>\n",
       "      <td>0.758012</td>\n",
       "      <td>0.415859</td>\n",
       "      <td>0.596246</td>\n",
       "      <td>0.540903</td>\n",
       "      <td>1.248407</td>\n",
       "    </tr>\n",
       "    <tr>\n",
       "      <th>1501</th>\n",
       "      <td>0.291341</td>\n",
       "      <td>0.273484</td>\n",
       "      <td>0.540501</td>\n",
       "      <td>0.475801</td>\n",
       "      <td>1.132846</td>\n",
       "    </tr>\n",
       "    <tr>\n",
       "      <th>1502</th>\n",
       "      <td>0.035257</td>\n",
       "      <td>1.336066</td>\n",
       "      <td>0.479740</td>\n",
       "      <td>0.481888</td>\n",
       "      <td>1.248878</td>\n",
       "    </tr>\n",
       "    <tr>\n",
       "      <th>1503</th>\n",
       "      <td>0.419188</td>\n",
       "      <td>0.335157</td>\n",
       "      <td>0.505260</td>\n",
       "      <td>0.575745</td>\n",
       "      <td>1.150766</td>\n",
       "    </tr>\n",
       "  </tbody>\n",
       "</table>\n",
       "<p>865 rows × 5 columns</p>\n",
       "</div>"
      ],
      "text/plain": [
       "         roll2  fielder_tenaciousness_with_vibe  ballpark_inconvenience  \\\n",
       "0     0.625520                         0.160344                0.500000   \n",
       "2     0.261447                         1.014194                0.500000   \n",
       "3     0.353593                         0.489473                0.500000   \n",
       "6     0.652682                         0.702462                0.500000   \n",
       "7     0.490988                         1.106564                0.500000   \n",
       "...        ...                              ...                     ...   \n",
       "1498  0.074204                         0.698275                0.505260   \n",
       "1500  0.758012                         0.415859                0.596246   \n",
       "1501  0.291341                         0.273484                0.540501   \n",
       "1502  0.035257                         1.336066                0.479740   \n",
       "1503  0.419188                         0.335157                0.505260   \n",
       "\n",
       "      ballpark_elongation  runner_on_third_indulgence_with_vibe  \n",
       "0                0.500000                              1.044509  \n",
       "2                0.500000                              0.484904  \n",
       "3                0.500000                              1.104098  \n",
       "6                0.500000                              1.128678  \n",
       "7                0.500000                              1.205040  \n",
       "...                   ...                                   ...  \n",
       "1498             0.575745                              0.729781  \n",
       "1500             0.540903                              1.248407  \n",
       "1501             0.475801                              1.132846  \n",
       "1502             0.481888                              1.248878  \n",
       "1503             0.575745                              1.150766  \n",
       "\n",
       "[865 rows x 5 columns]"
      ]
     },
     "execution_count": 140,
     "metadata": {},
     "output_type": "execute_result"
    }
   ],
   "source": [
    "X = dfc[\n",
    "    [\n",
    "        \"roll2\",\n",
    "        \"passed\",\n",
    "        # \"roll_avg\",\n",
    "        # \"batter_patheticism_with_vibe\",\n",
    "        # \"batter_tragicness_with_vibe\",\n",
    "        # \"batter_inv_tragicness\",\n",
    "        # \"batter_inv_patheticism\",\n",
    "        # \"pitcher_shakespearianism_with_vibe\",\n",
    "        # 'fielder_anticapitalism_with_vibe',\n",
    "        # 'fielder_chasiness_with_vibe',\n",
    "        # 'fielder_omniscience_with_vibe',\n",
    "        'fielder_tenaciousness_with_vibe',\n",
    "        # 'fielder_watchfulness_with_vibe',\n",
    "        # 'fielder2_anticapitalism_with_vibe',\n",
    "        # 'fielder2_chasiness_with_vibe',\n",
    "        # 'fielder2_omniscience_with_vibe',\n",
    "        # 'fielder2_tenaciousness_with_vibe',\n",
    "        # 'fielder2_watchfulness_with_vibe',\n",
    "        # 'ballpark_grandiosity',\n",
    "        # 'ballpark_fortification',\n",
    "        # 'ballpark_obtuseness',\n",
    "        # 'ballpark_ominousness',\n",
    "        'ballpark_inconvenience',\n",
    "        # 'ballpark_viscosity',\n",
    "        # 'ballpark_forwardness',\n",
    "        # 'ballpark_mysticism',\n",
    "        'ballpark_elongation',\n",
    "        # 'runner_on_second_base_thirst_with_vibe',\n",
    "        # 'runner_on_second_laserlikeness_with_vibe',\n",
    "        # 'runner_on_second_continuation_with_vibe',\n",
    "        # 'runner_on_second_ground_friction_with_vibe',\n",
    "        'runner_on_third_indulgence_with_vibe',\n",
    "        #'ballpark_filthiness',\n",
    "    ]\n",
    "]\n",
    "\n",
    "# X = X[X['roll'] < 0.85]\n",
    "\n",
    "# X = dfc[['roll', 'pitcher_ruthlessness', 'ballpark_forwardness']]\n",
    "# X = dfc[['roll', 'pitcher_ruthlessness']]\n",
    "\n",
    "# Test out a specific coefficient\n",
    "# X[\"roll1\"] = X[\"roll1\"]-0.4*X[\"pitcher_shakespearianism_with_vibe\"]\n",
    "# X.drop(\"pitcher_shakespearianism_with_vibe\", axis=\"columns\", inplace=True)\n",
    "# X[\"roll1\"] = X[\"roll1\"]-0.1*X[\"fielder_tenaciousness_with_vibe\"]\n",
    "# X.drop(\"fielder_tenaciousness_with_vibe\", axis=\"columns\", inplace=True)\n",
    "y = X[\"passed\"]\n",
    "X = X.drop(\"passed\", axis=1)\n",
    "X"
   ]
  },
  {
   "cell_type": "code",
   "execution_count": 141,
   "metadata": {
    "collapsed": false,
    "jupyter": {
     "outputs_hidden": false
    },
    "pycharm": {
     "name": "#%%\n"
    }
   },
   "outputs": [
    {
     "name": "stdout",
     "output_type": "stream",
     "text": [
      "[[261   0]\n",
      " [  0 604]]\n",
      "              precision    recall  f1-score   support\n",
      "\n",
      "       False       1.00      1.00      1.00       261\n",
      "        True       1.00      1.00      1.00       604\n",
      "\n",
      "    accuracy                           1.00       865\n",
      "   macro avg       1.00      1.00      1.00       865\n",
      "weighted avg       1.00      1.00      1.00       865\n",
      "\n",
      "1.0\n"
     ]
    }
   ],
   "source": [
    "from sklearn.preprocessing import StandardScaler\n",
    "from sklearn.metrics import confusion_matrix\n",
    "from sklearn.metrics import classification_report\n",
    "from sklearn import svm, linear_model\n",
    "\n",
    "# # trainedsvm = svm.SVC(kernel='linear').fit(X, y)\n",
    "# trainedsvm = svm.LinearSVC(dual=False, max_iter=100000).fit(X, y)\n",
    "# predictionsvm = trainedsvm.predict(X)\n",
    "# print(confusion_matrix(y,predictionsvm))\n",
    "# print(classification_report(y,predictionsvm))\n",
    "\n",
    "sc = StandardScaler()\n",
    "X2 = sc.fit_transform(X)\n",
    "\n",
    "#trainedsvm = svm.LinearSVC(intercept_scaling=1000, dual=False, max_iter=100000, C=1000, class_weight=\"balanced\").fit(\n",
    "trainedsvm = svm.LinearSVC(dual=False, max_iter=100000, C=1000, class_weight=\"balanced\").fit(\n",
    "    X2, y\n",
    ")\n",
    "predictionsvm = trainedsvm.predict(X2)\n",
    "print(confusion_matrix(y, predictionsvm))\n",
    "print(classification_report(y, predictionsvm))\n",
    "print(trainedsvm.score(X2, y))"
   ]
  },
  {
   "cell_type": "code",
   "execution_count": 142,
   "metadata": {
    "collapsed": false,
    "jupyter": {
     "outputs_hidden": false
    },
    "pycharm": {
     "name": "#%%\n"
    }
   },
   "outputs": [
    {
     "name": "stdout",
     "output_type": "stream",
     "text": [
      "[-0.59653225]\n"
     ]
    },
    {
     "data": {
      "text/plain": [
       "[(1.0, 'roll2'),\n",
       " (-0.35021142394668825, 'runner_on_third_indulgence_with_vibe'),\n",
       " (0.10507789248653808, 'ballpark_elongation'),\n",
       " (0.09590267261241811, 'fielder_tenaciousness_with_vibe'),\n",
       " (0.09365388255833178, 'ballpark_inconvenience')]"
      ]
     },
     "execution_count": 142,
     "metadata": {},
     "output_type": "execute_result"
    }
   ],
   "source": [
    "coef = np.true_divide(trainedsvm.coef_, sc.scale_)\n",
    "coef_scaled = coef / coef[0, 0]\n",
    "coef_list = coef_scaled.tolist()[0]\n",
    "\n",
    "intercept = trainedsvm.intercept_ - np.dot(coef, sc.mean_)\n",
    "intercept_scaled = intercept / coef[0, 0]\n",
    "print(intercept_scaled)\n",
    "sorted(zip(coef_list, X.columns), key=lambda x: abs(x[0]), reverse=True)"
   ]
  },
  {
   "cell_type": "code",
   "execution_count": 151,
   "metadata": {
    "collapsed": false,
    "jupyter": {
     "outputs_hidden": false
    },
    "pycharm": {
     "name": "#%%\n"
    }
   },
   "outputs": [
    {
     "name": "stdout",
     "output_type": "stream",
     "text": [
      "[0.59653225]\n",
      "(-0.09590267261241811, 'fielder_tenaciousness_with_vibe')\n",
      "(-0.09365388255833178, 'ballpark_inconvenience')\n",
      "(-0.10507789248653808, 'ballpark_elongation')\n",
      "(0.35021142394668825, 'runner_on_third_indulgence_with_vibe')\n"
     ]
    },
    {
     "data": {
      "text/plain": [
       "<matplotlib.legend.Legend at 0x7f80d9ef9c10>"
      ]
     },
     "execution_count": 151,
     "metadata": {},
     "output_type": "execute_result"
    },
    {
     "data": {
      "image/png": "[encoded data removed]",
      "text/plain": [
       "<Figure size 720x432 with 1 Axes>"
      ]
     },
     "metadata": {},
     "output_type": "display_data"
    }
   ],
   "source": [
    "# Manual threshold\n",
    "# dfc[\"threshold_rounded\"] = 0.50 + 0.35 * dfc[\"runner_on_second_indulgence_with_vibe\"] - 0.10 * dfc[\"fielder_tenaciousness_with_vibe\"] - 0.10 * (dfc['ballpark_elongation'] - 0.50)\n",
    "dfc[\"threshold_rounded\"] = 0.50 + 0.35 * dfc[\"runner_on_third_indulgence_with_vibe\"] - 0.10 * dfc[\"fielder_tenaciousness_with_vibe\"] - 0.10 * (dfc[\"ballpark_inconvenience\"] - 0.50) - 0.10 * (dfc[\"ballpark_elongation\"] - 0.50)\n",
    "# dfc[\"threshold_rounded\"] = 0.50 + 0.35 * dfc[\"runner_on_second_indulgence_with_vibe\"] - 0.10 * (dfc['ballpark_elongation'] - 0.50)\n",
    "\n",
    "# SVC threshold\n",
    "dfc[\"threshold\"] = -intercept_scaled[0]\n",
    "print(-intercept_scaled)\n",
    "for pair in zip(-np.array(coef_list), X.columns):\n",
    "    if pair[1] != \"roll2\":\n",
    "        print(pair)\n",
    "        dfc[\"threshold\"] += pair[0] * dfc[pair[1]]\n",
    "\n",
    "x_val = \"threshold_rounded\"\n",
    "fig, ax = plt.subplots(1, figsize=(10, 6), facecolor='white')\n",
    "ax.scatter(\n",
    "    dfc[~dfc[\"passed\"]][x_val],\n",
    "    dfc[~dfc[\"passed\"]][\"roll2\"],\n",
    "    color=\"red\",\n",
    "    label=\"Runner Stays\",\n",
    "    marker=CARETRIGHTBASE,\n",
    ")\n",
    "ax.scatter(\n",
    "    dfc[dfc[\"passed\"]][x_val],\n",
    "    dfc[dfc[\"passed\"]][\"roll2\"],\n",
    "    color=\"blue\",\n",
    "    label=\"Runner Advances\",\n",
    "    marker=CARETLEFTBASE,\n",
    ")\n",
    "ax.set_xlabel(x_val)\n",
    "ax.set_ylabel(\"roll2\")\n",
    "ax.set_title(\"Advancement\")\n",
    "# ax.set_xlim(0.484, 0.499)\n",
    "ax.set_ylim(0, 1)\n",
    "\n",
    "ax.plot(ax.get_xlim(), ax.get_xlim(), \"k\")\n",
    "\n",
    "ax.legend()\n"
   ]
  },
  {
   "cell_type": "code",
   "execution_count": 155,
   "metadata": {
    "collapsed": false,
    "jupyter": {
     "outputs_hidden": false
    },
    "pycharm": {
     "name": "#%%\n"
    }
   },
   "outputs": [
    {
     "name": "stdout",
     "output_type": "stream",
     "text": [
      "0 outliers\n"
     ]
    },
    {
     "data": {
      "text/plain": [
       "<matplotlib.legend.Legend at 0x7f80d9e1d940>"
      ]
     },
     "execution_count": 155,
     "metadata": {},
     "output_type": "execute_result"
    },
    {
     "data": {
      "image/png": "[encoded data removed]",
      "text/plain": [
       "<Figure size 432x288 with 1 Axes>"
      ]
     },
     "metadata": {},
     "output_type": "display_data"
    }
   ],
   "source": [
    "dfc[\"offset\"] = dfc[\"roll2\"] - dfc[\"threshold_rounded\"]\n",
    "outliers = dfc[(dfc[\"passed\"] & (dfc[\"offset\"] >= 0)) | (~dfc[\"passed\"] & (dfc[\"offset\"] <= 0))]\n",
    "print(f\"{len(outliers)} outliers\")\n",
    "\n",
    "fig, ax = plt.subplots(1, facecolor='white')\n",
    "x_val = \"threshold_rounded\"\n",
    "ax.scatter(\n",
    "    outliers[~outliers[\"passed\"]][x_val],\n",
    "    outliers[~outliers[\"passed\"]][\"offset\"],\n",
    "    color=\"red\",\n",
    "    label=\"Stay\",\n",
    ")\n",
    "ax.scatter(\n",
    "    outliers[outliers[\"passed\"]][x_val],\n",
    "    outliers[outliers[\"passed\"]][\"offset\"],\n",
    "    color=\"blue\",\n",
    "    label=\"Advance\",\n",
    ")\n",
    "ax.set_xlabel(x_val)\n",
    "ax.set_ylabel(\"offset\")\n",
    "ax.legend()"
   ]
  },
  {
   "cell_type": "code",
   "execution_count": 156,
   "metadata": {
    "collapsed": false,
    "jupyter": {
     "outputs_hidden": false
    },
    "pycharm": {
     "name": "#%%\n"
    }
   },
   "outputs": [
    {
     "name": "stdout",
     "output_type": "stream",
     "text": [
      "0\n"
     ]
    },
    {
     "data": {
      "text/html": [
       "<div>\n",
       "<style scoped>\n",
       "    .dataframe tbody tr th:only-of-type {\n",
       "        vertical-align: middle;\n",
       "    }\n",
       "\n",
       "    .dataframe tbody tr th {\n",
       "        vertical-align: top;\n",
       "    }\n",
       "\n",
       "    .dataframe thead th {\n",
       "        text-align: right;\n",
       "    }\n",
       "</style>\n",
       "<table border=\"1\" class=\"dataframe\">\n",
       "  <thead>\n",
       "    <tr style=\"text-align: right;\">\n",
       "      <th></th>\n",
       "      <th>season</th>\n",
       "      <th>day</th>\n",
       "      <th>offset</th>\n",
       "      <th>roll</th>\n",
       "      <th>threshold_rounded</th>\n",
       "      <th>event_type</th>\n",
       "      <th>out_count</th>\n",
       "      <th>fielder_name</th>\n",
       "      <th>runner_on_second_name</th>\n",
       "      <th>weather</th>\n",
       "      <th>fielder_tenaciousness_with_vibe</th>\n",
       "      <th>runner_on_second_indulgence_with_vibe</th>\n",
       "      <th>fielder_mods</th>\n",
       "      <th>runner_on_second_mods</th>\n",
       "      <th>batting_team_mods</th>\n",
       "      <th>pitching_team_mods</th>\n",
       "      <th>game_id</th>\n",
       "      <th>play_count</th>\n",
       "    </tr>\n",
       "  </thead>\n",
       "  <tbody>\n",
       "  </tbody>\n",
       "</table>\n",
       "</div>"
      ],
      "text/plain": [
       "Empty DataFrame\n",
       "Columns: [season, day, offset, roll, threshold_rounded, event_type, out_count, fielder_name, runner_on_second_name, weather, fielder_tenaciousness_with_vibe, runner_on_second_indulgence_with_vibe, fielder_mods, runner_on_second_mods, batting_team_mods, pitching_team_mods, game_id, play_count]\n",
       "Index: []"
      ]
     },
     "execution_count": 156,
     "metadata": {},
     "output_type": "execute_result"
    }
   ],
   "source": [
    "table = outliers\n",
    "print(len(table))\n",
    "#table = table[table['event_type'] == 'Out']\n",
    "table[\n",
    "    [\n",
    "        \"season\",\n",
    "        \"day\",\n",
    "        \"offset\",\n",
    "        \"roll\",\n",
    "        \"threshold_rounded\",\n",
    "        \"event_type\",\n",
    "        \"out_count\",\n",
    "        #\"baserunner_count\",\n",
    "        #\"top_of_inning\",\n",
    "        # \"inning\",\n",
    "        # \"home_score\",\n",
    "        # \"away_score\",\n",
    "        #\"event_type\",\n",
    "        #\"ballpark_filthiness\",\n",
    "        # \"pitcher_name\",\n",
    "        \"fielder_name\",\n",
    "        # \"batter_name\",\n",
    "        \"runner_on_second_name\",\n",
    "        \"weather\",\n",
    "        # \"pitcher_mods\",\n",
    "        # \"runner_on_second_vibes\",\n",
    "        # \"fielder_vibes\",\n",
    "        \"fielder_tenaciousness_with_vibe\",\n",
    "        \"runner_on_second_indulgence_with_vibe\",\n",
    "        # \"batter_mods\",\n",
    "        \"fielder_mods\",\n",
    "        \"runner_on_second_mods\",\n",
    "        \"batting_team_mods\",\n",
    "        \"pitching_team_mods\",\n",
    "        \"game_id\",\n",
    "        \"play_count\",\n",
    "    ]\n",
    "].sort_values(\"offset\", ascending=True)\n",
    "# len(table)"
   ]
  },
  {
   "cell_type": "code",
   "execution_count": 157,
   "metadata": {
    "collapsed": false,
    "jupyter": {
     "outputs_hidden": false
    },
    "pycharm": {
     "name": "#%%\n"
    }
   },
   "outputs": [
    {
     "data": {
      "text/plain": [
       "['event_type',\n",
       " 'roll',\n",
       " 'passed',\n",
       " 'batter_buoyancy',\n",
       " 'batter_divinity',\n",
       " 'batter_martyrdom',\n",
       " 'batter_moxie',\n",
       " 'batter_musclitude',\n",
       " 'batter_patheticism',\n",
       " 'batter_thwackability',\n",
       " 'batter_tragicness',\n",
       " 'batter_coldness',\n",
       " 'batter_overpowerment',\n",
       " 'batter_ruthlessness',\n",
       " 'batter_shakespearianism',\n",
       " 'batter_suppression',\n",
       " 'batter_unthwackability',\n",
       " 'batter_base_thirst',\n",
       " 'batter_continuation',\n",
       " 'batter_ground_friction',\n",
       " 'batter_indulgence',\n",
       " 'batter_laserlikeness',\n",
       " 'batter_anticapitalism',\n",
       " 'batter_chasiness',\n",
       " 'batter_omniscience',\n",
       " 'batter_tenaciousness',\n",
       " 'batter_watchfulness',\n",
       " 'batter_pressurization',\n",
       " 'batter_cinnamon',\n",
       " 'batter_multiplier',\n",
       " 'runner_on_first_base_thirst',\n",
       " 'runner_on_first_continuation',\n",
       " 'runner_on_first_ground_friction',\n",
       " 'runner_on_first_indulgence',\n",
       " 'runner_on_first_laserlikeness',\n",
       " 'runner_on_first_multiplier',\n",
       " 'runner_on_second_base_thirst',\n",
       " 'runner_on_second_continuation',\n",
       " 'runner_on_second_ground_friction',\n",
       " 'runner_on_second_indulgence',\n",
       " 'runner_on_second_laserlikeness',\n",
       " 'runner_on_second_multiplier',\n",
       " 'runner_on_third_base_thirst',\n",
       " 'runner_on_third_continuation',\n",
       " 'runner_on_third_ground_friction',\n",
       " 'runner_on_third_indulgence',\n",
       " 'runner_on_third_laserlikeness',\n",
       " 'runner_on_third_multiplier',\n",
       " 'pitcher_buoyancy',\n",
       " 'pitcher_divinity',\n",
       " 'pitcher_martyrdom',\n",
       " 'pitcher_moxie',\n",
       " 'pitcher_musclitude',\n",
       " 'pitcher_patheticism',\n",
       " 'pitcher_thwackability',\n",
       " 'pitcher_tragicness',\n",
       " 'pitcher_ruthlessness',\n",
       " 'pitcher_overpowerment',\n",
       " 'pitcher_unthwackability',\n",
       " 'pitcher_shakespearianism',\n",
       " 'pitcher_suppression',\n",
       " 'pitcher_coldness',\n",
       " 'pitcher_base_thirst',\n",
       " 'pitcher_continuation',\n",
       " 'pitcher_ground_friction',\n",
       " 'pitcher_indulgence',\n",
       " 'pitcher_laserlikeness',\n",
       " 'pitcher_anticapitalism',\n",
       " 'pitcher_chasiness',\n",
       " 'pitcher_omniscience',\n",
       " 'pitcher_tenaciousness',\n",
       " 'pitcher_watchfulness',\n",
       " 'pitcher_pressurization',\n",
       " 'pitcher_cinnamon',\n",
       " 'pitcher_multiplier',\n",
       " 'fielder_anticapitalism',\n",
       " 'fielder_chasiness',\n",
       " 'fielder_omniscience',\n",
       " 'fielder_tenaciousness',\n",
       " 'fielder_watchfulness',\n",
       " 'fielder_multiplier',\n",
       " 'ballpark_grandiosity',\n",
       " 'ballpark_fortification',\n",
       " 'ballpark_obtuseness',\n",
       " 'ballpark_ominousness',\n",
       " 'ballpark_inconvenience',\n",
       " 'ballpark_viscosity',\n",
       " 'ballpark_forwardness',\n",
       " 'ballpark_mysticism',\n",
       " 'ballpark_elongation',\n",
       " 'ballpark_filthiness',\n",
       " 'what1',\n",
       " 'what2',\n",
       " 'batting_team_hype',\n",
       " 'pitching_team_hype',\n",
       " 'batter_name',\n",
       " 'pitcher_name',\n",
       " 'fielder_name',\n",
       " 'runner_on_first_name',\n",
       " 'runner_on_second_name',\n",
       " 'runner_on_third_name',\n",
       " 'batter_vibes',\n",
       " 'pitcher_vibes',\n",
       " 'fielder_vibes',\n",
       " 'runner_on_first_vibes',\n",
       " 'runner_on_second_vibes',\n",
       " 'runner_on_third_vibes',\n",
       " 'batter_mods',\n",
       " 'batting_team_mods',\n",
       " 'pitcher_mods',\n",
       " 'pitching_team_mods',\n",
       " 'fielder_mods',\n",
       " 'runner_on_first_mods',\n",
       " 'runner_on_second_mods',\n",
       " 'runner_on_third_mods',\n",
       " 'game_id',\n",
       " 'stadium_id',\n",
       " 'play_count',\n",
       " 'weather',\n",
       " 'ball_count',\n",
       " 'strike_count',\n",
       " 'out_count',\n",
       " 'season',\n",
       " 'day',\n",
       " 'top_of_inning',\n",
       " 'home_score',\n",
       " 'away_score',\n",
       " 'inning',\n",
       " 'batting_team_roster_size',\n",
       " 'pitching_team_roster_size',\n",
       " 'baserunner_count',\n",
       " 'is_strike',\n",
       " 'strike_roll',\n",
       " 'strike_threshold',\n",
       " 'fielder_roll',\n",
       " 'batter_consecutive_hits',\n",
       " 'roll1',\n",
       " 'roll2',\n",
       " 'batter_inv_patheticism',\n",
       " 'batter_inv_patheticism_with_vibe',\n",
       " 'batter_inv_tragicness',\n",
       " 'batter_inv_tragicness_with_vibe',\n",
       " 'batter_buoyancy_with_vibe',\n",
       " 'batter_divinity_with_vibe',\n",
       " 'batter_martyrdom_with_vibe',\n",
       " 'batter_moxie_with_vibe',\n",
       " 'batter_musclitude_with_vibe',\n",
       " 'batter_patheticism_with_vibe',\n",
       " 'batter_thwackability_with_vibe',\n",
       " 'batter_tragicness_with_vibe',\n",
       " 'batter_coldness_with_vibe',\n",
       " 'batter_overpowerment_with_vibe',\n",
       " 'batter_ruthlessness_with_vibe',\n",
       " 'batter_shakespearianism_with_vibe',\n",
       " 'batter_suppression_with_vibe',\n",
       " 'batter_unthwackability_with_vibe',\n",
       " 'batter_base_thirst_with_vibe',\n",
       " 'batter_continuation_with_vibe',\n",
       " 'batter_ground_friction_with_vibe',\n",
       " 'batter_indulgence_with_vibe',\n",
       " 'batter_laserlikeness_with_vibe',\n",
       " 'batter_anticapitalism_with_vibe',\n",
       " 'batter_chasiness_with_vibe',\n",
       " 'batter_omniscience_with_vibe',\n",
       " 'batter_tenaciousness_with_vibe',\n",
       " 'batter_watchfulness_with_vibe',\n",
       " 'batter_pressurization_with_vibe',\n",
       " 'batter_cinnamon_with_vibe',\n",
       " 'runner_on_first_base_thirst_with_vibe',\n",
       " 'runner_on_first_continuation_with_vibe',\n",
       " 'runner_on_first_ground_friction_with_vibe',\n",
       " 'runner_on_first_indulgence_with_vibe',\n",
       " 'runner_on_first_laserlikeness_with_vibe',\n",
       " 'runner_on_second_base_thirst_with_vibe',\n",
       " 'runner_on_second_continuation_with_vibe',\n",
       " 'runner_on_second_ground_friction_with_vibe',\n",
       " 'runner_on_second_indulgence_with_vibe',\n",
       " 'runner_on_second_laserlikeness_with_vibe',\n",
       " 'runner_on_third_base_thirst_with_vibe',\n",
       " 'runner_on_third_continuation_with_vibe',\n",
       " 'runner_on_third_ground_friction_with_vibe',\n",
       " 'runner_on_third_indulgence_with_vibe',\n",
       " 'runner_on_third_laserlikeness_with_vibe',\n",
       " 'pitcher_buoyancy_with_vibe',\n",
       " 'pitcher_divinity_with_vibe',\n",
       " 'pitcher_martyrdom_with_vibe',\n",
       " 'pitcher_moxie_with_vibe',\n",
       " 'pitcher_musclitude_with_vibe',\n",
       " 'pitcher_patheticism_with_vibe',\n",
       " 'pitcher_thwackability_with_vibe',\n",
       " 'pitcher_tragicness_with_vibe',\n",
       " 'pitcher_ruthlessness_with_vibe',\n",
       " 'pitcher_overpowerment_with_vibe',\n",
       " 'pitcher_unthwackability_with_vibe',\n",
       " 'pitcher_shakespearianism_with_vibe',\n",
       " 'pitcher_suppression_with_vibe',\n",
       " 'pitcher_coldness_with_vibe',\n",
       " 'pitcher_base_thirst_with_vibe',\n",
       " 'pitcher_continuation_with_vibe',\n",
       " 'pitcher_ground_friction_with_vibe',\n",
       " 'pitcher_indulgence_with_vibe',\n",
       " 'pitcher_laserlikeness_with_vibe',\n",
       " 'pitcher_anticapitalism_with_vibe',\n",
       " 'pitcher_chasiness_with_vibe',\n",
       " 'pitcher_omniscience_with_vibe',\n",
       " 'pitcher_tenaciousness_with_vibe',\n",
       " 'pitcher_watchfulness_with_vibe',\n",
       " 'pitcher_pressurization_with_vibe',\n",
       " 'pitcher_cinnamon_with_vibe',\n",
       " 'fielder_anticapitalism_times_vibe',\n",
       " 'fielder_anticapitalism_with_vibe',\n",
       " 'fielder_chasiness_times_vibe',\n",
       " 'fielder_chasiness_with_vibe',\n",
       " 'fielder_omniscience_times_vibe',\n",
       " 'fielder_omniscience_with_vibe',\n",
       " 'fielder_tenaciousness_times_vibe',\n",
       " 'fielder_tenaciousness_with_vibe',\n",
       " 'fielder_watchfulness_times_vibe',\n",
       " 'fielder_watchfulness_with_vibe']"
      ]
     },
     "execution_count": 157,
     "metadata": {},
     "output_type": "execute_result"
    }
   ],
   "source": [
    "list(df.columns)"
   ]
  }
 ],
 "metadata": {
  "kernelspec": {
   "display_name": "Python 3 (ipykernel)",
   "language": "python",
   "name": "python3"
  },
  "language_info": {
   "codemirror_mode": {
    "name": "ipython",
    "version": 3
   },
   "file_extension": ".py",
   "mimetype": "text/x-python",
   "name": "python",
   "nbconvert_exporter": "python",
   "pygments_lexer": "ipython3",
   "version": "3.8.10"
  },
  "vscode": {
   "interpreter": {
    "hash": "916dbcbb3f70747c44a77c7bcd40155683ae19c65e1c03b4aa3499c5328201f1"
   }
  }
 },
 "nbformat": 4,
 "nbformat_minor": 4
}
