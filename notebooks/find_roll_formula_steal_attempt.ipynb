{
 "cells": [
  {
   "cell_type": "code",
   "execution_count": 15,
   "metadata": {
    "collapsed": false,
    "jupyter": {
     "outputs_hidden": false
    },
    "pycharm": {
     "name": "#%%\n"
    }
   },
   "outputs": [],
   "source": [
    "import glob\n",
    "\n",
    "import pandas as pd\n",
    "import matplotlib.pyplot as plt\n",
    "import numpy as np\n",
    "from matplotlib.markers import CARETLEFTBASE, CARETRIGHTBASE\n",
    "from csv_dtypes import column_dtypes\n",
    "\n",
    "pd.set_option(\"display.max_rows\", 60)  # default 60\n",
    "pd.set_option(\"display.max_columns\", 20)  # default 20"
   ]
  },
  {
   "cell_type": "code",
   "execution_count": 49,
   "metadata": {
    "collapsed": false,
    "jupyter": {
     "outputs_hidden": false
    },
    "pycharm": {
     "name": "#%%\n"
    }
   },
   "outputs": [
    {
     "data": {
      "text/plain": [
       "159959"
      ]
     },
     "execution_count": 49,
     "metadata": {},
     "output_type": "execute_result"
    }
   ],
   "source": [
    "all_files = glob.glob(\"../roll_data/*-steal_attempt.csv\")\n",
    "\n",
    "df = pd.concat((pd.read_csv(f, dtype=column_dtypes) for f in all_files), ignore_index=True)\n",
    "\n",
    "seasons = [11, 12]\n",
    "# seasons = [11, 12, 13, 14]\n",
    "# seasons = [13]\n",
    "# seasons = [14]\n",
    "df = df[df['season'].isin(seasons)]\n",
    "len(df)"
   ]
  },
  {
   "cell_type": "code",
   "execution_count": 50,
   "metadata": {},
   "outputs": [
    {
     "data": {
      "text/plain": [
       "25077     <NA>\n",
       "25078     <NA>\n",
       "27150     <NA>\n",
       "27154     <NA>\n",
       "28188     <NA>\n",
       "          ... \n",
       "260429    <NA>\n",
       "260432    <NA>\n",
       "264068    <NA>\n",
       "264072    <NA>\n",
       "265742    <NA>\n",
       "Name: batter_name, Length: 504, dtype: string"
      ]
     },
     "execution_count": 50,
     "metadata": {},
     "output_type": "execute_result"
    }
   ],
   "source": [
    "df.loc[df[\"batter_name\"].isna(),\"batter_name\"]"
   ]
  },
  {
   "cell_type": "code",
   "execution_count": 71,
   "metadata": {
    "tags": []
   },
   "outputs": [],
   "source": [
    "def get_pitcher_mul(row):\n",
    "    pm = str(row[\"pitcher_mods\"])\n",
    "    ptm = str(row[\"pitching_team_mods\"])\n",
    "    mul = 1\n",
    "    if \"OVERPERFORMING\" in pm:\n",
    "        mul += 0.2\n",
    "    if \"OVERPERFORMING\" in ptm:\n",
    "        mul += 0.2\n",
    "    if \"UNDERPERFORMING\" in pm:\n",
    "        mul -= 0.2\n",
    "    if \"UNDERPERFORMING\" in ptm:\n",
    "        mul -= 0.2\n",
    "    if \"TRAVELING\" in ptm:\n",
    "        # pass  # traveling just doesn't do anything on pitchers?\n",
    "        if not row[\"top_of_inning\"]:\n",
    "            mul += 0.05\n",
    "    if \"HIGH_PRESSURE\" in ptm:\n",
    "        if row[\"weather\"] == \"Weather.FLOODING\" and row[\"baserunner_count\"] > 0:\n",
    "            mul += 0.25\n",
    "    if \"GROWTH\" in ptm:\n",
    "        mul += min(0.05, 0.05 * (row[\"day\"] / 99))\n",
    "        # pass  # growth doesn't do anything on pitchers either\n",
    "    if \"SINKING_SHIP\" in ptm:\n",
    "        mul += (14 - row[\"pitching_team_roster_size\"]) * 0.01\n",
    "    if \"AFFINITY_FOR_CROWS\" in ptm and row[\"weather\"] == \"Weather.BIRDS\":\n",
    "        mul += 0.5\n",
    "    return mul\n",
    "\n",
    "\n",
    "def get_batter_mul(row):\n",
    "    # if row[[\"batter_name\"]].isna().any():\n",
    "        # row[\"batter_name\"] == \"NaaN\"\n",
    "    bm = str(row[\"batter_mods\"])\n",
    "    btm = str(row[\"batting_team_mods\"])\n",
    "    ptm = str(row[\"pitching_team_mods\"])\n",
    "    mul = 1\n",
    "    attrs = \"\"\n",
    "    if \"OVERPERFORMING\" in bm:\n",
    "        mul += 0.2\n",
    "    if \"OVERPERFORMING\" in btm:\n",
    "        mul += 0.2\n",
    "    if \"UNDERPERFORMING\" in bm:\n",
    "        mul -= 0.2\n",
    "    if \"UNDERPERFORMING\" in btm:\n",
    "        mul -= 0.2\n",
    "    if \"TRAVELING\" in btm:\n",
    "        if row[\"top_of_inning\"]:\n",
    "            # is this actually 0.035 instead of 0.05?\n",
    "            mul += 0.35\n",
    "    if \"GROWTH\" in btm:\n",
    "        # is this actually 0.035 instead of 0.05?\n",
    "        mul += min(0.05, 0.05 * (row[\"day\"] / 99))\n",
    "        # pass\n",
    "    if \"HIGH_PRESSURE\" in btm:\n",
    "        if row[\"weather\"] == \"Weather.FLOODING\" and row[\"baserunner_count\"] > 0:\n",
    "            mul += 0.25\n",
    "    if \"SINKING_SHIP\" in btm:\n",
    "        mul += (14 - row[\"batting_team_roster_size\"]) * 0.01\n",
    "    if \"AFFINITY_FOR_CROWS\" in btm and row[\"weather\"] == \"Weather.BIRDS\":\n",
    "        mul += 0.5\n",
    "    if \"CHUNKY\" in bm and row[\"weather\"] == \"Weather.PEANUTS\":\n",
    "        # todo: make this work if there's also, like, Overperforming active\n",
    "        # it only should apply to \"power\" attrs\n",
    "        mul += 1.0\n",
    "        attrs = \"batter_musclitude, batter_divinity, batter_ground_friction\"\n",
    "    if \"SMOOTH\" in bm and row[\"weather\"] == \"Weather.PEANUTS\":\n",
    "        # todo: make this work if there's also, like, Overperforming active\n",
    "        # it only should apply to \"speed\" attrs\n",
    "        # doing 80% because of evidence from the Spin Attack blessing that \"speed\"\n",
    "        # boosts laserlikeness 80% of what it says the total boost is?\n",
    "        mul += 0.80\n",
    "        attrs = \"batter_musclitude, batter_laserlikeness, batter_ground_friction, batter_continuation\"\n",
    "    if \"ON_FIRE\" in bm:\n",
    "        # todo: handle\n",
    "        # test \"+125% multiplier\"\n",
    "        mul += 1.25\n",
    "        # pass\n",
    "    # NVGs real??? eclipse weather, special case for Sutton Dreamy\n",
    "    # surely this will not break from scattering, right? (It totally will)\n",
    "    # if row[\"batter_name\"] == \"Sutton Dreamy\" and row[\"weather\"] == \"Weather.ECLIPSE\":\n",
    "        # NVGs allow the player to play 50% better in a solar eclipse.\n",
    "        # This might affect fielding and baserunning as well?\n",
    "        # mul += 0.50\n",
    "    return mul, attrs\n",
    "\n",
    "def get_fielder_mul(row):\n",
    "    fm = str(row[\"fielder_mods\"])\n",
    "    ptm = str(row[\"pitching_team_mods\"])\n",
    "    mul = 1\n",
    "    if \"OVERPERFORMING\" in fm:\n",
    "        mul += 0.2\n",
    "    if \"OVERPERFORMING\" in ptm:\n",
    "        mul += 0.2\n",
    "    if \"UNDERPERFORMING\" in fm:\n",
    "        mul -= 0.2\n",
    "    if \"UNDERPERFORMING\" in ptm:\n",
    "        mul -= 0.2\n",
    "    if \"TRAVELING\" in ptm:\n",
    "        # pass\n",
    "        if not row[\"top_of_inning\"]:\n",
    "            mul += 0.05\n",
    "    if \"HIGH_PRESSURE\" in ptm:\n",
    "        if row[\"weather\"] == 18 and str(row[\"baserunner_count\"]) > 0:\n",
    "            mul += 0.25\n",
    "    if \"GROWTH\" in ptm:\n",
    "        mul += min(0.05, 0.05 * (row[\"day\"] / 99))\n",
    "    if \"SINKING_SHIP\" in ptm:\n",
    "        mul += (14 - row[\"pitching_team_roster_size\"]) * 0.01\n",
    "    if \"AFFINITY_FOR_CROWS\" in ptm and row[\"weather\"] == \"Weather.BIRDS\":\n",
    "        mul += 0.5\n",
    "    if \"SHELLED\" in fm:\n",
    "        # is it this, or is it \"mul = 0\", I wonder\n",
    "        mul -= 1.0\n",
    "    # if row[\"fielder_name\"] == \"Sutton Dreamy\" and row[\"weather\"] == \"Weather.ECLIPSE\":\n",
    "        # NVGs allow the player to play 50% better in a solar eclipse.\n",
    "        # This might affect fielding and baserunning as well?\n",
    "        # mul += 0.50\n",
    "    return mul\n"
   ]
  },
  {
   "cell_type": "code",
   "execution_count": 72,
   "metadata": {},
   "outputs": [
    {
     "data": {
      "text/plain": [
       "event_type                 StealAttempt2\n",
       "roll                            0.567968\n",
       "passed                             False\n",
       "batter_buoyancy                 0.655365\n",
       "batter_divinity                 0.746182\n",
       "                               ...      \n",
       "fielder_roll                    0.335824\n",
       "batter_consecutive_hits                1\n",
       "batter_mul                           1.0\n",
       "batter_mul_attrs                        \n",
       "pitcher_mul                          1.0\n",
       "Name: 25077, Length: 150, dtype: object"
      ]
     },
     "execution_count": 72,
     "metadata": {},
     "output_type": "execute_result"
    }
   ],
   "source": [
    "pd.set_option(\"display.max_rows\", 60)  # default 60\n",
    "df.loc[25077]"
   ]
  },
  {
   "cell_type": "code",
   "execution_count": 73,
   "metadata": {
    "tags": []
   },
   "outputs": [],
   "source": [
    "# df[\"batter_mul\"] = df.apply(get_batter_mul, axis=1)\n",
    "df[[\"batter_mul\", \"batter_mul_attrs\"]] = df.apply(get_batter_mul, axis=1, result_type=\"expand\")\n",
    "df[\"pitcher_mul\"] = df.apply(get_pitcher_mul, axis=1)\n",
    "df[\"fielder_mul\"] = df.apply(get_fielder_mul, axis=1)"
   ]
  },
  {
   "cell_type": "code",
   "execution_count": 74,
   "metadata": {
    "collapsed": false,
    "jupyter": {
     "outputs_hidden": false
    },
    "pycharm": {
     "name": "#%%\n"
    }
   },
   "outputs": [],
   "source": [
    "# df[\"baserunner_n\"] = [int(np.floor(len(x) / 40)) for x in df.loc[:, \"baserunner_count\"]]\n",
    "\n",
    "df.loc[df[\"pitcher_mods\"].astype(str).str.contains(\"SCATTERED\"), \"pitcher_vibes\"] = 0\n",
    "df.loc[df[\"batter_mods\"].astype(str).str.contains(\"SCATTERED\"), \"batter_vibes\"] = 0\n",
    "df.loc[df[\"fielder_mods\"].astype(str).str.contains(\"SCATTERED\"), \"fielder_vibes\"] = 0"
   ]
  },
  {
   "cell_type": "code",
   "execution_count": 75,
   "metadata": {
    "collapsed": false,
    "jupyter": {
     "outputs_hidden": false
    },
    "pycharm": {
     "name": "#%%\n"
    }
   },
   "outputs": [],
   "source": [
    "for attr in [\n",
    "    \"batter_buoyancy\",\n",
    "    \"batter_divinity\",\n",
    "    \"batter_martyrdom\",\n",
    "    \"batter_moxie\",\n",
    "    \"batter_musclitude\",\n",
    "    \"batter_thwackability\",\n",
    "    \"batter_coldness\",\n",
    "    \"batter_overpowerment\",\n",
    "    \"batter_ruthlessness\",\n",
    "    \"batter_shakespearianism\",\n",
    "    \"batter_suppression\",\n",
    "    \"batter_unthwackability\",\n",
    "    \"batter_base_thirst\",\n",
    "    \"batter_continuation\",\n",
    "    \"batter_ground_friction\",\n",
    "    \"batter_indulgence\",\n",
    "    \"batter_laserlikeness\",\n",
    "    \"batter_anticapitalism\",\n",
    "    \"batter_chasiness\",\n",
    "    \"batter_omniscience\",\n",
    "    \"batter_tenaciousness\",\n",
    "    \"batter_watchfulness\",\n",
    "    \"batter_pressurization\",\n",
    "    \"batter_cinnamon\",\n",
    "]:\n",
    "    # had to do all this to make chunky and smooth work correctly\n",
    "    df[attr+\"_mul_vibe\"] = df.apply(lambda x: x[attr] * x[\"batter_mul\"] * (1 + 0.2 * x[\"batter_vibes\"])\n",
    "                                  if (x[\"batter_mul_attrs\"] == \"\") or (attr in x[\"batter_mul_attrs\"])\n",
    "                                  else x[attr] * (1 + 0.2 * x[\"batter_vibes\"]),\n",
    "                                  axis=1)\n",
    "for attr in [\n",
    "    \"batter_patheticism\",\n",
    "    \"batter_tragicness\",\n",
    "]:\n",
    "    # had to do all this to make chunky and smooth work correctly\n",
    "    df[attr+\"_mul_vibe\"] = df.apply(lambda x: x[attr] / x[\"batter_mul\"] * (1 + 0.2 * x[\"batter_vibes\"])\n",
    "                                  if (x[\"batter_mul_attrs\"] == \"\") or (attr in x[\"batter_mul_attrs\"])\n",
    "                                  else x[attr] * (1 + 0.2 * x[\"batter_vibes\"]),\n",
    "                                  axis=1)\n",
    "    # df[attr + \"_mul_vibe\"] = df[attr] * df[\"batter_mul\"] * (1 + 0.2 * df[\"batter_vibes\"])"
   ]
  },
  {
   "cell_type": "code",
   "execution_count": 76,
   "metadata": {
    "collapsed": false,
    "jupyter": {
     "outputs_hidden": false
    },
    "pycharm": {
     "name": "#%%\n"
    }
   },
   "outputs": [],
   "source": [
    "df = df.copy()\n",
    "for attr in [\n",
    "    \"pitcher_buoyancy\",\n",
    "    \"pitcher_divinity\",\n",
    "    \"pitcher_martyrdom\",\n",
    "    \"pitcher_moxie\",\n",
    "    \"pitcher_musclitude\",\n",
    "    \"pitcher_patheticism\",\n",
    "    \"pitcher_thwackability\",\n",
    "    \"pitcher_tragicness\",\n",
    "    \"pitcher_ruthlessness\",\n",
    "    \"pitcher_overpowerment\",\n",
    "    \"pitcher_unthwackability\",\n",
    "    \"pitcher_shakespearianism\",\n",
    "    \"pitcher_suppression\",\n",
    "    \"pitcher_coldness\",\n",
    "    \"pitcher_base_thirst\",\n",
    "    \"pitcher_continuation\",\n",
    "    \"pitcher_ground_friction\",\n",
    "    \"pitcher_indulgence\",\n",
    "    \"pitcher_laserlikeness\",\n",
    "    \"pitcher_anticapitalism\",\n",
    "    \"pitcher_chasiness\",\n",
    "    \"pitcher_omniscience\",\n",
    "    \"pitcher_tenaciousness\",\n",
    "    \"pitcher_watchfulness\",\n",
    "    \"pitcher_pressurization\",\n",
    "    \"pitcher_cinnamon\",\n",
    "]:\n",
    "    # df[attr+\"_mul_vibe\"] = df.apply(lambda x: x[attr] * x[\"pitcher_mul\"] * (1 + 0.2 * df[\"pitcher_vibes\"])\n",
    "    #                           if (x[\"pitcher_mul_attrs\"] == \"\") or (attr in x[\"pitcher_mul_attrs\"])\n",
    "    #                           else x[attr] * (1 + 0.2 * df[\"pitcher_vibes\"]),\n",
    "    #                           axis=1)\n",
    "    df[attr + \"_mul_vibe\"] = df[attr] * df[\"pitcher_mul\"] * (1 + 0.2 * df[\"pitcher_vibes\"])"
   ]
  },
  {
   "cell_type": "code",
   "execution_count": 707,
   "metadata": {
    "collapsed": false,
    "jupyter": {
     "outputs_hidden": false
    },
    "pycharm": {
     "name": "#%%\n"
    }
   },
   "outputs": [],
   "source": [
    "if \"fielder_vibes\" in df:\n",
    "    for attr in [\n",
    "        \"fielder_anticapitalism\",\n",
    "        \"fielder_chasiness\",\n",
    "        \"fielder_omniscience\",\n",
    "        \"fielder_tenaciousness\",\n",
    "        \"fielder_watchfulness\",\n",
    "    ]:\n",
    "        # df[attr+\"_mul_vibe\"] = df.apply(lambda x: x[attr] * x[\"fielder_mul\"] * (1 + 0.2 * df[\"fielder_vibes\"])\n",
    "        #                       if (x[\"fielder_mul_attrs\"] == \"\") or (attr in x[\"fielder_mul_attrs\"])\n",
    "        #                       else x[attr] * (1 + 0.2 * df[\"fielder_vibes\"]),\n",
    "        #                       axis=1)\n",
    "        df[attr + \"_mul_vibe\"] = df[attr] * df[\"fielder_mul\"] * (1 + 0.2 * df[\"fielder_vibes\"])\n",
    "\n",
    "df = df.copy()"
   ]
  },
  {
   "cell_type": "code",
   "execution_count": 708,
   "metadata": {},
   "outputs": [
    {
     "data": {
      "text/plain": [
       "event_type\n",
       "StealAttempt0    81029\n",
       "StealAttempt1    40366\n",
       "StealAttempt2    38564\n",
       "dtype: int64"
      ]
     },
     "execution_count": 708,
     "metadata": {},
     "output_type": "execute_result"
    }
   ],
   "source": [
    "df.groupby(\"event_type\").size().sort_values(ascending=False)[0:15]"
   ]
  },
  {
   "cell_type": "code",
   "execution_count": 1601,
   "metadata": {
    "collapsed": false,
    "jupyter": {
     "outputs_hidden": false
    },
    "pycharm": {
     "name": "#%%\n"
    }
   },
   "outputs": [
    {
     "data": {
      "text/plain": [
       "9.363319477201092e-07"
      ]
     },
     "execution_count": 1601,
     "metadata": {},
     "output_type": "execute_result"
    }
   ],
   "source": [
    "dfc = df[df[\"event_type\"] == \"StealAttempt0\"].copy()\n",
    "# for exclude_mod in [\"OVERPERFORMING\", \"UNDERPERFORMING\", \"HIGH_PRESSURE\",\n",
    "#                     \"GROWTH\", \"SINKING_SHIP\", \"TRAVELING\"]:\n",
    "# for exclude_mod in [\"FLINCH\", \"O_NO\", \"ON_FIRE\", \"GROWTH\", \"TRAVELING\"]:\n",
    "# for exclude_mod in [\"SPICY\", \"ON_FIRE\"]:\n",
    "# dfc = dfc[~dfc[\"batter_mods\"].astype(str).str.contains(exclude_mod)]\n",
    "#  dfc = dfc[~dfc[\"pitcher_mods\"].astype(str).str.contains(exclude_mod)]\n",
    "#  dfc = dfc[~dfc[\"pitching_team_mods\"].astype(str).str.contains(exclude_mod)]\n",
    "#  dfc = dfc[~dfc[\"batting_team_mods\"].astype(str).str.contains(exclude_mod)]\n",
    "\n",
    "# dfc[\"laser_thirst\"] = dfc[\"batter_laserlikeness_mul_vibe\"] * dfc[\"batter_base_thirst_mul_vibe\"]\n",
    "dfc[\"laser_thirst\"] = dfc[\"batter_laserlikeness_mul_vibe\"] * dfc[\"batter_base_thirst\"]\n",
    "# dfc[\"laser_thirst\"] = dfc[\"batter_laserlikeness\"] * dfc[\"batter_base_thirst\"]\n",
    "\n",
    "\n",
    "dfc = dfc[(dfc[\"pitcher_mul\"] == 1) & (dfc[\"batter_mul\"] == 1) & (dfc[\"fielder_mul\"] == 1)].copy()\n",
    "\n",
    "dfc = dfc[dfc[\"stadium_id\"].isna()].copy()\n",
    "\n",
    "dfc = dfc[dfc[\"roll\"] > 0.001].copy()\n",
    "\n",
    "dfc[\"roll_log\"] = np.log(dfc[\"roll\"])\n",
    "dfc[\"lt_log\"] = np.log(dfc[\"laser_thirst\"])\n",
    "dfc[\"laser_log\"] = np.log(dfc[\"batter_laserlikeness\"])\n",
    "dfc[\"thirst_log\"] = np.log(dfc[\"batter_base_thirst\"])\n",
    "\n",
    "dfc[\"watch\"] = (\n",
    "    # 3 * dfc[\"pitcher_watchfulness_mul_vibe\"]\n",
    "    # + 1 * dfc[\"fielder_watchfulness_mul_vibe\"]\n",
    "    3 * dfc[\"pitcher_watchfulness\"]\n",
    "    + 1 * dfc[\"fielder_watchfulness\"]\n",
    ") / 1\n",
    "dfc[\"watch_log\"] = np.log(dfc[\"watch\"])\n",
    "dfc[\"watch_pow\"] = dfc[\"watch\"]**1.5\n",
    "dfc[\"lt_pow\"] = dfc[\"laser_thirst\"]**1.5\n",
    "\n",
    "# dfc = dfc[dfc[\"laser_thirst\"] > 1e-3].copy()\n",
    "len(dfc)\n",
    "dfc[\"laser_thirst\"].min()\n",
    "# dfc.groupby(\"ballpark_inconvenience\").size()"
   ]
  },
  {
   "cell_type": "code",
   "execution_count": 1602,
   "metadata": {},
   "outputs": [
    {
     "name": "stderr",
     "output_type": "stream",
     "text": [
      "/Users/robbyblum/opt/anaconda3/lib/python3.9/site-packages/pandas/core/arraylike.py:397: RuntimeWarning: invalid value encountered in log\n",
      "  result = getattr(ufunc, method)(*inputs, **kwargs)\n"
     ]
    }
   ],
   "source": [
    "### Iterating a fit...\n",
    "# fitting to laser_thirst and watch\n",
    "# [0.03823398]\n",
    "# (0.12963858063456313, 'laser_thirst')\n",
    "# (-0.08346479052027601, 'watch')\n",
    "dfc[\"combined\"] = 0.12*dfc[\"laser_thirst\"] - 0.02*dfc[\"watch\"]\n",
    "# dfc[\"combined_log\"] = np.log(dfc[\"combined\"])\n",
    "# dfc = dfc[~dfc[\"combined_log\"].isna()].copy()\n",
    "# fitting roll_log to combined_log gives me this:\n",
    "# [-1.20011315]\n",
    "# (0.41525631384982287, 'combined_log')\n",
    "# and it doesn't seem that great? idk...but...\n",
    "dfc[\"combined_pow\"] = dfc[\"combined\"]**0.4\n",
    "# fit is bad, it's definitely the wrong power.\n",
    "\n",
    "# fitting roll_log to laser_log and thirst_log gives me:\n",
    "# intercept: -2.467090405417344\n",
    "# (1.2288955585926205, 'laser_log')\n",
    "# (0.7401914421496469, 'thirst_log')\n",
    "# there's a definite dependence on watch that isn't in here yet, but...\n",
    "# what if i redefine laser_thirst...\n",
    "dfc[\"laser_thirst_2\"] = (\n",
    "    dfc[\"batter_laserlikeness\"]**1.5\n",
    "    * dfc[\"batter_base_thirst\"]**1\n",
    "    * (1 + 0.2 * dfc[\"batter_vibes\"])\n",
    ")\n",
    "\n",
    "dfc[\"laser_thirst_3\"] = (\n",
    "    dfc[\"batter_laserlikeness\"]**1.5\n",
    "    * dfc[\"batter_base_thirst\"]**1.0\n",
    "    * (1 + 0.2 * dfc[\"batter_vibes\"])**1.0\n",
    ")\n",
    "dfc[\"lt3_log\"] = np.log(dfc[\"laser_thirst_3\"])\n",
    "\n",
    "# lt_2 gives me a better fit...\n",
    "# intercept: 0.038309967864791565\n",
    "# (0.1315398571140168, 'laser_thirst_2')\n",
    "# (-0.021317857978842874, 'watch')\n",
    "# where watch is a 3:1 ratio of pitcher to fielder watchfulness\n",
    "# so if i add the watch factor to roll, and do another log...\n",
    "dfc[\"roll_adj\"] = dfc[\"roll\"] + 0.02 * dfc[\"watch\"] - 0.05\n",
    "dfc[\"roll_adj_log\"] = np.log(dfc[\"roll_adj\"])\n",
    "dfc[\"vibe_log\"] = np.log((1 + 0.2 * dfc[\"batter_vibes\"]))\n",
    "\n",
    "dfc[\"combined\"] = 0.12*dfc[\"laser_thirst_2\"] - 0.02*dfc[\"watch\"]\n",
    "\n",
    "# idea from astrid: (laser + thirst)**power\n",
    "dfc[\"l_plus_t\"] = (dfc[\"batter_laserlikeness_mul_vibe\"] + dfc[\"batter_base_thirst_mul_vibe\"])\n",
    "dfc[\"l_plus_t_log\"] = np.log(dfc[\"l_plus_t\"])"
   ]
  },
  {
   "cell_type": "code",
   "execution_count": 1603,
   "metadata": {},
   "outputs": [
    {
     "data": {
      "text/plain": [
       "<matplotlib.legend.Legend at 0x7fdd92064520>"
      ]
     },
     "execution_count": 1603,
     "metadata": {},
     "output_type": "execute_result"
    },
    {
     "data": {
      "image/png": "[encoded data removed]",
      "text/plain": [
       "<Figure size 432x432 with 1 Axes>"
      ]
     },
     "metadata": {
      "needs_background": "light"
     },
     "output_type": "display_data"
    }
   ],
   "source": [
    "y_val = \"roll\"\n",
    "x_val = \"laser_thirst_2\"\n",
    "# x_val = \"combined\"\n",
    "fig, ax = plt.subplots(1, figsize=(6, 6))\n",
    "ax.scatter(\n",
    "    dfc[~dfc[\"passed\"]][x_val],\n",
    "    dfc[~dfc[\"passed\"]][y_val],\n",
    "    color=\"red\",\n",
    "    label=\"No Steal\",\n",
    "    marker=CARETRIGHTBASE,\n",
    ")\n",
    "ax.scatter(\n",
    "    dfc[dfc[\"passed\"]][x_val],\n",
    "    dfc[dfc[\"passed\"]][y_val],\n",
    "    color=\"blue\",\n",
    "    label=\"Steal\",\n",
    "    marker=CARETLEFTBASE,\n",
    ")\n",
    "ax.set_xlabel(x_val)\n",
    "ax.set_ylabel(\"roll\")\n",
    "ax.set_title(f\"Season N Steal Attempts\")\n",
    "# ax.set_xlim(0.484, 0.499)\n",
    "# ax.set_ylim(-0.2, 0.2)\n",
    "\n",
    "# if x_val == \"threshold\":\n",
    "# ax.plot(ax.get_xlim(), 1.5*np.array(ax.get_xlim()))\n",
    "\n",
    "ax.legend()"
   ]
  },
  {
   "cell_type": "code",
   "execution_count": 1604,
   "metadata": {
    "collapsed": false,
    "jupyter": {
     "outputs_hidden": false
    },
    "pycharm": {
     "name": "#%%\n"
    }
   },
   "outputs": [
    {
     "name": "stdout",
     "output_type": "stream",
     "text": [
      "[[51000   129]\n",
      " [   98  1579]]\n",
      "227 outliers\n",
      "0.9957012460705222\n",
      "intercept: -2.120263536200091\n",
      "(1.5077552772995761, 'laser_log')\n",
      "(1.1440382410722898, 'thirst_log')\n",
      "(1.6082663437167255, 'vibe_log')\n"
     ]
    }
   ],
   "source": [
    "X = dfc[\n",
    "    [\n",
    "        \"passed\",\n",
    "        # \"roll\",\n",
    "        # \"roll_corr\",\n",
    "        # \"roll_log\",\n",
    "        # \"roll_corr_log\",\n",
    "        # \"roll_adj\",\n",
    "        \"roll_adj_log\",\n",
    "        # \"combined\",\n",
    "        # \"combined_log\",\n",
    "        # \"combined_pow\",\n",
    "        # \"laser_thirst\",\n",
    "        # \"laser_thirst_2\",\n",
    "        # \"laser_thirst_3\",\n",
    "        # \"lt3_log\",\n",
    "        \"laser_log\",\n",
    "        \"thirst_log\",\n",
    "        # \"l_plus_t\",\n",
    "        # \"batter_laserlikeness_mul_vibe\",\n",
    "        # \"batter_base_thirst_mul_vibe\",\n",
    "        # \"l_plus_t_log\",\n",
    "        # \"lt_log\",\n",
    "        # \"lt_pow\",\n",
    "        # \"watch\",\n",
    "        # \"pitcher_watchfulness\",\n",
    "        # \"fielder_watchfulness\",\n",
    "        # \"pitcher_anticapitalism\",\n",
    "        # \"fielder_anticapitalism\",\n",
    "        # \"watch_log\",\n",
    "        # \"watch_pow\",\n",
    "        # \"ballpark_inconvenience\",\n",
    "        # 'ballpark_elongation',\n",
    "        # \"batter_vibes\",\n",
    "        \"vibe_log\",\n",
    "    ]\n",
    "]\n",
    "# X = X[X['roll'] < 0.85]\n",
    "X = X[~X[\"roll_adj_log\"].isna()]\n",
    "y = X[\"passed\"]\n",
    "y=y.astype('int')\n",
    "X = X.drop(\"passed\", axis=1)\n",
    "\n",
    "from sklearn.preprocessing import StandardScaler\n",
    "from sklearn.metrics import confusion_matrix\n",
    "from sklearn.metrics import classification_report\n",
    "from sklearn import svm, linear_model\n",
    "\n",
    "# # trainedsvm = svm.SVC(kernel='linear').fit(X, y)\n",
    "# trainedsvm = svm.LinearSVC(dual=False, max_iter=100000).fit(X, y)\n",
    "# predictionsvm = trainedsvm.predict(X)\n",
    "# print(confusion_matrix(y,predictionsvm))\n",
    "# print(classification_report(y,predictionsvm))\n",
    "\n",
    "pin_intercept = np.log(0.12)\n",
    "# pin_intercept = None\n",
    "pins = [\n",
    "    # (1.5, \"laser_log\"),\n",
    "    # (1.1, \"thirst_log\"),\n",
    "    # (0.12, \"laser_thirst_2\"),\n",
    "    # (-0.02, \"watch\"),\n",
    "]\n",
    "for val, var in pins:\n",
    "    X[\"roll_adj_log\"] -= X[var] * val\n",
    "    X = X.drop(var, axis=1)\n",
    "\n",
    "sc = StandardScaler(with_mean=False)\n",
    "X2 = sc.fit_transform(X)\n",
    "if pin_intercept is not None:\n",
    "    X2[:,0] -= pin_intercept / sc.scale_[0]\n",
    "\n",
    "trainedsvm = svm.LinearSVC(dual=False, max_iter=100000, C=100000000, tol=1e-12,\n",
    "                           fit_intercept=pin_intercept is None).fit(X2, y)\n",
    "predictionsvm = trainedsvm.predict(X2)\n",
    "# print(len(dfc[~dfc[\"passed\"]]))\n",
    "# print(len(dfc[dfc[\"passed\"]]))\n",
    "print(confusion_matrix(y, predictionsvm))\n",
    "print(confusion_matrix(y, predictionsvm)[0,1] + confusion_matrix(y, predictionsvm)[1,0], \"outliers\")\n",
    "print(trainedsvm.score(X2, y))\n",
    "\n",
    "coef = np.true_divide(trainedsvm.coef_, sc.scale_)\n",
    "coef_scaled = coef / coef[0, 0]\n",
    "coef_list = coef_scaled.tolist()[0]\n",
    "\n",
    "intercept = trainedsvm.intercept_# - np.dot(coef, sc.mean_)\n",
    "intercept_scaled = -(intercept / coef[0, 0])[0] if pin_intercept is None else pin_intercept\n",
    "\n",
    "dfc[\"threshold\"] = intercept_scaled\n",
    "print(\"intercept:\", intercept_scaled)\n",
    "for pair in pins + list(zip(-np.array(coef_list), X.columns)):\n",
    "    if \"roll\" not in pair[1]:\n",
    "        print(pair)\n",
    "        dfc[\"threshold\"] += pair[0] * dfc[pair[1]]"
   ]
  },
  {
   "cell_type": "code",
   "execution_count": 1594,
   "metadata": {},
   "outputs": [
    {
     "data": {
      "text/plain": [
       "<matplotlib.legend.Legend at 0x7fde81a5b070>"
      ]
     },
     "execution_count": 1594,
     "metadata": {},
     "output_type": "execute_result"
    },
    {
     "data": {
      "image/png": "[encoded data removed]",
      "text/plain": [
       "<Figure size 432x432 with 1 Axes>"
      ]
     },
     "metadata": {
      "needs_background": "light"
     },
     "output_type": "display_data"
    }
   ],
   "source": [
    "# dfc[\"threshold\"] = intercept_scaled[0]\n",
    "# print(\"intercept:\", intercept_scaled)\n",
    "# for pair in pins + list(zip(-np.array(coef_list), X.columns)):\n",
    "#     if \"roll\" not in pair[1]:\n",
    "#         print(pair)\n",
    "#         dfc[\"threshold\"] += pair[0] * dfc[pair[1]]\n",
    "        \n",
    "y_val = \"roll_adj_log\"\n",
    "x_val = \"threshold\"\n",
    "# x_val = \"watch\"\n",
    "fig, ax = plt.subplots(1, figsize=(6, 6))\n",
    "ax.scatter(\n",
    "    dfc[~dfc[\"passed\"]][x_val],\n",
    "    dfc[~dfc[\"passed\"]][y_val],\n",
    "    color=\"red\",\n",
    "    label=\"No Steal\",\n",
    "    marker=CARETRIGHTBASE,\n",
    ")\n",
    "ax.scatter(\n",
    "    dfc[dfc[\"passed\"]][x_val],\n",
    "    dfc[dfc[\"passed\"]][y_val],\n",
    "    color=\"blue\",\n",
    "    label=\"Steal\",\n",
    "    marker=CARETLEFTBASE,\n",
    ")\n",
    "ax.set_xlabel(x_val)\n",
    "ax.set_ylabel(\"roll\")\n",
    "ax.set_title(f\"Season N Steal Attempts\")\n",
    "# ax.set_xlim(0.484, 0.499)\n",
    "# ax.set_ylim(-0.01, 0.01)\n",
    "# ax.set_xlim(-0.1, 0.1)\n",
    "# ax.set_yscale(\"log\")\n",
    "# ax.set_xscale(\"log\")\n",
    "# if x_val == \"threshold\":\n",
    "    # ax.plot(ax.get_ylim(), ax.get_ylim())\n",
    "\n",
    "ax.legend()"
   ]
  },
  {
   "cell_type": "code",
   "execution_count": 1588,
   "metadata": {
    "tags": []
   },
   "outputs": [
    {
     "data": {
      "text/plain": [
       "<matplotlib.legend.Legend at 0x7fde81a9c8b0>"
      ]
     },
     "execution_count": 1588,
     "metadata": {},
     "output_type": "execute_result"
    },
    {
     "data": {
      "image/png": "[encoded data removed]",
      "text/plain": [
       "<Figure size 432x288 with 1 Axes>"
      ]
     },
     "metadata": {
      "needs_background": "light"
     },
     "output_type": "display_data"
    }
   ],
   "source": [
    "dfc[\"offset\"] = dfc[\"roll_adj_log\"] - dfc[\"threshold\"]\n",
    "outliers = dfc[(dfc[\"passed\"] & (dfc[\"offset\"] >= 0)) | (~dfc[\"passed\"] & (dfc[\"offset\"] <= 0))]\n",
    "\n",
    "fig, ax = plt.subplots(1)\n",
    "x_val = \"threshold\"\n",
    "# x_val = \"batter_base_thirst\"\n",
    "# x_val = \"batter_laserlikeness\"\n",
    "x_val = \"vibe_log\"\n",
    "ax.scatter(\n",
    "    outliers[~outliers[\"passed\"]][x_val],\n",
    "    outliers[~outliers[\"passed\"]][\"offset\"],\n",
    "    color=\"red\",\n",
    "    label=\"No Steal\",\n",
    ")\n",
    "ax.scatter(\n",
    "    outliers[outliers[\"passed\"]][x_val],\n",
    "    outliers[outliers[\"passed\"]][\"offset\"],\n",
    "    color=\"blue\",\n",
    "    label=\"Steal\",\n",
    ")\n",
    "ax.set_xlabel(x_val)\n",
    "ax.set_ylabel(\"offset\")\n",
    "ax.legend()\n",
    "# ax.set_ylim(0,2)"
   ]
  },
  {
   "cell_type": "code",
   "execution_count": 1435,
   "metadata": {},
   "outputs": [
    {
     "name": "stdout",
     "output_type": "stream",
     "text": [
      "2042\n"
     ]
    },
    {
     "data": {
      "text/html": [
       "<div>\n",
       "<style scoped>\n",
       "    .dataframe tbody tr th:only-of-type {\n",
       "        vertical-align: middle;\n",
       "    }\n",
       "\n",
       "    .dataframe tbody tr th {\n",
       "        vertical-align: top;\n",
       "    }\n",
       "\n",
       "    .dataframe thead th {\n",
       "        text-align: right;\n",
       "    }\n",
       "</style>\n",
       "<table border=\"1\" class=\"dataframe\">\n",
       "  <thead>\n",
       "    <tr style=\"text-align: right;\">\n",
       "      <th></th>\n",
       "      <th>passed</th>\n",
       "      <th>offset</th>\n",
       "      <th>roll</th>\n",
       "      <th>threshold</th>\n",
       "      <th>pitcher_mul</th>\n",
       "      <th>batter_mul</th>\n",
       "      <th>fielder_mul</th>\n",
       "      <th>laser_thirst</th>\n",
       "      <th>pitcher_watchfulness_mul_vibe</th>\n",
       "      <th>fielder_watchfulness_mul_vibe</th>\n",
       "      <th>...</th>\n",
       "      <th>fielder_name</th>\n",
       "      <th>batter_mods</th>\n",
       "      <th>pitcher_mods</th>\n",
       "      <th>fielder_mods</th>\n",
       "      <th>batting_team_mods</th>\n",
       "      <th>pitching_team_mods</th>\n",
       "      <th>season</th>\n",
       "      <th>day</th>\n",
       "      <th>game_id</th>\n",
       "      <th>play_count</th>\n",
       "    </tr>\n",
       "  </thead>\n",
       "  <tbody>\n",
       "    <tr>\n",
       "      <th>217617</th>\n",
       "      <td>True</td>\n",
       "      <td>2.072102</td>\n",
       "      <td>0.018796</td>\n",
       "      <td>-2.053306</td>\n",
       "      <td>1.0</td>\n",
       "      <td>1.0</td>\n",
       "      <td>1.0</td>\n",
       "      <td>0.008592</td>\n",
       "      <td>0.231868</td>\n",
       "      <td>0.329156</td>\n",
       "      <td>...</td>\n",
       "      <td>Helga Burton</td>\n",
       "      <td>&lt;NA&gt;</td>\n",
       "      <td>&lt;NA&gt;</td>\n",
       "      <td>&lt;NA&gt;</td>\n",
       "      <td>O_NO</td>\n",
       "      <td>LOVE;EXTRA_STRIKE;BASE_DEALING</td>\n",
       "      <td>12</td>\n",
       "      <td>34</td>\n",
       "      <td>4ecd3a7d-d831-4a68-9569-c87b4f5222a2</td>\n",
       "      <td>419</td>\n",
       "    </tr>\n",
       "    <tr>\n",
       "      <th>81560</th>\n",
       "      <td>True</td>\n",
       "      <td>2.065933</td>\n",
       "      <td>0.025814</td>\n",
       "      <td>-2.040119</td>\n",
       "      <td>1.0</td>\n",
       "      <td>1.0</td>\n",
       "      <td>1.0</td>\n",
       "      <td>0.007122</td>\n",
       "      <td>0.134625</td>\n",
       "      <td>0.027384</td>\n",
       "      <td>...</td>\n",
       "      <td>Sutton Dreamy</td>\n",
       "      <td>&lt;NA&gt;</td>\n",
       "      <td>WILD;FRIEND_OF_CROWS;FLIICKERRRIIING;SQUIDDISH</td>\n",
       "      <td>FLINCH</td>\n",
       "      <td>O_NO</td>\n",
       "      <td>&lt;NA&gt;</td>\n",
       "      <td>12</td>\n",
       "      <td>17</td>\n",
       "      <td>97fe7217-d383-454f-b83f-adbf99923114</td>\n",
       "      <td>12</td>\n",
       "    </tr>\n",
       "    <tr>\n",
       "      <th>124049</th>\n",
       "      <td>True</td>\n",
       "      <td>2.038651</td>\n",
       "      <td>0.024227</td>\n",
       "      <td>-2.014424</td>\n",
       "      <td>1.0</td>\n",
       "      <td>1.0</td>\n",
       "      <td>1.0</td>\n",
       "      <td>0.008054</td>\n",
       "      <td>0.086412</td>\n",
       "      <td>0.000897</td>\n",
       "      <td>...</td>\n",
       "      <td>&lt;NA&gt;</td>\n",
       "      <td>&lt;NA&gt;</td>\n",
       "      <td>&lt;NA&gt;</td>\n",
       "      <td>FLICKERING;RECEIVER</td>\n",
       "      <td>O_NO</td>\n",
       "      <td>BIRD_SEED</td>\n",
       "      <td>12</td>\n",
       "      <td>57</td>\n",
       "      <td>0b6ff98f-c9b1-4d1f-bedf-1a050a097213</td>\n",
       "      <td>106</td>\n",
       "    </tr>\n",
       "    <tr>\n",
       "      <th>162456</th>\n",
       "      <td>True</td>\n",
       "      <td>2.028203</td>\n",
       "      <td>0.003855</td>\n",
       "      <td>-2.024348</td>\n",
       "      <td>1.0</td>\n",
       "      <td>1.0</td>\n",
       "      <td>1.0</td>\n",
       "      <td>0.021297</td>\n",
       "      <td>0.714353</td>\n",
       "      <td>0.066478</td>\n",
       "      <td>...</td>\n",
       "      <td>Raúl Leal</td>\n",
       "      <td>&lt;NA&gt;</td>\n",
       "      <td>&lt;NA&gt;</td>\n",
       "      <td>&lt;NA&gt;</td>\n",
       "      <td>FIREPROOF;SEALANT</td>\n",
       "      <td>LIFE_OF_PARTY;ELECTRIC</td>\n",
       "      <td>11</td>\n",
       "      <td>71</td>\n",
       "      <td>d3c55c79-04be-4a2e-9096-c2c9c9364c65</td>\n",
       "      <td>141</td>\n",
       "    </tr>\n",
       "    <tr>\n",
       "      <th>72650</th>\n",
       "      <td>True</td>\n",
       "      <td>2.007898</td>\n",
       "      <td>0.009472</td>\n",
       "      <td>-1.998426</td>\n",
       "      <td>1.0</td>\n",
       "      <td>1.0</td>\n",
       "      <td>1.0</td>\n",
       "      <td>0.021811</td>\n",
       "      <td>0.358920</td>\n",
       "      <td>0.453083</td>\n",
       "      <td>...</td>\n",
       "      <td>Freemium Seraph</td>\n",
       "      <td>&lt;NA&gt;</td>\n",
       "      <td>&lt;NA&gt;</td>\n",
       "      <td>&lt;NA&gt;</td>\n",
       "      <td>FIREPROOF;SEALANT;AMBUSH</td>\n",
       "      <td>&lt;NA&gt;</td>\n",
       "      <td>12</td>\n",
       "      <td>26</td>\n",
       "      <td>ce349cb3-8b16-474a-9827-4d532810e33a</td>\n",
       "      <td>107</td>\n",
       "    </tr>\n",
       "    <tr>\n",
       "      <th>...</th>\n",
       "      <td>...</td>\n",
       "      <td>...</td>\n",
       "      <td>...</td>\n",
       "      <td>...</td>\n",
       "      <td>...</td>\n",
       "      <td>...</td>\n",
       "      <td>...</td>\n",
       "      <td>...</td>\n",
       "      <td>...</td>\n",
       "      <td>...</td>\n",
       "      <td>...</td>\n",
       "      <td>...</td>\n",
       "      <td>...</td>\n",
       "      <td>...</td>\n",
       "      <td>...</td>\n",
       "      <td>...</td>\n",
       "      <td>...</td>\n",
       "      <td>...</td>\n",
       "      <td>...</td>\n",
       "      <td>...</td>\n",
       "      <td>...</td>\n",
       "    </tr>\n",
       "    <tr>\n",
       "      <th>214523</th>\n",
       "      <td>True</td>\n",
       "      <td>0.071579</td>\n",
       "      <td>0.204958</td>\n",
       "      <td>0.133379</td>\n",
       "      <td>1.0</td>\n",
       "      <td>1.0</td>\n",
       "      <td>1.0</td>\n",
       "      <td>2.611587</td>\n",
       "      <td>0.466471</td>\n",
       "      <td>0.263007</td>\n",
       "      <td>...</td>\n",
       "      <td>Nandy Fantastic</td>\n",
       "      <td>&lt;NA&gt;</td>\n",
       "      <td>&lt;NA&gt;</td>\n",
       "      <td>FIRST_BORN</td>\n",
       "      <td>&lt;NA&gt;</td>\n",
       "      <td>BIRD_SEED</td>\n",
       "      <td>12</td>\n",
       "      <td>32</td>\n",
       "      <td>996e5d19-a3f6-410d-8f1e-8c405b7cc7e6</td>\n",
       "      <td>198</td>\n",
       "    </tr>\n",
       "    <tr>\n",
       "      <th>232300</th>\n",
       "      <td>True</td>\n",
       "      <td>0.069840</td>\n",
       "      <td>0.122065</td>\n",
       "      <td>0.052225</td>\n",
       "      <td>1.0</td>\n",
       "      <td>1.0</td>\n",
       "      <td>1.0</td>\n",
       "      <td>2.270886</td>\n",
       "      <td>0.457569</td>\n",
       "      <td>0.035924</td>\n",
       "      <td>...</td>\n",
       "      <td>Alx Keming</td>\n",
       "      <td>FLINCH</td>\n",
       "      <td>WILD;PERK</td>\n",
       "      <td>&lt;NA&gt;</td>\n",
       "      <td>CARCINIZATION;EXTRA_STRIKE</td>\n",
       "      <td>TRAVELING;EXTRA_STRIKE</td>\n",
       "      <td>12</td>\n",
       "      <td>48</td>\n",
       "      <td>ff465b3d-cb6b-4ef6-9658-83ca6688c7f2</td>\n",
       "      <td>85</td>\n",
       "    </tr>\n",
       "    <tr>\n",
       "      <th>83240</th>\n",
       "      <td>True</td>\n",
       "      <td>0.064240</td>\n",
       "      <td>0.042167</td>\n",
       "      <td>-0.022073</td>\n",
       "      <td>1.0</td>\n",
       "      <td>1.0</td>\n",
       "      <td>1.0</td>\n",
       "      <td>2.226372</td>\n",
       "      <td>0.437145</td>\n",
       "      <td>0.264727</td>\n",
       "      <td>...</td>\n",
       "      <td>Nandy Fantastic</td>\n",
       "      <td>FLINCH</td>\n",
       "      <td>&lt;NA&gt;</td>\n",
       "      <td>FIRST_BORN</td>\n",
       "      <td>CARCINIZATION;EXTRA_STRIKE</td>\n",
       "      <td>BIRD_SEED</td>\n",
       "      <td>12</td>\n",
       "      <td>18</td>\n",
       "      <td>7809d346-0934-47cd-a75e-ef589a12ec6c</td>\n",
       "      <td>282</td>\n",
       "    </tr>\n",
       "    <tr>\n",
       "      <th>217883</th>\n",
       "      <td>True</td>\n",
       "      <td>0.040718</td>\n",
       "      <td>0.076102</td>\n",
       "      <td>0.035384</td>\n",
       "      <td>1.0</td>\n",
       "      <td>1.0</td>\n",
       "      <td>1.0</td>\n",
       "      <td>2.486115</td>\n",
       "      <td>0.270696</td>\n",
       "      <td>0.654629</td>\n",
       "      <td>...</td>\n",
       "      <td>Mira Lemma</td>\n",
       "      <td>&lt;NA&gt;</td>\n",
       "      <td>&lt;NA&gt;</td>\n",
       "      <td>&lt;NA&gt;</td>\n",
       "      <td>&lt;NA&gt;</td>\n",
       "      <td>MAINTENANCE_MODE</td>\n",
       "      <td>12</td>\n",
       "      <td>35</td>\n",
       "      <td>f19fd7ee-5ab1-4ee2-8ade-19c56735183d</td>\n",
       "      <td>78</td>\n",
       "    </tr>\n",
       "    <tr>\n",
       "      <th>216653</th>\n",
       "      <td>True</td>\n",
       "      <td>0.001838</td>\n",
       "      <td>0.072048</td>\n",
       "      <td>0.070210</td>\n",
       "      <td>1.0</td>\n",
       "      <td>1.0</td>\n",
       "      <td>1.0</td>\n",
       "      <td>2.552055</td>\n",
       "      <td>0.430556</td>\n",
       "      <td>0.750516</td>\n",
       "      <td>...</td>\n",
       "      <td>Jasper Ji-Eun</td>\n",
       "      <td>&lt;NA&gt;</td>\n",
       "      <td>&lt;NA&gt;</td>\n",
       "      <td>&lt;NA&gt;</td>\n",
       "      <td>&lt;NA&gt;</td>\n",
       "      <td>MAINTENANCE_MODE</td>\n",
       "      <td>12</td>\n",
       "      <td>34</td>\n",
       "      <td>1e5ef1f8-c9b2-4d1b-9c18-060376399bb6</td>\n",
       "      <td>88</td>\n",
       "    </tr>\n",
       "  </tbody>\n",
       "</table>\n",
       "<p>2042 rows × 23 columns</p>\n",
       "</div>"
      ],
      "text/plain": [
       "        passed    offset      roll  threshold  pitcher_mul  batter_mul  \\\n",
       "217617    True  2.072102  0.018796  -2.053306          1.0         1.0   \n",
       "81560     True  2.065933  0.025814  -2.040119          1.0         1.0   \n",
       "124049    True  2.038651  0.024227  -2.014424          1.0         1.0   \n",
       "162456    True  2.028203  0.003855  -2.024348          1.0         1.0   \n",
       "72650     True  2.007898  0.009472  -1.998426          1.0         1.0   \n",
       "...        ...       ...       ...        ...          ...         ...   \n",
       "214523    True  0.071579  0.204958   0.133379          1.0         1.0   \n",
       "232300    True  0.069840  0.122065   0.052225          1.0         1.0   \n",
       "83240     True  0.064240  0.042167  -0.022073          1.0         1.0   \n",
       "217883    True  0.040718  0.076102   0.035384          1.0         1.0   \n",
       "216653    True  0.001838  0.072048   0.070210          1.0         1.0   \n",
       "\n",
       "        fielder_mul  laser_thirst  pitcher_watchfulness_mul_vibe  \\\n",
       "217617          1.0      0.008592                       0.231868   \n",
       "81560           1.0      0.007122                       0.134625   \n",
       "124049          1.0      0.008054                       0.086412   \n",
       "162456          1.0      0.021297                       0.714353   \n",
       "72650           1.0      0.021811                       0.358920   \n",
       "...             ...           ...                            ...   \n",
       "214523          1.0      2.611587                       0.466471   \n",
       "232300          1.0      2.270886                       0.457569   \n",
       "83240           1.0      2.226372                       0.437145   \n",
       "217883          1.0      2.486115                       0.270696   \n",
       "216653          1.0      2.552055                       0.430556   \n",
       "\n",
       "        fielder_watchfulness_mul_vibe  ...     fielder_name batter_mods  \\\n",
       "217617                       0.329156  ...     Helga Burton        <NA>   \n",
       "81560                        0.027384  ...    Sutton Dreamy        <NA>   \n",
       "124049                       0.000897  ...             <NA>        <NA>   \n",
       "162456                       0.066478  ...        Raúl Leal        <NA>   \n",
       "72650                        0.453083  ...  Freemium Seraph        <NA>   \n",
       "...                               ...  ...              ...         ...   \n",
       "214523                       0.263007  ...  Nandy Fantastic        <NA>   \n",
       "232300                       0.035924  ...       Alx Keming      FLINCH   \n",
       "83240                        0.264727  ...  Nandy Fantastic      FLINCH   \n",
       "217883                       0.654629  ...       Mira Lemma        <NA>   \n",
       "216653                       0.750516  ...    Jasper Ji-Eun        <NA>   \n",
       "\n",
       "                                          pitcher_mods         fielder_mods  \\\n",
       "217617                                            <NA>                 <NA>   \n",
       "81560   WILD;FRIEND_OF_CROWS;FLIICKERRRIIING;SQUIDDISH               FLINCH   \n",
       "124049                                            <NA>  FLICKERING;RECEIVER   \n",
       "162456                                            <NA>                 <NA>   \n",
       "72650                                             <NA>                 <NA>   \n",
       "...                                                ...                  ...   \n",
       "214523                                            <NA>           FIRST_BORN   \n",
       "232300                                       WILD;PERK                 <NA>   \n",
       "83240                                             <NA>           FIRST_BORN   \n",
       "217883                                            <NA>                 <NA>   \n",
       "216653                                            <NA>                 <NA>   \n",
       "\n",
       "                 batting_team_mods              pitching_team_mods season day  \\\n",
       "217617                        O_NO  LOVE;EXTRA_STRIKE;BASE_DEALING     12  34   \n",
       "81560                         O_NO                            <NA>     12  17   \n",
       "124049                        O_NO                       BIRD_SEED     12  57   \n",
       "162456           FIREPROOF;SEALANT          LIFE_OF_PARTY;ELECTRIC     11  71   \n",
       "72650     FIREPROOF;SEALANT;AMBUSH                            <NA>     12  26   \n",
       "...                            ...                             ...    ...  ..   \n",
       "214523                        <NA>                       BIRD_SEED     12  32   \n",
       "232300  CARCINIZATION;EXTRA_STRIKE          TRAVELING;EXTRA_STRIKE     12  48   \n",
       "83240   CARCINIZATION;EXTRA_STRIKE                       BIRD_SEED     12  18   \n",
       "217883                        <NA>                MAINTENANCE_MODE     12  35   \n",
       "216653                        <NA>                MAINTENANCE_MODE     12  34   \n",
       "\n",
       "                                     game_id  play_count  \n",
       "217617  4ecd3a7d-d831-4a68-9569-c87b4f5222a2         419  \n",
       "81560   97fe7217-d383-454f-b83f-adbf99923114          12  \n",
       "124049  0b6ff98f-c9b1-4d1f-bedf-1a050a097213         106  \n",
       "162456  d3c55c79-04be-4a2e-9096-c2c9c9364c65         141  \n",
       "72650   ce349cb3-8b16-474a-9827-4d532810e33a         107  \n",
       "...                                      ...         ...  \n",
       "214523  996e5d19-a3f6-410d-8f1e-8c405b7cc7e6         198  \n",
       "232300  ff465b3d-cb6b-4ef6-9658-83ca6688c7f2          85  \n",
       "83240   7809d346-0934-47cd-a75e-ef589a12ec6c         282  \n",
       "217883  f19fd7ee-5ab1-4ee2-8ade-19c56735183d          78  \n",
       "216653  1e5ef1f8-c9b2-4d1b-9c18-060376399bb6          88  \n",
       "\n",
       "[2042 rows x 23 columns]"
      ]
     },
     "execution_count": 1435,
     "metadata": {},
     "output_type": "execute_result"
    }
   ],
   "source": [
    "# pd.set_option(\"display.max_rows\", None)  # default 60\n",
    "pd.set_option(\"display.max_columns\", 20)  # default 20\n",
    "table = outliers[\n",
    "    [\n",
    "        \"passed\",\n",
    "        \"offset\",\n",
    "        \"roll\",\n",
    "        \"threshold\",\n",
    "        # \"event_type\",  # \"home_score\", \"away_score\", \"top_of_inning\", \"inning\",\n",
    "        \"pitcher_mul\",\n",
    "        \"batter_mul\",\n",
    "        \"fielder_mul\",  # \"baserunner_count\",\n",
    "        # \"batter_vibes\", \"pitcher_vibes\",\n",
    "        \"laser_thirst\",\n",
    "        \"pitcher_watchfulness_mul_vibe\",\n",
    "        \"fielder_watchfulness_mul_vibe\",\n",
    "        \"ballpark_inconvenience\",\n",
    "        \"batter_name\",\n",
    "        \"pitcher_name\",\n",
    "        \"fielder_name\",\n",
    "        \"batter_mods\",\n",
    "        \"pitcher_mods\",\n",
    "        \"fielder_mods\",\n",
    "        \"batting_team_mods\",\n",
    "        \"pitching_team_mods\",\n",
    "        \"season\",\n",
    "        \"day\",\n",
    "        \"game_id\",\n",
    "        \"play_count\",\n",
    "        # \"fielder_roll\",\n",
    "    ]\n",
    "]\n",
    "print(len(table))\n",
    "table.sort_values(\"offset\", ascending=False)#[0:10]"
   ]
  },
  {
   "cell_type": "code",
   "execution_count": null,
   "metadata": {},
   "outputs": [],
   "source": []
  },
  {
   "cell_type": "code",
   "execution_count": null,
   "metadata": {},
   "outputs": [],
   "source": []
  },
  {
   "cell_type": "code",
   "execution_count": null,
   "metadata": {},
   "outputs": [],
   "source": []
  },
  {
   "cell_type": "code",
   "execution_count": null,
   "metadata": {},
   "outputs": [],
   "source": [
    "# outliers.sort_values('roll', ascending=True).style.hide()\n",
    "dfc.groupby(\"fielder_name\").size().sort_values(ascending=False)[0:5]"
   ]
  },
  {
   "cell_type": "code",
   "execution_count": null,
   "metadata": {
    "collapsed": false,
    "jupyter": {
     "outputs_hidden": false
    },
    "pycharm": {
     "name": "#%%\n"
    }
   },
   "outputs": [],
   "source": [
    "dfc.corr()[\"offset\"].sort_values()[0:10]"
   ]
  },
  {
   "cell_type": "code",
   "execution_count": null,
   "metadata": {
    "pycharm": {
     "name": "#%%\n"
    },
    "tags": []
   },
   "outputs": [],
   "source": []
  },
  {
   "cell_type": "code",
   "execution_count": null,
   "metadata": {
    "jupyter": {
     "source_hidden": true
    },
    "pycharm": {
     "name": "#%%\n"
    },
    "tags": []
   },
   "outputs": [],
   "source": [
    "plt.rcParams[\"font.size\"] = 10\n",
    "x_val = \"threshold\"\n",
    "fig, axes = plt.subplots(3, 2, figsize=(10, 15), constrained_layout=True)\n",
    "# fig.suptitle(f\"Season {season+1} Hits vs. Outs\", fontsize=16)\n",
    "dimlist = [5e-2, 2e-2, 1e-2, 0.5e-2, 0.2e-2, 0.1e-2]\n",
    "for i, ax in enumerate(np.ravel(axes)):\n",
    "    ax.scatter(\n",
    "        dfc[dfc[\"passed\"]][x_val],\n",
    "        dfc[dfc[\"passed\"]][\"offset\"],\n",
    "        color=\"blue\",\n",
    "        label=\"Steal\",\n",
    "    )\n",
    "    ax.scatter(\n",
    "        dfc[~dfc[\"passed\"]][x_val],\n",
    "        dfc[~dfc[\"passed\"]][\"offset\"],\n",
    "        color=\"red\",\n",
    "        label=\"No Steal\",\n",
    "    )\n",
    "    ax.scatter(\n",
    "        outliers[~outliers[\"passed\"]][x_val],\n",
    "        outliers[~outliers[\"passed\"]][\"offset\"],\n",
    "        color=\"red\",\n",
    "        edgecolor=\"black\",\n",
    "    )\n",
    "    ax.scatter(\n",
    "        outliers[outliers[\"passed\"]][x_val],\n",
    "        outliers[outliers[\"passed\"]][\"offset\"],\n",
    "        color=\"blue\",\n",
    "        edgecolor=\"black\",\n",
    "    )\n",
    "    ax.set_xlabel(x_val)\n",
    "    ax.set_ylabel(\"offset\")\n",
    "    ax.legend()\n",
    "    ax.grid()\n",
    "    ax.set_ylim(-dimlist[i], dimlist[i])\n",
    "# fig.savefig(\"../figures/hit_out_fit_offsets.png\", facecolor='white')"
   ]
  },
  {
   "cell_type": "code",
   "execution_count": null,
   "metadata": {
    "collapsed": false,
    "jupyter": {
     "outputs_hidden": false
    },
    "pycharm": {
     "name": "#%%\n"
    }
   },
   "outputs": [],
   "source": []
  },
  {
   "cell_type": "markdown",
   "metadata": {
    "jp-MarkdownHeadingCollapsed": true,
    "tags": []
   },
   "source": [
    "## Best formulas so far"
   ]
  },
  {
   "cell_type": "code",
   "execution_count": 1108,
   "metadata": {
    "jupyter": {
     "source_hidden": true
    },
    "pycharm": {
     "name": "#%%\n"
    },
    "tags": []
   },
   "outputs": [
    {
     "data": {
      "text/plain": [
       "<matplotlib.legend.Legend at 0x7fdeb9302df0>"
      ]
     },
     "execution_count": 1108,
     "metadata": {},
     "output_type": "execute_result"
    },
    {
     "data": {
      "image/png": "[encoded data removed]",
      "text/plain": [
       "<Figure size 432x432 with 1 Axes>"
      ]
     },
     "metadata": {
      "needs_background": "light"
     },
     "output_type": "display_data"
    }
   ],
   "source": [
    "# dfc[\"threshold\"] = 0.075 - (\n",
    "#     -0.131 * dfc[\"laser_thirst\"]\n",
    "#     + 0.06 * dfc[\"pitcher_watchfulness_mul_vibe\"]\n",
    "#     + 0.02 * dfc[\"fielder_watchfulness_mul_vibe\"]\n",
    "#     + 0.055 * dfc[\"ballpark_elongation\"]\n",
    "#     + 0.05 * dfc[\"ballpark_inconvenience\"]\n",
    "# )\n",
    "\n",
    "# # this will usethe fit values\n",
    "# dfc[\"threshold\"] = -intercept_scaled[0]\n",
    "# print(-intercept_scaled)\n",
    "# for pair in zip(-np.array(coef_list), X.columns):\n",
    "#     if pair[1] not in [\"roll\", \"roll_log\", \"roll_corr\"]:\n",
    "#         print(pair)\n",
    "#         dfc[\"threshold\"] += pair[0] * dfc[pair[1]]\n",
    "\n",
    "\n",
    "y_val = \"roll\"\n",
    "x_val = \"threshold\"\n",
    "# x_val = \"laser_log\"\n",
    "fig, ax = plt.subplots(1, figsize=(6, 6))\n",
    "ax.scatter(\n",
    "    dfc[~dfc[\"passed\"]][x_val],\n",
    "    dfc[~dfc[\"passed\"]][y_val],\n",
    "    color=\"red\",\n",
    "    label=\"No Steal\",\n",
    "    marker=CARETRIGHTBASE,\n",
    ")\n",
    "ax.scatter(\n",
    "    dfc[dfc[\"passed\"]][x_val],\n",
    "    dfc[dfc[\"passed\"]][y_val],\n",
    "    color=\"blue\",\n",
    "    label=\"Steal\",\n",
    "    marker=CARETLEFTBASE,\n",
    ")\n",
    "ax.set_xlabel(x_val)\n",
    "ax.set_ylabel(\"roll\")\n",
    "ax.set_title(f\"Season N Steal Attempts\")\n",
    "# ax.set_xlim(0.484, 0.499)\n",
    "# ax.set_ylim(0, 0.5)\n",
    "\n",
    "# if x_val == \"threshold\":\n",
    "    # ax.plot(ax.get_xlim(), ax.get_xlim())\n",
    "\n",
    "ax.legend()"
   ]
  },
  {
   "cell_type": "code",
   "execution_count": null,
   "metadata": {},
   "outputs": [],
   "source": []
  },
  {
   "cell_type": "code",
   "execution_count": null,
   "metadata": {},
   "outputs": [],
   "source": []
  },
  {
   "cell_type": "code",
   "execution_count": null,
   "metadata": {},
   "outputs": [],
   "source": []
  },
  {
   "cell_type": "code",
   "execution_count": null,
   "metadata": {},
   "outputs": [],
   "source": []
  },
  {
   "cell_type": "markdown",
   "metadata": {
    "jp-MarkdownHeadingCollapsed": true,
    "tags": []
   },
   "source": [
    "##### Unrelated stuff"
   ]
  },
  {
   "cell_type": "code",
   "execution_count": 34,
   "metadata": {
    "collapsed": false,
    "jupyter": {
     "outputs_hidden": false
    },
    "pycharm": {
     "name": "#%%\n"
    }
   },
   "outputs": [],
   "source": [
    "def calc_vibes(df, prefix):\n",
    "    buoy = df[prefix + \"_buoyancy\"]\n",
    "    press = df[prefix + \"_pressurization\"]\n",
    "    cinn = df[prefix + \"_cinnamon\"]\n",
    "\n",
    "    period = 6 + (buoy * 10).round()\n",
    "    phase = np.pi * ((2 / period) * df[\"day\"] + 0.5)\n",
    "    vibes = 0.5 * (press + cinn) * np.sin(phase) - (0.5 * press) + (0.5 * cinn)\n",
    "    return vibes"
   ]
  },
  {
   "cell_type": "code",
   "execution_count": 43,
   "metadata": {
    "tags": []
   },
   "outputs": [],
   "source": [
    "foo = pd.DataFrame({\"dunlap_buoyancy\": 0.862,\n",
    "                    \"dunlap_pressurization\": 0.935,\n",
    "                    # \"dunlap_cinnamon\": 1.121,\n",
    "                    \"dunlap_cinnamon\": 0.971,\n",
    "                    \"bertie_buoyancy\": 0.198,\n",
    "                    \"bertie_pressurization\": 0.689,\n",
    "                    \"bertie_cinnamon\": 0.022,\n",
    "                    \"bertie_s8_buoyancy\": 0.298,\n",
    "                    \"bertie_s8_pressurization\": 0.689,\n",
    "                    \"bertie_s8_cinnamon\": 0.022,\n",
    "                    \"day\": np.arange(116)})"
   ]
  },
  {
   "cell_type": "code",
   "execution_count": 44,
   "metadata": {},
   "outputs": [],
   "source": [
    "foo[\"dunlap_vibes\"] = calc_vibes(foo, \"dunlap\")\n",
    "foo[\"bertie_vibes\"] = calc_vibes(foo, \"bertie\")\n",
    "foo[\"bertie_s8_vibes\"] = calc_vibes(foo, \"bertie_s8\")"
   ]
  },
  {
   "cell_type": "code",
   "execution_count": 48,
   "metadata": {},
   "outputs": [
    {
     "data": {
      "text/plain": [
       "Text(0.5, 1.0, \"Dunlap's Vibes, season 4\")"
      ]
     },
     "execution_count": 48,
     "metadata": {},
     "output_type": "execute_result"
    },
    {
     "data": {
      "image/png": "[encoded data removed]",
      "text/plain": [
       "<Figure size 720x288 with 1 Axes>"
      ]
     },
     "metadata": {
      "needs_background": "light"
     },
     "output_type": "display_data"
    }
   ],
   "source": [
    "plt.figure(figsize=(10,4), layout=\"constrained\")\n",
    "plt.plot(foo[\"day\"][:116]+1, foo[\"dunlap_vibes\"][:116], '.-')\n",
    "plt.plot(foo[\"day\"][3:99:5]+1, foo[\"dunlap_vibes\"][3:99:5], 'yo')\n",
    "plt.plot(foo[\"day\"][103]+1, foo[\"dunlap_vibes\"][103], 'yo')\n",
    "plt.xlabel(\"day\")\n",
    "plt.ylabel(\"vibes\")\n",
    "plt.grid()\n",
    "plt.title(\"Dunlap's Vibes, season 4\")\n",
    "# plt.xlim(1,15)\n",
    "# plt.ylim(-1,1)"
   ]
  },
  {
   "cell_type": "code",
   "execution_count": 37,
   "metadata": {},
   "outputs": [
    {
     "data": {
      "text/plain": [
       "(-1.0, 1.0)"
      ]
     },
     "execution_count": 37,
     "metadata": {},
     "output_type": "execute_result"
    },
    {
     "data": {
      "image/png": "[encoded data removed]",
      "text/plain": [
       "<Figure size 720x288 with 1 Axes>"
      ]
     },
     "metadata": {
      "needs_background": "light"
     },
     "output_type": "display_data"
    }
   ],
   "source": [
    "s8_day = np.array(foo[\"day\"][:68]+1)\n",
    "s8_day = np.append(s8_day, (foo[\"day\"][67:]+1))\n",
    "s8_vibes = np.array(foo[\"bertie_s8_vibes\"][:68])\n",
    "s8_vibes = np.append(s8_vibes, (foo[\"bertie_vibes\"][67:]))\n",
    "plt.figure(figsize=(10,4), layout=\"constrained\")\n",
    "plt.plot(s8_day[:113], s8_vibes[:113], '.-')\n",
    "plt.plot(s8_day[2:68:5], s8_vibes[2:68:5], 'yo')\n",
    "plt.plot(s8_day[6:68:5], s8_vibes[6:68:5], 'yo')\n",
    "plt.plot(s8_day[68:99:5], s8_vibes[68:99:5], 'yo')\n",
    "plt.plot(s8_day[72:99:5], s8_vibes[72:99:5], 'yo')\n",
    "plt.plot(s8_day[102], s8_vibes[102], 'yo')\n",
    "plt.plot(s8_day[104], s8_vibes[104], 'yo')\n",
    "plt.plot(s8_day[109], s8_vibes[109], 'yo')\n",
    "plt.plot(s8_day[110], s8_vibes[110], 'yo')\n",
    "\n",
    "plt.xlabel(\"day\")\n",
    "plt.ylabel(\"vibes\")\n",
    "plt.grid()\n",
    "plt.title(\"Adalberto's Vibes, season 8\")\n",
    "# plt.xlim(1,15)\n",
    "plt.ylim(-1,1)\n",
    "# print(s8_day[2:68:5], s8_day[68:99:5])\n",
    "# print(s8_day[6:68:5], s8_day[72:99:5])"
   ]
  },
  {
   "cell_type": "code",
   "execution_count": 38,
   "metadata": {},
   "outputs": [
    {
     "data": {
      "text/plain": [
       "(-1.0, 1.0)"
      ]
     },
     "execution_count": 38,
     "metadata": {},
     "output_type": "execute_result"
    },
    {
     "data": {
      "image/png": "[encoded data removed]",
      "text/plain": [
       "<Figure size 720x288 with 1 Axes>"
      ]
     },
     "metadata": {
      "needs_background": "light"
     },
     "output_type": "display_data"
    }
   ],
   "source": [
    "plt.figure(figsize=(10,4), layout=\"constrained\")\n",
    "plt.plot(foo[\"day\"][:116]+1, foo[\"bertie_vibes\"][:116], '.-')\n",
    "plt.plot(foo[\"day\"][3:99:5]+1, foo[\"bertie_vibes\"][3:99:5], 'yo')\n",
    "plt.plot(foo[\"day\"][104]+1, foo[\"bertie_vibes\"][104], 'yo')\n",
    "plt.plot(foo[\"day\"][110]+1, foo[\"bertie_vibes\"][110], 'yo')\n",
    "plt.plot(foo[\"day\"][111]+1, foo[\"bertie_vibes\"][111], 'yo')\n",
    "plt.plot(foo[\"day\"][115]+1, foo[\"bertie_vibes\"][115], 'yo')\n",
    "plt.xlabel(\"day\")\n",
    "plt.ylabel(\"vibes\")\n",
    "plt.grid()\n",
    "plt.title(\"Adalberto's Vibes, season 9\")\n",
    "# plt.xlim(1,15)\n",
    "plt.ylim(-1,1)"
   ]
  },
  {
   "cell_type": "code",
   "execution_count": 39,
   "metadata": {},
   "outputs": [
    {
     "data": {
      "text/plain": [
       "(-1.0, 1.0)"
      ]
     },
     "execution_count": 39,
     "metadata": {},
     "output_type": "execute_result"
    },
    {
     "data": {
      "image/png": "[encoded data removed]",
      "text/plain": [
       "<Figure size 720x288 with 1 Axes>"
      ]
     },
     "metadata": {
      "needs_background": "light"
     },
     "output_type": "display_data"
    }
   ],
   "source": [
    "plt.figure(figsize=(10,4), layout=\"constrained\")\n",
    "plt.plot(foo[\"day\"][:113]+1, foo[\"bertie_vibes\"][:113], '.-')\n",
    "plt.plot(foo[\"day\"][2:99:4]+1, foo[\"bertie_vibes\"][2:99:4], 'yo')\n",
    "plt.plot(foo[\"day\"][103]+1, foo[\"bertie_vibes\"][103], 'yo')\n",
    "plt.plot(foo[\"day\"][109]+1, foo[\"bertie_vibes\"][109], 'yo')\n",
    "plt.xlabel(\"day\")\n",
    "plt.ylabel(\"vibes\")\n",
    "plt.grid()\n",
    "plt.title(\"Adalberto's Vibes, season 10\")\n",
    "# plt.xlim(1,15)\n",
    "plt.ylim(-1,1)"
   ]
  },
  {
   "cell_type": "code",
   "execution_count": null,
   "metadata": {},
   "outputs": [],
   "source": []
  },
  {
   "cell_type": "code",
   "execution_count": null,
   "metadata": {},
   "outputs": [],
   "source": []
  },
  {
   "cell_type": "code",
   "execution_count": null,
   "metadata": {},
   "outputs": [],
   "source": []
  }
 ],
 "metadata": {
  "kernelspec": {
   "display_name": "Python 3 (ipykernel)",
   "language": "python",
   "name": "python3"
  },
  "language_info": {
   "codemirror_mode": {
    "name": "ipython",
    "version": 3
   },
   "file_extension": ".py",
   "mimetype": "text/x-python",
   "name": "python",
   "nbconvert_exporter": "python",
   "pygments_lexer": "ipython3",
   "version": "3.9.12"
  }
 },
 "nbformat": 4,
 "nbformat_minor": 4
}
