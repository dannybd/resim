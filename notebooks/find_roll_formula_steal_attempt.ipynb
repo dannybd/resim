{
 "cells": [
  {
   "cell_type": "code",
   "execution_count": 1,
   "metadata": {
    "collapsed": false,
    "jupyter": {
     "outputs_hidden": false
    },
    "pycharm": {
     "name": "#%%\n"
    }
   },
   "outputs": [],
   "source": [
    "import glob\n",
    "\n",
    "import pandas as pd\n",
    "import matplotlib.pyplot as plt\n",
    "import numpy as np\n",
    "from matplotlib.markers import CARETLEFTBASE, CARETRIGHTBASE\n",
    "from csv_dtypes import column_dtypes\n",
    "\n",
    "from sklearn.preprocessing import StandardScaler\n",
    "from sklearn.metrics import confusion_matrix\n",
    "from sklearn.metrics import classification_report\n",
    "from sklearn import svm, linear_model\n",
    "from sklearn.feature_selection import RFECV\n",
    "from sklearn.model_selection import StratifiedKFold\n",
    "from sklearn.preprocessing import PolynomialFeatures\n",
    "\n",
    "pd.set_option(\"display.max_rows\", 60)  # default 60\n",
    "pd.set_option(\"display.max_columns\", 20)  # default 20"
   ]
  },
  {
   "cell_type": "code",
   "execution_count": 2,
   "metadata": {
    "collapsed": false,
    "jupyter": {
     "outputs_hidden": false
    },
    "pycharm": {
     "name": "#%%\n"
    }
   },
   "outputs": [
    {
     "data": {
      "text/plain": [
       "173846"
      ]
     },
     "execution_count": 2,
     "metadata": {},
     "output_type": "execute_result"
    }
   ],
   "source": [
    "all_files = glob.glob(\"../roll_data/*-steal_attempt.csv\")\n",
    "\n",
    "df = pd.concat((pd.read_csv(f, dtype=column_dtypes) for f in all_files), ignore_index=True)\n",
    "\n",
    "# seasons = [11]\n",
    "# seasons = [12]\n",
    "# seasons = [11, 12, 13, 14]\n",
    "# seasons = [13]\n",
    "seasons = [13, 14]\n",
    "df = df[df[\"season\"].isin(seasons)]\n",
    "len(df)"
   ]
  },
  {
   "cell_type": "code",
   "execution_count": 3,
   "metadata": {
    "pycharm": {
     "name": "#%%\n"
    },
    "tags": []
   },
   "outputs": [],
   "source": [
    "def get_pitcher_mul(row):\n",
    "    pm = str(row[\"pitcher_mods\"])\n",
    "    ptm = str(row[\"pitching_team_mods\"])\n",
    "    mul = 1\n",
    "    if \"OVERPERFORMING\" in pm:\n",
    "        mul += 0.2\n",
    "    if \"OVERPERFORMING\" in ptm:\n",
    "        mul += 0.2\n",
    "    if \"UNDERPERFORMING\" in pm:\n",
    "        mul -= 0.2\n",
    "    if \"UNDERPERFORMING\" in ptm:\n",
    "        mul -= 0.2\n",
    "    if \"TRAVELING\" in ptm:\n",
    "        # pass  # traveling just doesn't do anything on pitchers?\n",
    "        if not row[\"top_of_inning\"]:\n",
    "            mul += 0.05\n",
    "    if \"HIGH_PRESSURE\" in ptm:\n",
    "        if row[\"weather\"] == \"Weather.FLOODING\" and row[\"baserunner_count\"] > 0:\n",
    "            mul += 0.25\n",
    "    if \"GROWTH\" in ptm:\n",
    "        mul += min(0.05, 0.05 * (row[\"day\"] / 99))\n",
    "        # pass  # growth doesn't do anything on pitchers either\n",
    "    if \"SINKING_SHIP\" in ptm:\n",
    "        mul += (14 - row[\"pitching_team_roster_size\"]) * 0.01\n",
    "    if \"AFFINITY_FOR_CROWS\" in ptm and row[\"weather\"] == \"Weather.BIRDS\":\n",
    "        mul += 0.5\n",
    "    return mul\n",
    "\n",
    "\n",
    "def get_runner_mul(row):\n",
    "    # if row[[\"runner_name\"]].isna().any():\n",
    "    # row[\"runner_name\"] == \"NaaN\"\n",
    "    bm = str(row[\"runner_mods\"])\n",
    "    btm = str(row[\"batting_team_mods\"])\n",
    "    ptm = str(row[\"pitching_team_mods\"])\n",
    "    mul = 1\n",
    "    attrs = \"\"\n",
    "    if \"OVERPERFORMING\" in bm:\n",
    "        mul += 0.2\n",
    "    if \"OVERPERFORMING\" in btm:\n",
    "        mul += 0.2\n",
    "    if \"UNDERPERFORMING\" in bm:\n",
    "        mul -= 0.2\n",
    "    if \"UNDERPERFORMING\" in btm:\n",
    "        mul -= 0.2\n",
    "    if \"TRAVELING\" in btm:\n",
    "        if row[\"top_of_inning\"]:\n",
    "            # is this actually 0.035 instead of 0.05?\n",
    "            mul += 0.35\n",
    "    if \"GROWTH\" in btm:\n",
    "        # is this actually 0.035 instead of 0.05?\n",
    "        mul += min(0.05, 0.05 * (row[\"day\"] / 99))\n",
    "        # pass\n",
    "    if \"HIGH_PRESSURE\" in btm:\n",
    "        if row[\"weather\"] == \"Weather.FLOODING\" and row[\"baserunner_count\"] > 0:\n",
    "            mul += 0.25\n",
    "    if \"SINKING_SHIP\" in btm:\n",
    "        mul += (14 - row[\"batting_team_roster_size\"]) * 0.01\n",
    "    if \"AFFINITY_FOR_CROWS\" in btm and row[\"weather\"] == \"Weather.BIRDS\":\n",
    "        mul += 0.5\n",
    "    if \"CHUNKY\" in bm and row[\"weather\"] == \"Weather.PEANUTS\":\n",
    "        # todo: make this work if there's also, like, Overperforming active\n",
    "        # it only should apply to \"power\" attrs\n",
    "        mul += 1.0\n",
    "        attrs = \"runner_musclitude, runner_divinity, runner_ground_friction\"\n",
    "    if \"SMOOTH\" in bm and row[\"weather\"] == \"Weather.PEANUTS\":\n",
    "        # todo: make this work if there's also, like, Overperforming active\n",
    "        # it only should apply to \"speed\" attrs\n",
    "        # doing 80% because of evidence from the Spin Attack blessing that \"speed\"\n",
    "        # boosts laserlikeness 80% of what it says the total boost is?\n",
    "        mul += 0.80\n",
    "        attrs = \"runner_musclitude, runner_laserlikeness, runner_ground_friction, runner_continuation\"\n",
    "    if \"ON_FIRE\" in bm:\n",
    "        # todo: handle\n",
    "        # test \"+125% multiplier\"\n",
    "        mul += 1.25\n",
    "        # pass\n",
    "    # NVGs real??? eclipse weather, special case for Sutton Dreamy\n",
    "    # surely this will not break from scattering, right? (It totally will)\n",
    "    # if row[\"runner_name\"] == \"Sutton Dreamy\" and row[\"weather\"] == \"Weather.ECLIPSE\":\n",
    "    # NVGs allow the player to play 50% better in a solar eclipse.\n",
    "    # This might affect fielding and baserunning as well?\n",
    "    # mul += 0.50\n",
    "    return mul, attrs\n",
    "\n",
    "\n",
    "def get_fielder_mul(row):\n",
    "    fm = str(row[\"fielder_mods\"])\n",
    "    ptm = str(row[\"pitching_team_mods\"])\n",
    "    mul = 1\n",
    "    if \"OVERPERFORMING\" in fm:\n",
    "        mul += 0.2\n",
    "    if \"OVERPERFORMING\" in ptm:\n",
    "        mul += 0.2\n",
    "    if \"UNDERPERFORMING\" in fm:\n",
    "        mul -= 0.2\n",
    "    if \"UNDERPERFORMING\" in ptm:\n",
    "        mul -= 0.2\n",
    "    if \"TRAVELING\" in ptm:\n",
    "        # pass\n",
    "        if not row[\"top_of_inning\"]:\n",
    "            mul += 0.05\n",
    "    if \"HIGH_PRESSURE\" in ptm:\n",
    "        if row[\"weather\"] == 18 and str(row[\"baserunner_count\"]) > 0:\n",
    "            mul += 0.25\n",
    "    if \"GROWTH\" in ptm:\n",
    "        mul += min(0.05, 0.05 * (row[\"day\"] / 99))\n",
    "    if \"SINKING_SHIP\" in ptm:\n",
    "        mul += (14 - row[\"pitching_team_roster_size\"]) * 0.01\n",
    "    if \"AFFINITY_FOR_CROWS\" in ptm and row[\"weather\"] == \"Weather.BIRDS\":\n",
    "        mul += 0.5\n",
    "    if \"SHELLED\" in fm:\n",
    "        # is it this, or is it \"mul = 0\", I wonder\n",
    "        mul -= 1.0\n",
    "    # if row[\"fielder_name\"] == \"Sutton Dreamy\" and row[\"weather\"] == \"Weather.ECLIPSE\":\n",
    "    # NVGs allow the player to play 50% better in a solar eclipse.\n",
    "    # This might affect fielding and baserunning as well?\n",
    "    # mul += 0.50\n",
    "    return mul"
   ]
  },
  {
   "cell_type": "code",
   "execution_count": 4,
   "metadata": {
    "collapsed": false,
    "jupyter": {
     "outputs_hidden": false
    },
    "pycharm": {
     "name": "#%%\n"
    }
   },
   "outputs": [],
   "source": [
    "# df[\"runner_mul\"] = df.apply(get_runner_mul, axis=1)\n",
    "df[[\"runner_mul\", \"runner_mul_attrs\"]] = df.apply(get_runner_mul, axis=1, result_type=\"expand\")\n",
    "df[\"pitcher_mul\"] = df.apply(get_pitcher_mul, axis=1)\n",
    "df[\"fielder_mul\"] = df.apply(get_fielder_mul, axis=1)"
   ]
  },
  {
   "cell_type": "code",
   "execution_count": 5,
   "metadata": {
    "collapsed": false,
    "jupyter": {
     "outputs_hidden": false
    },
    "pycharm": {
     "name": "#%%\n"
    }
   },
   "outputs": [],
   "source": [
    "df.loc[df[\"pitcher_mods\"].astype(str).str.contains(\"SCATTERED\"), \"pitcher_vibes\"] = 0\n",
    "df.loc[df[\"runner_mods\"].astype(str).str.contains(\"SCATTERED\"), \"runner_vibes\"] = 0\n",
    "df.loc[df[\"fielder_mods\"].astype(str).str.contains(\"SCATTERED\"), \"fielder_vibes\"] = 0\n",
    "\n",
    "df[\"incon_center\"] = df[\"ballpark_inconvenience\"] - 0.5\n",
    "df[\"elong_center\"] = df[\"ballpark_elongation\"] - 0.5"
   ]
  },
  {
   "cell_type": "code",
   "execution_count": 6,
   "metadata": {
    "collapsed": false,
    "jupyter": {
     "outputs_hidden": false
    },
    "pycharm": {
     "name": "#%%\n"
    }
   },
   "outputs": [],
   "source": [
    "for attr in [\n",
    "    \"runner_base_thirst\",\n",
    "    \"runner_continuation\",\n",
    "    \"runner_ground_friction\",\n",
    "    \"runner_indulgence\",\n",
    "    \"runner_laserlikeness\",\n",
    "]:\n",
    "    # had to do all this to make chunky and smooth work correctly\n",
    "    df[attr + \"_mul_vibe\"] = df.apply(\n",
    "        lambda x: x[attr] * x[\"runner_mul\"] * (1 + 0.2 * x[\"runner_vibes\"])\n",
    "        if (x[\"runner_mul_attrs\"] == \"\") or (attr in x[\"runner_mul_attrs\"])\n",
    "        else x[attr] * (1 + 0.2 * x[\"runner_vibes\"]),\n",
    "        axis=1,\n",
    "    )\n",
    "for attr in [\n",
    "    # \"runner_patheticism\",\n",
    "    # \"runner_tragicness\",\n",
    "]:\n",
    "    # had to do all this to make chunky and smooth work correctly\n",
    "    df[attr + \"_mul_vibe\"] = df.apply(\n",
    "        lambda x: x[attr] / x[\"runner_mul\"] * (1 + 0.2 * x[\"runner_vibes\"])\n",
    "        if (x[\"runner_mul_attrs\"] == \"\") or (attr in x[\"runner_mul_attrs\"])\n",
    "        else x[attr] * (1 + 0.2 * x[\"runner_vibes\"]),\n",
    "        axis=1,\n",
    "    )\n",
    "    # df[attr + \"_mul_vibe\"] = df[attr] * df[\"runner_mul\"] * (1 + 0.2 * df[\"runner_vibes\"])"
   ]
  },
  {
   "cell_type": "code",
   "execution_count": 7,
   "metadata": {
    "collapsed": false,
    "jupyter": {
     "outputs_hidden": false
    },
    "pycharm": {
     "name": "#%%\n"
    }
   },
   "outputs": [],
   "source": [
    "df = df.copy()\n",
    "for attr in [\n",
    "    \"pitcher_anticapitalism\",\n",
    "    \"pitcher_chasiness\",\n",
    "    \"pitcher_omniscience\",\n",
    "    \"pitcher_tenaciousness\",\n",
    "    \"pitcher_watchfulness\",\n",
    "]:\n",
    "    # df[attr+\"_mul_vibe\"] = df.apply(lambda x: x[attr] * x[\"pitcher_mul\"] * (1 + 0.2 * df[\"pitcher_vibes\"])\n",
    "    #                           if (x[\"pitcher_mul_attrs\"] == \"\") or (attr in x[\"pitcher_mul_attrs\"])\n",
    "    #                           else x[attr] * (1 + 0.2 * df[\"pitcher_vibes\"]),\n",
    "    #                           axis=1)\n",
    "    df[attr + \"_mul_vibe\"] = df[attr] * df[\"pitcher_mul\"] * (1 + 0.2 * df[\"pitcher_vibes\"])"
   ]
  },
  {
   "cell_type": "code",
   "execution_count": 8,
   "metadata": {
    "collapsed": false,
    "jupyter": {
     "outputs_hidden": false
    },
    "pycharm": {
     "name": "#%%\n"
    }
   },
   "outputs": [],
   "source": [
    "if \"fielder_vibes\" in df:\n",
    "    for attr in [\n",
    "        \"fielder_anticapitalism\",\n",
    "        \"fielder_chasiness\",\n",
    "        \"fielder_omniscience\",\n",
    "        \"fielder_tenaciousness\",\n",
    "        \"fielder_watchfulness\",\n",
    "    ]:\n",
    "        # df[attr+\"_mul_vibe\"] = df.apply(lambda x: x[attr] * x[\"fielder_mul\"] * (1 + 0.2 * df[\"fielder_vibes\"])\n",
    "        #                       if (x[\"fielder_mul_attrs\"] == \"\") or (attr in x[\"fielder_mul_attrs\"])\n",
    "        #                       else x[attr] * (1 + 0.2 * df[\"fielder_vibes\"]),\n",
    "        #                       axis=1)\n",
    "        df[attr + \"_mul_vibe\"] = df[attr] * df[\"fielder_mul\"] * (1 + 0.2 * df[\"fielder_vibes\"])\n",
    "\n",
    "df = df.copy()"
   ]
  },
  {
   "cell_type": "code",
   "execution_count": 9,
   "metadata": {
    "collapsed": false,
    "jupyter": {
     "outputs_hidden": false
    },
    "pycharm": {
     "name": "#%%\n"
    }
   },
   "outputs": [
    {
     "data": {
      "text/plain": [
       "event_type\n",
       "StealAttempt0    86441\n",
       "StealAttempt1    45136\n",
       "StealAttempt2    42269\n",
       "dtype: int64"
      ]
     },
     "execution_count": 9,
     "metadata": {},
     "output_type": "execute_result"
    }
   ],
   "source": [
    "df.groupby(\"event_type\").size().sort_values(ascending=False)[0:15]"
   ]
  },
  {
   "cell_type": "code",
   "execution_count": 10,
   "metadata": {
    "collapsed": false,
    "jupyter": {
     "outputs_hidden": false
    },
    "pycharm": {
     "name": "#%%\n"
    }
   },
   "outputs": [
    {
     "data": {
      "text/plain": [
       "44350"
      ]
     },
     "execution_count": 10,
     "metadata": {},
     "output_type": "execute_result"
    }
   ],
   "source": [
    "dfc = df[df[\"event_type\"] == \"StealAttempt1\"].copy()\n",
    "for exclude_mod in [\n",
    "    # \"OVERPERFORMING\",\n",
    "    # \"UNDERPERFORMING\",\n",
    "    # \"HIGH_PRESSURE\",\n",
    "    # \"GROWTH\",\n",
    "    # \"SINKING_SHIP\",\n",
    "    # \"TRAVELING\",\n",
    "    # \"ON_FIRE\",\n",
    "    # \"CHUNKY\",\n",
    "    # \"SMOOTH\",\n",
    "    \"SHELLED\",\n",
    "]:\n",
    "    # for exclude_mod in [\"FLINCH\", \"O_NO\", \"ON_FIRE\", \"GROWTH\", \"TRAVELING\"]:\n",
    "    # for exclude_mod in [\"SPICY\", \"ON_FIRE\"]:\n",
    "    # dfc = dfc[~dfc[\"runner_mods\"].astype(str).str.contains(exclude_mod)]\n",
    "    # dfc = dfc[~dfc[\"pitcher_mods\"].astype(str).str.contains(exclude_mod)]\n",
    "    dfc = dfc[~dfc[\"fielder_mods\"].astype(str).str.contains(exclude_mod)]\n",
    "    # dfc = dfc[~dfc[\"pitching_team_mods\"].astype(str).str.contains(exclude_mod)]\n",
    "    # dfc = dfc[~dfc[\"batting_team_mods\"].astype(str).str.contains(exclude_mod)]\n",
    "\n",
    "# dfc[\"laser_thirst\"] = dfc[\"runner_laserlikeness_mul_vibe\"] * dfc[\"runner_base_thirst_mul_vibe\"]\n",
    "# dfc[\"laser_thirst\"] = dfc[\"runner_laserlikeness_mul_vibe\"] * dfc[\"runner_base_thirst\"]\n",
    "# dfc[\"laser_thirst\"] = dfc[\"runner_laserlikeness\"] * dfc[\"runner_base_thirst\"]\n",
    "\n",
    "\n",
    "# dfc = dfc[(dfc[\"pitcher_mul\"] == 1) & (dfc[\"runner_mul\"] == 1) & (dfc[\"fielder_mul\"] == 1)].copy()\n",
    "\n",
    "# dfc = dfc[~dfc[\"stadium_id\"].isna()].copy()\n",
    "\n",
    "dfc = dfc[dfc['roll'] > 0.001].copy()\n",
    "if 13 in seasons:\n",
    "    dfc = dfc[dfc['day'] != 98].copy()\n",
    "# dfc[\"roll_log\"] = np.log(dfc[\"roll\"])\n",
    "# dfc[\"lt_log\"] = np.log(dfc[\"laser_thirst\"])\n",
    "# dfc[\"laser_log\"] = np.log(dfc[\"runner_laserlikeness\"])\n",
    "\n",
    "# dfc[\"thirst_log\"] = np.log(dfc[\"runner_base_thirst\"])\n",
    "\n",
    "# dfc[\"watch\"] = (\n",
    "#     # 3 * dfc[\"pitcher_watchfulness_mul_vibe\"]\n",
    "#     # + 1 * dfc[\"fielder_watchfulness_mul_vibe\"]\n",
    "#     3 * dfc[\"pitcher_watchfulness\"]\n",
    "#     + 1 * dfc[\"fielder_watchfulness\"]\n",
    "# ) / 1\n",
    "# dfc[\"watch_log\"] = np.log(dfc[\"watch\"])\n",
    "# dfc[\"watch_pow\"] = dfc[\"watch\"]**1.5\n",
    "# dfc[\"lt_pow\"] = dfc[\"laser_thirst\"]**1.5\n",
    "\n",
    "# dfc = dfc[dfc[\"laser_thirst\"] > 1e-3].copy()\n",
    "len(dfc)\n",
    "# dfc[\"laser_thirst\"].min()\n",
    "# dfc.groupby(\"ballpark_inconvenience\").size()"
   ]
  },
  {
   "cell_type": "code",
   "execution_count": 35,
   "metadata": {
    "collapsed": false,
    "jupyter": {
     "outputs_hidden": false
    },
    "pycharm": {
     "name": "#%%\n"
    }
   },
   "outputs": [],
   "source": [
    "dfc[\"pwatch\"] = dfc[\"pitcher_watchfulness\"] * dfc[\"pitcher_mul\"] # * (1 + 0.2*dfc[\"pitcher_vibes\"])\n",
    "dfc[\"fwatch\"] = dfc[\"fielder_watchfulness\"] * dfc[\"fielder_mul\"] * (1 + 0.2 * dfc[\"fielder_vibes\"])\n",
    "dfc[\"watch\"] = (7 * dfc[\"pwatch\"] + 2 * dfc[\"fwatch\"]) / 9\n",
    "dfc[\"pwatch_sq\"] = dfc[\"pitcher_watchfulness\"]**2# * (1 + 0.2*dfc[\"pitcher_vibes\"])\n",
    "\n",
    "# dfc[\"roll_mod\"] = (dfc[\"roll\"] - 0.05 + 0.08 * dfc[\"watch\"])\n",
    "dfc[\"roll_mod\"] = dfc[\"roll\"] + 0.08 * dfc[\"watch\"]\n",
    "\n",
    "dfc[\"laser_vibe\"] = dfc[\"runner_laserlikeness_mul_vibe\"]\n",
    "# dfc[\"laser\"] = dfc[\"runner_laserlikeness_mul_vibe\"]\n",
    "dfc[\"laser\"] = dfc[\"runner_laserlikeness\"] * (1 + 0.2 * dfc[\"runner_vibes\"])\n",
    "dfc[\"thirst\"] = dfc[\"runner_base_thirst\"]\n",
    "dfc[\"lasersq\"] = dfc[\"laser\"] ** 2\n",
    "dfc[\"lasersq_thirst\"] = dfc[\"lasersq\"] * dfc[\"thirst\"]\n",
    "# dfc[\"lasersq_thirst\"] = dfc[\"runner_base_thirst\"] * (dfc[\"runner_laserlikeness_mul_vibe\"] ** 2)\n",
    "\n",
    "dfc[\"laser_thirst\"] = dfc[\"laser\"] * dfc[\"thirst\"]\n",
    "dfc[\"laser_thirstsq\"] = dfc[\"laser\"] * (dfc[\"thirst\"] ** 2)\n",
    "dfc[\"thirstsq\"] = dfc[\"thirst\"] ** 2\n",
    "\n",
    "dfc[\"thirstpow\"] = dfc[\"thirst\"] ** 0.9\n",
    "\n",
    "\n",
    "dfc[\"park_factors\"] = dfc[\"incon_center\"] + 2 * dfc[\"elong_center\"]\n",
    "# dfc[\"park_factors\"] = dfc[\"ballpark_inconvenience\"] + 2 * dfc[\"ballpark_elongation\"]\n",
    "\n",
    "# dfc[\"laser_thirst_term\"] = dfc[\"thirst\"] * (dfc[\"laser\"]**2) * (1 + 0.2 * dfc[\"runner_vibes\"])\n",
    "dfc[\"laser_thirst_term\"] = dfc[\"thirst\"] * (3 * dfc[\"laser\"] ** 2 + dfc[\"laser\"]) / 4\n",
    "\n",
    "# dfc[\"thirst_elong\"] = dfc[\"thirst\"] * dfc[\"ballpark_elongation\"]\n",
    "# dfc[\"thirst_incon\"] = dfc[\"thirst\"] * dfc[\"ballpark_inconvenience\"]\n",
    "# dfc[\"laser_elong\"] = dfc[\"laser\"] * dfc[\"ballpark_elongation\"]\n",
    "# dfc[\"laser_incon\"] = dfc[\"laser\"] * dfc[\"ballpark_inconvenience\"]\n",
    "\n",
    "# dfc[\"roll_log\"] = np.log(dfc[\"roll_mod\"])\n",
    "# dfc[\"laser_log\"] = np.log(0.205 + dfc[\"laser\"]* (1+0.2*dfc[\"runner_vibes\"]))\n",
    "dfc = dfc[dfc['laser'] < 1.0].copy()\n",
    "\n",
    "dfc = dfc[dfc['thirst'] < 1.0].copy()"
   ]
  },
  {
   "cell_type": "code",
   "execution_count": 56,
   "metadata": {
    "collapsed": false,
    "jupyter": {
     "outputs_hidden": false
    },
    "pycharm": {
     "name": "#%%\n"
    }
   },
   "outputs": [
    {
     "name": "stdout",
     "output_type": "stream",
     "text": [
      "[[29610     2]\n",
      " [    1   419]]\n",
      "3 outliers\n",
      "0.9999001065530101\n",
      "intercept: 0.039132674086070546\n",
      "(0.0, 'laser')\n",
      "(0.0672979492164495, 'lasersq_thirst')\n",
      "(0.011244266537859635, 'thirst')\n",
      "(-0.061106556564337534, 'pwatch')\n",
      "(-0.01966057126407647, 'fwatch')\n",
      "(-0.033980826079400395, 'park_factors')\n"
     ]
    }
   ],
   "source": [
    "X = dfc[\n",
    "    [\n",
    "        \"passed\",\n",
    "        \"roll\",\n",
    "        # \"roll_mod\",\n",
    "        \"laser\",\n",
    "        # \"runner_laserlikeness\",\n",
    "        # \"lasersq\",\n",
    "        # \"laser_thirst\",\n",
    "        \"lasersq_thirst\",\n",
    "        # \"laser_thirst_term\",\n",
    "        # \"laser_thirstsq\",\n",
    "        \"thirst\",\n",
    "        # \"thirstsq\",\n",
    "        # \"thirstpow\",\n",
    "        # \"laser_elong\",\n",
    "        # \"laser_incon\",\n",
    "        # \"watch\",\n",
    "        \"pwatch\",\n",
    "        # \"pitcher_watchfulness\",\n",
    "        # \"pwatch_sq\",\n",
    "        \"fwatch\",\n",
    "        # \"watch_log\",\n",
    "        # \"watch_pow\",\n",
    "        \"park_factors\",\n",
    "        # \"ballpark_inconvenience\",\n",
    "        # \"ballpark_elongation\",\n",
    "        # \"incon_center\",\n",
    "        # \"elong_center\",\n",
    "        # \"runner_vibes\",\n",
    "    ]\n",
    "]\n",
    "# X = X[X['roll'] > 0.001].copy()\n",
    "# X = X[~X[\"roll_adj_log\"].isna()]\n",
    "y = X[\"passed\"]\n",
    "y = y.astype(\"int\")\n",
    "X = X.drop(\"passed\", axis=1)\n",
    "\n",
    "pin_intercept = None\n",
    "# pin_intercept = 0.03755015\n",
    "# pin_intercept = 0.04\n",
    "pins = [\n",
    "    # (0.01723101239886318, \"laser\"),\n",
    "    # (1/75, \"laser\"),\n",
    "    # (0.01333, \"laser\"),\n",
    "    # (0.0135, \"laser\"),\n",
    "    (0.00, \"laser\"),\n",
    "    # (0.01, \"runner_laserlikeness\"),\n",
    "    # (0.012, 'lasersq'),\n",
    "    # (0.035, 'laser_thirst'),\n",
    "    # (0.07402599926524667, 'lasersq_thirst'),\n",
    "    # (0.08, 'lasersq_thirst'),\n",
    "    # (0.095, 'lasersq_thirst'),\n",
    "    # (0.0667, 'lasersq_thirst'),\n",
    "    # (0.0232, 'thirst'),\n",
    "    # (0.0167, 'thirst'),\n",
    "    # (0.011, \"thirst\"),\n",
    "    # (-0.0333, 'park_factors'),\n",
    "    # (-0.062, 'pwatch'),\n",
    "    # (-0.01932797561676943, 'fwatch'),\n",
    "    # (-0.01933, 'fwatch'),\n",
    "    # (-0.02, 'fwatch'),\n",
    "    # (-0.08, 'watch'),\n",
    "    # (0.006, 'laser_thirst_term'),\n",
    "]\n",
    "for val, var in pins:\n",
    "    X[\"roll\"] -= X[var] * val\n",
    "    X = X.drop(var, axis=1)\n",
    "\n",
    "sc = StandardScaler(with_mean=False)\n",
    "X2 = sc.fit_transform(X)\n",
    "if pin_intercept is not None:\n",
    "    X2[:, 0] -= pin_intercept / sc.scale_[0]\n",
    "\n",
    "trainedsvm = svm.LinearSVC(\n",
    "    dual=False, max_iter=10000000, C=100000000, tol=1e-12, fit_intercept=pin_intercept is None\n",
    ").fit(X2, y)\n",
    "predictionsvm = trainedsvm.predict(X2)\n",
    "print(confusion_matrix(y, predictionsvm))\n",
    "print(confusion_matrix(y, predictionsvm)[0, 1] + confusion_matrix(y, predictionsvm)[1, 0], \"outliers\")\n",
    "print(trainedsvm.score(X2, y))\n",
    "\n",
    "coef = np.true_divide(trainedsvm.coef_, sc.scale_)\n",
    "coef_scaled = coef / coef[0, 0]\n",
    "coef_list = coef_scaled.tolist()[0]\n",
    "\n",
    "intercept = trainedsvm.intercept_  # - np.dot(coef, sc.mean_)\n",
    "intercept_scaled = -(intercept / coef[0, 0])[0] if pin_intercept is None else pin_intercept\n",
    "\n",
    "dfc[\"threshold\"] = intercept_scaled\n",
    "print(\"intercept:\", intercept_scaled)\n",
    "for pair in pins + list(zip(-np.array(coef_list), X.columns)):\n",
    "    if \"roll\" not in pair[1]:\n",
    "        print(pair)\n",
    "        dfc[\"threshold\"] += pair[0] * dfc[pair[1]]\n",
    "dfc[\"threshold_plot\"] = dfc[\"threshold\"].copy()\n",
    "dfc.loc[dfc[\"threshold\"] < 0.001, \"threshold\"] = 0.001"
   ]
  },
  {
   "cell_type": "code",
   "execution_count": 57,
   "metadata": {
    "collapsed": false,
    "jupyter": {
     "outputs_hidden": false
    },
    "pycharm": {
     "name": "#%%\n"
    }
   },
   "outputs": [
    {
     "data": {
      "text/plain": [
       "<matplotlib.legend.Legend at 0x7ff682b66940>"
      ]
     },
     "execution_count": 57,
     "metadata": {},
     "output_type": "execute_result"
    },
    {
     "data": {
      "image/png": "[encoded data removed]",
      "text/plain": [
       "<Figure size 432x432 with 1 Axes>"
      ]
     },
     "metadata": {
      "needs_background": "light"
     },
     "output_type": "display_data"
    }
   ],
   "source": [
    "# kidror's fit, for steals of 3rd! not of 2nd!!! still can't replicate the \"3 outliers\" they got though\n",
    "# 0.03755015 + 0.07402599926524667*runner + 0.020629673547652366*dfc[\"thirst\"]\n",
    "# + 0.01723101239886318*dfc[\"runner_laserlikeness\"] - 0.06*dfc[\"pitcher_watchfulness\"]\n",
    "# - 0.01932797561676943*dfc[\"fwatch\"]\n",
    "# thirst and fwatch are thirst and fielder watchfulness with vibes, runner is base_thirst * laser^2\n",
    "\n",
    "# season 13, null stadium only\n",
    "# [[26065     0]\n",
    "#  [    0  1153]]\n",
    "# 0 outliers\n",
    "# 1.0\n",
    "# intercept: 0.043272646512567126\n",
    "# (0.002301879255231324, 'laser_vibe'),\n",
    "# (0.0076657470915077715, 'lasersq'),\n",
    "# (0.0269960061526303, 'laser_thirst'),\n",
    "# (0.07758523709024914, 'lasersq_thirst'),\n",
    "# (-0.0032036086834798284, 'laser_thirstsq'),\n",
    "# (0.0171756417623993, 'runner_base_thirst'),\n",
    "# (-0.06039525672661708, 'pwatch'),\n",
    "# (-0.019936549618782263, 'fwatch'),\n",
    "\n",
    "# dfc[\"threshold\"] = intercept_scaled[0]\n",
    "# print(\"intercept:\", intercept_scaled)\n",
    "# for pair in pins + list(zip(-np.array(coef_list), X.columns)):\n",
    "#     if \"roll\" not in pair[1]:\n",
    "#         print(pair)\n",
    "#         dfc[\"threshold\"] += pair[0] * dfc[pair[1]]\n",
    "\n",
    "y_val = \"roll\"\n",
    "x_val = \"threshold\"\n",
    "# x_val = \"laser\"\n",
    "fig, ax = plt.subplots(1, figsize=(6, 6))\n",
    "ax.scatter(\n",
    "    dfc[~dfc[\"passed\"]][x_val],\n",
    "    dfc[~dfc[\"passed\"]][y_val],\n",
    "    color=\"red\",\n",
    "    label=\"No Steal\",\n",
    "    marker=CARETRIGHTBASE,\n",
    ")\n",
    "ax.scatter(\n",
    "    dfc[dfc[\"passed\"]][x_val],\n",
    "    dfc[dfc[\"passed\"]][y_val],\n",
    "    color=\"blue\",\n",
    "    label=\"Steal\",\n",
    "    marker=CARETLEFTBASE,\n",
    ")\n",
    "ax.set_xlabel(x_val)\n",
    "ax.set_ylabel(\"roll\")\n",
    "ax.set_title(f\"Season N Steal Attempts\")\n",
    "# ax.set_xlim(0.484, 0.499)\n",
    "# ax.set_xlim(0, 0.01)\n",
    "ax.set_ylim(0, 0.5)\n",
    "# ax.set_xlim(-0.1, 0.1)\n",
    "# ax.set_yscale(\"log\")\n",
    "# ax.set_xscale(\"log\")\n",
    "# if x_val == \"threshold\":\n",
    "# ax.plot(ax.get_xlim(), ax.get_xlim())\n",
    "\n",
    "ax.legend()"
   ]
  },
  {
   "cell_type": "code",
   "execution_count": 58,
   "metadata": {
    "collapsed": false,
    "jupyter": {
     "outputs_hidden": false
    },
    "pycharm": {
     "name": "#%%\n"
    }
   },
   "outputs": [
    {
     "data": {
      "text/plain": [
       "Text(0, 0.5, 'offset')"
      ]
     },
     "execution_count": 58,
     "metadata": {},
     "output_type": "execute_result"
    },
    {
     "data": {
      "image/png": "[encoded data removed]",
      "text/plain": [
       "<Figure size 432x288 with 1 Axes>"
      ]
     },
     "metadata": {
      "needs_background": "light"
     },
     "output_type": "display_data"
    }
   ],
   "source": [
    "dfc[\"offset\"] = dfc[\"roll\"] - dfc[\"threshold\"]\n",
    "outliers = dfc[(dfc[\"passed\"] & (dfc[\"offset\"] >= 0)) | (~dfc[\"passed\"] & (dfc[\"offset\"] <= 0))]\n",
    "\n",
    "fig, ax = plt.subplots(1)\n",
    "x_val = \"threshold\"\n",
    "# x_val = \"fwatch\"\n",
    "# x_val = \"laser\"\n",
    "# x_val = \"fielder_vibes\"\n",
    "# x_val = \"thirst\"\n",
    "ax.scatter(\n",
    "    outliers[~outliers[\"passed\"]][x_val],\n",
    "    outliers[~outliers[\"passed\"]][\"offset\"],\n",
    "    color=\"red\",\n",
    "    label=\"No Steal\",\n",
    ")\n",
    "ax.scatter(\n",
    "    outliers[outliers[\"passed\"]][x_val],\n",
    "    outliers[outliers[\"passed\"]][\"offset\"],\n",
    "    color=\"blue\",\n",
    "    label=\"Steal\",\n",
    ")\n",
    "ax.set_xlabel(x_val)\n",
    "ax.set_ylabel(\"offset\")\n",
    "# ax.legend()\n",
    "# ax.set_ylim(0,2)"
   ]
  },
  {
   "cell_type": "code",
   "execution_count": 59,
   "metadata": {
    "collapsed": false,
    "jupyter": {
     "outputs_hidden": false
    },
    "pycharm": {
     "name": "#%%\n"
    }
   },
   "outputs": [
    {
     "name": "stdout",
     "output_type": "stream",
     "text": [
      "number of outliers: 3\n"
     ]
    },
    {
     "data": {
      "text/html": [
       "<div>\n",
       "<style scoped>\n",
       "    .dataframe tbody tr th:only-of-type {\n",
       "        vertical-align: middle;\n",
       "    }\n",
       "\n",
       "    .dataframe tbody tr th {\n",
       "        vertical-align: top;\n",
       "    }\n",
       "\n",
       "    .dataframe thead th {\n",
       "        text-align: right;\n",
       "    }\n",
       "</style>\n",
       "<table border=\"1\" class=\"dataframe\">\n",
       "  <thead>\n",
       "    <tr style=\"text-align: right;\">\n",
       "      <th></th>\n",
       "      <th>passed</th>\n",
       "      <th>offset</th>\n",
       "      <th>roll</th>\n",
       "      <th>threshold</th>\n",
       "      <th>pitcher_mul</th>\n",
       "      <th>runner_mul</th>\n",
       "      <th>fielder_mul</th>\n",
       "      <th>laser</th>\n",
       "      <th>runner_base_thirst</th>\n",
       "      <th>runner_name</th>\n",
       "      <th>pitcher_name</th>\n",
       "      <th>fielder_name</th>\n",
       "      <th>season</th>\n",
       "      <th>day</th>\n",
       "      <th>game_id</th>\n",
       "      <th>play_count</th>\n",
       "      <th>stadium_id</th>\n",
       "      <th>weather</th>\n",
       "    </tr>\n",
       "  </thead>\n",
       "  <tbody>\n",
       "    <tr>\n",
       "      <th>276995</th>\n",
       "      <td>True</td>\n",
       "      <td>0.000497</td>\n",
       "      <td>0.021791</td>\n",
       "      <td>0.021294</td>\n",
       "      <td>1.00</td>\n",
       "      <td>1.0</td>\n",
       "      <td>1.0</td>\n",
       "      <td>0.420770</td>\n",
       "      <td>0.219039</td>\n",
       "      <td>Denzel Scott</td>\n",
       "      <td>Agan Harrison</td>\n",
       "      <td>Lou Roseheart</td>\n",
       "      <td>14</td>\n",
       "      <td>14</td>\n",
       "      <td>01446566-6c61-4ff0-a151-b9acc94fa02f</td>\n",
       "      <td>9</td>\n",
       "      <td>06c991f6-4ef3-4a9a-8254-8a2bc7d3a1e1</td>\n",
       "      <td>Weather.BIRDS</td>\n",
       "    </tr>\n",
       "    <tr>\n",
       "      <th>326694</th>\n",
       "      <td>False</td>\n",
       "      <td>-0.000001</td>\n",
       "      <td>0.029469</td>\n",
       "      <td>0.029470</td>\n",
       "      <td>1.00</td>\n",
       "      <td>1.0</td>\n",
       "      <td>1.0</td>\n",
       "      <td>0.625042</td>\n",
       "      <td>0.840648</td>\n",
       "      <td>Basilio Fig</td>\n",
       "      <td>Jordan Hildebert</td>\n",
       "      <td>Jomgy Rolsenthal</td>\n",
       "      <td>13</td>\n",
       "      <td>89</td>\n",
       "      <td>191e39e1-bfea-4ac1-9ef9-2960d40ee07f</td>\n",
       "      <td>222</td>\n",
       "      <td>36b94380-39a6-4e32-b525-3e888215798a</td>\n",
       "      <td>Weather.FLOODING</td>\n",
       "    </tr>\n",
       "    <tr>\n",
       "      <th>419931</th>\n",
       "      <td>False</td>\n",
       "      <td>-0.000348</td>\n",
       "      <td>0.019829</td>\n",
       "      <td>0.020177</td>\n",
       "      <td>1.25</td>\n",
       "      <td>1.0</td>\n",
       "      <td>1.0</td>\n",
       "      <td>0.017520</td>\n",
       "      <td>0.001000</td>\n",
       "      <td>Tiana Wheeler</td>\n",
       "      <td>Beasley Gloom</td>\n",
       "      <td>Jesús Koch</td>\n",
       "      <td>14</td>\n",
       "      <td>90</td>\n",
       "      <td>dcd6d171-a761-494e-a4e0-95abc4e28a60</td>\n",
       "      <td>113</td>\n",
       "      <td>2a1a52b3-9759-44aa-ba49-b1437396d895</td>\n",
       "      <td>Weather.FLOODING</td>\n",
       "    </tr>\n",
       "  </tbody>\n",
       "</table>\n",
       "</div>"
      ],
      "text/plain": [
       "        passed    offset      roll  threshold  pitcher_mul  runner_mul  \\\n",
       "276995    True  0.000497  0.021791   0.021294         1.00         1.0   \n",
       "326694   False -0.000001  0.029469   0.029470         1.00         1.0   \n",
       "419931   False -0.000348  0.019829   0.020177         1.25         1.0   \n",
       "\n",
       "        fielder_mul     laser  runner_base_thirst    runner_name  \\\n",
       "276995          1.0  0.420770            0.219039   Denzel Scott   \n",
       "326694          1.0  0.625042            0.840648    Basilio Fig   \n",
       "419931          1.0  0.017520            0.001000  Tiana Wheeler   \n",
       "\n",
       "            pitcher_name      fielder_name  season  day  \\\n",
       "276995     Agan Harrison     Lou Roseheart      14   14   \n",
       "326694  Jordan Hildebert  Jomgy Rolsenthal      13   89   \n",
       "419931     Beasley Gloom        Jesús Koch      14   90   \n",
       "\n",
       "                                     game_id  play_count  \\\n",
       "276995  01446566-6c61-4ff0-a151-b9acc94fa02f           9   \n",
       "326694  191e39e1-bfea-4ac1-9ef9-2960d40ee07f         222   \n",
       "419931  dcd6d171-a761-494e-a4e0-95abc4e28a60         113   \n",
       "\n",
       "                                  stadium_id           weather  \n",
       "276995  06c991f6-4ef3-4a9a-8254-8a2bc7d3a1e1     Weather.BIRDS  \n",
       "326694  36b94380-39a6-4e32-b525-3e888215798a  Weather.FLOODING  \n",
       "419931  2a1a52b3-9759-44aa-ba49-b1437396d895  Weather.FLOODING  "
      ]
     },
     "execution_count": 59,
     "metadata": {},
     "output_type": "execute_result"
    }
   ],
   "source": [
    "# pd.set_option(\"display.max_rows\", None)  # default 60\n",
    "pd.set_option(\"display.max_columns\", 20)  # default 20\n",
    "table = outliers[\n",
    "    [\n",
    "        \"passed\",\n",
    "        \"offset\",\n",
    "        \"roll\",\n",
    "        \"threshold\",\n",
    "        # \"threshold_plot\",\n",
    "        # \"event_type\",  # \"home_score\", \"away_score\", \"top_of_inning\", \"inning\",\n",
    "        \"pitcher_mul\",\n",
    "        \"runner_mul\",\n",
    "        \"fielder_mul\",  # \"baserunner_count\",\n",
    "        # \"runner_vibes\", \"pitcher_vibes\",\n",
    "        \"laser\",\n",
    "        \"runner_base_thirst\",\n",
    "        # \"laser_thirst_term\",\n",
    "        # \"pwatch\",\n",
    "        # \"fwatch\",\n",
    "        # \"incon_center\",\n",
    "        # \"elong_center\",\n",
    "        # \"park_factors\",\n",
    "        \"runner_name\",\n",
    "        \"pitcher_name\",\n",
    "        \"fielder_name\",\n",
    "        # \"runner_mods\",\n",
    "        # \"pitcher_mods\",\n",
    "        # \"fielder_mods\",\n",
    "        # \"batting_team_mods\",\n",
    "        # \"pitching_team_mods\",\n",
    "        \"season\",\n",
    "        \"day\",\n",
    "        \"game_id\",\n",
    "        \"play_count\",\n",
    "        \"stadium_id\",\n",
    "        \"weather\",\n",
    "        # \"fielder_roll\",\n",
    "    ]\n",
    "]\n",
    "print(\"number of outliers:\", len(table))\n",
    "# print(table.groupby(\"season\").size())\n",
    "table.sort_values(\"offset\", ascending=False)  # [0:10]"
   ]
  },
  {
   "cell_type": "code",
   "execution_count": null,
   "metadata": {
    "collapsed": false,
    "jupyter": {
     "outputs_hidden": false
    },
    "pycharm": {
     "name": "#%%\n"
    }
   },
   "outputs": [],
   "source": []
  },
  {
   "cell_type": "code",
   "execution_count": 60,
   "metadata": {
    "collapsed": false,
    "jupyter": {
     "outputs_hidden": false
    },
    "pycharm": {
     "name": "#%%\n"
    }
   },
   "outputs": [
    {
     "data": {
      "image/png": "[encoded data removed]",
      "text/plain": [
       "<Figure size 720x1080 with 6 Axes>"
      ]
     },
     "metadata": {
      "needs_background": "light"
     },
     "output_type": "display_data"
    }
   ],
   "source": [
    "plt.rcParams[\"font.size\"] = 10\n",
    "x_val = \"threshold\"\n",
    "fig, axes = plt.subplots(3, 2, figsize=(10, 15), constrained_layout=True)\n",
    "# fig.suptitle(f\"Season {season+1} Hits vs. Outs\", fontsize=16)\n",
    "dimlist = [5e-2, 2e-2, 1e-2, 0.5e-2, 0.2e-2, 0.1e-2]\n",
    "for i, ax in enumerate(np.ravel(axes)):\n",
    "    ax.scatter(\n",
    "        dfc[dfc[\"passed\"]][x_val],\n",
    "        dfc[dfc[\"passed\"]][\"offset\"],\n",
    "        color=\"blue\",\n",
    "        label=\"Steal\",\n",
    "    )\n",
    "    ax.scatter(\n",
    "        dfc[~dfc[\"passed\"]][x_val],\n",
    "        dfc[~dfc[\"passed\"]][\"offset\"],\n",
    "        color=\"red\",\n",
    "        label=\"No Steal\",\n",
    "    )\n",
    "    ax.scatter(\n",
    "        outliers[~outliers[\"passed\"]][x_val],\n",
    "        outliers[~outliers[\"passed\"]][\"offset\"],\n",
    "        color=\"red\",\n",
    "        edgecolor=\"black\",\n",
    "    )\n",
    "    ax.scatter(\n",
    "        outliers[outliers[\"passed\"]][x_val],\n",
    "        outliers[outliers[\"passed\"]][\"offset\"],\n",
    "        color=\"blue\",\n",
    "        edgecolor=\"black\",\n",
    "    )\n",
    "    ax.set_xlabel(x_val)\n",
    "    ax.set_ylabel(\"offset\")\n",
    "    ax.legend()\n",
    "    ax.grid()\n",
    "    ax.set_ylim(-dimlist[i], dimlist[i])\n",
    "# fig.savefig(\"../figures/hit_out_fit_offsets.png\", facecolor='white')"
   ]
  },
  {
   "cell_type": "code",
   "execution_count": 17,
   "metadata": {},
   "outputs": [
    {
     "data": {
      "text/html": [
       "<div>\n",
       "<style scoped>\n",
       "    .dataframe tbody tr th:only-of-type {\n",
       "        vertical-align: middle;\n",
       "    }\n",
       "\n",
       "    .dataframe tbody tr th {\n",
       "        vertical-align: top;\n",
       "    }\n",
       "\n",
       "    .dataframe thead th {\n",
       "        text-align: right;\n",
       "    }\n",
       "</style>\n",
       "<table border=\"1\" class=\"dataframe\">\n",
       "  <thead>\n",
       "    <tr style=\"text-align: right;\">\n",
       "      <th></th>\n",
       "      <th>passed</th>\n",
       "      <th>offset</th>\n",
       "      <th>roll</th>\n",
       "      <th>threshold</th>\n",
       "      <th>laser</th>\n",
       "      <th>runner_base_thirst</th>\n",
       "      <th>runner_name</th>\n",
       "      <th>pitcher_name</th>\n",
       "      <th>fielder_name</th>\n",
       "      <th>season</th>\n",
       "      <th>day</th>\n",
       "      <th>game_id</th>\n",
       "      <th>play_count</th>\n",
       "      <th>stadium_id</th>\n",
       "      <th>weather</th>\n",
       "    </tr>\n",
       "  </thead>\n",
       "  <tbody>\n",
       "  </tbody>\n",
       "</table>\n",
       "</div>"
      ],
      "text/plain": [
       "Empty DataFrame\n",
       "Columns: [passed, offset, roll, threshold, laser, runner_base_thirst, runner_name, pitcher_name, fielder_name, season, day, game_id, play_count, stadium_id, weather]\n",
       "Index: []"
      ]
     },
     "execution_count": 17,
     "metadata": {},
     "output_type": "execute_result"
    }
   ],
   "source": [
    "check = dfc[dfc[\"game_id\"] == \"01a0cd64-6e0a-44cb-b766-5b7f0f8ca1a5\"]\n",
    "check2 = check[\n",
    "[\n",
    "        \"passed\",\n",
    "        \"offset\",\n",
    "        \"roll\",\n",
    "        \"threshold\",\n",
    "        # \"threshold_plot\",\n",
    "        # \"event_type\",  # \"home_score\", \"away_score\", \"top_of_inning\", \"inning\",\n",
    "        # \"pitcher_mul\",\n",
    "        # \"runner_mul\",\n",
    "        # \"fielder_mul\",  # \"baserunner_count\",\n",
    "        # \"runner_vibes\", \"pitcher_vibes\",\n",
    "        \"laser\",\n",
    "        \"runner_base_thirst\",\n",
    "        # \"laser_thirst_term\",\n",
    "        # \"pwatch\",\n",
    "        # \"fwatch\",\n",
    "        # \"incon_center\",\n",
    "        # \"elong_center\",\n",
    "        # \"park_factors\",\n",
    "        \"runner_name\",\n",
    "        \"pitcher_name\",\n",
    "        \"fielder_name\",\n",
    "        # \"runner_mods\",\n",
    "        # \"pitcher_mods\",\n",
    "        # \"fielder_mods\",\n",
    "        # \"batting_team_mods\",\n",
    "        # \"pitching_team_mods\",\n",
    "        \"season\",\n",
    "        \"day\",\n",
    "        \"game_id\",\n",
    "        \"play_count\",\n",
    "        \"stadium_id\",\n",
    "        \"weather\",\n",
    "        # \"fielder_roll\",\n",
    "    ]\n",
    "]\n",
    "check2[check2[\"play_count\"] == 215]\n",
    "# check[\"play_count\"]\n",
    "# check[check[\"play_count\"] == 215]"
   ]
  },
  {
   "cell_type": "code",
   "execution_count": null,
   "metadata": {},
   "outputs": [],
   "source": []
  },
  {
   "cell_type": "code",
   "execution_count": null,
   "metadata": {},
   "outputs": [],
   "source": []
  }
 ],
 "metadata": {
  "kernelspec": {
   "display_name": "Python 3 (ipykernel)",
   "language": "python",
   "name": "python3"
  },
  "language_info": {
   "codemirror_mode": {
    "name": "ipython",
    "version": 3
   },
   "file_extension": ".py",
   "mimetype": "text/x-python",
   "name": "python",
   "nbconvert_exporter": "python",
   "pygments_lexer": "ipython3",
   "version": "3.9.12"
  },
  "toc-autonumbering": false,
  "toc-showcode": true
 },
 "nbformat": 4,
 "nbformat_minor": 4
}
