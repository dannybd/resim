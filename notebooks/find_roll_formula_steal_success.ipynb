{
 "cells": [
  {
   "cell_type": "code",
   "execution_count": 1,
   "metadata": {
    "collapsed": false,
    "jupyter": {
     "outputs_hidden": false
    },
    "pycharm": {
     "name": "#%%\n"
    }
   },
   "outputs": [],
   "source": [
    "import glob\n",
    "\n",
    "import pandas as pd\n",
    "import matplotlib.pyplot as plt\n",
    "import numpy as np\n",
    "from matplotlib.markers import CARETLEFTBASE, CARETRIGHTBASE"
   ]
  },
  {
   "cell_type": "markdown",
   "metadata": {},
   "source": [
    "# Stolen Base Success\n",
    "\n",
    "This could really use more data. For stealing second base, I have formulas that work for each season, or in the case of season 15, *almost* work. But some of them are rather \"overfit\"-feeling, and also the Season 15 one has 2 stubborn outliers I don't know what to do with. Fitting to all seasons at once (for rolls below 0.95) actually does really well too (9 outliers out of 2185), so I don't know to what extent the variation I'm seeing in these formulas actually is real...\n",
    "\n",
    "Of note: The clearest change I can see in the data is that they added a cutoff for the threshold in season 14. For S14 and S15, no roll above 0.95 can be a success"
   ]
  },
  {
   "cell_type": "code",
   "execution_count": 2,
   "metadata": {
    "collapsed": false,
    "jupyter": {
     "outputs_hidden": false
    },
    "pycharm": {
     "name": "#%%\n"
    }
   },
   "outputs": [
    {
     "data": {
      "text/plain": [
       "1791"
      ]
     },
     "execution_count": 2,
     "metadata": {},
     "output_type": "execute_result"
    }
   ],
   "source": [
    "all_files = glob.glob(\"../roll_data/*-steal_success.csv\")\n",
    "\n",
    "df = pd.concat((pd.read_csv(f, dtype={\"stadium_id\": \"string\", \"is_strike\": \"boolean\"}) for f in all_files), ignore_index=True)\n",
    "\n",
    "season = 13\n",
    "df = df[df[\"season\"] == season]\n",
    "len(df)"
   ]
  },
  {
   "cell_type": "code",
   "execution_count": 3,
   "metadata": {
    "tags": []
   },
   "outputs": [],
   "source": [
    "def get_pitcher_mul(row):\n",
    "    pm = str(row[\"pitcher_mods\"])\n",
    "    ptm = str(row[\"pitching_team_mods\"])\n",
    "    mul = 1\n",
    "    if \"OVERPERFORMING\" in pm:\n",
    "        mul += 0.2\n",
    "    if \"OVERPERFORMING\" in ptm:\n",
    "        mul += 0.2\n",
    "    if \"UNDERPERFORMING\" in pm:\n",
    "        mul -= 0.2\n",
    "    if \"UNDERPERFORMING\" in ptm:\n",
    "        mul -= 0.2\n",
    "    if \"TRAVELING\" in ptm:\n",
    "        # pass  # traveling just doesn't do anything on pitchers?\n",
    "        if not row[\"top_of_inning\"]:\n",
    "            mul += 0.05\n",
    "    if \"HIGH_PRESSURE\" in ptm:\n",
    "        if row[\"weather\"] == \"Weather.FLOODING\" and row[\"baserunner_count\"] > 0:\n",
    "            mul += 0.25\n",
    "    if \"GROWTH\" in ptm:\n",
    "        mul += min(0.05, 0.05 * (row[\"day\"] / 99))\n",
    "        # pass  # growth doesn't do anything on pitchers either\n",
    "    if \"SINKING_SHIP\" in ptm:\n",
    "        mul += (14 - row[\"pitching_team_roster_size\"]) * 0.01\n",
    "    if \"AFFINITY_FOR_CROWS\" in ptm and row[\"weather\"] == \"Weather.BIRDS\":\n",
    "        mul += 0.5\n",
    "    return mul\n",
    "\n",
    "\n",
    "def get_batter_mul(row):\n",
    "    bm = str(row[\"batter_mods\"])\n",
    "    btm = str(row[\"batting_team_mods\"])\n",
    "    ptm = str(row[\"pitching_team_mods\"])\n",
    "    mul = 1\n",
    "    attrs = \"\"\n",
    "    if \"OVERPERFORMING\" in bm:\n",
    "        mul += 0.2\n",
    "    if \"OVERPERFORMING\" in btm:\n",
    "        mul += 0.2\n",
    "    if \"UNDERPERFORMING\" in bm:\n",
    "        mul -= 0.2\n",
    "    if \"UNDERPERFORMING\" in btm:\n",
    "        mul -= 0.2\n",
    "    if \"TRAVELING\" in btm:\n",
    "        if row[\"top_of_inning\"]:\n",
    "            # is this actually 0.035 instead of 0.05?\n",
    "            mul += 0.5\n",
    "    if \"GROWTH\" in btm:\n",
    "        # is this actually 0.035 instead of 0.05?\n",
    "        # mul += min(0.05, 0.05 * (row[\"day\"] / 99))\n",
    "        pass\n",
    "    if \"HIGH_PRESSURE\" in btm:\n",
    "        if row[\"weather\"] == \"Weather.FLOODING\" and row[\"baserunner_count\"] > 0:\n",
    "            mul += 0.25\n",
    "    if \"SINKING_SHIP\" in btm:\n",
    "        mul += (14 - row[\"batting_team_roster_size\"]) * 0.01\n",
    "    if \"AFFINITY_FOR_CROWS\" in btm and row[\"weather\"] == \"Weather.BIRDS\":\n",
    "        mul += 0.5\n",
    "    if \"CHUNKY\" in bm and row[\"weather\"] == \"Weather.PEANUTS\":\n",
    "        # todo: make this work if there's also, like, Overperforming active\n",
    "        # it only should apply to \"power\" attrs\n",
    "        mul += 1.0\n",
    "        attrs = \"batter_musclitude, batter_divinity, batter_ground_friction\"\n",
    "    if \"SMOOTH\" in bm and row[\"weather\"] == \"Weather.PEANUTS\":\n",
    "        # todo: make this work if there's also, like, Overperforming active\n",
    "        # it only should apply to \"speed\" attrs\n",
    "        # doing 80% because of evidence from the Spin Attack blessing that \"speed\"\n",
    "        # boosts laserlikeness 80% of what it says the total boost is?\n",
    "        mul += 0.80\n",
    "        attrs = \"batter_musclitude, batter_laserlikeness, batter_ground_friction, batter_continuation\"\n",
    "    if \"ON_FIRE\" in bm:\n",
    "        # todo: handle\n",
    "        # test \"+125% multiplier\"\n",
    "        # mul += 1.25\n",
    "        pass\n",
    "    # NVGs real??? eclipse weather, special case for Sutton Dreamy\n",
    "    # surely this will not break from scattering, right? (It totally will)\n",
    "    if row[\"batter_name\"] == \"Sutton Dreamy\" and row[\"weather\"] == \"Weather.ECLIPSE\":\n",
    "        # NVGs allow the player to play 50% better in a solar eclipse.\n",
    "        # This might affect fielding and baserunning as well?\n",
    "        mul += 0.50\n",
    "    return mul, attrs\n",
    "\n",
    "def get_fielder_mul(row):\n",
    "    fm = str(row[\"fielder_mods\"])\n",
    "    ptm = str(row[\"pitching_team_mods\"])\n",
    "    mul = 1\n",
    "    if \"OVERPERFORMING\" in fm:\n",
    "        mul += 0.2\n",
    "    if \"OVERPERFORMING\" in ptm:\n",
    "        mul += 0.2\n",
    "    if \"UNDERPERFORMING\" in fm:\n",
    "        mul -= 0.2\n",
    "    if \"UNDERPERFORMING\" in ptm:\n",
    "        mul -= 0.2\n",
    "    if \"TRAVELING\" in ptm:\n",
    "        # pass\n",
    "        if not row[\"top_of_inning\"]:\n",
    "            mul += 0.05\n",
    "    if \"HIGH_PRESSURE\" in ptm:\n",
    "        if row[\"weather\"] == 18 and str(row[\"baserunner_count\"]) > 0:\n",
    "            mul += 0.25\n",
    "    if \"GROWTH\" in ptm:\n",
    "        mul += min(0.05, 0.05 * (row[\"day\"] / 99))\n",
    "    if \"SINKING_SHIP\" in ptm:\n",
    "        mul += (14 - row[\"pitching_team_roster_size\"]) * 0.01\n",
    "    if \"AFFINITY_FOR_CROWS\" in ptm and row[\"weather\"] == \"Weather.BIRDS\":\n",
    "        mul += 0.5\n",
    "    if \"SHELLED\" in fm:\n",
    "        # is it this, or is it \"mul = 0\", I wonder\n",
    "        mul -= 1.0\n",
    "    if row[\"fielder_name\"] == \"Sutton Dreamy\" and row[\"weather\"] == \"Weather.ECLIPSE\":\n",
    "        # NVGs allow the player to play 50% better in a solar eclipse.\n",
    "        # This might affect fielding and baserunning as well?\n",
    "        mul += 0.50\n",
    "    return mul\n"
   ]
  },
  {
   "cell_type": "code",
   "execution_count": 26,
   "metadata": {
    "tags": []
   },
   "outputs": [],
   "source": [
    "# df[\"batter_mul\"] = df.apply(get_batter_mul, axis=1)\n",
    "# df[[\"batter_mul\", \"batter_mul_attrs\"]] = df.apply(get_batter_mul, axis=1, result_type=\"expand\")\n",
    "df[\"batter_mul\"] = df.apply(lambda x: 1, axis=1)\n",
    "df[\"pitcher_mul\"] = df.apply(get_pitcher_mul, axis=1)\n",
    "# df[\"pitcher_mul\"] = df.apply(lambda x: 1, axis=1)\n",
    "# df[\"fielder_mul\"] = df.apply(get_fielder_mul, axis=1)\n",
    "df[\"fielder_mul\"] = df.apply(get_pitcher_mul, axis=1)"
   ]
  },
  {
   "cell_type": "code",
   "execution_count": 27,
   "metadata": {
    "collapsed": false,
    "jupyter": {
     "outputs_hidden": false
    },
    "pycharm": {
     "name": "#%%\n"
    }
   },
   "outputs": [],
   "source": [
    "# df[\"baserunner_n\"] = [int(np.floor(len(x) / 40)) for x in df.loc[:, \"baserunner_count\"]]\n",
    "\n",
    "df.loc[df[\"pitcher_mods\"].astype(str).str.contains(\"SCATTERED\"), \"pitcher_vibes\"] = 0\n",
    "df.loc[df[\"batter_mods\"].astype(str).str.contains(\"SCATTERED\"), \"batter_vibes\"] = 0\n",
    "df.loc[df[\"fielder_mods\"].astype(str).str.contains(\"SCATTERED\"), \"fielder_vibes\"] = 0"
   ]
  },
  {
   "cell_type": "code",
   "execution_count": 28,
   "metadata": {
    "collapsed": false,
    "jupyter": {
     "outputs_hidden": false
    },
    "pycharm": {
     "name": "#%%\n"
    }
   },
   "outputs": [],
   "source": [
    "for attr in [\n",
    "    \"batter_buoyancy\",\n",
    "    \"batter_divinity\",\n",
    "    \"batter_martyrdom\",\n",
    "    \"batter_moxie\",\n",
    "    \"batter_musclitude\",\n",
    "    \"batter_patheticism\",\n",
    "    \"batter_thwackability\",\n",
    "    \"batter_tragicness\",\n",
    "    \"batter_coldness\",\n",
    "    \"batter_overpowerment\",\n",
    "    \"batter_ruthlessness\",\n",
    "    \"batter_shakespearianism\",\n",
    "    \"batter_suppression\",\n",
    "    \"batter_unthwackability\",\n",
    "    \"batter_base_thirst\",\n",
    "    \"batter_continuation\",\n",
    "    \"batter_ground_friction\",\n",
    "    \"batter_indulgence\",\n",
    "    \"batter_laserlikeness\",\n",
    "    \"batter_anticapitalism\",\n",
    "    \"batter_chasiness\",\n",
    "    \"batter_omniscience\",\n",
    "    \"batter_tenaciousness\",\n",
    "    \"batter_watchfulness\",\n",
    "    \"batter_pressurization\",\n",
    "    \"batter_cinnamon\",\n",
    "]:\n",
    "    # had to do all this to make chunky and smooth work correctly\n",
    "    # df[attr+\"_mul_vibe\"] = df.apply(lambda x: x[attr] * x[\"batter_mul\"] * (1 + 0.2 * x[\"batter_vibes\"])\n",
    "    #                               if (x[\"batter_mul_attrs\"] == \"\") or (attr in x[\"batter_mul_attrs\"])\n",
    "    #                               else x[attr] * (1 + 0.2 * x[\"batter_vibes\"]),\n",
    "    #                               axis=1)\n",
    "    df[attr + \"_mul_vibe\"] = df[attr] * df[\"batter_mul\"] * (1 + 0.2 * df[\"batter_vibes\"])"
   ]
  },
  {
   "cell_type": "code",
   "execution_count": 29,
   "metadata": {
    "collapsed": false,
    "jupyter": {
     "outputs_hidden": false
    },
    "pycharm": {
     "name": "#%%\n"
    }
   },
   "outputs": [],
   "source": [
    "df = df.copy()\n",
    "for attr in [\n",
    "    \"pitcher_buoyancy\",\n",
    "    \"pitcher_divinity\",\n",
    "    \"pitcher_martyrdom\",\n",
    "    \"pitcher_moxie\",\n",
    "    \"pitcher_musclitude\",\n",
    "    \"pitcher_patheticism\",\n",
    "    \"pitcher_thwackability\",\n",
    "    \"pitcher_tragicness\",\n",
    "    \"pitcher_ruthlessness\",\n",
    "    \"pitcher_overpowerment\",\n",
    "    \"pitcher_unthwackability\",\n",
    "    \"pitcher_shakespearianism\",\n",
    "    \"pitcher_suppression\",\n",
    "    \"pitcher_coldness\",\n",
    "    \"pitcher_base_thirst\",\n",
    "    \"pitcher_continuation\",\n",
    "    \"pitcher_ground_friction\",\n",
    "    \"pitcher_indulgence\",\n",
    "    \"pitcher_laserlikeness\",\n",
    "    \"pitcher_anticapitalism\",\n",
    "    \"pitcher_chasiness\",\n",
    "    \"pitcher_omniscience\",\n",
    "    \"pitcher_tenaciousness\",\n",
    "    \"pitcher_watchfulness\",\n",
    "    \"pitcher_pressurization\",\n",
    "    \"pitcher_cinnamon\",\n",
    "]:\n",
    "    # df[attr+\"_mul_vibe\"] = df.apply(lambda x: x[attr] * x[\"pitcher_mul\"] * (1 + 0.2 * df[\"pitcher_vibes\"])\n",
    "    #                           if (x[\"pitcher_mul_attrs\"] == \"\") or (attr in x[\"pitcher_mul_attrs\"])\n",
    "    #                           else x[attr] * (1 + 0.2 * df[\"pitcher_vibes\"]),\n",
    "    #                           axis=1)\n",
    "    df[attr + \"_mul_vibe\"] = df[attr] * df[\"pitcher_mul\"] * (1 + 0.2 * df[\"pitcher_vibes\"])"
   ]
  },
  {
   "cell_type": "code",
   "execution_count": 30,
   "metadata": {
    "collapsed": false,
    "jupyter": {
     "outputs_hidden": false
    },
    "pycharm": {
     "name": "#%%\n"
    }
   },
   "outputs": [],
   "source": [
    "if \"fielder_vibes\" in df:\n",
    "    for attr in [\n",
    "        \"fielder_anticapitalism\",\n",
    "        \"fielder_chasiness\",\n",
    "        \"fielder_omniscience\",\n",
    "        \"fielder_tenaciousness\",\n",
    "        \"fielder_watchfulness\",\n",
    "    ]:\n",
    "        # df[attr+\"_mul_vibe\"] = df.apply(lambda x: x[attr] * x[\"fielder_mul\"] * (1 + 0.2 * df[\"fielder_vibes\"])\n",
    "        #                       if (x[\"fielder_mul_attrs\"] == \"\") or (attr in x[\"fielder_mul_attrs\"])\n",
    "        #                       else x[attr] * (1 + 0.2 * df[\"fielder_vibes\"]),\n",
    "        #                       axis=1)\n",
    "        df[attr + \"_mul_vibe\"] = df[attr] * df[\"fielder_mul\"] * (1 + 0.2 * df[\"fielder_vibes\"])\n",
    "\n",
    "\n",
    "df = df.copy()"
   ]
  },
  {
   "cell_type": "code",
   "execution_count": 31,
   "metadata": {},
   "outputs": [
    {
     "data": {
      "text/plain": [
       "event_type\n",
       "StealSuccess0    1244\n",
       "StealSuccess1     476\n",
       "StealSuccess2      71\n",
       "dtype: int64"
      ]
     },
     "execution_count": 31,
     "metadata": {},
     "output_type": "execute_result"
    }
   ],
   "source": [
    "df.groupby(\"event_type\").size().sort_values(ascending=False)[0:15]"
   ]
  },
  {
   "cell_type": "code",
   "execution_count": 32,
   "metadata": {
    "collapsed": false,
    "jupyter": {
     "outputs_hidden": false
    },
    "pycharm": {
     "name": "#%%\n"
    }
   },
   "outputs": [
    {
     "data": {
      "text/plain": [
       "1244"
      ]
     },
     "execution_count": 32,
     "metadata": {},
     "output_type": "execute_result"
    }
   ],
   "source": [
    "# focus on stealing *second base* because it has the largest sample size\n",
    "dfc = df[df[\"event_type\"] == \"StealSuccess0\"].copy()\n",
    "# for exclude_mod in [\"OVERPERFORMING\", \"UNDERPERFORMING\", \"HIGH_PRESSURE\", \"GROWTH\", \"SINKING_SHIP\", \"TRAVELING\"]:\n",
    "# for exclude_mod in [\"FLINCH\", \"O_NO\", \"ON_FIRE\", \"GROWTH\", \"TRAVELING\"]:\n",
    "# for exclude_mod in [\"SPICY\", \"ON_FIRE\"]:\n",
    "# dfc = dfc[~dfc[\"batter_mods\"].astype(str).str.contains(exclude_mod)]\n",
    "#  dfc = dfc[~dfc[\"pitcher_mods\"].astype(str).str.contains(exclude_mod)]\n",
    "#  dfc = dfc[~dfc[\"pitching_team_mods\"].astype(str).str.contains(exclude_mod)]\n",
    "#  dfc = dfc[~dfc[\"batting_team_mods\"].astype(str).str.contains(exclude_mod)]\n",
    "\n",
    "\n",
    "# dfc = dfc[(dfc[\"pitcher_mul\"] == 1) & (dfc[\"batter_mul\"] == 1) & (dfc[\"fielder_mul\"] == 1)]\n",
    "\n",
    "# dfc = dfc[dfc['stadium_id'].isna()]\n",
    "\n",
    "len(dfc)"
   ]
  },
  {
   "cell_type": "code",
   "execution_count": 33,
   "metadata": {},
   "outputs": [
    {
     "data": {
      "text/plain": [
       "0.9462016727410094"
      ]
     },
     "execution_count": 33,
     "metadata": {},
     "output_type": "execute_result"
    }
   ],
   "source": [
    "dfc[dfc['passed']].loc[:, 'roll'].max()"
   ]
  },
  {
   "cell_type": "code",
   "execution_count": 34,
   "metadata": {
    "collapsed": false,
    "jupyter": {
     "outputs_hidden": false
    },
    "pycharm": {
     "name": "#%%\n"
    }
   },
   "outputs": [
    {
     "data": {
      "text/plain": [
       "1179"
      ]
     },
     "execution_count": 34,
     "metadata": {},
     "output_type": "execute_result"
    }
   ],
   "source": [
    "X = dfc[\n",
    "    [\n",
    "        \"roll\",\n",
    "        \"passed\",\n",
    "        # \"batter_base_thirst_mul_vibe\",\n",
    "        \"batter_laserlikeness_mul_vibe\",\n",
    "        # \"pitcher_watchfulness_mul_vibe\",\n",
    "        \"pitcher_anticapitalism_mul_vibe\",\n",
    "        # \"pitcher_coldness_mul_vibe\",\n",
    "        # \"laser_thirst\",\n",
    "        # \"explaser\",\n",
    "        # \"sinlaser\",\n",
    "        # \"lasersq\",\n",
    "        # \"laser3\",\n",
    "        # \"laser4\",\n",
    "        # \"laser5\",\n",
    "        # \"thirstsq\",\n",
    "        # \"cold_runners\",\n",
    "        # \"fielder_omniscience_mul_vibe\",\n",
    "        # 'fielder_tenaciousness_mul_vibe',\n",
    "        # \"fielder_watchfulness_mul_vibe\",\n",
    "        # \"fielder_watchfulness\",\n",
    "        \"fielder_anticapitalism_mul_vibe\",\n",
    "        # \"fielder_anticapitalism\",\n",
    "        # 'fielder_chasiness_mul_vibe',\n",
    "        # \"ballpark_grandiosity\",\n",
    "        # 'ballpark_fortification',\n",
    "        # \"ballpark_obtuseness\",\n",
    "        # 'ballpark_ominousness',\n",
    "        # \"ballpark_inconvenience\",\n",
    "        # \"ballpark_viscosity\",\n",
    "        # \"ballpark_forwardness\",\n",
    "        'ballpark_elongation',\n",
    "        # 'ballpark_mysticism',\n",
    "        # 'ballpark_filthiness',\n",
    "    ]\n",
    "]\n",
    "X = X[X['roll'] < 0.95]\n",
    "\n",
    "y = X[\"passed\"]\n",
    "X = X.drop(\"passed\", axis=1)\n",
    "len(X)"
   ]
  },
  {
   "cell_type": "code",
   "execution_count": 35,
   "metadata": {
    "collapsed": false,
    "jupyter": {
     "outputs_hidden": false
    },
    "pycharm": {
     "name": "#%%\n"
    }
   },
   "outputs": [
    {
     "name": "stdout",
     "output_type": "stream",
     "text": [
      "[[203   2]\n",
      " [  1 973]]\n",
      "              precision    recall  f1-score   support\n",
      "\n",
      "       False       1.00      0.99      0.99       205\n",
      "        True       1.00      1.00      1.00       974\n",
      "\n",
      "    accuracy                           1.00      1179\n",
      "   macro avg       1.00      0.99      1.00      1179\n",
      "weighted avg       1.00      1.00      1.00      1179\n",
      "\n",
      "0.9974554707379135\n"
     ]
    }
   ],
   "source": [
    "from sklearn.preprocessing import StandardScaler\n",
    "from sklearn.metrics import confusion_matrix\n",
    "from sklearn.metrics import classification_report\n",
    "from sklearn import svm, linear_model\n",
    "\n",
    "# # trainedsvm = svm.SVC(kernel='linear').fit(X, y)\n",
    "# trainedsvm = svm.LinearSVC(dual=False, max_iter=100000).fit(X, y)\n",
    "# predictionsvm = trainedsvm.predict(X)\n",
    "# print(confusion_matrix(y,predictionsvm))\n",
    "# print(classification_report(y,predictionsvm))\n",
    "\n",
    "sc = StandardScaler()\n",
    "X2 = sc.fit_transform(X)\n",
    "\n",
    "trainedsvm = svm.LinearSVC(dual=False, max_iter=10000000, C=10000, tol=1e-10).fit(X2, y)\n",
    "predictionsvm = trainedsvm.predict(X2)\n",
    "print(confusion_matrix(y, predictionsvm))\n",
    "print(classification_report(y, predictionsvm))\n",
    "print(trainedsvm.score(X2, y))"
   ]
  },
  {
   "cell_type": "code",
   "execution_count": 36,
   "metadata": {
    "collapsed": false,
    "jupyter": {
     "outputs_hidden": false
    },
    "pycharm": {
     "name": "#%%\n"
    }
   },
   "outputs": [
    {
     "name": "stdout",
     "output_type": "stream",
     "text": [
      "[-0.73490056]\n"
     ]
    },
    {
     "data": {
      "text/plain": [
       "[(1.0, 'roll'),\n",
       " (-0.43758854035817873, 'batter_laserlikeness_mul_vibe'),\n",
       " (0.2959800636709444, 'fielder_anticapitalism_mul_vibe'),\n",
       " (0.16246903934134996, 'ballpark_elongation'),\n",
       " (0.09221231569503376, 'pitcher_anticapitalism_mul_vibe')]"
      ]
     },
     "execution_count": 36,
     "metadata": {},
     "output_type": "execute_result"
    }
   ],
   "source": [
    "coef = np.true_divide(trainedsvm.coef_, sc.scale_)\n",
    "coef_scaled = coef / coef[0, 0]\n",
    "coef_list = coef_scaled.tolist()[0]\n",
    "\n",
    "intercept = trainedsvm.intercept_ - np.dot(coef, sc.mean_)\n",
    "intercept_scaled = intercept / coef[0, 0]\n",
    "print(intercept_scaled)\n",
    "sorted(zip(coef_list, X.columns), key=lambda x: abs(x[0]), reverse=True)"
   ]
  },
  {
   "cell_type": "markdown",
   "metadata": {},
   "source": [
    "## Best formulas so far"
   ]
  },
  {
   "cell_type": "code",
   "execution_count": 37,
   "metadata": {
    "collapsed": false,
    "jupyter": {
     "outputs_hidden": false
    },
    "pycharm": {
     "name": "#%%\n"
    }
   },
   "outputs": [
    {
     "data": {
      "text/plain": [
       "<matplotlib.legend.Legend at 0x7fc158b71430>"
      ]
     },
     "execution_count": 37,
     "metadata": {},
     "output_type": "execute_result"
    },
    {
     "data": {
      "image/png": "[encoded data removed]",
      "text/plain": [
       "<Figure size 432x432 with 1 Axes>"
      ]
     },
     "metadata": {
      "needs_background": "light"
     },
     "output_type": "display_data"
    }
   ],
   "source": [
    "# this works for season 12, with no maximum threshold cutoff!\n",
    "# elongation term is -0.05 for all data so the intercept is effectively 0.60\n",
    "# if season == 11:\n",
    "dfc.loc[(dfc[\"season\"] == 11), \"threshold\"] = (0.65\n",
    "                                               + 0.5 * dfc[\"batter_laserlikeness_mul_vibe\"]\n",
    "                                               - 0.30 * dfc[\"fielder_anticapitalism_mul_vibe\"]\n",
    "                                               - 0.10 * dfc[\"pitcher_anticapitalism_mul_vibe\"]\n",
    "                                               - 0.10 * dfc[\"ballpark_elongation\"]\n",
    "                                              )\n",
    "\n",
    "# this works for season 13, with no maximum threshold cutoff!\n",
    "# \"2/3\" as the intercept also works. this implies that stealing second got *slightly*\n",
    "# easier in that season...\n",
    "# if season == 12:\n",
    "dfc.loc[(dfc[\"season\"] == 12), \"threshold\"] = (0.666\n",
    "                                               + 0.5 * dfc[\"batter_laserlikeness_mul_vibe\"]\n",
    "                                               - 0.30 * dfc[\"fielder_anticapitalism_mul_vibe\"]\n",
    "                                               - 0.10 * dfc[\"pitcher_anticapitalism_mul_vibe\"]\n",
    "                                               - 0.10 * dfc[\"ballpark_elongation\"]\n",
    "                                              )\n",
    "\n",
    "# this works for season 14 but i really don't like how \"overfit\" it feels.\n",
    "# there IS a threshold at 0.95 in season 14!\n",
    "# if season == 13:\n",
    "dfc.loc[(dfc[\"season\"] == 13), \"threshold\"] = (0.8051\n",
    "                                               + 0.420 * dfc[\"batter_laserlikeness_mul_vibe\"]\n",
    "                                               - 0.291 * dfc[\"fielder_anticapitalism_mul_vibe\"]\n",
    "                                               - 0.106 * dfc[\"pitcher_anticapitalism_mul_vibe\"]\n",
    "                                               - 0.255 * dfc[\"ballpark_elongation\"]\n",
    "                                              )\n",
    "dfc.loc[((dfc[\"threshold\"] > 0.95) & (dfc[\"season\"] == 13)), \"threshold\"] = 0.95\n",
    "\n",
    "\n",
    "# this *almost* works for season 15 but i really don't like how \"overfit\" it feels.\n",
    "# also there are two weird stubborn outliers that I can't figure out how to get rid of.\n",
    "# the SVC can't get rid of them either...\n",
    "# there IS a threshold at 0.95 in season 15!\n",
    "# if season == 14:\n",
    "dfc.loc[(dfc[\"season\"] == 14), \"threshold\"] = (0.675\n",
    "                                               + 0.46 * dfc[\"batter_laserlikeness_mul_vibe\"]\n",
    "                                               - 0.302 * dfc[\"fielder_anticapitalism_mul_vibe\"]\n",
    "                                               - 0.091 * dfc[\"pitcher_anticapitalism_mul_vibe\"]\n",
    "                                               - 0.076 * dfc[\"ballpark_elongation\"]\n",
    "                                              )\n",
    "dfc.loc[((dfc[\"threshold\"] > 0.95) & (dfc[\"season\"] == 14)), \"threshold\"] = 0.95\n",
    "\n",
    "\n",
    "# this will use the most recent fit values\n",
    "# dfc[\"threshold\"] = -intercept_scaled[0]\n",
    "# print(-intercept_scaled)\n",
    "# for pair in zip(-np.array(coef_list), X.columns):\n",
    "#     if pair[1] != \"roll\":\n",
    "#         print(pair)\n",
    "#         dfc[\"threshold\"] += pair[0] * dfc[pair[1]]\n",
    "\n",
    "# dfc.loc[(dfc[\"threshold\"] > 0.95), \"threshold\"] = 0.95\n",
    "\n",
    "y_val = \"roll\"\n",
    "x_val = \"threshold\"\n",
    "# x_val = \"batter_watchfulness_mul_vibe\"\n",
    "fig, ax = plt.subplots(1, figsize=(6, 6))\n",
    "ax.scatter(\n",
    "    dfc[~dfc[\"passed\"]][x_val],\n",
    "    dfc[~dfc[\"passed\"]][y_val],\n",
    "    color=\"red\",\n",
    "    label=\"Caught\",\n",
    "    marker=CARETRIGHTBASE,\n",
    ")\n",
    "ax.scatter(\n",
    "    dfc[dfc[\"passed\"]][x_val],\n",
    "    dfc[dfc[\"passed\"]][y_val],\n",
    "    color=\"blue\",\n",
    "    label=\"Steal\",\n",
    "    marker=CARETLEFTBASE,\n",
    ")\n",
    "ax.set_xlabel(x_val)\n",
    "ax.set_ylabel(\"roll\")\n",
    "ax.set_title(f\"Season {season+1} Steal Success\")\n",
    "# ax.set_ylim(0, 1.0)\n",
    "\n",
    "if x_val == \"threshold\" or x_val == \"svc\":\n",
    "    ax.plot(ax.get_xlim(), ax.get_xlim())\n",
    "\n",
    "ax.legend()"
   ]
  },
  {
   "cell_type": "code",
   "execution_count": 38,
   "metadata": {
    "tags": []
   },
   "outputs": [
    {
     "data": {
      "text/plain": [
       "<matplotlib.legend.Legend at 0x7fc138e66100>"
      ]
     },
     "execution_count": 38,
     "metadata": {},
     "output_type": "execute_result"
    },
    {
     "data": {
      "image/png": "[encoded data removed]",
      "text/plain": [
       "<Figure size 432x288 with 1 Axes>"
      ]
     },
     "metadata": {
      "needs_background": "light"
     },
     "output_type": "display_data"
    }
   ],
   "source": [
    "dfc[\"offset\"] = dfc[\"roll\"] - dfc[\"threshold\"]\n",
    "outliers = dfc[(dfc[\"passed\"] & (dfc[\"offset\"] >= 0)) | (~dfc[\"passed\"] & (dfc[\"offset\"] <= 0))]\n",
    "\n",
    "fig, ax = plt.subplots(1)\n",
    "x_val = \"threshold\"\n",
    "# x_val = \"batter_laserlikeness_mul_vibe\"\n",
    "# x_val = \"pitcher_anticapitalism_mul_vibe\"\n",
    "# x_val = \"fielder_anticapitalism_mul_vibe\"\n",
    "# x_val = \"ballpark_elongation\"\n",
    "ax.scatter(\n",
    "    outliers[~outliers[\"passed\"]][x_val],\n",
    "    outliers[~outliers[\"passed\"]][\"offset\"],\n",
    "    color=\"red\",\n",
    "    label=\"Caught\",\n",
    ")\n",
    "ax.scatter(\n",
    "    outliers[outliers[\"passed\"]][x_val],\n",
    "    outliers[outliers[\"passed\"]][\"offset\"],\n",
    "    color=\"blue\",\n",
    "    label=\"Steal\",\n",
    ")\n",
    "ax.set_xlabel(x_val)\n",
    "ax.set_ylabel(\"offset\")\n",
    "ax.legend()"
   ]
  },
  {
   "cell_type": "code",
   "execution_count": 39,
   "metadata": {},
   "outputs": [
    {
     "name": "stdout",
     "output_type": "stream",
     "text": [
      "3\n",
      "-0.004797276053963129\n"
     ]
    },
    {
     "data": {
      "text/html": [
       "<div>\n",
       "<style scoped>\n",
       "    .dataframe tbody tr th:only-of-type {\n",
       "        vertical-align: middle;\n",
       "    }\n",
       "\n",
       "    .dataframe tbody tr th {\n",
       "        vertical-align: top;\n",
       "    }\n",
       "\n",
       "    .dataframe thead th {\n",
       "        text-align: right;\n",
       "    }\n",
       "</style>\n",
       "<table border=\"1\" class=\"dataframe\">\n",
       "  <thead>\n",
       "    <tr style=\"text-align: right;\">\n",
       "      <th></th>\n",
       "      <th>passed</th>\n",
       "      <th>offset</th>\n",
       "      <th>roll</th>\n",
       "      <th>threshold</th>\n",
       "      <th>pitcher_mul</th>\n",
       "      <th>batter_mul</th>\n",
       "      <th>fielder_mul</th>\n",
       "      <th>batter_laserlikeness_mul_vibe</th>\n",
       "      <th>pitcher_anticapitalism_mul_vibe</th>\n",
       "      <th>fielder_anticapitalism_mul_vibe</th>\n",
       "      <th>ballpark_elongation</th>\n",
       "      <th>batter_name</th>\n",
       "      <th>pitcher_name</th>\n",
       "      <th>fielder_name</th>\n",
       "      <th>batter_mods</th>\n",
       "      <th>pitcher_mods</th>\n",
       "      <th>fielder_mods</th>\n",
       "      <th>batting_team_mods</th>\n",
       "      <th>pitching_team_mods</th>\n",
       "      <th>season</th>\n",
       "      <th>day</th>\n",
       "      <th>game_id</th>\n",
       "      <th>play_count</th>\n",
       "      <th>weather</th>\n",
       "    </tr>\n",
       "  </thead>\n",
       "  <tbody>\n",
       "    <tr>\n",
       "      <th>2050</th>\n",
       "      <td>True</td>\n",
       "      <td>0.008742</td>\n",
       "      <td>0.702256</td>\n",
       "      <td>0.693513</td>\n",
       "      <td>1.010000</td>\n",
       "      <td>1</td>\n",
       "      <td>1.010000</td>\n",
       "      <td>1.012605</td>\n",
       "      <td>1.342483</td>\n",
       "      <td>0.876485</td>\n",
       "      <td>0.547139</td>\n",
       "      <td>Commissioner Vapor</td>\n",
       "      <td>Stevenson Heat</td>\n",
       "      <td>Christian Combs</td>\n",
       "      <td>PERK</td>\n",
       "      <td>ALTERNATE;FRIEND_OF_CROWS</td>\n",
       "      <td>FIRE_EATER</td>\n",
       "      <td>HIGH_PRESSURE;OVERPERFORMING</td>\n",
       "      <td>SINKING_SHIP</td>\n",
       "      <td>13</td>\n",
       "      <td>81</td>\n",
       "      <td>2c701ea0-fe1e-456a-bba2-395d8ad9f125</td>\n",
       "      <td>357</td>\n",
       "      <td>Weather.FLOODING</td>\n",
       "    </tr>\n",
       "    <tr>\n",
       "      <th>3565</th>\n",
       "      <td>False</td>\n",
       "      <td>-0.005643</td>\n",
       "      <td>0.417097</td>\n",
       "      <td>0.422740</td>\n",
       "      <td>1.012121</td>\n",
       "      <td>1</td>\n",
       "      <td>1.012121</td>\n",
       "      <td>0.688266</td>\n",
       "      <td>0.812793</td>\n",
       "      <td>1.599724</td>\n",
       "      <td>0.469630</td>\n",
       "      <td>Dudley Mueller</td>\n",
       "      <td>Chambers Simmons</td>\n",
       "      <td>Glabe Moon</td>\n",
       "      <td>SIPHON</td>\n",
       "      <td>NaN</td>\n",
       "      <td>SIPHON;PERK</td>\n",
       "      <td>BASE_INSTINCTS</td>\n",
       "      <td>GROWTH</td>\n",
       "      <td>13</td>\n",
       "      <td>24</td>\n",
       "      <td>74b4deb8-1c64-4b7e-8039-8b0f3d87ee0a</td>\n",
       "      <td>282</td>\n",
       "      <td>Weather.REVERB</td>\n",
       "    </tr>\n",
       "    <tr>\n",
       "      <th>2394</th>\n",
       "      <td>False</td>\n",
       "      <td>-0.007896</td>\n",
       "      <td>0.768533</td>\n",
       "      <td>0.776429</td>\n",
       "      <td>1.250000</td>\n",
       "      <td>1</td>\n",
       "      <td>1.250000</td>\n",
       "      <td>0.597447</td>\n",
       "      <td>0.297761</td>\n",
       "      <td>0.430085</td>\n",
       "      <td>0.481888</td>\n",
       "      <td>Jessica Telephone</td>\n",
       "      <td>Beasley Gloom</td>\n",
       "      <td>Alston Cerveza</td>\n",
       "      <td>SUPERALLERGIC;HONEY_ROASTED;EGO1</td>\n",
       "      <td>NaN</td>\n",
       "      <td>NaN</td>\n",
       "      <td>NaN</td>\n",
       "      <td>HIGH_PRESSURE</td>\n",
       "      <td>13</td>\n",
       "      <td>93</td>\n",
       "      <td>aeac9740-6fd6-43cb-86a2-a1f5ed56b195</td>\n",
       "      <td>308</td>\n",
       "      <td>Weather.FLOODING</td>\n",
       "    </tr>\n",
       "  </tbody>\n",
       "</table>\n",
       "</div>"
      ],
      "text/plain": [
       "      passed    offset      roll  threshold  pitcher_mul  batter_mul  \\\n",
       "2050    True  0.008742  0.702256   0.693513     1.010000           1   \n",
       "3565   False -0.005643  0.417097   0.422740     1.012121           1   \n",
       "2394   False -0.007896  0.768533   0.776429     1.250000           1   \n",
       "\n",
       "      fielder_mul  batter_laserlikeness_mul_vibe  \\\n",
       "2050     1.010000                       1.012605   \n",
       "3565     1.012121                       0.688266   \n",
       "2394     1.250000                       0.597447   \n",
       "\n",
       "      pitcher_anticapitalism_mul_vibe  fielder_anticapitalism_mul_vibe  \\\n",
       "2050                         1.342483                         0.876485   \n",
       "3565                         0.812793                         1.599724   \n",
       "2394                         0.297761                         0.430085   \n",
       "\n",
       "      ballpark_elongation         batter_name      pitcher_name  \\\n",
       "2050             0.547139  Commissioner Vapor    Stevenson Heat   \n",
       "3565             0.469630      Dudley Mueller  Chambers Simmons   \n",
       "2394             0.481888   Jessica Telephone     Beasley Gloom   \n",
       "\n",
       "         fielder_name                       batter_mods  \\\n",
       "2050  Christian Combs                              PERK   \n",
       "3565       Glabe Moon                            SIPHON   \n",
       "2394   Alston Cerveza  SUPERALLERGIC;HONEY_ROASTED;EGO1   \n",
       "\n",
       "                   pitcher_mods fielder_mods             batting_team_mods  \\\n",
       "2050  ALTERNATE;FRIEND_OF_CROWS   FIRE_EATER  HIGH_PRESSURE;OVERPERFORMING   \n",
       "3565                        NaN  SIPHON;PERK                BASE_INSTINCTS   \n",
       "2394                        NaN          NaN                           NaN   \n",
       "\n",
       "     pitching_team_mods  season  day                               game_id  \\\n",
       "2050       SINKING_SHIP      13   81  2c701ea0-fe1e-456a-bba2-395d8ad9f125   \n",
       "3565             GROWTH      13   24  74b4deb8-1c64-4b7e-8039-8b0f3d87ee0a   \n",
       "2394      HIGH_PRESSURE      13   93  aeac9740-6fd6-43cb-86a2-a1f5ed56b195   \n",
       "\n",
       "      play_count           weather  \n",
       "2050         357  Weather.FLOODING  \n",
       "3565         282    Weather.REVERB  \n",
       "2394         308  Weather.FLOODING  "
      ]
     },
     "execution_count": 39,
     "metadata": {},
     "output_type": "execute_result"
    }
   ],
   "source": [
    "# pd.set_option(\"display.max_rows\", None)\n",
    "pd.set_option(\"display.max_columns\", None)\n",
    "table = outliers[\n",
    "    [\n",
    "        \"passed\",\n",
    "        \"offset\",\n",
    "        \"roll\",\n",
    "        \"threshold\",\n",
    "        # \"event_type\",  # \"home_score\", \"away_score\", \"top_of_inning\", \"inning\",\n",
    "        \"pitcher_mul\",\n",
    "        \"batter_mul\",\n",
    "        \"fielder_mul\",  # \"baserunner_count\",\n",
    "        # \"batter_vibes\", \"pitcher_vibes\",\n",
    "        \"batter_laserlikeness_mul_vibe\",\n",
    "        \"pitcher_anticapitalism_mul_vibe\",\n",
    "        \"fielder_anticapitalism_mul_vibe\",\n",
    "        \"ballpark_elongation\",\n",
    "        \"batter_name\",\n",
    "        \"pitcher_name\",\n",
    "        \"fielder_name\",\n",
    "        \"batter_mods\",\n",
    "        \"pitcher_mods\",\n",
    "        \"fielder_mods\",\n",
    "        \"batting_team_mods\",\n",
    "        \"pitching_team_mods\",\n",
    "        \"season\",\n",
    "        \"day\",\n",
    "        \"game_id\",\n",
    "        \"play_count\",\n",
    "        # \"fielder_roll\",\n",
    "        \"weather\",\n",
    "    ]\n",
    "]\n",
    "print(len(table))\n",
    "print(sum(table.loc[:,\"offset\"]))\n",
    "table.sort_values(\"offset\", ascending=False)#[0:10]"
   ]
  },
  {
   "cell_type": "code",
   "execution_count": 40,
   "metadata": {},
   "outputs": [
    {
     "data": {
      "text/plain": [
       "0.355612"
      ]
     },
     "execution_count": 40,
     "metadata": {},
     "output_type": "execute_result"
    }
   ],
   "source": [
    "0.711224*0.5"
   ]
  },
  {
   "cell_type": "code",
   "execution_count": 41,
   "metadata": {},
   "outputs": [
    {
     "data": {
      "text/plain": [
       "0.6992170449048931"
      ]
     },
     "execution_count": 41,
     "metadata": {},
     "output_type": "execute_result"
    }
   ],
   "source": [
    "0.711224/1.017172"
   ]
  },
  {
   "cell_type": "code",
   "execution_count": 42,
   "metadata": {},
   "outputs": [
    {
     "data": {
      "text/plain": [
       "0.34960852245244656"
      ]
     },
     "execution_count": 42,
     "metadata": {},
     "output_type": "execute_result"
    }
   ],
   "source": [
    "0.6992170449048931*.5"
   ]
  },
  {
   "cell_type": "code",
   "execution_count": 43,
   "metadata": {},
   "outputs": [
    {
     "data": {
      "text/plain": [
       "0.006003477547553426"
      ]
     },
     "execution_count": 43,
     "metadata": {},
     "output_type": "execute_result"
    }
   ],
   "source": [
    "0.355612 - 0.34960852245244656"
   ]
  },
  {
   "cell_type": "code",
   "execution_count": 44,
   "metadata": {},
   "outputs": [
    {
     "data": {
      "text/plain": [
       "fielder_name\n",
       "Yurts Buttercup    19\n",
       "Jan Canberra       17\n",
       "Loubert Ji-Eun     16\n",
       "Slosh Truk         16\n",
       "Christian Combs    14\n",
       "dtype: int64"
      ]
     },
     "execution_count": 44,
     "metadata": {},
     "output_type": "execute_result"
    }
   ],
   "source": [
    "# outliers.sort_values('roll', ascending=True).style.hide()\n",
    "dfc.groupby(\"fielder_name\").size().sort_values(ascending=False)[0:5]"
   ]
  },
  {
   "cell_type": "code",
   "execution_count": 45,
   "metadata": {
    "collapsed": false,
    "jupyter": {
     "outputs_hidden": false
    },
    "pycharm": {
     "name": "#%%\n"
    }
   },
   "outputs": [
    {
     "data": {
      "text/plain": [
       "offset                             1.000000\n",
       "roll                               0.883976\n",
       "fielder_anticapitalism_mul_vibe    0.295534\n",
       "fielder_anticapitalism             0.287629\n",
       "fielder_tenaciousness_mul_vibe     0.108197\n",
       "fielder_chasiness_mul_vibe         0.102676\n",
       "fielder_omniscience_mul_vibe       0.099924\n",
       "fielder_watchfulness_mul_vibe      0.096293\n",
       "fielder_tenaciousness              0.089650\n",
       "fielder_omniscience                0.086907\n",
       "fielder_chasiness                  0.085091\n",
       "fielder_watchfulness               0.081948\n",
       "pitcher_patheticism_mul_vibe       0.075326\n",
       "fielder_vibes                      0.072336\n",
       "ballpark_elongation                0.069096\n",
       "pitcher_patheticism                0.066528\n",
       "pitcher_multiplier                 0.060636\n",
       "pitcher_mul                        0.058273\n",
       "fielder_mul                        0.058273\n",
       "what1                              0.057660\n",
       "batter_multiplier                  0.057524\n",
       "runner_on_first_multiplier         0.057524\n",
       "fielder_multiplier                 0.055991\n",
       "what2                              0.054638\n",
       "fielder_roll                       0.054638\n",
       "pitcher_anticapitalism_mul_vibe    0.049396\n",
       "runner_on_first_tragicness         0.042075\n",
       "batter_tragicness                  0.042075\n",
       "batter_tragicness_mul_vibe         0.040859\n",
       "pitcher_base_thirst_mul_vibe       0.039849\n",
       "Name: offset, dtype: float64"
      ]
     },
     "execution_count": 45,
     "metadata": {},
     "output_type": "execute_result"
    }
   ],
   "source": [
    "dfc.corr()[\"offset\"].sort_values(ascending=False)[0:30]"
   ]
  },
  {
   "cell_type": "code",
   "execution_count": null,
   "metadata": {
    "pycharm": {
     "name": "#%%\n"
    },
    "tags": []
   },
   "outputs": [],
   "source": []
  },
  {
   "cell_type": "code",
   "execution_count": 46,
   "metadata": {
    "pycharm": {
     "name": "#%%\n"
    },
    "tags": []
   },
   "outputs": [
    {
     "data": {
      "image/png": "[encoded data removed]",
      "text/plain": [
       "<Figure size 720x1080 with 6 Axes>"
      ]
     },
     "metadata": {
      "needs_background": "light"
     },
     "output_type": "display_data"
    }
   ],
   "source": [
    "plt.rcParams[\"font.size\"] = 10\n",
    "x_val = \"threshold\"\n",
    "fig, axes = plt.subplots(3, 2, figsize=(10, 15), constrained_layout=True)\n",
    "# fig.suptitle(f\"Season {season+1} Hits vs. Outs\", fontsize=16)\n",
    "dimlist = [5e-1, 2e-1, 1e-1, 0.5e-1, 0.2e-1, 0.1e-2]\n",
    "for i, ax in enumerate(np.ravel(axes)):\n",
    "    ax.scatter(\n",
    "        dfc[dfc[\"passed\"]][x_val],\n",
    "        dfc[dfc[\"passed\"]][\"offset\"],\n",
    "        color=\"blue\",\n",
    "        label=\"Steal\",\n",
    "    )\n",
    "    ax.scatter(\n",
    "        dfc[~dfc[\"passed\"]][x_val],\n",
    "        dfc[~dfc[\"passed\"]][\"offset\"],\n",
    "        color=\"red\",\n",
    "        label=\"Caught\",\n",
    "    )\n",
    "    ax.scatter(\n",
    "        outliers[~outliers[\"passed\"]][x_val],\n",
    "        outliers[~outliers[\"passed\"]][\"offset\"],\n",
    "        color=\"red\",\n",
    "        edgecolor=\"black\",\n",
    "    )\n",
    "    ax.scatter(\n",
    "        outliers[outliers[\"passed\"]][x_val],\n",
    "        outliers[outliers[\"passed\"]][\"offset\"],\n",
    "        color=\"blue\",\n",
    "        edgecolor=\"black\",\n",
    "    )\n",
    "    ax.set_xlabel(x_val)\n",
    "    ax.set_ylabel(\"offset\")\n",
    "    ax.legend()\n",
    "    ax.grid()\n",
    "    ax.set_ylim(-dimlist[i], dimlist[i])\n",
    "# fig.savefig(\"../figures/hit_out_fit_offsets.png\", facecolor='white')"
   ]
  },
  {
   "cell_type": "code",
   "execution_count": 49,
   "metadata": {
    "collapsed": false,
    "jupyter": {
     "outputs_hidden": false
    },
    "pycharm": {
     "name": "#%%\n"
    }
   },
   "outputs": [],
   "source": [
    "# pd.set_option(\"display.max_rows\", None)\n",
    "\n",
    "# dfc.loc[2050, ['roll', 'threshold']]"
   ]
  },
  {
   "cell_type": "code",
   "execution_count": null,
   "metadata": {
    "collapsed": false,
    "jupyter": {
     "outputs_hidden": false
    },
    "pycharm": {
     "name": "#%%\n"
    }
   },
   "outputs": [],
   "source": []
  },
  {
   "cell_type": "code",
   "execution_count": null,
   "metadata": {
    "tags": []
   },
   "outputs": [],
   "source": []
  },
  {
   "cell_type": "code",
   "execution_count": null,
   "metadata": {},
   "outputs": [],
   "source": []
  }
 ],
 "metadata": {
  "kernelspec": {
   "display_name": "Python 3 (ipykernel)",
   "language": "python",
   "name": "python3"
  },
  "language_info": {
   "codemirror_mode": {
    "name": "ipython",
    "version": 3
   },
   "file_extension": ".py",
   "mimetype": "text/x-python",
   "name": "python",
   "nbconvert_exporter": "python",
   "pygments_lexer": "ipython3",
   "version": "3.9.12"
  }
 },
 "nbformat": 4,
 "nbformat_minor": 4
}
