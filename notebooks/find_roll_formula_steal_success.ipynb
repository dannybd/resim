{
 "cells": [
  {
   "cell_type": "markdown",
   "metadata": {},
   "source": [
    "# Stolen Base Success\n",
    "\n",
    "This could really use more data. For stealing second base, I have formulas that work for each season, or in the case of season 15, *almost* work. But some of them are rather \"overfit\"-feeling, and also the Season 15 one has 2 stubborn outliers I don't know what to do with. Fitting to all seasons at once (for rolls below 0.95) actually does really well too (9 outliers out of 2185), so I don't know to what extent the variation I'm seeing in these formulas actually is real...\n",
    "\n",
    "Of note: The clearest change I can see in the data is that they added a cutoff for the threshold in season 14. For S14 and S15, no roll above 0.95 can be a success"
   ]
  },
  {
   "cell_type": "code",
   "execution_count": 1,
   "metadata": {
    "collapsed": false,
    "jupyter": {
     "outputs_hidden": false
    },
    "pycharm": {
     "name": "#%%\n"
    }
   },
   "outputs": [],
   "source": [
    "import glob\n",
    "\n",
    "import pandas as pd\n",
    "import matplotlib.pyplot as plt\n",
    "import numpy as np\n",
    "from matplotlib.markers import CARETLEFTBASE, CARETRIGHTBASE\n",
    "from csv_dtypes import column_dtypes\n",
    "\n",
    "from sklearn.preprocessing import StandardScaler\n",
    "from sklearn.metrics import confusion_matrix\n",
    "from sklearn.metrics import classification_report\n",
    "from sklearn import svm, linear_model"
   ]
  },
  {
   "cell_type": "code",
   "execution_count": 2,
   "metadata": {
    "collapsed": false,
    "jupyter": {
     "outputs_hidden": false
    },
    "pycharm": {
     "name": "#%%\n"
    }
   },
   "outputs": [
    {
     "data": {
      "text/plain": [
       "11357"
      ]
     },
     "execution_count": 2,
     "metadata": {},
     "output_type": "execute_result"
    }
   ],
   "source": [
    "all_files = glob.glob(\"../roll_data/*-steal_success.csv\")\n",
    "\n",
    "df = pd.concat((pd.read_csv(f, dtype=column_dtypes) for f in all_files), ignore_index=True)\n",
    "\n",
    "# seasons = [12]\n",
    "seasons = [11, 12, 13, 14]\n",
    "# seasons = [13]\n",
    "# seasons = [14]\n",
    "df = df[df[\"season\"].isin(seasons)]\n",
    "len(df)"
   ]
  },
  {
   "cell_type": "code",
   "execution_count": 3,
   "metadata": {
    "jupyter": {
     "source_hidden": true
    },
    "tags": []
   },
   "outputs": [],
   "source": [
    "def get_pitcher_mul(row):\n",
    "    pm = str(row[\"pitcher_mods\"])\n",
    "    ptm = str(row[\"pitching_team_mods\"])\n",
    "    mul = 1\n",
    "    if \"OVERPERFORMING\" in pm:\n",
    "        mul += 0.2\n",
    "    if \"OVERPERFORMING\" in ptm:\n",
    "        mul += 0.2\n",
    "    if \"UNDERPERFORMING\" in pm:\n",
    "        mul -= 0.2\n",
    "    if \"UNDERPERFORMING\" in ptm:\n",
    "        mul -= 0.2\n",
    "    if \"TRAVELING\" in ptm:\n",
    "        # pass  # traveling just doesn't do anything on pitchers?\n",
    "        if not row[\"top_of_inning\"]:\n",
    "            mul += 0.05\n",
    "    if \"HIGH_PRESSURE\" in ptm:\n",
    "        if row[\"weather\"] == \"Weather.FLOODING\" and row[\"baserunner_count\"] > 0:\n",
    "            mul += 0.25\n",
    "    if \"GROWTH\" in ptm:\n",
    "        mul += min(0.05, 0.05 * (row[\"day\"] / 99))\n",
    "        # pass  # growth doesn't do anything on pitchers either\n",
    "    if \"SINKING_SHIP\" in ptm:\n",
    "        mul += (14 - row[\"pitching_team_roster_size\"]) * 0.01\n",
    "    if \"AFFINITY_FOR_CROWS\" in ptm and row[\"weather\"] == \"Weather.BIRDS\":\n",
    "        mul += 0.5\n",
    "    return mul\n",
    "\n",
    "\n",
    "def get_runner_mul(row):\n",
    "    bm = str(row[\"runner_mods\"])\n",
    "    btm = str(row[\"batting_team_mods\"])\n",
    "    ptm = str(row[\"pitching_team_mods\"])\n",
    "    mul = 1\n",
    "    attrs = \"\"\n",
    "    if \"OVERPERFORMING\" in bm:\n",
    "        mul += 0.2\n",
    "    if \"OVERPERFORMING\" in btm:\n",
    "        mul += 0.2\n",
    "    if \"UNDERPERFORMING\" in bm:\n",
    "        mul -= 0.2\n",
    "    if \"UNDERPERFORMING\" in btm:\n",
    "        mul -= 0.2\n",
    "    if \"TRAVELING\" in btm:\n",
    "        if row[\"top_of_inning\"]:\n",
    "            # is this actually 0.035 instead of 0.05?\n",
    "            mul += 0.05\n",
    "    if \"GROWTH\" in btm:\n",
    "        # is this actually 0.035 instead of 0.05?\n",
    "        mul += min(0.05, 0.05 * (row[\"day\"] / 99))\n",
    "        pass\n",
    "    if \"HIGH_PRESSURE\" in btm:\n",
    "        if row[\"weather\"] == \"Weather.FLOODING\" and row[\"baserunner_count\"] > 0:\n",
    "            mul += 0.25\n",
    "    if \"SINKING_SHIP\" in btm:\n",
    "        mul += (14 - row[\"batting_team_roster_size\"]) * 0.01\n",
    "    # if \"AFFINITY_FOR_CROWS\" in btm and row[\"weather\"] == \"Weather.BIRDS\":\n",
    "    #     mul += 0.5\n",
    "    # if \"CHUNKY\" in bm and row[\"weather\"] == \"Weather.PEANUTS\":\n",
    "        # todo: make this work if there's also, like, Overperforming active\n",
    "        # it only should apply to \"power\" attrs\n",
    "        # mul += 1.0\n",
    "        # attrs = \"runner_musclitude, runner_divinity, runner_ground_friction\"\n",
    "    if \"SMOOTH\" in bm and row[\"weather\"] == \"Weather.PEANUTS\":\n",
    "        # todo: make this work if there's also, like, Overperforming active\n",
    "        # it only should apply to \"speed\" attrs\n",
    "        # doing 80% because of evidence from the Spin Attack blessing that \"speed\"\n",
    "        # boosts laserlikeness 80% of what it says the total boost is?\n",
    "        mul += 0.80\n",
    "        # attrs = \"runner_musclitude, runner_laserlikeness, runner_ground_friction, runner_continuation\"\n",
    "    if \"ON_FIRE\" in bm:\n",
    "        # todo: handle\n",
    "        # test \"+125% multiplier\"\n",
    "        # mul += 1.25\n",
    "        pass\n",
    "    # NVGs real??? eclipse weather, special case for Sutton Dreamy\n",
    "    # surely this will not break from scattering, right? (It totally will)\n",
    "    # if row[\"runner_name\"] == \"Sutton Dreamy\" and row[\"weather\"] == \"Weather.ECLIPSE\":\n",
    "        # NVGs allow the player to play 50% better in a solar eclipse.\n",
    "        # This might affect fielding and baserunning as well?\n",
    "        # mul += 0.50\n",
    "    return mul#, attrs\n",
    "\n",
    "def get_fielder_mul(row):\n",
    "    fm = str(row[\"fielder_mods\"])\n",
    "    ptm = str(row[\"pitching_team_mods\"])\n",
    "    mul = 1\n",
    "    if \"OVERPERFORMING\" in fm:\n",
    "        mul += 0.2\n",
    "    if \"OVERPERFORMING\" in ptm:\n",
    "        mul += 0.2\n",
    "    if \"UNDERPERFORMING\" in fm:\n",
    "        mul -= 0.2\n",
    "    if \"UNDERPERFORMING\" in ptm:\n",
    "        mul -= 0.2\n",
    "    if \"TRAVELING\" in ptm:\n",
    "        # pass\n",
    "        if not row[\"top_of_inning\"]:\n",
    "            mul += 0.05\n",
    "    if \"HIGH_PRESSURE\" in ptm:\n",
    "        if row[\"weather\"] == \"Weather.FLOODING\" and row[\"baserunner_count\"] > 0:\n",
    "            mul += 0.25\n",
    "    if \"GROWTH\" in ptm:\n",
    "        mul += min(0.05, 0.05 * (row[\"day\"] / 99))\n",
    "    if \"SINKING_SHIP\" in ptm:\n",
    "        mul += (14 - row[\"pitching_team_roster_size\"]) * 0.01\n",
    "    if \"AFFINITY_FOR_CROWS\" in ptm and row[\"weather\"] == \"Weather.BIRDS\":\n",
    "        mul += 0.5\n",
    "    if \"SHELLED\" in fm:\n",
    "        # is it this, or is it \"mul = 0\", I wonder\n",
    "        mul -= 1.0\n",
    "    # if row[\"fielder_name\"] == \"Sutton Dreamy\" and row[\"weather\"] == \"Weather.ECLIPSE\":\n",
    "        # NVGs allow the player to play 50% better in a solar eclipse.\n",
    "        # This might affect fielding and baserunning as well?\n",
    "        # mul += 0.50\n",
    "    return mul\n"
   ]
  },
  {
   "cell_type": "code",
   "execution_count": 4,
   "metadata": {
    "tags": []
   },
   "outputs": [],
   "source": [
    "df[\"runner_mul\"] = df.apply(get_runner_mul, axis=1)\n",
    "# df[[\"runner_mul\", \"runner_mul_attrs\"]] = df.apply(get_runner_mul, axis=1, result_type=\"expand\")\n",
    "# df[\"runner_mul\"] = df.apply(lambda x: 1, axis=1)\n",
    "df[\"pitcher_mul\"] = df.apply(get_pitcher_mul, axis=1)\n",
    "# df[\"pitcher_mul\"] = df.apply(lambda x: 1, axis=1)\n",
    "# df[\"fielder_mul\"] = df.apply(get_fielder_mul, axis=1)\n",
    "df[\"fielder_mul\"] = df.apply(get_fielder_mul, axis=1)"
   ]
  },
  {
   "cell_type": "code",
   "execution_count": 5,
   "metadata": {
    "collapsed": false,
    "jupyter": {
     "outputs_hidden": false
    },
    "pycharm": {
     "name": "#%%\n"
    }
   },
   "outputs": [],
   "source": [
    "df.loc[df[\"pitcher_mods\"].astype(str).str.contains(\"SCATTERED\"), \"pitcher_vibes\"] = 0\n",
    "df.loc[df[\"runner_mods\"].astype(str).str.contains(\"SCATTERED\"), \"runner_vibes\"] = 0\n",
    "df.loc[df[\"fielder_mods\"].astype(str).str.contains(\"SCATTERED\"), \"fielder_vibes\"] = 0"
   ]
  },
  {
   "cell_type": "code",
   "execution_count": 6,
   "metadata": {
    "collapsed": false,
    "jupyter": {
     "outputs_hidden": false
    },
    "pycharm": {
     "name": "#%%\n"
    }
   },
   "outputs": [],
   "source": [
    "for attr in [\n",
    "    \"runner_base_thirst\",\n",
    "    \"runner_continuation\",\n",
    "    \"runner_ground_friction\",\n",
    "    \"runner_indulgence\",\n",
    "    \"runner_laserlikeness\",\n",
    "]:\n",
    "    # had to do all this to make chunky and smooth work correctly\n",
    "    # df[attr+\"_mul_vibe\"] = df.apply(lambda x: x[attr] * x[\"runner_mul\"] * (1 + 0.2 * x[\"runner_vibes\"])\n",
    "    #                               if (x[\"runner_mul_attrs\"] == \"\") or (attr in x[\"runner_mul_attrs\"])\n",
    "    #                               else x[attr] * (1 + 0.2 * x[\"runner_vibes\"]),\n",
    "    #                               axis=1)\n",
    "    df[attr + \"_mul_vibe\"] = df[attr] * df[\"runner_mul\"] * (1 + 0.2 * df[\"runner_vibes\"])"
   ]
  },
  {
   "cell_type": "code",
   "execution_count": 7,
   "metadata": {
    "collapsed": false,
    "jupyter": {
     "outputs_hidden": false
    },
    "pycharm": {
     "name": "#%%\n"
    }
   },
   "outputs": [],
   "source": [
    "df = df.copy()\n",
    "for attr in [\n",
    "    \"pitcher_ruthlessness\",\n",
    "    \"pitcher_overpowerment\",\n",
    "    \"pitcher_unthwackability\",\n",
    "    \"pitcher_shakespearianism\",\n",
    "    \"pitcher_suppression\",\n",
    "    \"pitcher_coldness\",\n",
    "    \"pitcher_anticapitalism\",\n",
    "    \"pitcher_chasiness\",\n",
    "    \"pitcher_omniscience\",\n",
    "    \"pitcher_tenaciousness\",\n",
    "    \"pitcher_watchfulness\",\n",
    "]:\n",
    "    # df[attr+\"_mul_vibe\"] = df.apply(lambda x: x[attr] * x[\"pitcher_mul\"] * (1 + 0.2 * df[\"pitcher_vibes\"])\n",
    "    #                           if (x[\"pitcher_mul_attrs\"] == \"\") or (attr in x[\"pitcher_mul_attrs\"])\n",
    "    #                           else x[attr] * (1 + 0.2 * df[\"pitcher_vibes\"]),\n",
    "    #                           axis=1)\n",
    "    df[attr + \"_mul\"] = df[attr] * df[\"pitcher_mul\"]\n",
    "    df[attr + \"_mul_vibe\"] = df[attr] * df[\"pitcher_mul\"] * (1 + 0.2 * df[\"pitcher_vibes\"])"
   ]
  },
  {
   "cell_type": "code",
   "execution_count": 8,
   "metadata": {
    "collapsed": false,
    "jupyter": {
     "outputs_hidden": false
    },
    "pycharm": {
     "name": "#%%\n"
    }
   },
   "outputs": [],
   "source": [
    "if \"fielder_vibes\" in df:\n",
    "    for attr in [\n",
    "        \"fielder_anticapitalism\",\n",
    "        \"fielder_chasiness\",\n",
    "        \"fielder_omniscience\",\n",
    "        \"fielder_tenaciousness\",\n",
    "        \"fielder_watchfulness\",\n",
    "    ]:\n",
    "        # df[attr+\"_mul_vibe\"] = df.apply(lambda x: x[attr] * x[\"fielder_mul\"] * (1 + 0.2 * df[\"fielder_vibes\"])\n",
    "        #                       if (x[\"fielder_mul_attrs\"] == \"\") or (attr in x[\"fielder_mul_attrs\"])\n",
    "        #                       else x[attr] * (1 + 0.2 * df[\"fielder_vibes\"]),\n",
    "        #                       axis=1)\n",
    "        df[attr + \"_mul_vibe\"] = df[attr] * df[\"fielder_mul\"] * (1 + 0.2 * df[\"fielder_vibes\"])\n",
    "\n",
    "\n",
    "df = df.copy()"
   ]
  },
  {
   "cell_type": "code",
   "execution_count": 9,
   "metadata": {},
   "outputs": [
    {
     "data": {
      "text/plain": [
       "event_type\n",
       "StealSuccess0    7430\n",
       "StealSuccess1    3500\n",
       "StealSuccess2     427\n",
       "dtype: int64"
      ]
     },
     "execution_count": 9,
     "metadata": {},
     "output_type": "execute_result"
    }
   ],
   "source": [
    "df.groupby(\"event_type\").size().sort_values(ascending=False)[0:15]"
   ]
  },
  {
   "cell_type": "code",
   "execution_count": 10,
   "metadata": {
    "collapsed": false,
    "jupyter": {
     "outputs_hidden": false
    },
    "pycharm": {
     "name": "#%%\n"
    }
   },
   "outputs": [
    {
     "data": {
      "text/plain": [
       "8677"
      ]
     },
     "execution_count": 10,
     "metadata": {},
     "output_type": "execute_result"
    }
   ],
   "source": [
    "# focus on stealing *second base* because it has the largest sample size\n",
    "# dfc = df[df[\"event_type\"] == \"StealSuccess1\"].copy()\n",
    "dfc = df.copy()\n",
    "# for exclude_mod in [\"OVERPERFORMING\", \"UNDERPERFORMING\", \"HIGH_PRESSURE\", \"GROWTH\", \"SINKING_SHIP\", \"TRAVELING\"]:\n",
    "# for exclude_mod in [\"FLINCH\", \"O_NO\", \"ON_FIRE\", \"GROWTH\", \"TRAVELING\"]:\n",
    "# for exclude_mod in [\"SPICY\", \"ON_FIRE\"]:\n",
    "# dfc = dfc[~dfc[\"runner_mods\"].astype(str).str.contains(exclude_mod)]\n",
    "#  dfc = dfc[~dfc[\"pitcher_mods\"].astype(str).str.contains(exclude_mod)]\n",
    "#  dfc = dfc[~dfc[\"pitching_team_mods\"].astype(str).str.contains(exclude_mod)]\n",
    "#  dfc = dfc[~dfc[\"batting_team_mods\"].astype(str).str.contains(exclude_mod)]\n",
    "\n",
    "\n",
    "dfc = dfc[(dfc[\"pitcher_mul\"] == 1) & (dfc[\"runner_mul\"] == 1) & (dfc[\"fielder_mul\"] == 1)]\n",
    "\n",
    "dfc[\"elong_center\"] = dfc[\"ballpark_elongation\"] - 0.5\n",
    "dfc[\"incon_center\"] = dfc[\"ballpark_inconvenience\"] - 0.5\n",
    "# dfc = dfc[dfc['stadium_id'].isna()]\n",
    "\n",
    "len(dfc)"
   ]
  },
  {
   "cell_type": "code",
   "execution_count": 11,
   "metadata": {},
   "outputs": [
    {
     "data": {
      "text/plain": [
       "0.9987812941996794"
      ]
     },
     "execution_count": 11,
     "metadata": {},
     "output_type": "execute_result"
    }
   ],
   "source": [
    "dfc[dfc['passed']].loc[:, 'roll'].max()"
   ]
  },
  {
   "cell_type": "code",
   "execution_count": 12,
   "metadata": {
    "collapsed": false,
    "jupyter": {
     "outputs_hidden": false
    },
    "pycharm": {
     "name": "#%%\n"
    }
   },
   "outputs": [
    {
     "name": "stdout",
     "output_type": "stream",
     "text": [
      "[[1439    1]\n",
      " [   6 6782]]\n",
      "7 outliers\n",
      "0.9991492464754497\n",
      "intercept: 0.65\n",
      "(0.45, 'runner_laserlikeness_mul_vibe')\n",
      "(-0.1, 'pitcher_anticapitalism_mul')\n",
      "(-0.3, 'fielder_anticapitalism_mul_vibe')\n",
      "(-0.15, 'elong_center')\n"
     ]
    }
   ],
   "source": [
    "X = dfc[\n",
    "    [\n",
    "        \"roll\",\n",
    "        \"passed\",\n",
    "        \"runner_laserlikeness_mul_vibe\",\n",
    "        \"pitcher_anticapitalism_mul\",\n",
    "        \"fielder_anticapitalism_mul_vibe\",\n",
    "        \"elong_center\",\n",
    "        # \"incon_center\",\n",
    "    ]\n",
    "]\n",
    "X = X[X['roll'] < 0.95]\n",
    "\n",
    "y = X[\"passed\"]\n",
    "X = X.drop(\"passed\", axis=1)\n",
    "\n",
    "pin_intercept = None\n",
    "pin_intercept = 0.65\n",
    "pins = [\n",
    "    ( 0.45, 'runner_laserlikeness_mul_vibe'),\n",
    "    (-0.10, 'pitcher_anticapitalism_mul'),\n",
    "    (-0.30, 'fielder_anticapitalism_mul_vibe'),\n",
    "    (-0.15, 'elong_center'),\n",
    "]\n",
    "for val, var in pins:\n",
    "    X[\"roll\"] -= X[var] * val\n",
    "    X = X.drop(var, axis=1)\n",
    "\n",
    "sc = StandardScaler(with_mean=False)\n",
    "X2 = sc.fit_transform(X)\n",
    "if pin_intercept is not None:\n",
    "    X2[:, 0] -= pin_intercept / sc.scale_[0]\n",
    "\n",
    "trainedsvm = svm.LinearSVC(\n",
    "    dual=False, max_iter=10000000, C=100000000, tol=1e-12, fit_intercept=pin_intercept is None\n",
    ").fit(X2, y)\n",
    "predictionsvm = trainedsvm.predict(X2)\n",
    "print(confusion_matrix(y, predictionsvm))\n",
    "print(confusion_matrix(y, predictionsvm)[0, 1] + confusion_matrix(y, predictionsvm)[1, 0], \"outliers\")\n",
    "print(trainedsvm.score(X2, y))\n",
    "\n",
    "coef = np.true_divide(trainedsvm.coef_, sc.scale_)\n",
    "coef_scaled = coef / coef[0, 0]\n",
    "coef_list = coef_scaled.tolist()[0]\n",
    "\n",
    "intercept = trainedsvm.intercept_  # - np.dot(coef, sc.mean_)\n",
    "intercept_scaled = -(intercept / coef[0, 0])[0] if pin_intercept is None else pin_intercept\n",
    "\n",
    "dfc[\"threshold\"] = intercept_scaled\n",
    "print(\"intercept:\", intercept_scaled)\n",
    "for pair in pins + list(zip(-np.array(coef_list), X.columns)):\n",
    "    if \"roll\" not in pair[1]:\n",
    "        print(pair)\n",
    "        dfc[\"threshold\"] += pair[0] * dfc[pair[1]]\n",
    "dfc[\"threshold_plot\"] = dfc[\"threshold\"].copy()"
   ]
  },
  {
   "cell_type": "markdown",
   "metadata": {},
   "source": [
    "## Best formulas so far"
   ]
  },
  {
   "cell_type": "code",
   "execution_count": 13,
   "metadata": {
    "collapsed": false,
    "jupyter": {
     "outputs_hidden": false
    },
    "pycharm": {
     "name": "#%%\n"
    }
   },
   "outputs": [
    {
     "data": {
      "text/plain": [
       "<matplotlib.legend.Legend at 0x7fefc0e33c70>"
      ]
     },
     "execution_count": 13,
     "metadata": {},
     "output_type": "execute_result"
    },
    {
     "data": {
      "image/png": "[encoded data removed]",
      "text/plain": [
       "<Figure size 432x432 with 1 Axes>"
      ]
     },
     "metadata": {
      "needs_background": "light"
     },
     "output_type": "display_data"
    }
   ],
   "source": [
    "# this works for season 12, with no maximum threshold cutoff!\n",
    "# if season == 11:\n",
    "# dfc.loc[(dfc[\"season\"] == 11), \"threshold\"] = (0.65\n",
    "#                                                + 0.45 * dfc[\"runner_laserlikeness_mul_vibe\"]\n",
    "#                                                - 0.30 * dfc[\"fielder_anticapitalism_mul_vibe\"]\n",
    "#                                                - 0.10 * dfc[\"pitcher_anticapitalism_mul\"]\n",
    "#                                                - 0.20 * dfc[\"elong_center\"]\n",
    "#                                               )\n",
    "\n",
    "# this works for season 13, with no maximum threshold cutoff!\n",
    "# if season == 12:\n",
    "# dfc.loc[(dfc[\"season\"] == 12), \"threshold\"] = (0.65\n",
    "#                                                + 0.45 * dfc[\"runner_laserlikeness_mul_vibe\"]\n",
    "#                                                - 0.30 * dfc[\"fielder_anticapitalism_mul_vibe\"]\n",
    "#                                                - 0.10 * dfc[\"pitcher_anticapitalism_mul\"]\n",
    "#                                                - 0.20 * dfc[\"elong_center\"]\n",
    "#                                               )\n",
    "\n",
    "# this works for season 14\n",
    "# there IS a threshold at 0.95 in season 14!\n",
    "# if season == 13:\n",
    "# dfc.loc[(dfc[\"season\"] == 13), \"threshold\"] = (0.65\n",
    "#                                                + 0.45 * dfc[\"runner_laserlikeness_mul_vibe\"]\n",
    "#                                                - 0.30 * dfc[\"fielder_anticapitalism_mul_vibe\"]\n",
    "#                                                - 0.10 * dfc[\"pitcher_anticapitalism_mul\"]\n",
    "#                                                - 0.15 * dfc[\"elong_center\"]\n",
    "#                                               )\n",
    "dfc.loc[((dfc[\"threshold\"] > 0.95) & (dfc[\"season\"] == 13)), \"threshold\"] = 0.95\n",
    "\n",
    "\n",
    "# this *almost* works for season 15; there are 1 or 2 outliers I can't get rid of.\n",
    "# there IS a threshold at 0.95 in season 15!\n",
    "# if season == 14:\n",
    "# dfc.loc[(dfc[\"season\"] == 14), \"threshold\"] = (0.65\n",
    "#                                                + 0.45 * dfc[\"runner_laserlikeness_mul_vibe\"]\n",
    "#                                                - 0.30 * dfc[\"fielder_anticapitalism_mul_vibe\"]\n",
    "#                                                - 0.10 * dfc[\"pitcher_anticapitalism_mul\"]\n",
    "#                                                - 0.15 * dfc[\"elong_center\"]\n",
    "#                                               )\n",
    "dfc.loc[((dfc[\"threshold\"] > 0.95) & (dfc[\"season\"] == 14)), \"threshold\"] = 0.95\n",
    "\n",
    "\n",
    "# this will use the most recent fit values\n",
    "# dfc[\"threshold\"] = -intercept_scaled[0]\n",
    "# print(-intercept_scaled)\n",
    "# for pair in zip(-np.array(coef_list), X.columns):\n",
    "#     if pair[1] != \"roll\":\n",
    "#         print(pair)\n",
    "#         dfc[\"threshold\"] += pair[0] * dfc[pair[1]]\n",
    "\n",
    "# dfc.loc[(dfc[\"threshold\"] > 0.95), \"threshold\"] = 0.95\n",
    "\n",
    "y_val = \"roll\"\n",
    "x_val = \"threshold_plot\"\n",
    "# x_val = \"elong_center\"\n",
    "fig, ax = plt.subplots(1, figsize=(6, 6))\n",
    "ax.scatter(\n",
    "    dfc[~dfc[\"passed\"]][x_val],\n",
    "    dfc[~dfc[\"passed\"]][y_val],\n",
    "    color=\"red\",\n",
    "    label=\"Caught\",\n",
    "    marker=CARETRIGHTBASE,\n",
    ")\n",
    "ax.scatter(\n",
    "    dfc[dfc[\"passed\"]][x_val],\n",
    "    dfc[dfc[\"passed\"]][y_val],\n",
    "    color=\"blue\",\n",
    "    label=\"Steal\",\n",
    "    marker=CARETLEFTBASE,\n",
    ")\n",
    "ax.set_xlabel(x_val)\n",
    "ax.set_ylabel(\"roll\")\n",
    "# ax.set_title(f\"Season {season+1} Steal Success\")\n",
    "# ax.set_ylim(0, 1.0)\n",
    "\n",
    "if x_val == \"threshold\" or x_val == \"svc\":\n",
    "    ax.plot(ax.get_xlim(), ax.get_xlim())\n",
    "\n",
    "ax.legend()"
   ]
  },
  {
   "cell_type": "code",
   "execution_count": 14,
   "metadata": {
    "tags": []
   },
   "outputs": [
    {
     "data": {
      "text/plain": [
       "<matplotlib.legend.Legend at 0x7fefc84c99d0>"
      ]
     },
     "execution_count": 14,
     "metadata": {},
     "output_type": "execute_result"
    },
    {
     "data": {
      "image/png": "[encoded data removed]",
      "text/plain": [
       "<Figure size 432x288 with 1 Axes>"
      ]
     },
     "metadata": {
      "needs_background": "light"
     },
     "output_type": "display_data"
    }
   ],
   "source": [
    "dfc[\"offset\"] = dfc[\"roll\"] - dfc[\"threshold\"]\n",
    "outliers = dfc[(dfc[\"passed\"] & (dfc[\"offset\"] >= 0)) | (~dfc[\"passed\"] & (dfc[\"offset\"] <= 0))]\n",
    "\n",
    "fig, ax = plt.subplots(1)\n",
    "x_val = \"threshold\"\n",
    "# x_val = \"runner_laserlikeness_mul_vibe\"\n",
    "# x_val = \"pitcher_anticapitalism_mul_vibe\"\n",
    "# x_val = \"fielder_anticapitalism_mul_vibe\"\n",
    "# x_val = \"elong_center\"\n",
    "# x_val = \"runner_vibes\"\n",
    "# x_val = \"pitcher_vibes\"\n",
    "# x_val = \"fielder_vibes\"\n",
    "ax.scatter(\n",
    "    outliers[~outliers[\"passed\"]][x_val],\n",
    "    outliers[~outliers[\"passed\"]][\"offset\"],\n",
    "    color=\"red\",\n",
    "    label=\"Caught\",\n",
    ")\n",
    "ax.scatter(\n",
    "    outliers[outliers[\"passed\"]][x_val],\n",
    "    outliers[outliers[\"passed\"]][\"offset\"],\n",
    "    color=\"blue\",\n",
    "    label=\"Steal\",\n",
    ")\n",
    "ax.set_xlabel(x_val)\n",
    "ax.set_ylabel(\"offset\")\n",
    "ax.legend()"
   ]
  },
  {
   "cell_type": "code",
   "execution_count": 15,
   "metadata": {},
   "outputs": [
    {
     "name": "stdout",
     "output_type": "stream",
     "text": [
      "7\n",
      "0.022338406880669126\n"
     ]
    },
    {
     "data": {
      "text/html": [
       "<div>\n",
       "<style scoped>\n",
       "    .dataframe tbody tr th:only-of-type {\n",
       "        vertical-align: middle;\n",
       "    }\n",
       "\n",
       "    .dataframe tbody tr th {\n",
       "        vertical-align: top;\n",
       "    }\n",
       "\n",
       "    .dataframe thead th {\n",
       "        text-align: right;\n",
       "    }\n",
       "</style>\n",
       "<table border=\"1\" class=\"dataframe\">\n",
       "  <thead>\n",
       "    <tr style=\"text-align: right;\">\n",
       "      <th></th>\n",
       "      <th>passed</th>\n",
       "      <th>offset</th>\n",
       "      <th>roll</th>\n",
       "      <th>threshold</th>\n",
       "      <th>event_type</th>\n",
       "      <th>pitcher_mul</th>\n",
       "      <th>runner_mul</th>\n",
       "      <th>fielder_mul</th>\n",
       "      <th>runner_laserlikeness_mul_vibe</th>\n",
       "      <th>pitcher_anticapitalism_mul_vibe</th>\n",
       "      <th>fielder_anticapitalism_mul_vibe</th>\n",
       "      <th>elong_center</th>\n",
       "      <th>runner_name</th>\n",
       "      <th>pitcher_name</th>\n",
       "      <th>fielder_name</th>\n",
       "      <th>runner_mods</th>\n",
       "      <th>pitcher_mods</th>\n",
       "      <th>fielder_mods</th>\n",
       "      <th>batting_team_mods</th>\n",
       "      <th>pitching_team_mods</th>\n",
       "      <th>season</th>\n",
       "      <th>day</th>\n",
       "      <th>game_id</th>\n",
       "      <th>play_count</th>\n",
       "      <th>weather</th>\n",
       "    </tr>\n",
       "  </thead>\n",
       "  <tbody>\n",
       "    <tr>\n",
       "      <th>8366</th>\n",
       "      <td>True</td>\n",
       "      <td>0.006866</td>\n",
       "      <td>0.694053</td>\n",
       "      <td>0.687188</td>\n",
       "      <td>StealSuccess0</td>\n",
       "      <td>1.0</td>\n",
       "      <td>1.0</td>\n",
       "      <td>1.0</td>\n",
       "      <td>0.637883</td>\n",
       "      <td>1.163621</td>\n",
       "      <td>0.373917</td>\n",
       "      <td>0.055106</td>\n",
       "      <td>Ren Hunter</td>\n",
       "      <td>Ronan Jaylee</td>\n",
       "      <td>Zephyr McCloud</td>\n",
       "      <td>NaN</td>\n",
       "      <td>&lt;NA&gt;</td>\n",
       "      <td>&lt;NA&gt;</td>\n",
       "      <td>BIRD_SEED</td>\n",
       "      <td>&lt;NA&gt;</td>\n",
       "      <td>13</td>\n",
       "      <td>28</td>\n",
       "      <td>c1a95c9a-cd9b-45b4-9d5e-751c5346088a</td>\n",
       "      <td>177</td>\n",
       "      <td>Weather.FLOODING</td>\n",
       "    </tr>\n",
       "    <tr>\n",
       "      <th>6916</th>\n",
       "      <td>True</td>\n",
       "      <td>0.006305</td>\n",
       "      <td>0.672880</td>\n",
       "      <td>0.666575</td>\n",
       "      <td>StealSuccess0</td>\n",
       "      <td>1.0</td>\n",
       "      <td>1.0</td>\n",
       "      <td>1.0</td>\n",
       "      <td>0.853119</td>\n",
       "      <td>0.911272</td>\n",
       "      <td>0.942306</td>\n",
       "      <td>-0.014456</td>\n",
       "      <td>Glabe Moon</td>\n",
       "      <td>Oscar Vaughan</td>\n",
       "      <td>Rodriguez Internet</td>\n",
       "      <td>SIPHON;PERK</td>\n",
       "      <td>ALTERNATE</td>\n",
       "      <td>ALTERNATE;FIRE_EATER;REPEATING</td>\n",
       "      <td>BIRD_SEED</td>\n",
       "      <td>MIDDLING</td>\n",
       "      <td>14</td>\n",
       "      <td>91</td>\n",
       "      <td>f2f0ba6f-46f0-4011-b76a-3780d8efe7fb</td>\n",
       "      <td>120</td>\n",
       "      <td>Weather.REVERB</td>\n",
       "    </tr>\n",
       "    <tr>\n",
       "      <th>1514</th>\n",
       "      <td>True</td>\n",
       "      <td>0.003235</td>\n",
       "      <td>0.843617</td>\n",
       "      <td>0.840382</td>\n",
       "      <td>StealSuccess1</td>\n",
       "      <td>1.0</td>\n",
       "      <td>1.0</td>\n",
       "      <td>1.0</td>\n",
       "      <td>0.850073</td>\n",
       "      <td>0.994627</td>\n",
       "      <td>0.376802</td>\n",
       "      <td>-0.057019</td>\n",
       "      <td>Squid Galvanic</td>\n",
       "      <td>Zoey Kirchner</td>\n",
       "      <td>Bottles Suljak</td>\n",
       "      <td>NaN</td>\n",
       "      <td>&lt;NA&gt;</td>\n",
       "      <td>&lt;NA&gt;</td>\n",
       "      <td>CARCINIZATION;EXTRA_STRIKE</td>\n",
       "      <td>MAINTENANCE_MODE</td>\n",
       "      <td>12</td>\n",
       "      <td>55</td>\n",
       "      <td>e3c19cf5-190a-4c55-9b2d-c4625c62a835</td>\n",
       "      <td>207</td>\n",
       "      <td>Weather.BLACK_HOLE</td>\n",
       "    </tr>\n",
       "    <tr>\n",
       "      <th>5567</th>\n",
       "      <td>True</td>\n",
       "      <td>0.001882</td>\n",
       "      <td>0.631393</td>\n",
       "      <td>0.629511</td>\n",
       "      <td>StealSuccess0</td>\n",
       "      <td>1.0</td>\n",
       "      <td>1.0</td>\n",
       "      <td>1.0</td>\n",
       "      <td>0.541950</td>\n",
       "      <td>0.646786</td>\n",
       "      <td>0.601623</td>\n",
       "      <td>0.062553</td>\n",
       "      <td>Igneus Delacruz</td>\n",
       "      <td>Becker Solis</td>\n",
       "      <td>Yrjö Kerfuffle</td>\n",
       "      <td>ALTERNATE;CHUNKY</td>\n",
       "      <td>&lt;NA&gt;</td>\n",
       "      <td>&lt;NA&gt;</td>\n",
       "      <td>BASE_INSTINCTS</td>\n",
       "      <td>&lt;NA&gt;</td>\n",
       "      <td>14</td>\n",
       "      <td>53</td>\n",
       "      <td>3cbc2870-b333-4875-b93f-f816453b4fe3</td>\n",
       "      <td>43</td>\n",
       "      <td>Weather.FLOODING</td>\n",
       "    </tr>\n",
       "    <tr>\n",
       "      <th>3683</th>\n",
       "      <td>True</td>\n",
       "      <td>0.000771</td>\n",
       "      <td>0.836171</td>\n",
       "      <td>0.835400</td>\n",
       "      <td>StealSuccess0</td>\n",
       "      <td>1.0</td>\n",
       "      <td>1.0</td>\n",
       "      <td>1.0</td>\n",
       "      <td>1.104758</td>\n",
       "      <td>0.120581</td>\n",
       "      <td>0.964333</td>\n",
       "      <td>0.071378</td>\n",
       "      <td>-imon -a-ey</td>\n",
       "      <td>Patty Fox</td>\n",
       "      <td>Sandie Turner</td>\n",
       "      <td>FLINCH;SCATTERED</td>\n",
       "      <td>&lt;NA&gt;</td>\n",
       "      <td>SPICY;PERK</td>\n",
       "      <td>TRAVELING</td>\n",
       "      <td>BIRD_SEED</td>\n",
       "      <td>14</td>\n",
       "      <td>31</td>\n",
       "      <td>54a5948c-2942-4d15-badc-02d9d367f04f</td>\n",
       "      <td>214</td>\n",
       "      <td>Weather.FLOODING</td>\n",
       "    </tr>\n",
       "    <tr>\n",
       "      <th>6985</th>\n",
       "      <td>True</td>\n",
       "      <td>0.000753</td>\n",
       "      <td>0.736845</td>\n",
       "      <td>0.736092</td>\n",
       "      <td>StealSuccess1</td>\n",
       "      <td>1.0</td>\n",
       "      <td>1.0</td>\n",
       "      <td>1.0</td>\n",
       "      <td>0.909774</td>\n",
       "      <td>1.351658</td>\n",
       "      <td>0.687486</td>\n",
       "      <td>-0.057019</td>\n",
       "      <td>T-t -ox</td>\n",
       "      <td>Curry Aliciakeyes</td>\n",
       "      <td>Oscar Dollie</td>\n",
       "      <td>FLINCH;SCATTERED</td>\n",
       "      <td>OVERUNDER</td>\n",
       "      <td>&lt;NA&gt;</td>\n",
       "      <td>CARCINIZATION;UNHOLEY</td>\n",
       "      <td>O_NO</td>\n",
       "      <td>14</td>\n",
       "      <td>93</td>\n",
       "      <td>f9e2f13a-adc4-46ff-a226-a01029f47e23</td>\n",
       "      <td>330</td>\n",
       "      <td>Weather.SALMON</td>\n",
       "    </tr>\n",
       "    <tr>\n",
       "      <th>4093</th>\n",
       "      <td>False</td>\n",
       "      <td>-0.002527</td>\n",
       "      <td>0.845957</td>\n",
       "      <td>0.848483</td>\n",
       "      <td>StealSuccess1</td>\n",
       "      <td>1.0</td>\n",
       "      <td>1.0</td>\n",
       "      <td>1.0</td>\n",
       "      <td>0.969953</td>\n",
       "      <td>0.314780</td>\n",
       "      <td>0.652017</td>\n",
       "      <td>0.047139</td>\n",
       "      <td>Kelvin Drumsolo</td>\n",
       "      <td>Jenkins Good</td>\n",
       "      <td>Jesús Koch</td>\n",
       "      <td>NaN</td>\n",
       "      <td>ALTERNATE;FRIEND_OF_CROWS</td>\n",
       "      <td>ALTERNATE</td>\n",
       "      <td>MAINTENANCE_MODE;STALEPOPCORN_PAYOUTS</td>\n",
       "      <td>HIGH_PRESSURE</td>\n",
       "      <td>14</td>\n",
       "      <td>45</td>\n",
       "      <td>a7e9bce9-c57b-4b2c-ac69-decb5fb5717a</td>\n",
       "      <td>168</td>\n",
       "      <td>Weather.FEEDBACK</td>\n",
       "    </tr>\n",
       "  </tbody>\n",
       "</table>\n",
       "</div>"
      ],
      "text/plain": [
       "      passed    offset      roll  threshold     event_type  pitcher_mul  \\\n",
       "8366    True  0.006866  0.694053   0.687188  StealSuccess0          1.0   \n",
       "6916    True  0.006305  0.672880   0.666575  StealSuccess0          1.0   \n",
       "1514    True  0.003235  0.843617   0.840382  StealSuccess1          1.0   \n",
       "5567    True  0.001882  0.631393   0.629511  StealSuccess0          1.0   \n",
       "3683    True  0.000771  0.836171   0.835400  StealSuccess0          1.0   \n",
       "6985    True  0.000753  0.736845   0.736092  StealSuccess1          1.0   \n",
       "4093   False -0.002527  0.845957   0.848483  StealSuccess1          1.0   \n",
       "\n",
       "      runner_mul  fielder_mul  runner_laserlikeness_mul_vibe  \\\n",
       "8366         1.0          1.0                       0.637883   \n",
       "6916         1.0          1.0                       0.853119   \n",
       "1514         1.0          1.0                       0.850073   \n",
       "5567         1.0          1.0                       0.541950   \n",
       "3683         1.0          1.0                       1.104758   \n",
       "6985         1.0          1.0                       0.909774   \n",
       "4093         1.0          1.0                       0.969953   \n",
       "\n",
       "      pitcher_anticapitalism_mul_vibe  fielder_anticapitalism_mul_vibe  \\\n",
       "8366                         1.163621                         0.373917   \n",
       "6916                         0.911272                         0.942306   \n",
       "1514                         0.994627                         0.376802   \n",
       "5567                         0.646786                         0.601623   \n",
       "3683                         0.120581                         0.964333   \n",
       "6985                         1.351658                         0.687486   \n",
       "4093                         0.314780                         0.652017   \n",
       "\n",
       "      elong_center      runner_name       pitcher_name        fielder_name  \\\n",
       "8366      0.055106       Ren Hunter       Ronan Jaylee      Zephyr McCloud   \n",
       "6916     -0.014456       Glabe Moon      Oscar Vaughan  Rodriguez Internet   \n",
       "1514     -0.057019   Squid Galvanic      Zoey Kirchner      Bottles Suljak   \n",
       "5567      0.062553  Igneus Delacruz       Becker Solis      Yrjö Kerfuffle   \n",
       "3683      0.071378      -imon -a-ey          Patty Fox       Sandie Turner   \n",
       "6985     -0.057019          T-t -ox  Curry Aliciakeyes        Oscar Dollie   \n",
       "4093      0.047139  Kelvin Drumsolo       Jenkins Good          Jesús Koch   \n",
       "\n",
       "           runner_mods               pitcher_mods  \\\n",
       "8366               NaN                       <NA>   \n",
       "6916       SIPHON;PERK                  ALTERNATE   \n",
       "1514               NaN                       <NA>   \n",
       "5567  ALTERNATE;CHUNKY                       <NA>   \n",
       "3683  FLINCH;SCATTERED                       <NA>   \n",
       "6985  FLINCH;SCATTERED                  OVERUNDER   \n",
       "4093               NaN  ALTERNATE;FRIEND_OF_CROWS   \n",
       "\n",
       "                        fielder_mods                      batting_team_mods  \\\n",
       "8366                            <NA>                              BIRD_SEED   \n",
       "6916  ALTERNATE;FIRE_EATER;REPEATING                              BIRD_SEED   \n",
       "1514                            <NA>             CARCINIZATION;EXTRA_STRIKE   \n",
       "5567                            <NA>                         BASE_INSTINCTS   \n",
       "3683                      SPICY;PERK                              TRAVELING   \n",
       "6985                            <NA>                  CARCINIZATION;UNHOLEY   \n",
       "4093                       ALTERNATE  MAINTENANCE_MODE;STALEPOPCORN_PAYOUTS   \n",
       "\n",
       "     pitching_team_mods  season  day                               game_id  \\\n",
       "8366               <NA>      13   28  c1a95c9a-cd9b-45b4-9d5e-751c5346088a   \n",
       "6916           MIDDLING      14   91  f2f0ba6f-46f0-4011-b76a-3780d8efe7fb   \n",
       "1514   MAINTENANCE_MODE      12   55  e3c19cf5-190a-4c55-9b2d-c4625c62a835   \n",
       "5567               <NA>      14   53  3cbc2870-b333-4875-b93f-f816453b4fe3   \n",
       "3683          BIRD_SEED      14   31  54a5948c-2942-4d15-badc-02d9d367f04f   \n",
       "6985               O_NO      14   93  f9e2f13a-adc4-46ff-a226-a01029f47e23   \n",
       "4093      HIGH_PRESSURE      14   45  a7e9bce9-c57b-4b2c-ac69-decb5fb5717a   \n",
       "\n",
       "      play_count             weather  \n",
       "8366         177    Weather.FLOODING  \n",
       "6916         120      Weather.REVERB  \n",
       "1514         207  Weather.BLACK_HOLE  \n",
       "5567          43    Weather.FLOODING  \n",
       "3683         214    Weather.FLOODING  \n",
       "6985         330      Weather.SALMON  \n",
       "4093         168    Weather.FEEDBACK  "
      ]
     },
     "execution_count": 15,
     "metadata": {},
     "output_type": "execute_result"
    }
   ],
   "source": [
    "# pd.set_option(\"display.max_rows\", None)\n",
    "pd.set_option(\"display.max_columns\", None)\n",
    "table = outliers[\n",
    "    [\n",
    "        \"passed\",\n",
    "        \"offset\",\n",
    "        \"roll\",\n",
    "        \"threshold\",\n",
    "        \"event_type\",  # \"home_score\", \"away_score\", \"top_of_inning\", \"inning\",\n",
    "        \"pitcher_mul\",\n",
    "        \"runner_mul\",\n",
    "        \"fielder_mul\",  # \"baserunner_count\",\n",
    "        # \"runner_vibes\", \"pitcher_vibes\",\n",
    "        \"runner_laserlikeness_mul_vibe\",\n",
    "        \"pitcher_anticapitalism_mul_vibe\",\n",
    "        \"fielder_anticapitalism_mul_vibe\",\n",
    "        \"elong_center\",\n",
    "        \"runner_name\",\n",
    "        \"pitcher_name\",\n",
    "        \"fielder_name\",\n",
    "        \"runner_mods\",\n",
    "        \"pitcher_mods\",\n",
    "        \"fielder_mods\",\n",
    "        \"batting_team_mods\",\n",
    "        \"pitching_team_mods\",\n",
    "        \"season\",\n",
    "        \"day\",\n",
    "        \"game_id\",\n",
    "        \"play_count\",\n",
    "        # \"fielder_roll\",\n",
    "        \"weather\",\n",
    "    ]\n",
    "]\n",
    "print(len(table))\n",
    "print(sum(np.abs(table.loc[:,\"offset\"])))\n",
    "table.sort_values(\"offset\", ascending=False)#[0:10]"
   ]
  },
  {
   "cell_type": "code",
   "execution_count": null,
   "metadata": {
    "pycharm": {
     "name": "#%%\n"
    },
    "tags": []
   },
   "outputs": [],
   "source": []
  },
  {
   "cell_type": "code",
   "execution_count": 16,
   "metadata": {
    "pycharm": {
     "name": "#%%\n"
    },
    "tags": []
   },
   "outputs": [
    {
     "data": {
      "image/png": "[encoded data removed]",
      "text/plain": [
       "<Figure size 720x1080 with 6 Axes>"
      ]
     },
     "metadata": {
      "needs_background": "light"
     },
     "output_type": "display_data"
    }
   ],
   "source": [
    "plt.rcParams[\"font.size\"] = 10\n",
    "x_val = \"threshold_plot\"\n",
    "fig, axes = plt.subplots(3, 2, figsize=(10, 15), constrained_layout=True)\n",
    "# fig.suptitle(f\"Season {season+1} Hits vs. Outs\", fontsize=16)\n",
    "dimlist = [5e-2, 2e-2, 1e-2, 0.5e-2, 0.2e-2, 0.1e-2]\n",
    "for i, ax in enumerate(np.ravel(axes)):\n",
    "    ax.scatter(\n",
    "        dfc[dfc[\"passed\"]][x_val],\n",
    "        dfc[dfc[\"passed\"]][\"offset\"],\n",
    "        color=\"blue\",\n",
    "        label=\"Steal\",\n",
    "    )\n",
    "    ax.scatter(\n",
    "        dfc[~dfc[\"passed\"]][x_val],\n",
    "        dfc[~dfc[\"passed\"]][\"offset\"],\n",
    "        color=\"red\",\n",
    "        label=\"Caught\",\n",
    "    )\n",
    "    ax.scatter(\n",
    "        outliers[~outliers[\"passed\"]][x_val],\n",
    "        outliers[~outliers[\"passed\"]][\"offset\"],\n",
    "        color=\"red\",\n",
    "        edgecolor=\"black\",\n",
    "    )\n",
    "    ax.scatter(\n",
    "        outliers[outliers[\"passed\"]][x_val],\n",
    "        outliers[outliers[\"passed\"]][\"offset\"],\n",
    "        color=\"blue\",\n",
    "        edgecolor=\"black\",\n",
    "    )\n",
    "    ax.set_xlabel(x_val)\n",
    "    ax.set_ylabel(\"offset\")\n",
    "    ax.legend()\n",
    "    ax.grid()\n",
    "    ax.set_ylim(-dimlist[i], dimlist[i])\n",
    "# fig.savefig(\"../figures/hit_out_fit_offsets.png\", facecolor='white')"
   ]
  },
  {
   "cell_type": "code",
   "execution_count": 17,
   "metadata": {
    "collapsed": false,
    "jupyter": {
     "outputs_hidden": false
    },
    "pycharm": {
     "name": "#%%\n"
    }
   },
   "outputs": [],
   "source": [
    "# pd.set_option(\"display.max_rows\", None)\n",
    "\n",
    "# dfc.loc[2050, ['roll', 'threshold']]"
   ]
  },
  {
   "cell_type": "code",
   "execution_count": null,
   "metadata": {
    "collapsed": false,
    "jupyter": {
     "outputs_hidden": false
    },
    "pycharm": {
     "name": "#%%\n"
    }
   },
   "outputs": [],
   "source": []
  },
  {
   "cell_type": "code",
   "execution_count": null,
   "metadata": {
    "tags": []
   },
   "outputs": [],
   "source": []
  },
  {
   "cell_type": "code",
   "execution_count": null,
   "metadata": {},
   "outputs": [],
   "source": []
  }
 ],
 "metadata": {
  "kernelspec": {
   "display_name": "Python 3 (ipykernel)",
   "language": "python",
   "name": "python3"
  },
  "language_info": {
   "codemirror_mode": {
    "name": "ipython",
    "version": 3
   },
   "file_extension": ".py",
   "mimetype": "text/x-python",
   "name": "python",
   "nbconvert_exporter": "python",
   "pygments_lexer": "ipython3",
   "version": "3.9.12"
  }
 },
 "nbformat": 4,
 "nbformat_minor": 4
}
