{
 "cells": [
  {
   "cell_type": "markdown",
   "metadata": {
    "tags": []
   },
   "source": [
    "# Summary\n",
    "In Season 12, the strike zone formula is this:\n",
    "```python\n",
    "if flinch:\n",
    "    minroll = 0.5\n",
    "else:\n",
    "    minroll = 0.3\n",
    "strike_max = min(0.90,\n",
    "                 minroll\n",
    "                 + 0.35*ruth_scaled*(1 + 0.2*pitcher_vibes)\n",
    "                 + 0.1*musc_scaled\n",
    "                 + 0.2*(forwardness - 0.5)\n",
    "                )\n",
    "if roll < strike_max:\n",
    "    strike\n",
    "else:\n",
    "    ball\n",
    "```\n",
    "\n",
    "In Season 13, the strike zone formula is modified. The The max possible value for a strike goes DOWN from 0.90 to 0.85, and the ruthlessness coefficient goes DOWN from 0.35 to 0.30. This formula holds for Season 13 and Season 14:\n",
    "```python\n",
    "if flinch:\n",
    "    minroll = 0.5\n",
    "else:\n",
    "    minroll = 0.3\n",
    "strike_max = min(0.85,\n",
    "                 minroll\n",
    "                 + 0.3*ruth_scaled*(1 + 0.2*pitcher_vibes)\n",
    "                 + 0.1*musc_scaled\n",
    "                 + 0.2*(forwardness - 0.5)\n",
    "                )\n",
    "if roll < strike_max:\n",
    "    strike\n",
    "else:\n",
    "    ball\n",
    "```\n",
    "\n",
    "In Season 15, the strike zone formula changes slightly *again*. The max possible value for a strike goes UP from 0.85 to 0.86, and the ruthlessness coefficient goes DOWN from 0.3 to 0.285 (a 5% decrease):\n",
    "```python\n",
    "if flinch:\n",
    "    minroll = 0.5\n",
    "else:\n",
    "    minroll = 0.3\n",
    "strike_max = min(0.86,\n",
    "                 minroll\n",
    "                 + 0.285*ruth_scaled*(1 + 0.2*pitcher_vibes)\n",
    "                 + 0.1*musc_scaled\n",
    "                 + 0.2*(forwardness - 0.5)\n",
    "                )\n",
    "if roll < strike_max:\n",
    "    strike\n",
    "else:\n",
    "    ball\n",
    "```\n"
   ]
  },
  {
   "cell_type": "code",
   "execution_count": 2,
   "metadata": {
    "pycharm": {
     "name": "#%%\n"
    }
   },
   "outputs": [],
   "source": [
    "import glob\n",
    "\n",
    "import pandas as pd\n",
    "import matplotlib.pyplot as plt\n",
    "import numpy as np\n",
    "from matplotlib.markers import CARETLEFTBASE, CARETRIGHTBASE"
   ]
  },
  {
   "cell_type": "code",
   "execution_count": 208,
   "metadata": {
    "pycharm": {
     "name": "#%%\n"
    }
   },
   "outputs": [],
   "source": [
    "all_files = glob.glob(\"../roll_data/*-strikes.csv\")\n",
    "\n",
    "df = pd.concat((pd.read_csv(f, dtype={\"stadium_id\": \"string\"}) for f in all_files), ignore_index=True)\n",
    "\n",
    "# select season (zero indexed)\n",
    "# seasons = [11,12,13,14]\n",
    "season = 18\n",
    "df = df[df['season'] == season]\n",
    "\n",
    "\n",
    "flinch_data = False"
   ]
  },
  {
   "cell_type": "markdown",
   "metadata": {
    "jp-MarkdownHeadingCollapsed": true,
    "tags": []
   },
   "source": [
    "## Helper function definitions"
   ]
  },
  {
   "cell_type": "code",
   "execution_count": 209,
   "metadata": {},
   "outputs": [],
   "source": [
    "def get_pitcher_mul(row):\n",
    "    pm = str(row[\"pitcher_mods\"])\n",
    "    ptm = str(row[\"pitching_team_mods\"])\n",
    "    mul = 1\n",
    "    if \"OVERPERFORMING\" in pm:\n",
    "        mul += 0.2\n",
    "    if \"OVERPERFORMING\" in ptm:\n",
    "        mul += 0.2\n",
    "    if \"UNDERPERFORMING\" in pm:\n",
    "        mul -= 0.2\n",
    "    if \"UNDERPERFORMING\" in ptm:\n",
    "        mul -= 0.2\n",
    "    if \"TRAVELING\" in ptm:\n",
    "        pass # sometimes traveling doesn't do anything on pitchers, but not always\n",
    "        # if not row[\"top_of_inning\"]:\n",
    "            # mul += 0.05\n",
    "    if \"HIGH_PRESSURE\" in ptm:\n",
    "        if row[\"weather\"] == \"Weather.FLOODING\" and row[\"baserunner_count\"] > 0:\n",
    "            mul += 0.25\n",
    "    if \"GROWTH\" in ptm:\n",
    "        pass # sometimes growth doesn't do anything on pitchers, but not always\n",
    "        # mul += min(0.05, 0.05 * (row[\"day\"] / 99))\n",
    "    if \"SINKING_SHIP\" in ptm:\n",
    "        mul += (14 - row[\"pitching_team_roster_size\"]) * 0.01\n",
    "    if \"AFFINITY_FOR_CROWS\" in ptm and row[\"weather\"] == \"Weather.BIRDS\":\n",
    "        mul += 0.5\n",
    "    if row[\"fielder_name\"] == \"Sutton Dreamy\" and row[\"weather\"] == \"Weather.ECLIPSE\":\n",
    "        # NVGs allow the player to play 50% better in a solar eclipse.\n",
    "        # This might affect fielding and baserunning as well?\n",
    "        # this will 100% break if Dreamy gets scattered. And when they lose the old NVGs.\n",
    "        # Did anyone with this mod *ever* pitch???\n",
    "        mul += 0.50\n",
    "    return mul\n",
    "\n",
    "\n",
    "def get_batter_mul(row):\n",
    "    bm = str(row[\"batter_mods\"])\n",
    "    btm = str(row[\"batting_team_mods\"])\n",
    "    ptm = str(row[\"pitching_team_mods\"])\n",
    "    mul = 1\n",
    "    if \"OVERPERFORMING\" in bm:\n",
    "        mul += 0.2\n",
    "    if \"OVERPERFORMING\" in btm:\n",
    "        mul += 0.2\n",
    "    if \"UNDERPERFORMING\" in bm:\n",
    "        mul -= 0.2\n",
    "    if \"UNDERPERFORMING\" in btm:\n",
    "        mul -= 0.2\n",
    "    if \"TRAVELING\" in btm:\n",
    "        # pass\n",
    "        if row[\"top_of_inning\"]:\n",
    "            mul += 0.05\n",
    "    if \"GROWTH\" in btm:\n",
    "        # pass\n",
    "        mul += min(0.05, 0.05 * (row[\"day\"] / 99))\n",
    "    if \"HIGH_PRESSURE\" in btm:\n",
    "        if row[\"weather\"] == \"Weather.FLOODING\" and row[\"baserunner_count\"] > 0:\n",
    "            mul += 0.25\n",
    "    if \"SINKING_SHIP\" in btm:\n",
    "        mul += (14 - row[\"batting_team_roster_size\"]) * 0.01\n",
    "    if \"AFFINITY_FOR_CROWS\" in btm and row[\"weather\"] == \"Weather.BIRDS\":\n",
    "        mul += 0.5\n",
    "    if \"CHUNKY\" in bm and row[\"weather\"] == \"Weather.PEANUTS\":\n",
    "        # I have handling for these but it's clumsy and possibly easier to do \"manually\"\n",
    "        pass\n",
    "    if \"SMOOTH\" in bm and row[\"weather\"] == \"Weather.PEANUTS\":\n",
    "        # I have handling for these but it's clumsy and possibly easier to do \"manually\"\n",
    "        pass\n",
    "    if \"ON_FIRE\" in bm:\n",
    "        # todo: handle properly, which requires figuring out how it works, which sucks\n",
    "        # mul += 1.25\n",
    "        pass\n",
    "    if row[\"fielder_name\"] == \"Sutton Dreamy\" and row[\"weather\"] == \"Weather.ECLIPSE\":\n",
    "        # NVGs allow the player to play 50% better in a solar eclipse.\n",
    "        # This might affect fielding and baserunning as well?\n",
    "        # this will 100% break if Dreamy gets scattered. And when they lose the old NVGs.\n",
    "        mul += 0.50\n",
    "    return mul"
   ]
  },
  {
   "cell_type": "markdown",
   "metadata": {
    "jp-MarkdownHeadingCollapsed": true,
    "tags": []
   },
   "source": [
    "## Apply multipliers to data"
   ]
  },
  {
   "cell_type": "code",
   "execution_count": 210,
   "metadata": {},
   "outputs": [],
   "source": [
    "df[\"batter_mul\"] = df.apply(get_batter_mul, axis=1)\n",
    "df[\"pitcher_mul\"] = df.apply(get_pitcher_mul, axis=1)\n",
    "\n",
    "df[\"ruth_scaled\"] = df[\"pitcher_ruthlessness\"] * df[\"pitcher_mul\"]\n",
    "df[\"musc_scaled\"] = df[\"batter_musclitude\"] * df[\"batter_mul\"]\n",
    "\n",
    "df.loc[df[\"pitcher_mods\"].astype(str).str.contains(\"SCATTERED\"), \"pitcher_vibes\"] = 0\n",
    "df.loc[df[\"batter_mods\"].astype(str).str.contains(\"SCATTERED\"), \"batter_vibes\"] = 0\n",
    "\n",
    "# df[df[\"pitcher_mul\"] != 1][[\"pitcher_mul\", \"pitcher_mods\", \"pitching_team_mods\"]].drop_duplicates()"
   ]
  },
  {
   "cell_type": "code",
   "execution_count": 211,
   "metadata": {},
   "outputs": [],
   "source": [
    "# recenter ballpark factors: subtract 0.5\n",
    "for attr in ['ballpark_grandiosity',\n",
    "             'ballpark_fortification',\n",
    "             'ballpark_obtuseness',\n",
    "             'ballpark_ominousness',\n",
    "             'ballpark_inconvenience',\n",
    "             'ballpark_viscosity',\n",
    "             'ballpark_forwardness',\n",
    "             'ballpark_mysticism',\n",
    "             'ballpark_elongation',\n",
    "            ]:\n",
    "    df[attr] -= 0.50\n"
   ]
  },
  {
   "cell_type": "code",
   "execution_count": 212,
   "metadata": {},
   "outputs": [],
   "source": [
    "# df = df[(df[\"batting_team_hype\"] == 0) & (df[\"pitching_team_hype\"] == 0)]\n",
    "\n",
    "df[\"ruth_times_vibes\"] = df[\"ruth_scaled\"] * df[\"pitcher_vibes\"]\n",
    "df[\"ruth_vibes\"] = df[\"ruth_scaled\"] * (1 + 0.2 * df[\"pitcher_vibes\"])\n",
    "\n",
    "# put in our \"best fit\" up here in the original df, just because\n",
    "if season == 11:\n",
    "    print(\"using season \" + str(season + 1) + \" formula\")\n",
    "    df[\"svc_best\"] = 0.35 * df[\"ruth_vibes\"] + 0.20 * df[\"ballpark_forwardness\"] + 0.10 * df[\"musc_scaled\"]\n",
    "elif season == 12 or season == 13:\n",
    "    print(\"using season \" + str(season + 1) + \" formula\")\n",
    "    df[\"svc_best\"] = 0.30 * df[\"ruth_vibes\"] + 0.20 * df[\"ballpark_forwardness\"] + 0.10 * df[\"musc_scaled\"]\n",
    "elif season == 14:\n",
    "    print(\"using season \" + str(season + 1) + \" formula\")\n",
    "    df[\"svc_best\"] = 0.285 * df[\"ruth_vibes\"] + 0.20 * df[\"ballpark_forwardness\"] + 0.10 * df[\"musc_scaled\"]"
   ]
  },
  {
   "cell_type": "markdown",
   "metadata": {
    "tags": []
   },
   "source": [
    "## Exclude data\n",
    "Handles swapping between flinch and no-flinch situations, and excluding things like ON_FIRE."
   ]
  },
  {
   "cell_type": "code",
   "execution_count": 213,
   "metadata": {},
   "outputs": [],
   "source": [
    "# df = df[df[\"batter_mods\"].isna() & df[\"pitcher_mods\"].isna()]\n",
    "dfc = df.copy()\n",
    "for exclude_mod in [\"FLINCH\", \"OVERPERFORMING\", \"UNDERPERFORMING\", \"HIGH_PRESSURE\", \"GROWTH\", \"SINKING_SHIP\", \"TRAVELING\", \"PSYCHIC\"]:\n",
    "# for exclude_mod in [\"ON_FIRE\"]:\n",
    "    dfc = dfc[~dfc[\"batter_mods\"].astype(str).str.contains(exclude_mod)]\n",
    "    dfc = dfc[~dfc[\"pitcher_mods\"].astype(str).str.contains(exclude_mod)]\n",
    "    dfc = dfc[~dfc[\"pitching_team_mods\"].astype(str).str.contains(exclude_mod)]\n",
    "    dfc = dfc[~dfc[\"batting_team_mods\"].astype(str).str.contains(exclude_mod)]\n",
    "\n",
    "# for exclude_mod in [\"FLINCH\"]:\n",
    "#     #     dfc = dfc[~dfc[\"batter_mods\"].astype(str).str.contains(exclude_mod)]\n",
    "#     #     dfc = dfc[~dfc[\"batting_team_mods\"].astype(str).str.contains(exclude_mod)]\n",
    "#     dfc[\"flinch\"] = (dfc[\"batter_mods\"].astype(str).str.contains(exclude_mod)) & (dfc[\"strike_count\"] == 0)\n",
    "#     if flinch_data:\n",
    "#         dfc = dfc[dfc[\"flinch\"]]\n",
    "#     else:\n",
    "#         dfc = dfc[~dfc[\"flinch\"]]\n",
    "# #     dfc[\"flinch\"] = dfc[\"batting_team_mods\"].astype(str).str.contains(exclude_mod)\n",
    "# dfc.groupby(\"flinch\").size()"
   ]
  },
  {
   "cell_type": "code",
   "execution_count": 9,
   "metadata": {
    "pycharm": {
     "name": "#%%\n"
    }
   },
   "outputs": [
    {
     "name": "stdout",
     "output_type": "stream",
     "text": [
      "['event_type', 'roll', 'passed', 'batter_buoyancy', 'batter_divinity', 'batter_martyrdom', 'batter_moxie', 'batter_musclitude', 'batter_patheticism', 'batter_thwackability', 'batter_tragicness', 'batter_coldness', 'batter_overpowerment', 'batter_ruthlessness', 'batter_shakespearianism', 'batter_suppression', 'batter_unthwackability', 'batter_base_thirst', 'batter_continuation', 'batter_ground_friction', 'batter_indulgence', 'batter_laserlikeness', 'batter_anticapitalism', 'batter_chasiness', 'batter_omniscience', 'batter_tenaciousness', 'batter_watchfulness', 'batter_pressurization', 'batter_cinnamon', 'batter_multiplier', 'runner_buoyancy', 'runner_divinity', 'runner_martyrdom', 'runner_moxie', 'runner_musclitude', 'runner_patheticism', 'runner_thwackability', 'runner_tragicness', 'runner_coldness', 'runner_overpowerment', 'runner_ruthlessness', 'runner_shakespearianism', 'runner_suppression', 'runner_unthwackability', 'runner_base_thirst', 'runner_continuation', 'runner_ground_friction', 'runner_indulgence', 'runner_laserlikeness', 'runner_pressurization', 'runner_anticapitalism', 'runner_chasiness', 'runner_omniscience', 'runner_tenaciousness', 'runner_watchfulness', 'runner_cinnamon', 'runner_multiplier', 'runner_on_first_base_thirst', 'runner_on_first_continuation', 'runner_on_first_ground_friction', 'runner_on_first_indulgence', 'runner_on_first_laserlikeness', 'runner_on_first_multiplier', 'runner_on_second_base_thirst', 'runner_on_second_continuation', 'runner_on_second_ground_friction', 'runner_on_second_indulgence', 'runner_on_second_laserlikeness', 'runner_on_second_pressurization', 'runner_on_second_cinnamon', 'runner_on_second_multiplier', 'runner_on_third_base_thirst', 'runner_on_third_continuation', 'runner_on_third_ground_friction', 'runner_on_third_indulgence', 'runner_on_third_laserlikeness', 'runner_on_third_multiplier', 'runner_on_third_hh_base_thirst', 'runner_on_third_hh_continuation', 'runner_on_third_hh_ground_friction', 'runner_on_third_hh_indulgence', 'runner_on_third_hh_laserlikeness', 'runner_on_third_hh_multiplier', 'pitcher_buoyancy', 'pitcher_divinity', 'pitcher_martyrdom', 'pitcher_moxie', 'pitcher_musclitude', 'pitcher_patheticism', 'pitcher_thwackability', 'pitcher_tragicness', 'pitcher_ruthlessness', 'pitcher_overpowerment', 'pitcher_unthwackability', 'pitcher_shakespearianism', 'pitcher_suppression', 'pitcher_coldness', 'pitcher_base_thirst', 'pitcher_continuation', 'pitcher_ground_friction', 'pitcher_indulgence', 'pitcher_laserlikeness', 'pitcher_anticapitalism', 'pitcher_chasiness', 'pitcher_omniscience', 'pitcher_tenaciousness', 'pitcher_watchfulness', 'pitcher_pressurization', 'pitcher_cinnamon', 'pitcher_multiplier', 'fielder_buoyancy', 'fielder_divinity', 'fielder_martyrdom', 'fielder_moxie', 'fielder_musclitude', 'fielder_patheticism', 'fielder_thwackability', 'fielder_tragicness', 'fielder_coldness', 'fielder_overpowerment', 'fielder_ruthlessness', 'fielder_shakespearianism', 'fielder_suppression', 'fielder_unthwackability', 'fielder_base_thirst', 'fielder_continuation', 'fielder_ground_friction', 'fielder_indulgence', 'fielder_laserlikeness', 'fielder_pressurization', 'fielder_anticapitalism', 'fielder_chasiness', 'fielder_omniscience', 'fielder_tenaciousness', 'fielder_watchfulness', 'fielder_cinnamon', 'fielder_multiplier', 'ballpark_grandiosity', 'ballpark_fortification', 'ballpark_obtuseness', 'ballpark_ominousness', 'ballpark_inconvenience', 'ballpark_viscosity', 'ballpark_forwardness', 'ballpark_mysticism', 'ballpark_elongation', 'ballpark_filthiness', 'what1', 'what2', 'batting_team_hype', 'pitching_team_hype', 'batter_id', 'pitcher_id', 'fielder_id', 'runner_id', 'runner_on_first_id', 'runner_on_second_id', 'runner_on_third_id', 'runner_on_third_hh_id', 'batter_name', 'pitcher_name', 'fielder_name', 'runner_name', 'runner_on_first_name', 'runner_on_second_name', 'runner_on_third_name', 'runner_on_third_hh_name', 'batter_vibes', 'pitcher_vibes', 'fielder_vibes', 'runner_vibes', 'runner_on_first_vibes', 'runner_on_second_vibes', 'runner_on_third_vibes', 'runner_on_third_hh_vibes', 'batter_mods', 'batting_team_mods', 'pitcher_mods', 'pitching_team_mods', 'fielder_mods', 'runner_mods', 'runner_on_first_mods', 'runner_on_second_mods', 'runner_on_third_mods', 'runner_on_third_hh_mods', 'game_id', 'stadium_id', 'play_count', 'weather', 'ball_count', 'strike_count', 'out_count', 'season', 'day', 'top_of_inning', 'home_score', 'away_score', 'inning', 'batting_team_roster_size', 'pitching_team_roster_size', 'baserunner_count', 'baserunners', 'baserunners_next', 'is_strike', 'strike_roll', 'strike_threshold', 'fielder_roll', 'batter_consecutive_hits', 'team_level', 'team_eDensity', 'team_name', 'batter_mul', 'pitcher_mul', 'ruth_scaled', 'musc_scaled', 'ruth_times_vibes', 'ruth_vibes']\n",
      "4646\n",
      "2068\n"
     ]
    }
   ],
   "source": [
    "print(list(df.columns))\n",
    "print(len(df))\n",
    "print(len(dfc))"
   ]
  },
  {
   "cell_type": "code",
   "execution_count": 214,
   "metadata": {},
   "outputs": [],
   "source": [
    "digest_list = [\n",
    "    \"event_type\",\n",
    "    \"roll\",\n",
    "    \"batter_name\",\n",
    "    \"pitcher_name\",\n",
    "    \"ruth_scaled\",\n",
    "    \"pitcher_vibes\",\n",
    "    \"musc_scaled\",\n",
    "    \"ballpark_forwardness\",\n",
    "    \"game_id\",\n",
    "    \"play_count\",\n",
    "    \"svc_best\",\n",
    "]"
   ]
  },
  {
   "cell_type": "code",
   "execution_count": 11,
   "metadata": {
    "pycharm": {
     "name": "#%%\n"
    }
   },
   "outputs": [],
   "source": [
    "# old weighting functions, not using these\n",
    "\n",
    "# dfc['svc'] = 0.37847946767478163 * dfc[\"pitcher_ruthlessness\"] + 0.30163948661504275 * dfc[\"ballpark_forwardness\"]\n",
    "# # df['svc_vibes'] = 0.3570080647613859*df[\"pitcher_ruthlessness\"] + 0.23460353690794863*df[\"ballpark_forwardness\"] \\\n",
    "# #                   + 0.06376601180181157*df[\"pitcher_vibes\"]\n",
    "# dfc['svc_vibes'] = 0.35 * dfc[\"pitcher_ruthlessness\"] + 0.25 * dfc[\"ballpark_forwardness\"] \\\n",
    "#                   + 0.05 * dfc[\"pitcher_vibes\"]\n",
    "# dfc['svc_musc'] = 0.31647362 * dfc[\"pitcher_ruthlessness\"] + 0.20359297 * dfc[\"ballpark_forwardness\"] \\\n",
    "#                   + 0.05434203 * dfc[\"pitcher_vibes_multiplied\"] + 0.09587699 * dfc[\"batter_musclitude\"]\n",
    "# dfc['batter_strikeattr'] = dfc['batter_moxie'] * ~dfc['passed'] + dfc['batter_patheticism'] * dfc['passed']\n",
    "# dfc['ruth_and_fwd'] = dfc['pitcher_ruthlessness'] - 0.5 * dfc['ballpark_forwardness']\n",
    "# dfc['ruth_and_fwd'] = dfc['pitcher_ruthlessness'] - 0.5 * dfc['ballpark_forwardness']"
   ]
  },
  {
   "cell_type": "markdown",
   "metadata": {
    "tags": []
   },
   "source": [
    "### Preliminary plot"
   ]
  },
  {
   "cell_type": "code",
   "execution_count": 12,
   "metadata": {
    "pycharm": {
     "name": "#%%\n"
    }
   },
   "outputs": [],
   "source": [
    "# # x_val = \"ruth_scaled\"\n",
    "# x_val = \"svc_best\"\n",
    "# fig, ax = plt.subplots(1, figsize=(10, 10))\n",
    "# ax.scatter(\n",
    "#     dfc[~dfc[\"passed\"]][x_val],\n",
    "#     dfc[~dfc[\"passed\"]][\"roll\"],\n",
    "#     color=\"red\",\n",
    "#     label=\"Balls\",\n",
    "#     marker=CARETLEFTBASE,\n",
    "# )\n",
    "# ax.scatter(\n",
    "#     dfc[dfc[\"passed\"]][x_val],\n",
    "#     dfc[dfc[\"passed\"]][\"roll\"],\n",
    "#     color=\"blue\",\n",
    "#     label=\"Strikes\",\n",
    "#     marker=CARETRIGHTBASE,\n",
    "# )\n",
    "# ax.set_xlabel(x_val)\n",
    "# ax.set_ylabel(\"roll\")\n",
    "# # ax.set_xlim(0.484, 0.499)\n",
    "\n",
    "# ax.legend()\n",
    "\n",
    "# fig.savefig(x_val + \".png\", facecolor=\"white\")"
   ]
  },
  {
   "cell_type": "code",
   "execution_count": 13,
   "metadata": {
    "pycharm": {
     "name": "#%%\n"
    }
   },
   "outputs": [
    {
     "data": {
      "text/plain": [
       "batting_team_mods\n",
       "0;SHAME_GIVER                             40\n",
       "0;UNHOLEY;CARCINIZATION                  134\n",
       "AA;AFFINITY_FOR_CROWS                     74\n",
       "AAA                                       27\n",
       "BASE_INSTINCTS                           176\n",
       "BASE_INSTINCTS;ELECTRIC                   10\n",
       "BIRD_SEED                                190\n",
       "BLACKHOLE_PAYOUTS;BOTTOM_DWELLER           6\n",
       "BOTTOM_DWELLER;BLACKHOLE_PAYOUTS         325\n",
       "ELECTRIC;LIFE_OF_PARTY                     1\n",
       "FIREPROOF;SEALANT;AMBUSH;FIERY             1\n",
       "FIREPROOF;SEALANT;FIERY;AMBUSH           140\n",
       "LIFE_OF_PARTY;ELECTRIC                   112\n",
       "LOVE                                     202\n",
       "MAINTENANCE_MODE;STALEPOPCORN_PAYOUTS      6\n",
       "SHAME_GIVER                              203\n",
       "STALEPOPCORN_PAYOUTS;MAINTENANCE_MODE    152\n",
       "UNHOLEY;CARCINIZATION;0                    6\n",
       "dtype: int64"
      ]
     },
     "execution_count": 13,
     "metadata": {},
     "output_type": "execute_result"
    }
   ],
   "source": [
    "dfc.groupby([\"batting_team_mods\"]).size()"
   ]
  },
  {
   "cell_type": "markdown",
   "metadata": {},
   "source": [
    "## SVC fit"
   ]
  },
  {
   "cell_type": "code",
   "execution_count": 217,
   "metadata": {},
   "outputs": [],
   "source": [
    "dfc[\"b_h\"] = dfc[\"total_hype\"]\n",
    "dfc.loc[dfc[\"top_of_inning\"],\"b_h\"] = -dfc[\"total_hype\"]\n",
    "\n",
    "dfc[\"p_h\"] = -dfc[\"b_h\"]"
   ]
  },
  {
   "cell_type": "code",
   "execution_count": 223,
   "metadata": {
    "pycharm": {
     "name": "#%%\n"
    }
   },
   "outputs": [],
   "source": [
    "# X = dfc[['passed', 'roll', 'ruth_vibes', 'ballpark_forwardness', 'musc_scaled']].copy()\n",
    "dfc[\"ruth_times_vibes\"] = dfc[\"pitcher_ruthlessness\"] * dfc[\"pitcher_vibes\"]\n",
    "dfc[\"ruth_vibes\"] = dfc[\"pitcher_ruthlessness\"] * dfc[\"pitcher_multiplier\"] * (1 + 0.2 * dfc[\"pitcher_vibes\"])# * (0.5 + dfc[\"pitching_team_hype\"])\n",
    "dfc[\"musc_scaled\"] = dfc[\"batter_musclitude\"] * dfc[\"batter_multiplier\"]# * (0.5 + dfc[\"batting_team_hype\"]) * (1 + 0.2 * df[\"batter_vibes\"])\n",
    "\n",
    "dfc[\"ruth_hype\"] = dfc[\"pitching_team_hype\"] * dfc[\"ruth_vibes\"]\n",
    "dfc[\"musc_hype\"] = dfc[\"batting_team_hype\"] * dfc[\"musc_scaled\"]\n",
    "\n",
    "dfc[\"b_c\"] = dfc[\"batter_coldness\"]# * dfc[\"batter_multiplier\"]* (1 + 0.2 * df[\"batter_vibes\"])\n",
    "dfc[\"p_c\"] = dfc[\"pitcher_coldness\"] * dfc[\"pitcher_multiplier\"] * (1 + 0.2 * dfc[\"pitcher_vibes\"])\n",
    "# dfc[\"b_h\"] = dfc[\"batting_team_hype\"]\n",
    "dfc[\"p_ch\"] = dfc[\"p_c\"] * dfc[\"pitching_team_hype\"]\n",
    "\n",
    "dfc[\"pth\"] = dfc[\"top_of_inning\"]\n",
    "dfc[\"total_hype\"] = dfc[[\"pitching_team_hype\", \"batting_team_hype\"]].max(axis=1)\n",
    "dfc[\"fwd_hype\"] = dfc[\"ballpark_forwardness\"]# * (1+dfc[\"total_hype\"])\n",
    "# pin_intercept = 0.21\n",
    "pin_intercept = None\n",
    "pins = [\n",
    "    # (0.2, \"ballpark_forwardness\"),\n",
    "    # (0.1, \"musc_scaled\"),\n",
    "    # (0.285, \"ruth_vibes\"),\n",
    "]\n",
    "\n",
    "X = dfc[[\"passed\", \"roll\", \"ruth_vibes\", \"fwd_hype\", \"musc_scaled\", \"pitching_team_hype\", \"p_c\"]].copy()\n",
    "X = X[X[\"roll\"] < 0.8]\n",
    "# X[\"roll\"] = X[\"roll\"] - 0.2 * X[\"ballpark_forwardness\"]\n",
    "# X = dfc[['roll', 'pitcher_ruthlessness', 'ballpark_forwardness']]\n",
    "# X = dfc[['roll', 'pitcher_ruthlessness']]\n",
    "y = X[\"passed\"]\n",
    "X = X.drop([\"passed\"], axis=1)\n",
    "\n",
    "for val, var in pins:\n",
    "    X[\"roll\"] -= X[var] * val\n",
    "    X = X.drop(var, axis=1)"
   ]
  },
  {
   "cell_type": "code",
   "execution_count": 224,
   "metadata": {
    "pycharm": {
     "name": "#%%\n"
    }
   },
   "outputs": [
    {
     "name": "stdout",
     "output_type": "stream",
     "text": [
      "[[1261   36]\n",
      " [  57 1325]]\n",
      "              precision    recall  f1-score   support\n",
      "\n",
      "       False       0.96      0.97      0.96      1297\n",
      "        True       0.97      0.96      0.97      1382\n",
      "\n",
      "    accuracy                           0.97      2679\n",
      "   macro avg       0.97      0.97      0.97      2679\n",
      "weighted avg       0.97      0.97      0.97      2679\n",
      "\n"
     ]
    }
   ],
   "source": [
    "from sklearn.preprocessing import StandardScaler\n",
    "from sklearn.metrics import confusion_matrix\n",
    "from sklearn.metrics import classification_report\n",
    "from sklearn import svm\n",
    "\n",
    "# # trainedsvm = svm.SVC(kernel='linear').fit(X, y)\n",
    "# trainedsvm = svm.LinearSVC(dual=False, max_iter=100000).fit(X, y)\n",
    "# predictionsvm = trainedsvm.predict(X)\n",
    "# print(confusion_matrix(y,predictionsvm))\n",
    "# print(classification_report(y,predictionsvm))\n",
    "\n",
    "sc = StandardScaler()\n",
    "X2 = sc.fit_transform(X)\n",
    "\n",
    "trainedsvm = svm.LinearSVC(dual=False, max_iter=100000, C=10000000, tol=1e-10).fit(X2, y)\n",
    "predictionsvm = trainedsvm.predict(X2)\n",
    "print(confusion_matrix(y, predictionsvm))\n",
    "print(classification_report(y, predictionsvm))"
   ]
  },
  {
   "cell_type": "code",
   "execution_count": 136,
   "metadata": {},
   "outputs": [
    {
     "data": {
      "text/plain": [
       "0.9560723514211886"
      ]
     },
     "execution_count": 136,
     "metadata": {},
     "output_type": "execute_result"
    }
   ],
   "source": [
    "sc.inverse_transform(trainedsvm.coef_)\n",
    "trainedsvm.coef_\n",
    "sc.scale_\n",
    "trainedsvm.score(X2, y)"
   ]
  },
  {
   "cell_type": "code",
   "execution_count": 149,
   "metadata": {
    "pycharm": {
     "name": "#%%\n"
    }
   },
   "outputs": [
    {
     "name": "stdout",
     "output_type": "stream",
     "text": [
      "[-0.23547136]\n"
     ]
    },
    {
     "data": {
      "text/plain": [
       "[(1.0, 'roll'),\n",
       " (-0.3170908140992134, 'ruth_vibes'),\n",
       " (-0.07027230320685034, 'fwd_hype'),\n",
       " (-0.034261660812361275, 'musc_scaled')]"
      ]
     },
     "execution_count": 149,
     "metadata": {},
     "output_type": "execute_result"
    }
   ],
   "source": [
    "coef = np.true_divide(trainedsvm.coef_, sc.scale_)\n",
    "coef_scaled = coef / coef[0, 0]\n",
    "coef_list = coef_scaled.tolist()[0]\n",
    "intercept = trainedsvm.intercept_ - np.dot(coef, sc.mean_)\n",
    "intercept_scaled = intercept / coef[0, 0]\n",
    "\n",
    "print(intercept_scaled)\n",
    "sorted(zip(coef_list, X.columns), key=lambda x: abs(x[0]), reverse=True)"
   ]
  },
  {
   "cell_type": "code",
   "execution_count": 220,
   "metadata": {},
   "outputs": [
    {
     "name": "stdout",
     "output_type": "stream",
     "text": [
      "intercept: 0.08228255659368712\n",
      "(0.26788904569879635, 'ruth_vibes')\n",
      "(0.10333804034769592, 'fwd_hype')\n",
      "(0.05327790818996487, 'musc_scaled')\n",
      "(0.0744084262296521, 'p_h')\n",
      "(0.03249707875702381, 'p_c')\n"
     ]
    }
   ],
   "source": [
    "coef = np.true_divide(trainedsvm.coef_, sc.scale_)\n",
    "coef_scaled = coef / coef[0, 0]\n",
    "coef_list = coef_scaled.tolist()[0]\n",
    "\n",
    "intercept = trainedsvm.intercept_# - np.dot(coef, sc.mean_)\n",
    "intercept_scaled = pin_intercept if pin_intercept is not None else -(intercept / coef[0, 0])[0]\n",
    "\n",
    "dfc[\"threshold\"] = intercept_scaled\n",
    "print(\"intercept:\", intercept_scaled)\n",
    "for pair in pins + list(zip(-np.array(coef_list), X.columns)):\n",
    "    if pair[1] not in [\"roll\", \"roll_log\", \"roll_mod\"]:\n",
    "        print(pair)\n",
    "        dfc[\"threshold\"] += pair[0] * dfc[pair[1]]"
   ]
  },
  {
   "cell_type": "markdown",
   "metadata": {},
   "source": [
    "## Calculate threshold from fit"
   ]
  },
  {
   "cell_type": "code",
   "execution_count": 20,
   "metadata": {},
   "outputs": [],
   "source": [
    "if flinch_data:\n",
    "    intercept = 0.50\n",
    "else:\n",
    "    intercept = 0.30\n",
    "if season == 11:\n",
    "    dfc[\"threshold\"] = (intercept\n",
    "                        + 0.35 * dfc[\"ruth_vibes\"]\n",
    "                        + 0.20 * dfc[\"ballpark_forwardness\"]\n",
    "                        + 0.10 * dfc[\"musc_scaled\"]\n",
    "                       )\n",
    "    dfc[\"svc\"] = dfc[\"threshold\"] - intercept\n",
    "    strikemax = 0.90\n",
    "    dfc.loc[(dfc[\"threshold\"] > strikemax), \"threshold\"] = strikemax\n",
    "elif season == 12 or season == 13:\n",
    "    dfc[\"threshold\"] = (intercept\n",
    "                        + 0.30 * dfc[\"ruth_vibes\"]\n",
    "                        + 0.20 * dfc[\"ballpark_forwardness\"]\n",
    "                        + 0.10 * dfc[\"musc_scaled\"]\n",
    "                       )\n",
    "    dfc[\"svc\"] = dfc[\"threshold\"] - intercept\n",
    "    strikemax = 0.85\n",
    "    dfc.loc[(dfc[\"threshold\"] > strikemax), \"threshold\"] = strikemax\n",
    "elif season == 14:\n",
    "    dfc[\"threshold\"] = (intercept\n",
    "                        + 0.285 * dfc[\"ruth_vibes\"]\n",
    "                        + 0.20 * dfc[\"ballpark_forwardness\"]\n",
    "                        + 0.10 * dfc[\"musc_scaled\"]\n",
    "                       )\n",
    "    dfc[\"svc\"] = dfc[\"threshold\"] - intercept\n",
    "    strikemax = 0.86\n",
    "    dfc.loc[(dfc[\"threshold\"] > strikemax), \"threshold\"] = strikemax\n",
    "# dfc['threshold'] = -intercept_scaled[0]\n",
    "# print(-intercept_scaled)\n",
    "# for pair in zip(-np.array(coef_list), X.columns):\n",
    "#     if pair[1] != \"roll\":\n",
    "#         print(pair)\n",
    "#         dfc['threshold'] += pair[0] * dfc[pair[1]]\n",
    "# dfc['threshold'] += 0.2 * dfc['ballpark_forwardness']\n",
    "\n",
    "\n",
    "# dfc['svc'] = 0\n",
    "# # print(-intercept_scaled)\n",
    "# for pair in zip(-np.array(coef_list), X.columns):\n",
    "#     if pair[1] != \"roll\":\n",
    "#         # print(pair)\n",
    "#         dfc['svc'] += pair[0] * dfc[pair[1]]\n",
    "# dfc['svc'] += 0.2 * dfc['ballpark_forwardness']"
   ]
  },
  {
   "cell_type": "code",
   "execution_count": 21,
   "metadata": {
    "pycharm": {
     "name": "#%%\n"
    }
   },
   "outputs": [],
   "source": [
    "dfc_strikes = dfc[dfc[\"event_type\"] == \"StrikeLooking\"]\n",
    "dfc_flinch = dfc[dfc[\"event_type\"] == \"StrikeFlinching\"]\n",
    "dfc_balls = dfc[dfc[\"event_type\"] == \"Ball\"]"
   ]
  },
  {
   "cell_type": "code",
   "execution_count": 22,
   "metadata": {},
   "outputs": [
    {
     "data": {
      "text/plain": [
       "nan"
      ]
     },
     "execution_count": 22,
     "metadata": {},
     "output_type": "execute_result"
    }
   ],
   "source": [
    "dfc_flinch[\"roll\"].max()"
   ]
  },
  {
   "cell_type": "markdown",
   "metadata": {},
   "source": [
    "## Find Outliers"
   ]
  },
  {
   "cell_type": "code",
   "execution_count": 116,
   "metadata": {},
   "outputs": [
    {
     "data": {
      "text/html": [
       "<div>\n",
       "<style scoped>\n",
       "    .dataframe tbody tr th:only-of-type {\n",
       "        vertical-align: middle;\n",
       "    }\n",
       "\n",
       "    .dataframe tbody tr th {\n",
       "        vertical-align: top;\n",
       "    }\n",
       "\n",
       "    .dataframe thead th {\n",
       "        text-align: right;\n",
       "    }\n",
       "</style>\n",
       "<table border=\"1\" class=\"dataframe\">\n",
       "  <thead>\n",
       "    <tr style=\"text-align: right;\">\n",
       "      <th></th>\n",
       "      <th>offset</th>\n",
       "      <th>pitcher_mul</th>\n",
       "      <th>batter_mul</th>\n",
       "      <th>event_type</th>\n",
       "      <th>roll</th>\n",
       "      <th>ruth_vibes</th>\n",
       "      <th>batter_musclitude</th>\n",
       "      <th>ballpark_forwardness</th>\n",
       "      <th>batter_name</th>\n",
       "      <th>pitcher_name</th>\n",
       "      <th>batter_mods</th>\n",
       "      <th>pitcher_mods</th>\n",
       "      <th>batting_team_mods</th>\n",
       "      <th>pitching_team_mods</th>\n",
       "      <th>day</th>\n",
       "      <th>game_id</th>\n",
       "      <th>play_count</th>\n",
       "      <th>weather</th>\n",
       "    </tr>\n",
       "  </thead>\n",
       "  <tbody>\n",
       "    <tr>\n",
       "      <th>112734</th>\n",
       "      <td>-0.200629</td>\n",
       "      <td>1.0</td>\n",
       "      <td>1.0</td>\n",
       "      <td>Ball</td>\n",
       "      <td>0.001910</td>\n",
       "      <td>0.303655</td>\n",
       "      <td>0.290404</td>\n",
       "      <td>0.269724</td>\n",
       "      <td>Trinity Smaht</td>\n",
       "      <td>Nolanestophia Patterson</td>\n",
       "      <td>NaN</td>\n",
       "      <td>NaN</td>\n",
       "      <td>UNHOLEY;CARCINIZATION;0</td>\n",
       "      <td>SHAME_GIVER</td>\n",
       "      <td>6</td>\n",
       "      <td>3eca069e-57ef-47e0-95d4-8bbe77efa31c</td>\n",
       "      <td>116</td>\n",
       "      <td>Weather.BLOODDRAIN</td>\n",
       "    </tr>\n",
       "    <tr>\n",
       "      <th>112761</th>\n",
       "      <td>-0.325772</td>\n",
       "      <td>1.0</td>\n",
       "      <td>1.0</td>\n",
       "      <td>Ball</td>\n",
       "      <td>0.045041</td>\n",
       "      <td>0.816679</td>\n",
       "      <td>1.155013</td>\n",
       "      <td>0.066199</td>\n",
       "      <td>Christian Combs</td>\n",
       "      <td>Orville Manco</td>\n",
       "      <td>FIRE_EATER;GRAVITY;PARASITE</td>\n",
       "      <td>FORCE;COFFEE_PERIL</td>\n",
       "      <td>MAINTENANCE_MODE;STALEPOPCORN_PAYOUTS</td>\n",
       "      <td>AAA</td>\n",
       "      <td>6</td>\n",
       "      <td>5ed968e5-9266-4614-a318-0d3e19f39c4f</td>\n",
       "      <td>127</td>\n",
       "      <td>Weather.FLOODING</td>\n",
       "    </tr>\n",
       "    <tr>\n",
       "      <th>112747</th>\n",
       "      <td>-0.116245</td>\n",
       "      <td>1.0</td>\n",
       "      <td>1.0</td>\n",
       "      <td>Ball</td>\n",
       "      <td>0.086294</td>\n",
       "      <td>0.303655</td>\n",
       "      <td>0.290404</td>\n",
       "      <td>0.269724</td>\n",
       "      <td>Trinity Smaht</td>\n",
       "      <td>Nolanestophia Patterson</td>\n",
       "      <td>NaN</td>\n",
       "      <td>NaN</td>\n",
       "      <td>UNHOLEY;CARCINIZATION;0</td>\n",
       "      <td>SHAME_GIVER</td>\n",
       "      <td>6</td>\n",
       "      <td>3eca069e-57ef-47e0-95d4-8bbe77efa31c</td>\n",
       "      <td>119</td>\n",
       "      <td>Weather.BLOODDRAIN</td>\n",
       "    </tr>\n",
       "    <tr>\n",
       "      <th>112743</th>\n",
       "      <td>-0.101812</td>\n",
       "      <td>1.0</td>\n",
       "      <td>1.0</td>\n",
       "      <td>Ball</td>\n",
       "      <td>0.100726</td>\n",
       "      <td>0.303655</td>\n",
       "      <td>0.290404</td>\n",
       "      <td>0.269724</td>\n",
       "      <td>Trinity Smaht</td>\n",
       "      <td>Nolanestophia Patterson</td>\n",
       "      <td>NaN</td>\n",
       "      <td>NaN</td>\n",
       "      <td>UNHOLEY;CARCINIZATION;0</td>\n",
       "      <td>SHAME_GIVER</td>\n",
       "      <td>6</td>\n",
       "      <td>3eca069e-57ef-47e0-95d4-8bbe77efa31c</td>\n",
       "      <td>118</td>\n",
       "      <td>Weather.BLOODDRAIN</td>\n",
       "    </tr>\n",
       "    <tr>\n",
       "      <th>112781</th>\n",
       "      <td>-0.270580</td>\n",
       "      <td>1.0</td>\n",
       "      <td>1.0</td>\n",
       "      <td>Ball</td>\n",
       "      <td>0.130907</td>\n",
       "      <td>1.048943</td>\n",
       "      <td>0.156073</td>\n",
       "      <td>0.018072</td>\n",
       "      <td>Farrell Seagull</td>\n",
       "      <td>Hiroto Wilcox</td>\n",
       "      <td>NaN</td>\n",
       "      <td>FRIEND_OF_CROWS;CHUNKY</td>\n",
       "      <td>BLACKHOLE_PAYOUTS;BOTTOM_DWELLER</td>\n",
       "      <td>FIREPROOF;SEALANT;AMBUSH;FIERY</td>\n",
       "      <td>6</td>\n",
       "      <td>9ca61d1a-e512-4cdf-803d-97d901b8df5e</td>\n",
       "      <td>134</td>\n",
       "      <td>Weather.SUN_2</td>\n",
       "    </tr>\n",
       "    <tr>\n",
       "      <th>...</th>\n",
       "      <td>...</td>\n",
       "      <td>...</td>\n",
       "      <td>...</td>\n",
       "      <td>...</td>\n",
       "      <td>...</td>\n",
       "      <td>...</td>\n",
       "      <td>...</td>\n",
       "      <td>...</td>\n",
       "      <td>...</td>\n",
       "      <td>...</td>\n",
       "      <td>...</td>\n",
       "      <td>...</td>\n",
       "      <td>...</td>\n",
       "      <td>...</td>\n",
       "      <td>...</td>\n",
       "      <td>...</td>\n",
       "      <td>...</td>\n",
       "      <td>...</td>\n",
       "    </tr>\n",
       "    <tr>\n",
       "      <th>114476</th>\n",
       "      <td>0.137660</td>\n",
       "      <td>1.0</td>\n",
       "      <td>1.0</td>\n",
       "      <td>StrikeLooking</td>\n",
       "      <td>0.738640</td>\n",
       "      <td>1.493596</td>\n",
       "      <td>0.377552</td>\n",
       "      <td>0.096960</td>\n",
       "      <td>Evelton McBlase II</td>\n",
       "      <td>Castillo Turner</td>\n",
       "      <td>ALTERNATE;WANDERER</td>\n",
       "      <td>NaN</td>\n",
       "      <td>O_NO</td>\n",
       "      <td>BIRD_SEED</td>\n",
       "      <td>7</td>\n",
       "      <td>b23a508c-bbb7-4098-b991-2e1acf7a6621</td>\n",
       "      <td>196</td>\n",
       "      <td>Weather.BIRDS</td>\n",
       "    </tr>\n",
       "    <tr>\n",
       "      <th>114773</th>\n",
       "      <td>0.128194</td>\n",
       "      <td>1.0</td>\n",
       "      <td>1.0</td>\n",
       "      <td>StrikeLooking</td>\n",
       "      <td>0.744684</td>\n",
       "      <td>1.493596</td>\n",
       "      <td>0.781020</td>\n",
       "      <td>0.096960</td>\n",
       "      <td>Francisco Preston</td>\n",
       "      <td>Castillo Turner</td>\n",
       "      <td>SCATTERED</td>\n",
       "      <td>NaN</td>\n",
       "      <td>O_NO</td>\n",
       "      <td>BIRD_SEED</td>\n",
       "      <td>7</td>\n",
       "      <td>b23a508c-bbb7-4098-b991-2e1acf7a6621</td>\n",
       "      <td>276</td>\n",
       "      <td>Weather.BIRDS</td>\n",
       "    </tr>\n",
       "    <tr>\n",
       "      <th>113810</th>\n",
       "      <td>0.141888</td>\n",
       "      <td>1.0</td>\n",
       "      <td>1.0</td>\n",
       "      <td>StrikeLooking</td>\n",
       "      <td>0.758334</td>\n",
       "      <td>1.493596</td>\n",
       "      <td>0.779870</td>\n",
       "      <td>0.096960</td>\n",
       "      <td>Wyatt Pothos</td>\n",
       "      <td>Castillo Turner</td>\n",
       "      <td>HONEY_ROASTED;TRIPLE_THREAT</td>\n",
       "      <td>NaN</td>\n",
       "      <td>O_NO</td>\n",
       "      <td>BIRD_SEED</td>\n",
       "      <td>7</td>\n",
       "      <td>b23a508c-bbb7-4098-b991-2e1acf7a6621</td>\n",
       "      <td>34</td>\n",
       "      <td>Weather.BIRDS</td>\n",
       "    </tr>\n",
       "    <tr>\n",
       "      <th>114063</th>\n",
       "      <td>0.150591</td>\n",
       "      <td>1.0</td>\n",
       "      <td>1.0</td>\n",
       "      <td>StrikeLooking</td>\n",
       "      <td>0.767038</td>\n",
       "      <td>1.493596</td>\n",
       "      <td>0.779870</td>\n",
       "      <td>0.096960</td>\n",
       "      <td>Wyatt Pothos</td>\n",
       "      <td>Castillo Turner</td>\n",
       "      <td>HONEY_ROASTED;TRIPLE_THREAT</td>\n",
       "      <td>NaN</td>\n",
       "      <td>O_NO</td>\n",
       "      <td>BIRD_SEED</td>\n",
       "      <td>7</td>\n",
       "      <td>b23a508c-bbb7-4098-b991-2e1acf7a6621</td>\n",
       "      <td>98</td>\n",
       "      <td>Weather.BIRDS</td>\n",
       "    </tr>\n",
       "    <tr>\n",
       "      <th>112819</th>\n",
       "      <td>0.545881</td>\n",
       "      <td>1.0</td>\n",
       "      <td>1.0</td>\n",
       "      <td>StrikeLooking</td>\n",
       "      <td>0.970245</td>\n",
       "      <td>1.048943</td>\n",
       "      <td>0.751145</td>\n",
       "      <td>0.018072</td>\n",
       "      <td>Lenny Crumb</td>\n",
       "      <td>Hiroto Wilcox</td>\n",
       "      <td>NaN</td>\n",
       "      <td>FRIEND_OF_CROWS;CHUNKY</td>\n",
       "      <td>BLACKHOLE_PAYOUTS;BOTTOM_DWELLER</td>\n",
       "      <td>FIREPROOF;SEALANT;AMBUSH;FIERY</td>\n",
       "      <td>6</td>\n",
       "      <td>9ca61d1a-e512-4cdf-803d-97d901b8df5e</td>\n",
       "      <td>142</td>\n",
       "      <td>Weather.SUN_2</td>\n",
       "    </tr>\n",
       "  </tbody>\n",
       "</table>\n",
       "<p>467 rows × 18 columns</p>\n",
       "</div>"
      ],
      "text/plain": [
       "          offset  pitcher_mul  batter_mul     event_type      roll  \\\n",
       "112734 -0.200629          1.0         1.0           Ball  0.001910   \n",
       "112761 -0.325772          1.0         1.0           Ball  0.045041   \n",
       "112747 -0.116245          1.0         1.0           Ball  0.086294   \n",
       "112743 -0.101812          1.0         1.0           Ball  0.100726   \n",
       "112781 -0.270580          1.0         1.0           Ball  0.130907   \n",
       "...          ...          ...         ...            ...       ...   \n",
       "114476  0.137660          1.0         1.0  StrikeLooking  0.738640   \n",
       "114773  0.128194          1.0         1.0  StrikeLooking  0.744684   \n",
       "113810  0.141888          1.0         1.0  StrikeLooking  0.758334   \n",
       "114063  0.150591          1.0         1.0  StrikeLooking  0.767038   \n",
       "112819  0.545881          1.0         1.0  StrikeLooking  0.970245   \n",
       "\n",
       "        ruth_vibes  batter_musclitude  ballpark_forwardness  \\\n",
       "112734    0.303655           0.290404              0.269724   \n",
       "112761    0.816679           1.155013              0.066199   \n",
       "112747    0.303655           0.290404              0.269724   \n",
       "112743    0.303655           0.290404              0.269724   \n",
       "112781    1.048943           0.156073              0.018072   \n",
       "...            ...                ...                   ...   \n",
       "114476    1.493596           0.377552              0.096960   \n",
       "114773    1.493596           0.781020              0.096960   \n",
       "113810    1.493596           0.779870              0.096960   \n",
       "114063    1.493596           0.779870              0.096960   \n",
       "112819    1.048943           0.751145              0.018072   \n",
       "\n",
       "               batter_name             pitcher_name  \\\n",
       "112734       Trinity Smaht  Nolanestophia Patterson   \n",
       "112761     Christian Combs            Orville Manco   \n",
       "112747       Trinity Smaht  Nolanestophia Patterson   \n",
       "112743       Trinity Smaht  Nolanestophia Patterson   \n",
       "112781     Farrell Seagull            Hiroto Wilcox   \n",
       "...                    ...                      ...   \n",
       "114476  Evelton McBlase II          Castillo Turner   \n",
       "114773   Francisco Preston          Castillo Turner   \n",
       "113810        Wyatt Pothos          Castillo Turner   \n",
       "114063        Wyatt Pothos          Castillo Turner   \n",
       "112819         Lenny Crumb            Hiroto Wilcox   \n",
       "\n",
       "                        batter_mods            pitcher_mods  \\\n",
       "112734                          NaN                     NaN   \n",
       "112761  FIRE_EATER;GRAVITY;PARASITE      FORCE;COFFEE_PERIL   \n",
       "112747                          NaN                     NaN   \n",
       "112743                          NaN                     NaN   \n",
       "112781                          NaN  FRIEND_OF_CROWS;CHUNKY   \n",
       "...                             ...                     ...   \n",
       "114476           ALTERNATE;WANDERER                     NaN   \n",
       "114773                    SCATTERED                     NaN   \n",
       "113810  HONEY_ROASTED;TRIPLE_THREAT                     NaN   \n",
       "114063  HONEY_ROASTED;TRIPLE_THREAT                     NaN   \n",
       "112819                          NaN  FRIEND_OF_CROWS;CHUNKY   \n",
       "\n",
       "                            batting_team_mods              pitching_team_mods  \\\n",
       "112734                UNHOLEY;CARCINIZATION;0                     SHAME_GIVER   \n",
       "112761  MAINTENANCE_MODE;STALEPOPCORN_PAYOUTS                             AAA   \n",
       "112747                UNHOLEY;CARCINIZATION;0                     SHAME_GIVER   \n",
       "112743                UNHOLEY;CARCINIZATION;0                     SHAME_GIVER   \n",
       "112781       BLACKHOLE_PAYOUTS;BOTTOM_DWELLER  FIREPROOF;SEALANT;AMBUSH;FIERY   \n",
       "...                                       ...                             ...   \n",
       "114476                                   O_NO                       BIRD_SEED   \n",
       "114773                                   O_NO                       BIRD_SEED   \n",
       "113810                                   O_NO                       BIRD_SEED   \n",
       "114063                                   O_NO                       BIRD_SEED   \n",
       "112819       BLACKHOLE_PAYOUTS;BOTTOM_DWELLER  FIREPROOF;SEALANT;AMBUSH;FIERY   \n",
       "\n",
       "        day                               game_id  play_count  \\\n",
       "112734    6  3eca069e-57ef-47e0-95d4-8bbe77efa31c         116   \n",
       "112761    6  5ed968e5-9266-4614-a318-0d3e19f39c4f         127   \n",
       "112747    6  3eca069e-57ef-47e0-95d4-8bbe77efa31c         119   \n",
       "112743    6  3eca069e-57ef-47e0-95d4-8bbe77efa31c         118   \n",
       "112781    6  9ca61d1a-e512-4cdf-803d-97d901b8df5e         134   \n",
       "...     ...                                   ...         ...   \n",
       "114476    7  b23a508c-bbb7-4098-b991-2e1acf7a6621         196   \n",
       "114773    7  b23a508c-bbb7-4098-b991-2e1acf7a6621         276   \n",
       "113810    7  b23a508c-bbb7-4098-b991-2e1acf7a6621          34   \n",
       "114063    7  b23a508c-bbb7-4098-b991-2e1acf7a6621          98   \n",
       "112819    6  9ca61d1a-e512-4cdf-803d-97d901b8df5e         142   \n",
       "\n",
       "                   weather  \n",
       "112734  Weather.BLOODDRAIN  \n",
       "112761    Weather.FLOODING  \n",
       "112747  Weather.BLOODDRAIN  \n",
       "112743  Weather.BLOODDRAIN  \n",
       "112781       Weather.SUN_2  \n",
       "...                    ...  \n",
       "114476       Weather.BIRDS  \n",
       "114773       Weather.BIRDS  \n",
       "113810       Weather.BIRDS  \n",
       "114063       Weather.BIRDS  \n",
       "112819       Weather.SUN_2  \n",
       "\n",
       "[467 rows x 18 columns]"
      ]
     },
     "execution_count": 116,
     "metadata": {},
     "output_type": "execute_result"
    },
    {
     "data": {
      "image/png": "[encoded data removed]",
      "text/plain": [
       "<Figure size 432x288 with 1 Axes>"
      ]
     },
     "metadata": {
      "needs_background": "light"
     },
     "output_type": "display_data"
    }
   ],
   "source": [
    "dfc[\"offset\"] = dfc[\"roll\"] - dfc[\"threshold\"]\n",
    "outliers = dfc[(dfc[\"passed\"] & (dfc[\"offset\"] >= 0)) | (~dfc[\"passed\"] & (dfc[\"offset\"] <= 0))]\n",
    "\n",
    "fig, ax = plt.subplots(1)\n",
    "x_val = \"p_h\"\n",
    "ax.scatter(\n",
    "    outliers[~outliers[\"passed\"]][x_val],\n",
    "    outliers[~outliers[\"passed\"]][\"offset\"],\n",
    "    color=\"red\",\n",
    "    label=\"Balls\",\n",
    ")\n",
    "ax.scatter(\n",
    "    outliers[outliers[\"passed\"]][x_val],\n",
    "    outliers[outliers[\"passed\"]][\"offset\"],\n",
    "    color=\"blue\",\n",
    "    label=\"Strikes\",\n",
    ")\n",
    "ax.set_xlabel(x_val)\n",
    "ax.set_ylabel(\"offset\")\n",
    "ax.legend()\n",
    "\n",
    "table = outliers\n",
    "table[\n",
    "    [\n",
    "        \"offset\",  # \"home_score\", \"away_score\", \"top_of_inning\", \"inning\",\n",
    "        \"pitcher_mul\",\n",
    "        \"batter_mul\",\n",
    "        \"event_type\",\n",
    "        \"roll\",\n",
    "        # \"threshold\",\n",
    "        \"ruth_vibes\",\n",
    "        \"batter_musclitude\",\n",
    "        \"ballpark_forwardness\",\n",
    "        \"batter_name\",\n",
    "        \"pitcher_name\",\n",
    "        \"batter_mods\",\n",
    "        \"pitcher_mods\",\n",
    "        \"batting_team_mods\",\n",
    "        \"pitching_team_mods\",\n",
    "        \"day\",\n",
    "        \"game_id\",\n",
    "        \"play_count\",\n",
    "        \"weather\",\n",
    "         # 'ball_count',\n",
    "         # 'strike_count',\n",
    "         # 'out_count'\n",
    "    ]\n",
    "].sort_values(\"roll\")"
   ]
  },
  {
   "cell_type": "markdown",
   "metadata": {},
   "source": [
    "## Visualize Threshold"
   ]
  },
  {
   "cell_type": "code",
   "execution_count": 24,
   "metadata": {},
   "outputs": [
    {
     "ename": "TypeError",
     "evalue": "__init__() got an unexpected keyword argument 'layout'",
     "output_type": "error",
     "traceback": [
      "\u001b[1;31m---------------------------------------------------------------------------\u001b[0m",
      "\u001b[1;31mTypeError\u001b[0m                                 Traceback (most recent call last)",
      "\u001b[1;32mc:\\Users\\Astrid\\Downloads\\sigh\\obj\\resim_new\\notebooks\\find_roll_formula_strikes.ipynb Cell 32\u001b[0m in \u001b[0;36m<cell line: 5>\u001b[1;34m()\u001b[0m\n\u001b[0;32m      <a href='vscode-notebook-cell:/c%3A/Users/Astrid/Downloads/sigh/obj/resim_new/notebooks/find_roll_formula_strikes.ipynb#X43sZmlsZQ%3D%3D?line=2'>3</a>\u001b[0m plt\u001b[39m.\u001b[39mrcParams[\u001b[39m\"\u001b[39m\u001b[39mfont.size\u001b[39m\u001b[39m\"\u001b[39m] \u001b[39m=\u001b[39m \u001b[39m18\u001b[39m\n\u001b[0;32m      <a href='vscode-notebook-cell:/c%3A/Users/Astrid/Downloads/sigh/obj/resim_new/notebooks/find_roll_formula_strikes.ipynb#X43sZmlsZQ%3D%3D?line=3'>4</a>\u001b[0m x_val \u001b[39m=\u001b[39m \u001b[39m\"\u001b[39m\u001b[39msvc\u001b[39m\u001b[39m\"\u001b[39m\n\u001b[1;32m----> <a href='vscode-notebook-cell:/c%3A/Users/Astrid/Downloads/sigh/obj/resim_new/notebooks/find_roll_formula_strikes.ipynb#X43sZmlsZQ%3D%3D?line=4'>5</a>\u001b[0m fig, ax \u001b[39m=\u001b[39m plt\u001b[39m.\u001b[39;49msubplots(\u001b[39m1\u001b[39;49m, figsize\u001b[39m=\u001b[39;49m(\u001b[39m10\u001b[39;49m, \u001b[39m10\u001b[39;49m), dpi\u001b[39m=\u001b[39;49m\u001b[39m200\u001b[39;49m, layout\u001b[39m=\u001b[39;49m\u001b[39m\"\u001b[39;49m\u001b[39mconstrained\u001b[39;49m\u001b[39m\"\u001b[39;49m)\n\u001b[0;32m      <a href='vscode-notebook-cell:/c%3A/Users/Astrid/Downloads/sigh/obj/resim_new/notebooks/find_roll_formula_strikes.ipynb#X43sZmlsZQ%3D%3D?line=6'>7</a>\u001b[0m intercept_plot \u001b[39m=\u001b[39m intercept\n\u001b[0;32m      <a href='vscode-notebook-cell:/c%3A/Users/Astrid/Downloads/sigh/obj/resim_new/notebooks/find_roll_formula_strikes.ipynb#X43sZmlsZQ%3D%3D?line=7'>8</a>\u001b[0m \u001b[39m# intercept_plot = -intercept_scaled\u001b[39;00m\n",
      "File \u001b[1;32m~\\AppData\\Roaming\\Python\\Python39\\site-packages\\matplotlib\\_api\\deprecation.py:471\u001b[0m, in \u001b[0;36mmake_keyword_only.<locals>.wrapper\u001b[1;34m(*args, **kwargs)\u001b[0m\n\u001b[0;32m    465\u001b[0m \u001b[39mif\u001b[39;00m \u001b[39mlen\u001b[39m(args) \u001b[39m>\u001b[39m idx:\n\u001b[0;32m    466\u001b[0m     warn_deprecated(\n\u001b[0;32m    467\u001b[0m         since, message\u001b[39m=\u001b[39m\u001b[39m\"\u001b[39m\u001b[39mPassing the \u001b[39m\u001b[39m%(name)s\u001b[39;00m\u001b[39m \u001b[39m\u001b[39m%(obj_type)s\u001b[39;00m\u001b[39m \u001b[39m\u001b[39m\"\u001b[39m\n\u001b[0;32m    468\u001b[0m         \u001b[39m\"\u001b[39m\u001b[39mpositionally is deprecated since Matplotlib \u001b[39m\u001b[39m%(since)s\u001b[39;00m\u001b[39m; the \u001b[39m\u001b[39m\"\u001b[39m\n\u001b[0;32m    469\u001b[0m         \u001b[39m\"\u001b[39m\u001b[39mparameter will become keyword-only \u001b[39m\u001b[39m%(removal)s\u001b[39;00m\u001b[39m.\u001b[39m\u001b[39m\"\u001b[39m,\n\u001b[0;32m    470\u001b[0m         name\u001b[39m=\u001b[39mname, obj_type\u001b[39m=\u001b[39m\u001b[39mf\u001b[39m\u001b[39m\"\u001b[39m\u001b[39mparameter of \u001b[39m\u001b[39m{\u001b[39;00mfunc\u001b[39m.\u001b[39m\u001b[39m__name__\u001b[39m\u001b[39m}\u001b[39;00m\u001b[39m()\u001b[39m\u001b[39m\"\u001b[39m)\n\u001b[1;32m--> 471\u001b[0m \u001b[39mreturn\u001b[39;00m func(\u001b[39m*\u001b[39margs, \u001b[39m*\u001b[39m\u001b[39m*\u001b[39mkwargs)\n",
      "File \u001b[1;32m~\\AppData\\Roaming\\Python\\Python39\\site-packages\\matplotlib\\pyplot.py:1439\u001b[0m, in \u001b[0;36msubplots\u001b[1;34m(nrows, ncols, sharex, sharey, squeeze, subplot_kw, gridspec_kw, **fig_kw)\u001b[0m\n\u001b[0;32m   1304\u001b[0m \u001b[39m@_api\u001b[39m\u001b[39m.\u001b[39mmake_keyword_only(\u001b[39m\"\u001b[39m\u001b[39m3.3\u001b[39m\u001b[39m\"\u001b[39m, \u001b[39m\"\u001b[39m\u001b[39msharex\u001b[39m\u001b[39m\"\u001b[39m)\n\u001b[0;32m   1305\u001b[0m \u001b[39mdef\u001b[39;00m \u001b[39msubplots\u001b[39m(nrows\u001b[39m=\u001b[39m\u001b[39m1\u001b[39m, ncols\u001b[39m=\u001b[39m\u001b[39m1\u001b[39m, sharex\u001b[39m=\u001b[39m\u001b[39mFalse\u001b[39;00m, sharey\u001b[39m=\u001b[39m\u001b[39mFalse\u001b[39;00m, squeeze\u001b[39m=\u001b[39m\u001b[39mTrue\u001b[39;00m,\n\u001b[0;32m   1306\u001b[0m              subplot_kw\u001b[39m=\u001b[39m\u001b[39mNone\u001b[39;00m, gridspec_kw\u001b[39m=\u001b[39m\u001b[39mNone\u001b[39;00m, \u001b[39m*\u001b[39m\u001b[39m*\u001b[39mfig_kw):\n\u001b[0;32m   1307\u001b[0m     \u001b[39m\"\"\"\u001b[39;00m\n\u001b[0;32m   1308\u001b[0m \u001b[39m    Create a figure and a set of subplots.\u001b[39;00m\n\u001b[0;32m   1309\u001b[0m \n\u001b[1;32m   (...)\u001b[0m\n\u001b[0;32m   1437\u001b[0m \n\u001b[0;32m   1438\u001b[0m \u001b[39m    \"\"\"\u001b[39;00m\n\u001b[1;32m-> 1439\u001b[0m     fig \u001b[39m=\u001b[39m figure(\u001b[39m*\u001b[39m\u001b[39m*\u001b[39mfig_kw)\n\u001b[0;32m   1440\u001b[0m     axs \u001b[39m=\u001b[39m fig\u001b[39m.\u001b[39msubplots(nrows\u001b[39m=\u001b[39mnrows, ncols\u001b[39m=\u001b[39mncols, sharex\u001b[39m=\u001b[39msharex, sharey\u001b[39m=\u001b[39msharey,\n\u001b[0;32m   1441\u001b[0m                        squeeze\u001b[39m=\u001b[39msqueeze, subplot_kw\u001b[39m=\u001b[39msubplot_kw,\n\u001b[0;32m   1442\u001b[0m                        gridspec_kw\u001b[39m=\u001b[39mgridspec_kw)\n\u001b[0;32m   1443\u001b[0m     \u001b[39mreturn\u001b[39;00m fig, axs\n",
      "File \u001b[1;32m~\\AppData\\Roaming\\Python\\Python39\\site-packages\\matplotlib\\pyplot.py:797\u001b[0m, in \u001b[0;36mfigure\u001b[1;34m(num, figsize, dpi, facecolor, edgecolor, frameon, FigureClass, clear, **kwargs)\u001b[0m\n\u001b[0;32m    788\u001b[0m \u001b[39mif\u001b[39;00m \u001b[39mlen\u001b[39m(allnums) \u001b[39m==\u001b[39m max_open_warning \u001b[39m>\u001b[39m\u001b[39m=\u001b[39m \u001b[39m1\u001b[39m:\n\u001b[0;32m    789\u001b[0m     _api\u001b[39m.\u001b[39mwarn_external(\n\u001b[0;32m    790\u001b[0m         \u001b[39mf\u001b[39m\u001b[39m\"\u001b[39m\u001b[39mMore than \u001b[39m\u001b[39m{\u001b[39;00mmax_open_warning\u001b[39m}\u001b[39;00m\u001b[39m figures have been opened. \u001b[39m\u001b[39m\"\u001b[39m\n\u001b[0;32m    791\u001b[0m         \u001b[39mf\u001b[39m\u001b[39m\"\u001b[39m\u001b[39mFigures created through the pyplot interface \u001b[39m\u001b[39m\"\u001b[39m\n\u001b[1;32m   (...)\u001b[0m\n\u001b[0;32m    794\u001b[0m         \u001b[39mf\u001b[39m\u001b[39m\"\u001b[39m\u001b[39mwarning, see the rcParam `figure.max_open_warning`).\u001b[39m\u001b[39m\"\u001b[39m,\n\u001b[0;32m    795\u001b[0m         \u001b[39mRuntimeWarning\u001b[39;00m)\n\u001b[1;32m--> 797\u001b[0m manager \u001b[39m=\u001b[39m new_figure_manager(\n\u001b[0;32m    798\u001b[0m     num, figsize\u001b[39m=\u001b[39mfigsize, dpi\u001b[39m=\u001b[39mdpi,\n\u001b[0;32m    799\u001b[0m     facecolor\u001b[39m=\u001b[39mfacecolor, edgecolor\u001b[39m=\u001b[39medgecolor, frameon\u001b[39m=\u001b[39mframeon,\n\u001b[0;32m    800\u001b[0m     FigureClass\u001b[39m=\u001b[39mFigureClass, \u001b[39m*\u001b[39m\u001b[39m*\u001b[39mkwargs)\n\u001b[0;32m    801\u001b[0m fig \u001b[39m=\u001b[39m manager\u001b[39m.\u001b[39mcanvas\u001b[39m.\u001b[39mfigure\n\u001b[0;32m    802\u001b[0m \u001b[39mif\u001b[39;00m fig_label:\n",
      "File \u001b[1;32m~\\AppData\\Roaming\\Python\\Python39\\site-packages\\matplotlib\\pyplot.py:316\u001b[0m, in \u001b[0;36mnew_figure_manager\u001b[1;34m(*args, **kwargs)\u001b[0m\n\u001b[0;32m    314\u001b[0m \u001b[39m\"\"\"Create a new figure manager instance.\"\"\"\u001b[39;00m\n\u001b[0;32m    315\u001b[0m _warn_if_gui_out_of_main_thread()\n\u001b[1;32m--> 316\u001b[0m \u001b[39mreturn\u001b[39;00m _backend_mod\u001b[39m.\u001b[39mnew_figure_manager(\u001b[39m*\u001b[39margs, \u001b[39m*\u001b[39m\u001b[39m*\u001b[39mkwargs)\n",
      "File \u001b[1;32m~\\AppData\\Roaming\\Python\\Python39\\site-packages\\matplotlib\\backend_bases.py:3544\u001b[0m, in \u001b[0;36m_Backend.new_figure_manager\u001b[1;34m(cls, num, *args, **kwargs)\u001b[0m\n\u001b[0;32m   3542\u001b[0m \u001b[39mfrom\u001b[39;00m \u001b[39mmatplotlib\u001b[39;00m\u001b[39m.\u001b[39;00m\u001b[39mfigure\u001b[39;00m \u001b[39mimport\u001b[39;00m Figure\n\u001b[0;32m   3543\u001b[0m fig_cls \u001b[39m=\u001b[39m kwargs\u001b[39m.\u001b[39mpop(\u001b[39m'\u001b[39m\u001b[39mFigureClass\u001b[39m\u001b[39m'\u001b[39m, Figure)\n\u001b[1;32m-> 3544\u001b[0m fig \u001b[39m=\u001b[39m fig_cls(\u001b[39m*\u001b[39margs, \u001b[39m*\u001b[39m\u001b[39m*\u001b[39mkwargs)\n\u001b[0;32m   3545\u001b[0m \u001b[39mreturn\u001b[39;00m \u001b[39mcls\u001b[39m\u001b[39m.\u001b[39mnew_figure_manager_given_figure(num, fig)\n",
      "\u001b[1;31mTypeError\u001b[0m: __init__() got an unexpected keyword argument 'layout'"
     ]
    }
   ],
   "source": [
    "# x_val = \"pitcher_ruthlessness\"\n",
    "\n",
    "plt.rcParams[\"font.size\"] = 18\n",
    "x_val = \"svc\"\n",
    "fig, ax = plt.subplots(1, figsize=(10, 10), dpi=200, layout=\"constrained\")\n",
    "\n",
    "intercept_plot = intercept\n",
    "# intercept_plot = -intercept_scaled\n",
    "xline = np.linspace(0, 1, 201)\n",
    "# xline = np.insert(xline, 1, 0.65)\n",
    "yline = intercept_plot + xline\n",
    "yline[(yline > strikemax)] = strikemax\n",
    "\n",
    "# ax.set_xlim(0, 1)\n",
    "ax.set_ylim(0, 1)\n",
    "ax.scatter(\n",
    "    dfc[~dfc[\"passed\"]][x_val],\n",
    "    dfc[~dfc[\"passed\"]][\"roll\"],\n",
    "    color=\"red\",\n",
    "    label=\"Balls\",\n",
    "    marker=\">\",\n",
    ")\n",
    "ax.scatter(\n",
    "    dfc[dfc[\"passed\"]][x_val],\n",
    "    dfc[dfc[\"passed\"]][\"roll\"],\n",
    "    color=\"blue\",\n",
    "    label=\"Strikes\",\n",
    "    marker=\"<\",\n",
    ")\n",
    "# ax.set_xlim(-0.05, 1.05)\n",
    "ax.plot(xline, yline, \"k\", label=f\"threshold\\n(max={strikemax})\")\n",
    "# ax.scatter(outliers[~outliers['passed']][x_val], outliers[~outliers['passed']][\"roll\"],\n",
    "#            s=48, edgecolor='black', color=\"red\", label=\"Balls (below threshold)\", marker='<')\n",
    "# ax.scatter(outliers[outliers['passed']][x_val], outliers[outliers['passed']][\"roll\"],\n",
    "#            s=48, edgecolor='black', color=\"blue\", label=\"Strikes (above threshold)\", marker='>')\n",
    "ax.set_xlabel(x_val)\n",
    "ax.set_ylabel(\"roll\")\n",
    "ax.plot(dfc[\"svc\"].min(), 0.5, 'o')\n",
    "\n",
    "ax.legend(loc=\"lower right\")\n",
    "fig.suptitle(f\"Season {season+1}, {'' if flinch_data else 'Non-'}Flinching\")\n",
    "# fig.savefig(f\"../figures/strikes_s{season+1}{'_flinch' if flinch_data else '_noflinch'}.png\",\n",
    "#             facecolor='white', dpi=200)\n"
   ]
  },
  {
   "cell_type": "code",
   "execution_count": null,
   "metadata": {},
   "outputs": [
    {
     "data": {
      "text/plain": [
       "Series([], dtype: int64)"
      ]
     },
     "execution_count": 23,
     "metadata": {},
     "output_type": "execute_result"
    }
   ],
   "source": [
    "outliers.groupby(\"season\").size()"
   ]
  },
  {
   "cell_type": "code",
   "execution_count": null,
   "metadata": {},
   "outputs": [
    {
     "data": {
      "image/png": "[encoded data removed]",
      "text/plain": [
       "<Figure size 720x1080 with 6 Axes>"
      ]
     },
     "metadata": {
      "needs_background": "light"
     },
     "output_type": "display_data"
    }
   ],
   "source": [
    "plt.rcParams[\"font.size\"] = 10\n",
    "x_val = \"svc\"\n",
    "fig, axes = plt.subplots(3, 2, figsize=(10, 15), constrained_layout=True)\n",
    "fig.suptitle(f\"Season {season+1}, {'' if flinch_data else 'Non-'}Flinching\", fontsize=16)\n",
    "dimlist = [5e-2, 2e-2, 1e-2, 0.5e-2, 0.2e-2, 0.1e-2]\n",
    "for i, ax in enumerate(np.ravel(axes)):\n",
    "    ax.scatter(\n",
    "        dfc[dfc[\"passed\"]][x_val],\n",
    "        dfc[dfc[\"passed\"]][\"offset\"],\n",
    "        color=\"blue\",\n",
    "        label=\"Strike\",\n",
    "    )\n",
    "    ax.scatter(\n",
    "        dfc[~dfc[\"passed\"]][x_val],\n",
    "        dfc[~dfc[\"passed\"]][\"offset\"],\n",
    "        color=\"red\",\n",
    "        label=\"Ball\",\n",
    "    )\n",
    "    ax.scatter(\n",
    "        outliers[~outliers[\"passed\"]][x_val],\n",
    "        outliers[~outliers[\"passed\"]][\"offset\"],\n",
    "        color=\"red\",\n",
    "        edgecolor=\"black\",\n",
    "    )\n",
    "    ax.scatter(\n",
    "        outliers[outliers[\"passed\"]][x_val],\n",
    "        outliers[outliers[\"passed\"]][\"offset\"],\n",
    "        color=\"blue\",\n",
    "        edgecolor=\"black\",\n",
    "    )\n",
    "    ax.set_xlabel(x_val)\n",
    "    ax.set_ylabel(\"offset\")\n",
    "    ax.legend()\n",
    "    ax.grid()\n",
    "    ax.set_ylim(-dimlist[i], dimlist[i])\n",
    "# fig.savefig(f\"../figures/ball_strike_fit_offsets_season{season+1}{'_flinch' if flinch_data else '_noflinch'}.png\",\n",
    "#             facecolor='white')\n"
   ]
  },
  {
   "cell_type": "code",
   "execution_count": null,
   "metadata": {},
   "outputs": [
    {
     "name": "stdout",
     "output_type": "stream",
     "text": [
      "0.35\n",
      "0.9999127181619892\n",
      "0.8497483718665839\n",
      "nan\n",
      "0.850726287129669\n",
      "121\n"
     ]
    },
    {
     "data": {
      "text/plain": [
       "event_type             Ball\n",
       "roll               0.850726\n",
       "passed                False\n",
       "batter_buoyancy     1.03484\n",
       "batter_divinity    0.942069\n",
       "                     ...   \n",
       "ruth_vibes         1.098955\n",
       "svc_best           0.490522\n",
       "flinch                 True\n",
       "threshold              0.85\n",
       "svc                0.490522\n",
       "Name: 127809, Length: 146, dtype: object"
      ]
     },
     "execution_count": 25,
     "metadata": {},
     "output_type": "execute_result"
    }
   ],
   "source": [
    "# cutoff = 0.85 + intercept_scaled[0]\n",
    "cutoff = 0.85 - intercept\n",
    "print(round(cutoff, 6))\n",
    "print(dfc_balls['roll'].max())\n",
    "print(dfc_flinch['roll'].max())\n",
    "print(dfc_strikes['roll'].max())\n",
    "print(dfc_balls[dfc_balls['svc'] > cutoff]['roll'].min())\n",
    "print(dfc_balls[dfc_balls['svc'] > cutoff]['roll'].argmin())\n",
    "dfc_balls[dfc_balls['svc'] > cutoff].iloc[dfc_balls[dfc_balls['svc'] > cutoff]['roll'].argmin(),:]\n",
    "# print(dfc_flinch[dfc_flinch['svc'] > 0.85 + intercept_scaled[0]]['roll'].max())"
   ]
  },
  {
   "cell_type": "code",
   "execution_count": null,
   "metadata": {},
   "outputs": [
    {
     "name": "stdout",
     "output_type": "stream",
     "text": [
      "0.5648839101058007\n",
      "0.0008941042939796\n",
      "nan\n"
     ]
    }
   ],
   "source": [
    "print(dfc_balls['roll'].min())\n",
    "print(dfc_flinch['roll'].min())\n",
    "print(dfc_strikes['roll'].min())"
   ]
  },
  {
   "cell_type": "code",
   "execution_count": null,
   "metadata": {},
   "outputs": [
    {
     "data": {
      "text/plain": [
       "0.3538450319684589"
      ]
     },
     "execution_count": 27,
     "metadata": {},
     "output_type": "execute_result"
    }
   ],
   "source": [
    "0.85 + intercept_scaled[0]"
   ]
  },
  {
   "cell_type": "code",
   "execution_count": null,
   "metadata": {},
   "outputs": [],
   "source": [
    "# df[\"svc\"].min()"
   ]
  },
  {
   "cell_type": "code",
   "execution_count": null,
   "metadata": {},
   "outputs": [],
   "source": [
    "# df[\"svc_best\"].max()"
   ]
  },
  {
   "cell_type": "code",
   "execution_count": null,
   "metadata": {
    "tags": []
   },
   "outputs": [],
   "source": [
    "# df.iloc[df[\"svc_best\"].argmax(), :][70:]"
   ]
  },
  {
   "cell_type": "code",
   "execution_count": null,
   "metadata": {
    "tags": []
   },
   "outputs": [],
   "source": [
    "# dfc[\"threshold\"] = -1 * (\\\n",
    "#     1.0 * -0.20 + \\\n",
    "#     -0.30 * dfc[\"ruth_scaled\"] + \\\n",
    "#     -0.20 * dfc[\"ballpark_forwardness\"] + \\\n",
    "#     -0.10 * dfc[\"musc_scaled\"] + \\\n",
    "#     -0.06 * dfc[\"ruth_vibes\"])\n",
    "# dfc[\"threshold\"] = -1 * (\\\n",
    "#     coef_scaled[0,0] * intercept_scaled + \\\n",
    "#     coef_scaled[0,1] * dfc[\"ruth_scaled\"] + \\\n",
    "#     coef_scaled[0,2] * dfc[\"ballpark_forwardness\"] + \\\n",
    "#     coef_scaled[0,3] * dfc[\"ruth_vibes\"] + \\\n",
    "#     coef_scaled[0,4] * dfc[\"musc_scaled\"] + \\\n",
    "#     coef_scaled[0,5] * dfc[\"flinch\"])\n",
    "# dfc.loc[(dfc[\"threshold\"] > 0.85), \"threshold\"] = 0.85\n",
    "\n",
    "\n",
    "# dfc[\"offset\"] = dfc[\"roll\"] - dfc[\"threshold\"]\n",
    "\n",
    "# outliers = dfc.copy()[(dfc[\"passed\"] & (dfc[\"offset\"] > 0)) | (~dfc[\"passed\"] & (dfc[\"offset\"] < 0))]\n",
    "# print(len(outliers))\n",
    "\n",
    "# fig, ax = plt.subplots(1)\n",
    "# fig.set_size_inches(10, 10)\n",
    "# x_val = \"svc\"\n",
    "# ax.scatter(outliers[~outliers['passed']][x_val], outliers[~outliers['passed']][\"offset\"], color=\"red\", label=\"Balls\")\n",
    "# ax.scatter(outliers[outliers['passed']][x_val], outliers[outliers['passed']][\"offset\"], color=\"blue\", label=\"Strikes\")\n",
    "# ax.set_xlabel(x_val)\n",
    "# ax.set_ylabel('offset')\n",
    "# ax.grid()\n",
    "# ax.legend()\n",
    "# ax.set_xlim(0, 1.4)\n",
    "# ax.set_xlim(0.1, 0.7)\n",
    "# ax.set_ylim(-0.06, 0.08)\n",
    "# fig.savefig(\"fit_outliers.png\", facecolor='white')"
   ]
  },
  {
   "cell_type": "code",
   "execution_count": null,
   "metadata": {},
   "outputs": [
    {
     "data": {
      "text/html": [
       "<div>\n",
       "<style scoped>\n",
       "    .dataframe tbody tr th:only-of-type {\n",
       "        vertical-align: middle;\n",
       "    }\n",
       "\n",
       "    .dataframe tbody tr th {\n",
       "        vertical-align: top;\n",
       "    }\n",
       "\n",
       "    .dataframe thead th {\n",
       "        text-align: right;\n",
       "    }\n",
       "</style>\n",
       "<table border=\"1\" class=\"dataframe\">\n",
       "  <thead>\n",
       "    <tr style=\"text-align: right;\">\n",
       "      <th></th>\n",
       "      <th>roll</th>\n",
       "      <th>ruth_vibes</th>\n",
       "      <th>pitcher_name</th>\n",
       "      <th>svc</th>\n",
       "    </tr>\n",
       "  </thead>\n",
       "  <tbody>\n",
       "    <tr>\n",
       "      <th>86478</th>\n",
       "      <td>0.480589</td>\n",
       "      <td>0.107985</td>\n",
       "      <td>Simba Davis</td>\n",
       "      <td>0.054458</td>\n",
       "    </tr>\n",
       "    <tr>\n",
       "      <th>86215</th>\n",
       "      <td>0.044557</td>\n",
       "      <td>0.107985</td>\n",
       "      <td>Simba Davis</td>\n",
       "      <td>0.054458</td>\n",
       "    </tr>\n",
       "    <tr>\n",
       "      <th>86497</th>\n",
       "      <td>0.164227</td>\n",
       "      <td>0.107985</td>\n",
       "      <td>Simba Davis</td>\n",
       "      <td>0.081541</td>\n",
       "    </tr>\n",
       "    <tr>\n",
       "      <th>85733</th>\n",
       "      <td>0.204147</td>\n",
       "      <td>0.107985</td>\n",
       "      <td>Simba Davis</td>\n",
       "      <td>0.081541</td>\n",
       "    </tr>\n",
       "    <tr>\n",
       "      <th>86365</th>\n",
       "      <td>0.087949</td>\n",
       "      <td>0.107985</td>\n",
       "      <td>Simba Davis</td>\n",
       "      <td>0.076486</td>\n",
       "    </tr>\n",
       "    <tr>\n",
       "      <th>...</th>\n",
       "      <td>...</td>\n",
       "      <td>...</td>\n",
       "      <td>...</td>\n",
       "      <td>...</td>\n",
       "    </tr>\n",
       "    <tr>\n",
       "      <th>71970</th>\n",
       "      <td>0.608312</td>\n",
       "      <td>1.518531</td>\n",
       "      <td>Gabriel Griffith</td>\n",
       "      <td>0.513578</td>\n",
       "    </tr>\n",
       "    <tr>\n",
       "      <th>71130</th>\n",
       "      <td>0.602976</td>\n",
       "      <td>1.518531</td>\n",
       "      <td>Gabriel Griffith</td>\n",
       "      <td>0.513578</td>\n",
       "    </tr>\n",
       "    <tr>\n",
       "      <th>72174</th>\n",
       "      <td>0.597926</td>\n",
       "      <td>1.518531</td>\n",
       "      <td>Gabriel Griffith</td>\n",
       "      <td>0.513578</td>\n",
       "    </tr>\n",
       "    <tr>\n",
       "      <th>72305</th>\n",
       "      <td>0.658683</td>\n",
       "      <td>1.518531</td>\n",
       "      <td>Gabriel Griffith</td>\n",
       "      <td>0.513578</td>\n",
       "    </tr>\n",
       "    <tr>\n",
       "      <th>71626</th>\n",
       "      <td>0.086796</td>\n",
       "      <td>1.518531</td>\n",
       "      <td>Gabriel Griffith</td>\n",
       "      <td>0.513578</td>\n",
       "    </tr>\n",
       "  </tbody>\n",
       "</table>\n",
       "<p>3249 rows × 4 columns</p>\n",
       "</div>"
      ],
      "text/plain": [
       "           roll  ruth_vibes      pitcher_name       svc\n",
       "86478  0.480589    0.107985       Simba Davis  0.054458\n",
       "86215  0.044557    0.107985       Simba Davis  0.054458\n",
       "86497  0.164227    0.107985       Simba Davis  0.081541\n",
       "85733  0.204147    0.107985       Simba Davis  0.081541\n",
       "86365  0.087949    0.107985       Simba Davis  0.076486\n",
       "...         ...         ...               ...       ...\n",
       "71970  0.608312    1.518531  Gabriel Griffith  0.513578\n",
       "71130  0.602976    1.518531  Gabriel Griffith  0.513578\n",
       "72174  0.597926    1.518531  Gabriel Griffith  0.513578\n",
       "72305  0.658683    1.518531  Gabriel Griffith  0.513578\n",
       "71626  0.086796    1.518531  Gabriel Griffith  0.513578\n",
       "\n",
       "[3249 rows x 4 columns]"
      ]
     },
     "execution_count": 32,
     "metadata": {},
     "output_type": "execute_result"
    }
   ],
   "source": [
    "dfc_flinch.loc[:,[\"roll\", \"ruth_vibes\", \"pitcher_name\", \"svc\"]].sort_values(\"ruth_vibes\")"
   ]
  },
  {
   "cell_type": "code",
   "execution_count": null,
   "metadata": {},
   "outputs": [
    {
     "data": {
      "text/plain": [
       "0.05445817690493793"
      ]
     },
     "execution_count": 33,
     "metadata": {},
     "output_type": "execute_result"
    }
   ],
   "source": [
    "dfc_flinch[\"svc\"].min()"
   ]
  },
  {
   "cell_type": "code",
   "execution_count": null,
   "metadata": {},
   "outputs": [],
   "source": []
  },
  {
   "cell_type": "code",
   "execution_count": null,
   "metadata": {},
   "outputs": [],
   "source": []
  }
 ],
 "metadata": {
  "kernelspec": {
   "display_name": "Python 3.9.6 64-bit",
   "language": "python",
   "name": "python3"
  },
  "language_info": {
   "codemirror_mode": {
    "name": "ipython",
    "version": 3
   },
   "file_extension": ".py",
   "mimetype": "text/x-python",
   "name": "python",
   "nbconvert_exporter": "python",
   "pygments_lexer": "ipython3",
   "version": "3.9.6"
  },
  "vscode": {
   "interpreter": {
    "hash": "55c90e3f6875ff0202586c47fc7803fe16ed38f621983635a34e412a80a71124"
   }
  }
 },
 "nbformat": 4,
 "nbformat_minor": 4
}
