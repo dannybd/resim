{
 "cells": [
  {
   "cell_type": "markdown",
   "metadata": {},
   "source": [
    "# Triples\n",
    "\n",
    "Created by Kidror\n",
    "\n",
    "```\n",
    "# S12 and S13: ballpark factors are just an offset of 0.045 for S12 and much of S13\n",
    "# total offset thus is 0.05 (or if you do (ballpark factors - 0.5) before fitting, they fall out)\n",
    "# crabitat data is miniscule, other ballparks don't exist in this data set yet (we should fix this...)\n",
    "dfc[\"threshold\"] = 0.05 + 0.20*gf - 0.04*opw - 0.06*chase + 0.025*fwd + 0.025*grand + 0.04*obt\n",
    "\n",
    "# S14: stubborn outlier, fiddly formula. really don't like 0.199 and -0.038 for gf and opw\n",
    "# dfc[\"threshold\"] = 0.044 + 0.2*gf - 0.04*opw - 0.046*chase + 0.015*fwd + 0.0267*grand + 0.034*obt\n",
    "\n",
    "# S15: fiddly formula\n",
    "# dfc[\"threshold\"] = 0.043 + 0.2*gf - 0.04*opw - 0.0475*chase + 0.03*fwd + 0.026*grand + 0.04*obt\n",
    "```"
   ]
  },
  {
   "cell_type": "code",
   "execution_count": 1,
   "metadata": {
    "collapsed": false,
    "jupyter": {
     "outputs_hidden": false
    },
    "pycharm": {
     "name": "#%%\n"
    }
   },
   "outputs": [
    {
     "data": {
      "text/plain": [
       "3049"
      ]
     },
     "execution_count": 1,
     "metadata": {},
     "output_type": "execute_result"
    }
   ],
   "source": [
    "import glob\n",
    "\n",
    "import pandas as pd\n",
    "import matplotlib.pyplot as plt\n",
    "import numpy as np\n",
    "from matplotlib.markers import CARETLEFTBASE, CARETRIGHTBASE\n",
    "\n",
    "all_files = glob.glob(\"../roll_data/*-triples.csv\")\n",
    "\n",
    "df = pd.concat((pd.read_csv(f) for f in all_files), ignore_index=True)\n",
    "df['gf_times_batter_vibes'] = df['batter_ground_friction'] * df['batter_vibes']\n",
    "df['op_times_pitcher_vibes'] = df['pitcher_overpowerment'] * df['pitcher_vibes']\n",
    "\n",
    "season = 12\n",
    "df = df[df['season'] == season]\n",
    "len(df)"
   ]
  },
  {
   "cell_type": "code",
   "execution_count": 2,
   "metadata": {},
   "outputs": [],
   "source": [
    "# patch the fielder multiplier, which missed Shelled when done in resim.py (last time I ran it anyway)\n",
    "def get_fielder_mul(row):\n",
    "    fm = str(row[\"fielder_mods\"])\n",
    "    ptm = str(row[\"pitching_team_mods\"])\n",
    "    mul = 1\n",
    "    if \"OVERPERFORMING\" in fm:\n",
    "        mul += 0.2\n",
    "    if \"OVERPERFORMING\" in ptm:\n",
    "        mul += 0.2\n",
    "    if \"UNDERPERFORMING\" in fm:\n",
    "        mul -= 0.2\n",
    "    if \"UNDERPERFORMING\" in ptm:\n",
    "        mul -= 0.2\n",
    "    if \"TRAVELING\" in ptm:\n",
    "        # pass\n",
    "        if not row[\"top_of_inning\"]:\n",
    "            mul += 0.05\n",
    "    if \"HIGH_PRESSURE\" in ptm:\n",
    "        if row[\"weather\"] == 18 and str(row[\"baserunner_count\"]) > 0:\n",
    "            mul += 0.25\n",
    "    if \"GROWTH\" in ptm:\n",
    "        mul += min(0.05, 0.05 * (row[\"day\"] / 99))\n",
    "    if \"SINKING_SHIP\" in ptm:\n",
    "        mul += (14 - row[\"pitching_team_roster_size\"]) * 0.01\n",
    "    if \"AFFINITY_FOR_CROWS\" in ptm and row[\"weather\"] == \"Weather.BIRDS\":\n",
    "        mul += 0.5\n",
    "    if \"SHELLED\" in fm:\n",
    "        # is it this, or is it \"mul = 0\", I wonder\n",
    "        mul -= 1.0\n",
    "    if row[\"fielder_name\"] == \"Sutton Dreamy\" and row[\"weather\"] == \"Weather.ECLIPSE\":\n",
    "        # NVGs allow the player to play 50% better in a solar eclipse.\n",
    "        # This might affect fielding and baserunning as well?\n",
    "        mul += 0.50\n",
    "    return mul\n",
    "\n",
    "df[\"fielder_multiplier\"] = df.apply(get_fielder_mul, axis=1)"
   ]
  },
  {
   "cell_type": "code",
   "execution_count": 3,
   "metadata": {},
   "outputs": [],
   "source": [
    "\n",
    "dfc = df.copy()\n",
    "for exclude_mod in [\"O_NO\", \"ON_FIRE\", \"OVERPERFORMING\", \"UNDERPERFORMING\", \"GROWTH\", \"HIGH_PRESSURE\", \"SINKING_SHIP\", \"TRAVELING\", \"CHUNKY\", \"SMOOTH\"]:\n",
    "    dfc = dfc[~dfc[\"batter_mods\"].astype(str).str.contains(exclude_mod)]\n",
    "    dfc = dfc[~dfc[\"pitcher_mods\"].astype(str).str.contains(exclude_mod)]\n",
    "    dfc = dfc[~dfc[\"pitching_team_mods\"].astype(str).str.contains(exclude_mod)]\n",
    "    dfc = dfc[~dfc[\"batting_team_mods\"].astype(str).str.contains(exclude_mod)]\n",
    "\n",
    "batter_params = ['batter_buoyancy', 'batter_divinity', 'batter_martyrdom', 'batter_moxie', 'batter_musclitude', 'batter_patheticism', 'batter_thwackability', 'batter_tragicness', 'batter_coldness', 'batter_overpowerment', 'batter_ruthlessness', 'batter_shakespearianism', 'batter_suppression', 'batter_unthwackability', 'batter_base_thirst', 'batter_continuation', 'batter_ground_friction', 'batter_indulgence', 'batter_laserlikeness', 'batter_anticapitalism', 'batter_chasiness', 'batter_omniscience', 'batter_tenaciousness', 'batter_watchfulness', 'batter_pressurization', 'batter_cinnamon']\n",
    "pitcher_params = ['pitcher_buoyancy', 'pitcher_divinity', 'pitcher_martyrdom', 'pitcher_moxie', 'pitcher_musclitude', 'pitcher_patheticism', 'pitcher_thwackability', 'pitcher_tragicness', 'pitcher_ruthlessness', 'pitcher_overpowerment', 'pitcher_unthwackability', 'pitcher_shakespearianism', 'pitcher_suppression', 'pitcher_coldness', 'pitcher_base_thirst', 'pitcher_continuation', 'pitcher_ground_friction', 'pitcher_indulgence', 'pitcher_laserlikeness', 'pitcher_anticapitalism', 'pitcher_chasiness', 'pitcher_omniscience', 'pitcher_tenaciousness', 'pitcher_watchfulness', 'pitcher_pressurization', 'pitcher_cinnamon']\n",
    "for attr in batter_params:\n",
    "    dfc[attr] = dfc[attr] * df['batter_multiplier']\n",
    "for attr in pitcher_params:\n",
    "    dfc[attr] = dfc[attr] * df['pitcher_multiplier']\n",
    "\n",
    "dfc.loc[dfc[\"pitcher_mods\"].astype(str).str.contains(\"SCATTERED\"),\"pitcher_vibes\"] = 0\n",
    "dfc.loc[dfc[\"batter_mods\"].astype(str).str.contains(\"SCATTERED\"),\"batter_vibes\"] = 0\n",
    "dfc.loc[dfc[\"fielder_mods\"].astype(str).str.contains(\"SCATTERED\"),\"fielder_vibes\"] = 0\n",
    "\n",
    "dfc = dfc[dfc[\"batter_multiplier\"] == 1]\n",
    "dfc = dfc[dfc[\"pitcher_multiplier\"] == 1]\n",
    "dfc = dfc[dfc[\"fielder_multiplier\"] == 1]\n"
   ]
  },
  {
   "cell_type": "code",
   "execution_count": 4,
   "metadata": {},
   "outputs": [
    {
     "data": {
      "text/plain": [
       "array([[1758,    0],\n",
       "       [   0,  229]])"
      ]
     },
     "execution_count": 4,
     "metadata": {},
     "output_type": "execute_result"
    }
   ],
   "source": [
    "from sklearn.preprocessing import StandardScaler\n",
    "from sklearn.metrics import confusion_matrix\n",
    "from sklearn.metrics import classification_report\n",
    "from sklearn import svm, linear_model\n",
    "\n",
    "dfc[\"gf_vibes\"] = dfc[\"batter_ground_friction\"] * (1 + 0.2*dfc[\"batter_vibes\"])\n",
    "dfc[\"opw_vibes\"] = dfc[\"pitcher_overpowerment\"] * (1 + 0.2*dfc[\"pitcher_vibes\"])\n",
    "dfc[\"unthwack_vibes\"] = dfc[\"pitcher_unthwackability\"] * (1 + 0.2*dfc[\"pitcher_vibes\"])\n",
    "dfc[\"chase_vibes\"] = dfc[\"fielder_chasiness\"] * (1 + 0.2*dfc[\"fielder_vibes\"])\n",
    "dfc[\"cold_vibes\"] = dfc[\"pitcher_coldness\"] * (1 + 0.2*dfc[\"pitcher_vibes\"])\n",
    "dfc[\"ruth_vibes\"] = dfc[\"pitcher_ruthlessness\"] * (1 + 0.2*dfc[\"pitcher_vibes\"])\n",
    "dfc[\"shakes_vibes\"] = dfc[\"pitcher_shakespearianism\"] * (1 + 0.2*dfc[\"pitcher_vibes\"])\n",
    "dfc[\"supp_vibes\"] = dfc[\"pitcher_suppression\"] * (1 + 0.2*dfc[\"pitcher_vibes\"])\n",
    "dfc[\"hard\"] = dfc[\"ballpark_forwardness\"] - dfc[\"ballpark_viscosity\"] - dfc[\"ballpark_ominousness\"]\n",
    "dfc[\"hit\"] = dfc[\"ballpark_grandiosity\"] + dfc[\"ballpark_obtuseness\"] - dfc[\"ballpark_inconvenience\"]\n",
    "dfc[\"fwd\"] = dfc[\"ballpark_forwardness\"] - 0.5\n",
    "dfc[\"grand\"] = dfc[\"ballpark_grandiosity\"] - 0.5\n",
    "dfc[\"obt\"] = dfc[\"ballpark_obtuseness\"] - 0.5\n",
    "\n",
    "\n",
    "X = dfc[[\"roll\", \"gf_vibes\", \"opw_vibes\", \"chase_vibes\",\n",
    "         \"fwd\", \"grand\", \"obt\",\n",
    "         # \"ballpark_forwardness\",\n",
    "         # \"ballpark_viscosity\",\n",
    "         # \"ballpark_ominousness\",\n",
    "         # \"ballpark_grandiosity\",\n",
    "         # \"ballpark_obtuseness\",\n",
    "         # \"ballpark_inconvenience\",\n",
    "         # \"ballpark_elongation\",\n",
    "        ]]\n",
    "y = dfc['passed']\n",
    "\n",
    "sc = StandardScaler()\n",
    "X2 = sc.fit_transform(X)\n",
    "\n",
    "trainedsvm = svm.LinearSVC(fit_intercept=True, dual=False, C=10000000, max_iter=10000, tol=1e-6).fit(X2, y)\n",
    "predictionsvm = trainedsvm.predict(X2)\n",
    "confusion_matrix(y,predictionsvm)"
   ]
  },
  {
   "cell_type": "code",
   "execution_count": 5,
   "metadata": {},
   "outputs": [
    {
     "name": "stdout",
     "output_type": "stream",
     "text": [
      "1758\n",
      "229\n"
     ]
    }
   ],
   "source": [
    "print(len(dfc[~dfc[\"passed\"]]))\n",
    "print(len(dfc[dfc[\"passed\"]]))"
   ]
  },
  {
   "cell_type": "code",
   "execution_count": 6,
   "metadata": {},
   "outputs": [
    {
     "name": "stdout",
     "output_type": "stream",
     "text": [
      "[-0.05046926]\n"
     ]
    },
    {
     "data": {
      "text/plain": [
       "[(1.0, 'roll'),\n",
       " (-0.19857705701306924, 'gf_vibes'),\n",
       " (-0.1948095106346475, 'fwd'),\n",
       " (-0.08276467398683551, 'grand'),\n",
       " (0.060187853985492396, 'chase_vibes'),\n",
       " (-0.04230453524177044, 'obt'),\n",
       " (0.038312710407710185, 'opw_vibes')]"
      ]
     },
     "execution_count": 6,
     "metadata": {},
     "output_type": "execute_result"
    }
   ],
   "source": [
    "coef = np.true_divide(trainedsvm.coef_, sc.scale_)\n",
    "coef_scaled = coef / coef[0, 0]\n",
    "coef_list = coef_scaled.tolist()[0]\n",
    "intercept = trainedsvm.intercept_ - np.dot(coef, sc.mean_)\n",
    "intercept_scaled = intercept / coef[0, 0]\n",
    "print(intercept_scaled)\n",
    "sorted(zip(coef_list, X.columns), key=lambda x: abs(x[0]), reverse=True)"
   ]
  },
  {
   "cell_type": "code",
   "execution_count": 7,
   "metadata": {},
   "outputs": [
    {
     "name": "stdout",
     "output_type": "stream",
     "text": [
      "[0.05046926]\n",
      "(0.19857705701306924, 'gf_vibes')\n",
      "(-0.038312710407710185, 'opw_vibes')\n",
      "(-0.060187853985492396, 'chase_vibes')\n",
      "(0.1948095106346475, 'fwd')\n",
      "(0.08276467398683551, 'grand')\n",
      "(0.04230453524177044, 'obt')\n"
     ]
    }
   ],
   "source": [
    "gf = dfc[\"batter_ground_friction\"] * (1 + 0.2*dfc[\"batter_vibes\"])\n",
    "opw = dfc[\"pitcher_overpowerment\"] * (1 + 0.2*dfc[\"pitcher_vibes\"])\n",
    "grand = dfc[\"ballpark_grandiosity\"]\n",
    "vis = dfc[\"ballpark_viscosity\"]\n",
    "fwd = dfc[\"ballpark_forwardness\"]\n",
    "omi = dfc[\"ballpark_ominousness\"]\n",
    "obt = dfc[\"ballpark_obtuseness\"]\n",
    "elong = dfc[\"ballpark_elongation\"]\n",
    "chase = dfc[\"fielder_chasiness\"] * (1 + 0.2*dfc[\"fielder_vibes\"])\n",
    "cold = dfc[\"pitcher_coldness\"] * (1 + 0.2*dfc[\"pitcher_vibes\"])\n",
    "\n",
    "fwd = dfc[\"fwd\"]\n",
    "grand = dfc[\"grand\"]\n",
    "obt = dfc[\"obt\"]\n",
    "\n",
    "# S12 & 13: 0.05 + 0.2*gf - 0.06*chase - 0.04*opw\n",
    "\n",
    "# dfc[\"threshold\"] = 0.0525 + 0.2*gf - 0.045*chase - 0.0425*opw\n",
    "\n",
    "dfc[\"threshold\"] = -intercept_scaled[0]\n",
    "print(-intercept_scaled)\n",
    "for pair in zip(-np.array(coef_list), X.columns):\n",
    "    if pair[1] != \"roll\":\n",
    "        print(pair)\n",
    "        dfc[\"threshold\"] += pair[0] * dfc[pair[1]]\n",
    "\n",
    "# S12 and S13: ballpark factors are just an offset of 0.045 for S12 and much of S13\n",
    "# total offset thus is 0.05 (or if you do (ballpark factors - 0.5) before fitting, they fall out)\n",
    "# crabitat data is miniscule, other ballparks don't exist in this data set yet (we should fix this...)\n",
    "dfc[\"threshold\"] = 0.05 + 0.20*gf - 0.04*opw - 0.06*chase + 0.025*fwd + 0.025*grand + 0.04*obt\n",
    "\n",
    "# S14: stubborn outlier, fiddly formula. really don't like 0.199 and -0.038 for gf and opw\n",
    "# dfc[\"threshold\"] = 0.044 + 0.2*gf - 0.04*opw - 0.046*chase + 0.015*fwd + 0.0267*grand + 0.034*obt\n",
    "\n",
    "# S15: fiddly formula\n",
    "# dfc[\"threshold\"] = 0.043 + 0.2*gf - 0.04*opw - 0.0475*chase + 0.03*fwd + 0.026*grand + 0.04*obt"
   ]
  },
  {
   "cell_type": "code",
   "execution_count": 8,
   "metadata": {},
   "outputs": [
    {
     "name": "stdout",
     "output_type": "stream",
     "text": [
      "0\n"
     ]
    },
    {
     "data": {
      "text/html": [
       "<div>\n",
       "<style scoped>\n",
       "    .dataframe tbody tr th:only-of-type {\n",
       "        vertical-align: middle;\n",
       "    }\n",
       "\n",
       "    .dataframe tbody tr th {\n",
       "        vertical-align: top;\n",
       "    }\n",
       "\n",
       "    .dataframe thead th {\n",
       "        text-align: right;\n",
       "    }\n",
       "</style>\n",
       "<table border=\"1\" class=\"dataframe\">\n",
       "  <thead>\n",
       "    <tr style=\"text-align: right;\">\n",
       "      <th></th>\n",
       "      <th>offset</th>\n",
       "      <th>weather</th>\n",
       "      <th>event_type</th>\n",
       "      <th>roll</th>\n",
       "      <th>threshold</th>\n",
       "      <th>fielder_name</th>\n",
       "      <th>fielder_chasiness</th>\n",
       "      <th>batter_name</th>\n",
       "      <th>pitcher_name</th>\n",
       "      <th>batter_mods</th>\n",
       "      <th>pitcher_mods</th>\n",
       "      <th>fwd</th>\n",
       "      <th>grand</th>\n",
       "      <th>obt</th>\n",
       "      <th>batting_team_mods</th>\n",
       "      <th>pitching_team_mods</th>\n",
       "      <th>day</th>\n",
       "      <th>game_id</th>\n",
       "      <th>play_count</th>\n",
       "    </tr>\n",
       "  </thead>\n",
       "  <tbody>\n",
       "  </tbody>\n",
       "</table>\n",
       "</div>"
      ],
      "text/plain": [
       "Empty DataFrame\n",
       "Columns: [offset, weather, event_type, roll, threshold, fielder_name, fielder_chasiness, batter_name, pitcher_name, batter_mods, pitcher_mods, fwd, grand, obt, batting_team_mods, pitching_team_mods, day, game_id, play_count]\n",
       "Index: []"
      ]
     },
     "execution_count": 8,
     "metadata": {},
     "output_type": "execute_result"
    },
    {
     "data": {
      "image/png": "[encoded data removed]",
      "text/plain": [
       "<Figure size 432x288 with 1 Axes>"
      ]
     },
     "metadata": {
      "needs_background": "light"
     },
     "output_type": "display_data"
    }
   ],
   "source": [
    "dfc[\"offset\"] = dfc[\"roll\"] - dfc[\"threshold\"]\n",
    "outliers = dfc[(dfc[\"passed\"] & (dfc[\"offset\"] > 0)) | (~dfc[\"passed\"] & (dfc[\"offset\"] < 0))]\n",
    "\n",
    "fig, ax = plt.subplots(1)\n",
    "x_val = \"threshold\"\n",
    "y_val = \"offset\"\n",
    "ax.scatter(outliers[~outliers['passed']][x_val], outliers[~outliers['passed']][y_val], color=\"red\", label=\"Triple\")\n",
    "ax.scatter(outliers[outliers['passed']][x_val], outliers[outliers['passed']][y_val], color=\"blue\", label=\"Other Hit\")\n",
    "ax.set_xlabel(x_val)\n",
    "ax.set_ylabel(y_val)\n",
    "ax.legend()\n",
    "\n",
    "table = outliers\n",
    "print(len(table))\n",
    "table[[\"offset\", \"weather\", \"event_type\",# \"batter_multiplier\", \"pitcher_multiplier\",\n",
    "       \"roll\", \"threshold\",\n",
    "       \"fielder_name\", \"fielder_chasiness\",\n",
    "       \"batter_name\", \"pitcher_name\", \"batter_mods\", \"pitcher_mods\",\n",
    "       \"fwd\",\n",
    "         \"grand\",\n",
    "         \"obt\",\n",
    "       \"batting_team_mods\", \"pitching_team_mods\", \"day\",  \"game_id\", \"play_count\"]].sort_values('offset')\n"
   ]
  },
  {
   "cell_type": "code",
   "execution_count": 9,
   "metadata": {},
   "outputs": [
    {
     "data": {
      "text/plain": [
       "<matplotlib.legend.Legend at 0x7fc70bdc9d30>"
      ]
     },
     "execution_count": 9,
     "metadata": {},
     "output_type": "execute_result"
    },
    {
     "data": {
      "image/png": "[encoded data removed]",
      "text/plain": [
       "<Figure size 720x432 with 1 Axes>"
      ]
     },
     "metadata": {
      "needs_background": "light"
     },
     "output_type": "display_data"
    }
   ],
   "source": [
    "x_val = \"threshold\"\n",
    "fig, ax = plt.subplots(1, figsize=(10, 6))\n",
    "ax.scatter(dfc[~dfc['passed']][x_val], dfc[~dfc['passed']][\"roll\"], color=\"red\",\n",
    "           label=\"Other Hit\", marker=CARETRIGHTBASE)\n",
    "ax.scatter(dfc[dfc['passed']][x_val], dfc[dfc['passed']][\"roll\"], color=\"blue\",\n",
    "           label=\"Triple\", marker=CARETLEFTBASE)\n",
    "ax.plot([0, 1], [0, 1])\n",
    "ax.set_xlabel(x_val)\n",
    "ax.set_ylabel('roll')\n",
    "ax.set_title(\"HRs\")\n",
    "ax.set_xlim([-0.1, 0.5])\n",
    "ax.set_ylim([0.0, 0.5])\n",
    "ax.legend()"
   ]
  },
  {
   "cell_type": "code",
   "execution_count": 10,
   "metadata": {},
   "outputs": [
    {
     "name": "stdout",
     "output_type": "stream",
     "text": [
      "0.2987399854083441\n",
      "0.0125936247375799\n"
     ]
    }
   ],
   "source": [
    "print(dfc[dfc[\"passed\"]][\"roll\"].max())\n",
    "print(dfc[~dfc[\"passed\"]][\"roll\"].min())"
   ]
  },
  {
   "cell_type": "code",
   "execution_count": 11,
   "metadata": {},
   "outputs": [
    {
     "name": "stdout",
     "output_type": "stream",
     "text": [
      "0.0010131944243807\n",
      "0.9999806574852484\n"
     ]
    }
   ],
   "source": [
    "print(dfc[dfc[\"passed\"]][\"roll\"].min())\n",
    "print(dfc[~dfc[\"passed\"]][\"roll\"].max())"
   ]
  },
  {
   "cell_type": "code",
   "execution_count": 12,
   "metadata": {},
   "outputs": [
    {
     "data": {
      "text/plain": [
       "stadium_id\n",
       "cfb57d7c-4118-4b0a-85cc-4e3a51a66cb6    40\n",
       "dtype: int64"
      ]
     },
     "execution_count": 12,
     "metadata": {},
     "output_type": "execute_result"
    }
   ],
   "source": [
    "dfc.groupby(\"stadium_id\").size()"
   ]
  },
  {
   "cell_type": "code",
   "execution_count": null,
   "metadata": {},
   "outputs": [],
   "source": []
  }
 ],
 "metadata": {
  "kernelspec": {
   "display_name": "Python 3 (ipykernel)",
   "language": "python",
   "name": "python3"
  },
  "language_info": {
   "codemirror_mode": {
    "name": "ipython",
    "version": 3
   },
   "file_extension": ".py",
   "mimetype": "text/x-python",
   "name": "python",
   "nbconvert_exporter": "python",
   "pygments_lexer": "ipython3",
   "version": "3.9.12"
  },
  "vscode": {
   "interpreter": {
    "hash": "893958406e8c6944eb13075791d2ee6bb1de84c8ef46ad5e9bf9040b431b0bd8"
   }
  }
 },
 "nbformat": 4,
 "nbformat_minor": 4
}
